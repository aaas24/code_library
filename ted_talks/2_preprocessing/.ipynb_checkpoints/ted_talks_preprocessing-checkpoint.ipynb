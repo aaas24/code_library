{
 "cells": [
  {
   "cell_type": "code",
   "execution_count": 403,
   "metadata": {
    "id": "2dGer9wZ478q"
   },
   "outputs": [],
   "source": [
    "import pandas as pd\n",
    "import seaborn as sns\n",
    "import numpy as np\n",
    "import matplotlib.pyplot as plt\n",
    "import os as os\n",
    "# from pandasql import sqldf"
   ]
  },
  {
   "cell_type": "code",
   "execution_count": 404,
   "metadata": {
    "id": "_dXfGYaz53zq"
   },
   "outputs": [],
   "source": [
    "def preprocessing(df):  \n",
    "\n",
    "    #drop duplicated columns\n",
    "    drop_column=['description2', 'Unnamed: 0', 'link', 'author_y', 'title','url', 'title_1']\n",
    "    df=df.drop(drop_column,axis=1)\n",
    "    \n",
    "    #renaming\n",
    "    column_names=['author', 'date_recorded', 'views', 'likes', 'title',\n",
    "       'description_1', 'duration_seg', 'date_released', 'keywords','description_2']\n",
    "    df.columns=column_names\n",
    "\n",
    "    #\n",
    "    #MODIFYING COLUMN: date_recorded\n",
    "    #\n",
    "    df['date_recorded']= pd.to_datetime(df['date_recorded'], format='%B %Y')\n",
    "  \n",
    "    ##separate data into new Column\n",
    "    list_months=[]\n",
    "    list_years=[]\n",
    "    for i in range(df.shape[0]):\n",
    "        list_months.append(df['date_recorded'][i].month)\n",
    "        list_years.append(df['date_recorded'][i].year)\n",
    "    df['date_recorded_year']=list_years\n",
    "    df['date_recorded_month']=list_months\n",
    "\n",
    "    #\n",
    "    #MODIFYING COLUMN: date_released\n",
    "    #\n",
    "    column='date_released'\n",
    "    df[column]= pd.to_datetime(df[column], format='%Y-%m-%d %H:%M:%S')\n",
    "\n",
    "    ##separate data into new Column\n",
    "    list_months=[]\n",
    "    list_years=[]\n",
    "    list_hours=[]\n",
    "    list_minutes=[]\n",
    "    for i in range(df.shape[0]):\n",
    "        list_months.append(df[column][i].month)\n",
    "        list_years.append(df[column][i].year)\n",
    "        list_hours.append(df[column][i].hour)\n",
    "        list_minutes.append(df[column][i].minute)\n",
    "    df[column+'_year']=list_years\n",
    "    df[column+'_month']=list_months\n",
    "    df[column+'_hour']=list_hours\n",
    "    df[column+'_minute']=list_minutes\n",
    "\n",
    "    #\n",
    "    #MODIFYING COLUMN: 'keywords'\n",
    "    #\n",
    "    df_key=df.keywords\n",
    "    i=0\n",
    "    df_result=pd.DataFrame()\n",
    "    ##transforming line into string\n",
    "    for line in df_key:\n",
    "        line=(str(line).replace(\"[\",\"\").replace(\"]\",\"\").split(','))\n",
    "        new_line=[]\n",
    "        ##removing additional spaces in words and converting the into lower case\n",
    "        for word in line:\n",
    "            word=word.lower().replace(' ', '')[1:-1]\n",
    "            new_line.append(word)\n",
    "        ##transforming line into string\n",
    "        new_line=str(new_line).replace(\"[\",\"\").replace(\"]\",\"\")\n",
    "        ##writting line into dataframe\n",
    "        df_result.at[i,'keywords2']=new_line\n",
    "        i=i+1\n",
    "  \n",
    "    df=pd.concat([df,df_result], axis=1)\n",
    "\n",
    "    #drop initial columns\n",
    "    drop_columns=['date_recorded','date_released', 'keywords']\n",
    "    df=df.drop(drop_columns, axis=1)\n",
    "    \n",
    "    return(df)"
   ]
  },
  {
   "cell_type": "code",
   "execution_count": 415,
   "metadata": {},
   "outputs": [],
   "source": [
    "def create_dummies_file(df):\n",
    "    '''\n",
    "    This function does: \n",
    "    1) convert df.keywords into dummy columns\n",
    "    2) creates a file called ''in order to manually map new categories from keywords\n",
    "    '''\n",
    "    #converting keywords into dummy columns\n",
    "    df2=df.keywords2.str.get_dummies(',')\n",
    "\n",
    "    #joining with df\n",
    "    df=pd.concat([df,df2], axis=1)\n",
    "    \n",
    "    #removing 'ted' column\n",
    "    column_to_drop=df.columns[362]\n",
    "    df2=df.drop(column_to_drop, axis=1)\n",
    "\n",
    "    #counting dummies and creating file to rename categories\n",
    "    dummy_columns=pd.Series(np.arange(15,349,1))[1:]\n",
    "    df_dummies=df.iloc[:,dummy_columns].sum().reset_index()\n",
    "    df_dummies.columns=['keyword', 'sum']\n",
    "    df2=df_dummies.copy()\n",
    "    (df2\n",
    "     .pipe(lambda df2: pd.crosstab(df2.keyword, df2.sum))\n",
    "    )\n",
    "    df2=df2.sort_values(by='sum', ascending=False)\n",
    "    cwd=os.getcwd()\n",
    "    df2.to_csv(cwd+'/keywords.csv')\n",
    "    return df"
   ]
  },
  {
   "cell_type": "code",
   "execution_count": 422,
   "metadata": {},
   "outputs": [],
   "source": [
    "def dummy_data(df):\n",
    "    '''\n",
    "    This function takes the keyword_categories.csv file and creates a new dataframe 'df_dummies' to analyze the keywords\n",
    "    '''\n",
    "    cwd=os.getcwd()\n",
    "    categories=pd.read_csv(cwd+'/keywords_categories.csv')\n",
    "\n",
    "    #transforming categories\n",
    "    new_cat=(categories.columns.values.tolist())\n",
    "    dic={key: None for key in new_cat}\n",
    "\n",
    "    ##creating dictionary with categories file\n",
    "    for column in range (0,categories.shape[1]):\n",
    "        dic_values=[]\n",
    "        key=new_cat[column]\n",
    "        for row in range (0,categories.shape[0]):\n",
    "            value=categories.iloc[row,column]\n",
    "            if value is np.nan:\n",
    "                pass\n",
    "            else:\n",
    "                value=value.replace(' ', '')[1:-1]\n",
    "                dic_values.append(value)\n",
    "        dic.update({key:dic_values})\n",
    "\n",
    "    ##adding column to df with \n",
    "    dummy_columns=pd.Series(np.arange(15,349,1))[1:]\n",
    "    df_dummies=df.iloc[:,dummy_columns].sum().reset_index()\n",
    "    list_categories=[]\n",
    "    for i in range (0, len(set(df_dummies['index']))):\n",
    "        keyword=df_dummies['index'][i][2:-1]\n",
    "        ###find category of keyword in dictionary\n",
    "        for key, value_list in dic.items():\n",
    "            for x in value_list:\n",
    "                if keyword==x:\n",
    "                    category=key\n",
    "        ###add category to list\n",
    "        list_categories.append(category)\n",
    "    ##add list_categories to df\n",
    "    df_dummies['new_category']=list_categories\n",
    "    df_dummies.columns=['keywords', 'sum', 'categories']\n",
    "    df_dummies=df_dummies[['categories','keywords', 'sum']]\n",
    "    return df_dummies"
   ]
  },
  {
   "cell_type": "code",
   "execution_count": 423,
   "metadata": {
    "id": "Jms_2u6Y673R"
   },
   "outputs": [],
   "source": [
    "def main():\n",
    "    #load data\n",
    "    raw_data=pd.read_csv('https://github.com/aaas24/code_library/raw/main/ted_talks/1_raw_data/final_raw_data.csv')\n",
    "    df=raw_data.copy()\n",
    "\n",
    "    #clean data\n",
    "    df=preprocessing(df)\n",
    "    df=create_dummies_file(df)\n",
    "    df_dummies=dummy_data(df)\n",
    "    return(df, df_dummies)\n",
    "  \n"
   ]
  },
  {
   "cell_type": "code",
   "execution_count": 424,
   "metadata": {
    "colab": {
     "base_uri": "https://localhost:8080/"
    },
    "id": "2bk-P0Nk67Kv",
    "outputId": "3989549c-5563-4a90-9138-bb0ac9c59363"
   },
   "outputs": [],
   "source": [
    "if __name__ == '__main__':\n",
    "  main()"
   ]
  },
  {
   "cell_type": "code",
   "execution_count": 425,
   "metadata": {
    "scrolled": true
   },
   "outputs": [
    {
     "data": {
      "text/plain": [
       "(5440, 363)"
      ]
     },
     "execution_count": 425,
     "metadata": {},
     "output_type": "execute_result"
    }
   ],
   "source": [
    "df.shape"
   ]
  },
  {
   "cell_type": "code",
   "execution_count": 427,
   "metadata": {},
   "outputs": [
    {
     "data": {
      "text/html": [
       "<div>\n",
       "<style scoped>\n",
       "    .dataframe tbody tr th:only-of-type {\n",
       "        vertical-align: middle;\n",
       "    }\n",
       "\n",
       "    .dataframe tbody tr th {\n",
       "        vertical-align: top;\n",
       "    }\n",
       "\n",
       "    .dataframe thead th {\n",
       "        text-align: right;\n",
       "    }\n",
       "</style>\n",
       "<table border=\"1\" class=\"dataframe\">\n",
       "  <thead>\n",
       "    <tr style=\"text-align: right;\">\n",
       "      <th></th>\n",
       "      <th>author</th>\n",
       "      <th>views</th>\n",
       "      <th>likes</th>\n",
       "      <th>title</th>\n",
       "      <th>description_1</th>\n",
       "      <th>duration_seg</th>\n",
       "      <th>description_2</th>\n",
       "      <th>date_recorded_year</th>\n",
       "      <th>date_recorded_month</th>\n",
       "      <th>date_released_year</th>\n",
       "      <th>...</th>\n",
       "      <th>'water'</th>\n",
       "      <th>'weather'</th>\n",
       "      <th>'windenergy'</th>\n",
       "      <th>'women'</th>\n",
       "      <th>'womeninbusiness'</th>\n",
       "      <th>'work'</th>\n",
       "      <th>'work-lifebalance'</th>\n",
       "      <th>'writing'</th>\n",
       "      <th>'youth'</th>\n",
       "      <th>'ted'</th>\n",
       "    </tr>\n",
       "  </thead>\n",
       "  <tbody>\n",
       "    <tr>\n",
       "      <th>0</th>\n",
       "      <td>Ozawa Bineshi Albert</td>\n",
       "      <td>404000</td>\n",
       "      <td>12000</td>\n",
       "      <td>Climate action needs new frontline leadership</td>\n",
       "      <td>\"We can't rely on those who created climate ch...</td>\n",
       "      <td>834</td>\n",
       "      <td>\"We can't rely on those who created climate ch...</td>\n",
       "      <td>2021</td>\n",
       "      <td>12</td>\n",
       "      <td>2022</td>\n",
       "      <td>...</td>\n",
       "      <td>0</td>\n",
       "      <td>0</td>\n",
       "      <td>0</td>\n",
       "      <td>0</td>\n",
       "      <td>0</td>\n",
       "      <td>0</td>\n",
       "      <td>0</td>\n",
       "      <td>0</td>\n",
       "      <td>0</td>\n",
       "      <td>1</td>\n",
       "    </tr>\n",
       "    <tr>\n",
       "      <th>1</th>\n",
       "      <td>Sydney Iaukea</td>\n",
       "      <td>214000</td>\n",
       "      <td>6400</td>\n",
       "      <td>The dark history of the overthrow of Hawaii</td>\n",
       "      <td>\"On January 16th, 1895, two men arrived at Lil...</td>\n",
       "      <td>0</td>\n",
       "      <td>\"On January 16th, 1895, two men arrived at Lil...</td>\n",
       "      <td>2022</td>\n",
       "      <td>2</td>\n",
       "      <td>2022</td>\n",
       "      <td>...</td>\n",
       "      <td>0</td>\n",
       "      <td>0</td>\n",
       "      <td>0</td>\n",
       "      <td>1</td>\n",
       "      <td>0</td>\n",
       "      <td>0</td>\n",
       "      <td>0</td>\n",
       "      <td>0</td>\n",
       "      <td>0</td>\n",
       "      <td>1</td>\n",
       "    </tr>\n",
       "    <tr>\n",
       "      <th>2</th>\n",
       "      <td>Martin Reeves</td>\n",
       "      <td>412000</td>\n",
       "      <td>12000</td>\n",
       "      <td>Why play is essential for business</td>\n",
       "      <td>\"To thrive in today's competitive economy, you...</td>\n",
       "      <td>665</td>\n",
       "      <td>\"To thrive in today's competitive economy, you...</td>\n",
       "      <td>2021</td>\n",
       "      <td>9</td>\n",
       "      <td>2022</td>\n",
       "      <td>...</td>\n",
       "      <td>0</td>\n",
       "      <td>0</td>\n",
       "      <td>0</td>\n",
       "      <td>0</td>\n",
       "      <td>0</td>\n",
       "      <td>1</td>\n",
       "      <td>0</td>\n",
       "      <td>0</td>\n",
       "      <td>0</td>\n",
       "      <td>1</td>\n",
       "    </tr>\n",
       "    <tr>\n",
       "      <th>3</th>\n",
       "      <td>James K. Thornton</td>\n",
       "      <td>427000</td>\n",
       "      <td>12000</td>\n",
       "      <td>Why is China appointing judges to combat clima...</td>\n",
       "      <td>\"Why is China appointing thousands of judges t...</td>\n",
       "      <td>695</td>\n",
       "      <td>\"Why is China appointing thousands of judges t...</td>\n",
       "      <td>2021</td>\n",
       "      <td>10</td>\n",
       "      <td>2022</td>\n",
       "      <td>...</td>\n",
       "      <td>0</td>\n",
       "      <td>0</td>\n",
       "      <td>0</td>\n",
       "      <td>0</td>\n",
       "      <td>0</td>\n",
       "      <td>0</td>\n",
       "      <td>0</td>\n",
       "      <td>0</td>\n",
       "      <td>0</td>\n",
       "      <td>1</td>\n",
       "    </tr>\n",
       "    <tr>\n",
       "      <th>4</th>\n",
       "      <td>Mahendra Singhi</td>\n",
       "      <td>2400</td>\n",
       "      <td>72</td>\n",
       "      <td>Cement's carbon problem -- and 2 ways to fix it</td>\n",
       "      <td>\"Cement is vital to modernizing all kinds of i...</td>\n",
       "      <td>671</td>\n",
       "      <td>\"Cement is vital to modernizing all kinds of i...</td>\n",
       "      <td>2021</td>\n",
       "      <td>10</td>\n",
       "      <td>2022</td>\n",
       "      <td>...</td>\n",
       "      <td>0</td>\n",
       "      <td>0</td>\n",
       "      <td>0</td>\n",
       "      <td>0</td>\n",
       "      <td>0</td>\n",
       "      <td>0</td>\n",
       "      <td>0</td>\n",
       "      <td>0</td>\n",
       "      <td>0</td>\n",
       "      <td>1</td>\n",
       "    </tr>\n",
       "  </tbody>\n",
       "</table>\n",
       "<p>5 rows × 363 columns</p>\n",
       "</div>"
      ],
      "text/plain": [
       "                 author   views  likes  \\\n",
       "0  Ozawa Bineshi Albert  404000  12000   \n",
       "1         Sydney Iaukea  214000   6400   \n",
       "2         Martin Reeves  412000  12000   \n",
       "3     James K. Thornton  427000  12000   \n",
       "4       Mahendra Singhi    2400     72   \n",
       "\n",
       "                                               title  \\\n",
       "0      Climate action needs new frontline leadership   \n",
       "1        The dark history of the overthrow of Hawaii   \n",
       "2                 Why play is essential for business   \n",
       "3  Why is China appointing judges to combat clima...   \n",
       "4    Cement's carbon problem -- and 2 ways to fix it   \n",
       "\n",
       "                                       description_1  duration_seg  \\\n",
       "0  \"We can't rely on those who created climate ch...           834   \n",
       "1  \"On January 16th, 1895, two men arrived at Lil...             0   \n",
       "2  \"To thrive in today's competitive economy, you...           665   \n",
       "3  \"Why is China appointing thousands of judges t...           695   \n",
       "4  \"Cement is vital to modernizing all kinds of i...           671   \n",
       "\n",
       "                                       description_2  date_recorded_year  \\\n",
       "0  \"We can't rely on those who created climate ch...                2021   \n",
       "1  \"On January 16th, 1895, two men arrived at Lil...                2022   \n",
       "2  \"To thrive in today's competitive economy, you...                2021   \n",
       "3  \"Why is China appointing thousands of judges t...                2021   \n",
       "4  \"Cement is vital to modernizing all kinds of i...                2021   \n",
       "\n",
       "   date_recorded_month  date_released_year  ...   'water'   'weather'  \\\n",
       "0                   12                2022  ...         0           0   \n",
       "1                    2                2022  ...         0           0   \n",
       "2                    9                2022  ...         0           0   \n",
       "3                   10                2022  ...         0           0   \n",
       "4                   10                2022  ...         0           0   \n",
       "\n",
       "    'windenergy'  'women'   'womeninbusiness'   'work'   'work-lifebalance'  \\\n",
       "0              0        0                   0        0                    0   \n",
       "1              0        1                   0        0                    0   \n",
       "2              0        0                   0        1                    0   \n",
       "3              0        0                   0        0                    0   \n",
       "4              0        0                   0        0                    0   \n",
       "\n",
       "    'writing'   'youth'  'ted'  \n",
       "0           0         0      1  \n",
       "1           0         0      1  \n",
       "2           0         0      1  \n",
       "3           0         0      1  \n",
       "4           0         0      1  \n",
       "\n",
       "[5 rows x 363 columns]"
      ]
     },
     "execution_count": 427,
     "metadata": {},
     "output_type": "execute_result"
    }
   ],
   "source": [
    "df=main()[0]\n",
    "df.head(5)"
   ]
  },
  {
   "cell_type": "code",
   "execution_count": 428,
   "metadata": {},
   "outputs": [
    {
     "data": {
      "text/html": [
       "<div>\n",
       "<style scoped>\n",
       "    .dataframe tbody tr th:only-of-type {\n",
       "        vertical-align: middle;\n",
       "    }\n",
       "\n",
       "    .dataframe tbody tr th {\n",
       "        vertical-align: top;\n",
       "    }\n",
       "\n",
       "    .dataframe thead th {\n",
       "        text-align: right;\n",
       "    }\n",
       "</style>\n",
       "<table border=\"1\" class=\"dataframe\">\n",
       "  <thead>\n",
       "    <tr style=\"text-align: right;\">\n",
       "      <th></th>\n",
       "      <th>categories</th>\n",
       "      <th>keywords</th>\n",
       "      <th>sum</th>\n",
       "    </tr>\n",
       "  </thead>\n",
       "  <tbody>\n",
       "    <tr>\n",
       "      <th>0</th>\n",
       "      <td>technology</td>\n",
       "      <td>'3dprinting'</td>\n",
       "      <td>9</td>\n",
       "    </tr>\n",
       "    <tr>\n",
       "      <th>1</th>\n",
       "      <td>values &amp; emotions</td>\n",
       "      <td>'activism'</td>\n",
       "      <td>352</td>\n",
       "    </tr>\n",
       "    <tr>\n",
       "      <th>2</th>\n",
       "      <td>health</td>\n",
       "      <td>'addiction'</td>\n",
       "      <td>20</td>\n",
       "    </tr>\n",
       "    <tr>\n",
       "      <th>3</th>\n",
       "      <td>global</td>\n",
       "      <td>'africa'</td>\n",
       "      <td>197</td>\n",
       "    </tr>\n",
       "    <tr>\n",
       "      <th>4</th>\n",
       "      <td>society</td>\n",
       "      <td>'aging'</td>\n",
       "      <td>93</td>\n",
       "    </tr>\n",
       "  </tbody>\n",
       "</table>\n",
       "</div>"
      ],
      "text/plain": [
       "          categories       keywords  sum\n",
       "0         technology   '3dprinting'    9\n",
       "1  values & emotions     'activism'  352\n",
       "2             health    'addiction'   20\n",
       "3             global       'africa'  197\n",
       "4            society        'aging'   93"
      ]
     },
     "execution_count": 428,
     "metadata": {},
     "output_type": "execute_result"
    }
   ],
   "source": [
    "df_dummies=main()[1]\n",
    "df_dummies.head(5)"
   ]
  },
  {
   "cell_type": "markdown",
   "metadata": {
    "id": "7eAeovVl478o"
   },
   "source": [
    "## Data Exploration"
   ]
  },
  {
   "cell_type": "code",
   "execution_count": null,
   "metadata": {
    "colab": {
     "base_uri": "https://localhost:8080/"
    },
    "id": "smevCzKh478s",
    "outputId": "60957972-0620-4107-9975-c1dd6c802e3a"
   },
   "outputs": [],
   "source": [
    "# missing data\n",
    "((df\n",
    " .isna()\n",
    " .mean()\n",
    " *100)\n",
    " .pipe(lambda ser:ser[ser>0])\n",
    ")"
   ]
  },
  {
   "cell_type": "code",
   "execution_count": null,
   "metadata": {
    "colab": {
     "base_uri": "https://localhost:8080/",
     "height": 643
    },
    "id": "BFtHAkoUgbJv",
    "outputId": "b19483da-3a97-4f5a-fe29-2ace63d43cf6"
   },
   "outputs": [],
   "source": [
    "df.head(5)"
   ]
  },
  {
   "cell_type": "code",
   "execution_count": null,
   "metadata": {},
   "outputs": [],
   "source": [
    "#exploring date recorded"
   ]
  },
  {
   "cell_type": "code",
   "execution_count": null,
   "metadata": {
    "id": "MyPsvjBC478y"
   },
   "outputs": [],
   "source": [
    "df.date_recorded_month.hist()\n"
   ]
  },
  {
   "cell_type": "code",
   "execution_count": null,
   "metadata": {
    "colab": {
     "base_uri": "https://localhost:8080/",
     "height": 1000
    },
    "id": "xOVyefa_f2uX",
    "outputId": "8faf33d0-e867-4f2b-85bf-b6621bb65e70"
   },
   "outputs": [],
   "source": [
    "df.date_recorded_year.hist()"
   ]
  },
  {
   "cell_type": "code",
   "execution_count": null,
   "metadata": {},
   "outputs": [],
   "source": [
    "# Are there outliers\n",
    "df.date_recorded_year.plot.box()"
   ]
  },
  {
   "cell_type": "code",
   "execution_count": null,
   "metadata": {},
   "outputs": [],
   "source": [
    "df_graph=df[df.date_recorded_year<2000]\n"
   ]
  },
  {
   "cell_type": "code",
   "execution_count": null,
   "metadata": {},
   "outputs": [],
   "source": [
    "#removing outliyers\n",
    "df_graph=df[df.date_recorded_year>2000]\n",
    "sns.lmplot(x='date_recorded_year', y='likes', data=df_graph, x_jitter=1, scatter_kws={'alpha':.2})"
   ]
  },
  {
   "cell_type": "code",
   "execution_count": null,
   "metadata": {},
   "outputs": [],
   "source": [
    "#exploring duration of videos"
   ]
  },
  {
   "cell_type": "code",
   "execution_count": null,
   "metadata": {
    "scrolled": true
   },
   "outputs": [],
   "source": [
    "# Are there outliers\n",
    "df.duration_seg.plot.box()"
   ]
  },
  {
   "cell_type": "code",
   "execution_count": null,
   "metadata": {},
   "outputs": [],
   "source": [
    "#removing outliyers\n",
    "df_graph=df[df.date_recorded_year>2000]\n",
    "sns.lmplot(x='duration_seg', y='likes', data=df_graph, x_jitter=1, scatter_kws={'alpha':.1})"
   ]
  },
  {
   "cell_type": "code",
   "execution_count": null,
   "metadata": {
    "scrolled": true
   },
   "outputs": [],
   "source": [
    "#Insight: during pandemic years (2020-2021) \n",
    "df_graph=df[df.date_recorded_year>2018]\n",
    "sns.relplot(x='duration_seg', y='likes', data=df_graph, col='date_recorded_year', col_wrap=2, alpha=.1)"
   ]
  },
  {
   "cell_type": "code",
   "execution_count": null,
   "metadata": {},
   "outputs": [],
   "source": [
    "df_graph = pd.pivot_table(data=df, \n",
    "               index=['date_recorded_year'], \n",
    "               values=['likes','views'], \n",
    "               aggfunc={'likes':[np.sum],'views':np.sum}\n",
    "        )\n",
    "df_graph.hist()"
   ]
  },
  {
   "cell_type": "code",
   "execution_count": null,
   "metadata": {},
   "outputs": [],
   "source": [
    "not_dummy_columns=pd.Series(np.arange(0,14,1))\n",
    "df_graph=df.iloc[:,not_dummy_columns].reset_index().drop('index', axis=1)\n",
    "df_graph.corr()"
   ]
  },
  {
   "cell_type": "code",
   "execution_count": null,
   "metadata": {},
   "outputs": [],
   "source": [
    "fig, ax = plt.subplots(figsize=(8,8))\n",
    "sns.heatmap(df_graph.corr(), cmap='RdBu', vmin=-1, vmax=1, annot=True, square=True, ax=ax)"
   ]
  },
  {
   "cell_type": "code",
   "execution_count": 437,
   "metadata": {},
   "outputs": [
    {
     "data": {
      "text/html": [
       "<div>\n",
       "<style scoped>\n",
       "    .dataframe tbody tr th:only-of-type {\n",
       "        vertical-align: middle;\n",
       "    }\n",
       "\n",
       "    .dataframe tbody tr th {\n",
       "        vertical-align: top;\n",
       "    }\n",
       "\n",
       "    .dataframe thead th {\n",
       "        text-align: right;\n",
       "    }\n",
       "</style>\n",
       "<table border=\"1\" class=\"dataframe\">\n",
       "  <thead>\n",
       "    <tr style=\"text-align: right;\">\n",
       "      <th></th>\n",
       "      <th>categories</th>\n",
       "      <th>keywords</th>\n",
       "      <th>sum</th>\n",
       "    </tr>\n",
       "  </thead>\n",
       "  <tbody>\n",
       "    <tr>\n",
       "      <th>0</th>\n",
       "      <td>art</td>\n",
       "      <td>'animation'</td>\n",
       "      <td>713</td>\n",
       "    </tr>\n",
       "    <tr>\n",
       "      <th>1</th>\n",
       "      <td>art</td>\n",
       "      <td>'dance'</td>\n",
       "      <td>54</td>\n",
       "    </tr>\n",
       "    <tr>\n",
       "      <th>2</th>\n",
       "      <td>art</td>\n",
       "      <td>'theater'</td>\n",
       "      <td>24</td>\n",
       "    </tr>\n",
       "    <tr>\n",
       "      <th>3</th>\n",
       "      <td>art</td>\n",
       "      <td>'painting'</td>\n",
       "      <td>33</td>\n",
       "    </tr>\n",
       "    <tr>\n",
       "      <th>4</th>\n",
       "      <td>art</td>\n",
       "      <td>'sports'</td>\n",
       "      <td>75</td>\n",
       "    </tr>\n",
       "  </tbody>\n",
       "</table>\n",
       "</div>"
      ],
      "text/plain": [
       "  categories      keywords  sum\n",
       "0        art   'animation'  713\n",
       "1        art       'dance'   54\n",
       "2        art     'theater'   24\n",
       "3        art    'painting'   33\n",
       "4        art      'sports'   75"
      ]
     },
     "execution_count": 437,
     "metadata": {},
     "output_type": "execute_result"
    }
   ],
   "source": [
    "#Analyzing keywords\n",
    "df_dummies=main()[1]\n",
    "df_dummies=df_dummies.sort_values(by='categories').reset_index().drop('index', axis=1)\n",
    "df_dummies.head(5)"
   ]
  },
  {
   "cell_type": "code",
   "execution_count": 474,
   "metadata": {},
   "outputs": [
    {
     "name": "stdout",
     "output_type": "stream",
     "text": [
      "           categories   sum\n",
      "0              health  9630\n",
      "1             society  8549\n",
      "2          technology  4376\n",
      "3             science  3080\n",
      "4                 art  2230\n",
      "5              global  2023\n",
      "6               other  1818\n",
      "7         environment  1815\n",
      "8           education  1691\n",
      "9             culture  1546\n",
      "10  values & emotions  1347\n",
      "11    personal growth  1259\n",
      "12           business  1175\n",
      "13            climate  1133\n",
      "14           religion   140\n"
     ]
    },
    {
     "data": {
      "text/plain": [
       "<AxesSubplot:xlabel='categories', ylabel='sum'>"
      ]
     },
     "execution_count": 474,
     "metadata": {},
     "output_type": "execute_result"
    },
    {
     "data": {
      "image/png": "[encoded data removed]",
      "text/plain": [
       "<Figure size 432x288 with 1 Axes>"
      ]
     },
     "metadata": {
      "needs_background": "light"
     },
     "output_type": "display_data"
    }
   ],
   "source": [
    "df_graph=(\n",
    "            (df_dummies.groupby(['categories'])['sum'].sum().reset_index())\n",
    "            .sort_values(['sum'],ascending=[False]).reset_index()\n",
    ").drop('index', axis=1)\n",
    "print(df_graph)\n",
    "\n",
    "sns.histplot(data=df_graph, x='categories', y='sum',shrink=.8)"
   ]
  },
  {
   "cell_type": "code",
   "execution_count": 505,
   "metadata": {},
   "outputs": [
    {
     "name": "stdout",
     "output_type": "stream",
     "text": [
      "           categories   sum  rand_x  rand_y\n",
      "0              health  9630       3       8\n",
      "1             society  8549       5       0\n",
      "2          technology  4376       0       0\n",
      "3             science  3080       1       1\n",
      "4                 art  2230       2       2\n",
      "5              global  2023       2       2\n",
      "6               other  1818       5       1\n",
      "7         environment  1815       1       2\n",
      "8           education  1691       0       9\n",
      "9             culture  1546       4       2\n",
      "10  values & emotions  1347       4       0\n",
      "11    personal growth  1259       1       7\n",
      "12           business  1175       8       2\n",
      "13            climate  1133       0       8\n",
      "14           religion   140       3       2\n"
     ]
    },
    {
     "data": {
      "image/png": "[encoded data removed]",
      "text/plain": [
       "<Figure size 648x648 with 1 Axes>"
      ]
     },
     "metadata": {},
     "output_type": "display_data"
    }
   ],
   "source": [
    "df_graph=(\n",
    "            (df_dummies.groupby(['categories'])['sum'].sum().reset_index())\n",
    "            .sort_values(['sum'],ascending=[False]).reset_index()\n",
    ").drop('index', axis=1)\n",
    "\n",
    "df_graph['rand_x']=np.random.randint(0,10,size=(15, 1))\n",
    "df_graph['rand_y']=np.random.randint(0,10,size=(15, 1))\n",
    "print(df_graph)\n",
    "\n",
    "sns.scatterplot(data=df_graph, x=\"rand_x\", y=\"rand_y\", size=\"sum\", legend=True, hue='categories', alpha=0.5) \n",
    "plt.legend(bbox_to_anchor=(1, 1), loc='upper left', fontsize=10)\n",
    "sns.set(rc={\"figure.figsize\":(9 , 9)}) #(width,height)\n",
    "plt.show()"
   ]
  },
  {
   "cell_type": "code",
   "execution_count": null,
   "metadata": {},
   "outputs": [],
   "source": []
  },
  {
   "cell_type": "code",
   "execution_count": null,
   "metadata": {},
   "outputs": [],
   "source": []
  },
  {
   "cell_type": "markdown",
   "metadata": {
    "id": "NwIN6bu_478y"
   },
   "source": [
    "# Analysis"
   ]
  },
  {
   "cell_type": "code",
   "execution_count": null,
   "metadata": {
    "colab": {
     "base_uri": "https://localhost:8080/"
    },
    "id": "i6dQmiTE478y",
    "outputId": "4f3ce7f8-4602-484a-8a57-323c3b5ebb29"
   },
   "outputs": [],
   "source": [
    "# #what constitude a good video based on likes?\n",
    "y=1000\n",
    "df_graph=df.likes.apply(lambda x: round(x/y,0))\n",
    "df_graph.describe()"
   ]
  },
  {
   "cell_type": "code",
   "execution_count": null,
   "metadata": {
    "id": "_9qXV5zl478z"
   },
   "outputs": [],
   "source": [
    "# #what constitude a good video based on views?\n",
    "y=1000\n",
    "df_graph=df.views.apply(lambda x: round(x/y,0))\n",
    "df_graph.describe()"
   ]
  },
  {
   "cell_type": "markdown",
   "metadata": {
    "id": "pvJFwsUP478z"
   },
   "source": [
    "### Top 10 Liked Videos"
   ]
  },
  {
   "cell_type": "code",
   "execution_count": null,
   "metadata": {
    "id": "Kii_B_Jt478z"
   },
   "outputs": [],
   "source": [
    "#build data: These are the 75% most liked videos\n",
    "y_var='likes'\n",
    "df_grap = (\n",
    "    (df.groupby(['title','author','date_recorded_year','views'])[y_var].sum().reset_index())\n",
    "    .sort_values([y_var],ascending=[False])\n",
    "    ).reset_index()\n",
    "df_grap=df_grap.drop('index', axis=1)\n",
    "df_grap = df_grap[df_grap[y_var] > 65000]\n",
    "df_grap"
   ]
  },
  {
   "cell_type": "code",
   "execution_count": null,
   "metadata": {
    "id": "dkOKsGPN4780"
   },
   "outputs": [],
   "source": [
    "#This is taking the 75% percentile on liked videos\n",
    "#Modifiable variables\n",
    "y_var='likes'\n",
    "\n",
    "#build data\n",
    "df_grap = (\n",
    "    (df.groupby(['title','author','date_recorded_year','views'])[y_var].sum().reset_index())\n",
    "    .sort_values([y_var],ascending=[False])\n",
    "    ).reset_index()\n",
    "df_grap=df_grap.drop('index', axis=1)\n",
    "df_grap = df_grap[df_grap[y_var] > 65000]\n",
    "df_grap.head(30)"
   ]
  },
  {
   "cell_type": "markdown",
   "metadata": {
    "id": "WBEJ5F5-4780"
   },
   "source": [
    "### Top 10 Authors"
   ]
  },
  {
   "cell_type": "code",
   "execution_count": null,
   "metadata": {
    "id": "sVvE1w3w4780"
   },
   "outputs": [],
   "source": [
    "#Modifiable variables\n",
    "y_var='views'\n",
    "x_var1='author'\n",
    "x_var2='likes'\n",
    "\n",
    "#build data\n",
    "df_grap = (\n",
    "    (df.groupby([x_var1, x_var2])[y_var].sum().reset_index())\n",
    "    .sort_values([y_var],ascending=[False])\n",
    "    ).reset_index().head(10)\n",
    "df_grap=df_grap.drop('index', axis=1)\n",
    "df_grap"
   ]
  },
  {
   "cell_type": "code",
   "execution_count": null,
   "metadata": {
    "id": "RnMUu55i4781"
   },
   "outputs": [],
   "source": [
    "# #visualize\n",
    "# x_var='author'\n",
    "# y_var='views'\n",
    "# sns.set_theme(style=\"white\")\n",
    "# ax = sns.barplot(x=y_var, y=x_var, data=df_grap, orient=\"h\")"
   ]
  },
  {
   "cell_type": "code",
   "execution_count": null,
   "metadata": {
    "id": "oXivxzZz4781",
    "scrolled": false
   },
   "outputs": [],
   "source": [
    "# #visualize\n",
    "# x_var='author'\n",
    "# y_var='likes'\n",
    "# sns.set_theme(style=\"white\")\n",
    "# ax = sns.barplot(x=y_var, y=x_var, data=df_grap, orient=\"h\", palette=\"Blues_d\")"
   ]
  },
  {
   "cell_type": "code",
   "execution_count": null,
   "metadata": {
    "id": "YZtYd7lC4781"
   },
   "outputs": [],
   "source": [
    "#from pandasql import sqldf\n",
    "# q = \"\"\"\n",
    "# SELECT\n",
    "# `title`\n",
    "# FROM\n",
    "# df\n",
    "# LIMIT 5\n",
    "# \"\"\"\n",
    "# print(sqldf(q))"
   ]
  },
  {
   "cell_type": "markdown",
   "metadata": {
    "id": "SO74xRWm4782"
   },
   "source": [
    "Areas of improvements:\n",
    "    \n",
    "    1) More information on the authors. Understanding age, gender and nationality of authors, may answer questions related to diversity of the speakers. This data could be parcially scrapped from Wikipedia as there is a dedicated website that tracks this information. \n",
    "    https://en.wikipedia.org/wiki/List_of_TED_speakers"
   ]
  },
  {
   "cell_type": "code",
   "execution_count": null,
   "metadata": {},
   "outputs": [],
   "source": [
    "df.columns.values"
   ]
  },
  {
   "cell_type": "code",
   "execution_count": null,
   "metadata": {
    "id": "NWAkBBmK4782"
   },
   "outputs": [],
   "source": []
  },
  {
   "cell_type": "code",
   "execution_count": null,
   "metadata": {
    "id": "mMtRSdb04782"
   },
   "outputs": [],
   "source": []
  },
  {
   "cell_type": "code",
   "execution_count": null,
   "metadata": {
    "id": "gUj0ooG_4782"
   },
   "outputs": [],
   "source": []
  },
  {
   "cell_type": "code",
   "execution_count": null,
   "metadata": {
    "id": "XOHs0tzv4782"
   },
   "outputs": [],
   "source": []
  }
 ],
 "metadata": {
  "colab": {
   "collapsed_sections": [],
   "name": "colab.ipynb",
   "provenance": []
  },
  "kernelspec": {
   "display_name": "analytics",
   "language": "python",
   "name": "analytics"
  },
  "language_info": {
   "codemirror_mode": {
    "name": "ipython",
    "version": 3
   },
   "file_extension": ".py",
   "mimetype": "text/x-python",
   "name": "python",
   "nbconvert_exporter": "python",
   "pygments_lexer": "ipython3",
   "version": "3.8.5"
  }
 },
 "nbformat": 4,
 "nbformat_minor": 1
}
