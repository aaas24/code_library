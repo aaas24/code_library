{
 "cells": [
  {
   "cell_type": "code",
   "execution_count": 224,
   "metadata": {
    "id": "2dGer9wZ478q"
   },
   "outputs": [],
   "source": [
    "import pandas as pd\n",
    "import seaborn as sns\n",
    "import numpy as np\n",
    "import matplotlib.pyplot as plt\n",
    "import os as os\n",
    "# from pandasql import sqldf"
   ]
  },
  {
   "cell_type": "code",
   "execution_count": 225,
   "metadata": {
    "id": "_dXfGYaz53zq"
   },
   "outputs": [],
   "source": [
    "def preprocessing(df):  \n",
    "\n",
    "  #drop duplicated columns\n",
    "  drop_column=['description2', 'Unnamed: 0', 'link', 'author_y', 'title','url', 'title_1']\n",
    "  df=df.drop(drop_column,axis=1)\n",
    "\n",
    "  #renaming\n",
    "  column_names=['author', 'date_recorded', 'views', 'likes', 'title',\n",
    "       'description_1', 'duration_seg', 'date_released', 'keywords','description_2']\n",
    "  df.columns=column_names\n",
    "\n",
    "  #MODIFYING COLUMN: date_recorded\n",
    "  df['date_recorded']= pd.to_datetime(df['date_recorded'], format='%B %Y')\n",
    "  \n",
    "  ##separate data into new Column\n",
    "  list_months=[]\n",
    "  list_years=[]\n",
    "  for i in range(df.shape[0]):\n",
    "      list_months.append(df['date_recorded'][i].month)\n",
    "      list_years.append(df['date_recorded'][i].year)\n",
    "  df['date_recorded_year']=list_years\n",
    "  df['date_recorded_month']=list_months\n",
    "\n",
    "  #mMODIFYING COLUMN: date_released\n",
    "  column='date_released'\n",
    "  df[column]= pd.to_datetime(df[column], format='%Y-%m-%d %H:%M:%S')\n",
    "\n",
    "  ##separate data into new Column\n",
    "  list_months=[]\n",
    "  list_years=[]\n",
    "  list_hours=[]\n",
    "  list_minutes=[]\n",
    "  for i in range(df.shape[0]):\n",
    "      list_months.append(df[column][i].month)\n",
    "      list_years.append(df[column][i].year)\n",
    "      list_hours.append(df[column][i].hour)\n",
    "      list_minutes.append(df[column][i].minute)\n",
    "  df[column+'_year']=list_years\n",
    "  df[column+'_month']=list_months\n",
    "  df[column+'_hour']=list_hours\n",
    "  df[column+'_minute']=list_minutes\n",
    "\n",
    "  #MODIFYING COLUMN: 'keywords'\n",
    "  df_key=df.keywords\n",
    "  i=0\n",
    "  df_result=pd.DataFrame()\n",
    "  ##transforming line into string\n",
    "  for line in df_key:\n",
    "    line=(str(line).replace(\"[\",\"\").replace(\"]\",\"\").split(','))\n",
    "    new_line=[]\n",
    "    ##removing additional spaces in words and converting the into lower case\n",
    "    for word in line:\n",
    "      word=word.lower().replace(' ', '')[1:-1]\n",
    "      new_line.append(word)\n",
    "    ##transforming line into string\n",
    "    new_line=str(new_line).replace(\"[\",\"\").replace(\"]\",\"\")\n",
    "    ##writting line into dataframe\n",
    "    df_result.at[i,'keywords2']=new_line\n",
    "    i=i+1\n",
    "  \n",
    "  df=pd.concat([df,df_result], axis=1)\n",
    "\n",
    "  #drop initial columns\n",
    "  drop_columns=['date_recorded','date_released', 'keywords']\n",
    "  df=df.drop(drop_columns, axis=1)\n",
    "    \n",
    "  return(df)"
   ]
  },
  {
   "cell_type": "code",
   "execution_count": 226,
   "metadata": {
    "id": "Jms_2u6Y673R"
   },
   "outputs": [],
   "source": [
    "def main():\n",
    "  #load data\n",
    "  raw_data=pd.read_csv('https://github.com/aaas24/code_library/raw/main/ted_talks/1_raw_data/final_raw_data.csv')\n",
    "  df=raw_data.copy()\n",
    "\n",
    "  #clean data\n",
    "  df=preprocessing(df)\n",
    "\n",
    "  return(df)\n",
    "  \n"
   ]
  },
  {
   "cell_type": "code",
   "execution_count": 227,
   "metadata": {
    "colab": {
     "base_uri": "https://localhost:8080/"
    },
    "id": "2bk-P0Nk67Kv",
    "outputId": "3989549c-5563-4a90-9138-bb0ac9c59363"
   },
   "outputs": [],
   "source": [
    "if __name__ == '__main__':\n",
    "  main()"
   ]
  },
  {
   "cell_type": "markdown",
   "metadata": {
    "id": "7eAeovVl478o"
   },
   "source": [
    "## Data Exploration"
   ]
  },
  {
   "cell_type": "code",
   "execution_count": 228,
   "metadata": {},
   "outputs": [
    {
     "data": {
      "text/plain": [
       "(5440, 14)"
      ]
     },
     "execution_count": 228,
     "metadata": {},
     "output_type": "execute_result"
    }
   ],
   "source": [
    "df=main()\n",
    "df.shape"
   ]
  },
  {
   "cell_type": "code",
   "execution_count": 229,
   "metadata": {
    "colab": {
     "base_uri": "https://localhost:8080/"
    },
    "id": "smevCzKh478s",
    "outputId": "60957972-0620-4107-9975-c1dd6c802e3a"
   },
   "outputs": [
    {
     "data": {
      "text/plain": [
       "author    0.018382\n",
       "dtype: float64"
      ]
     },
     "execution_count": 229,
     "metadata": {},
     "output_type": "execute_result"
    }
   ],
   "source": [
    "# missing data\n",
    "((df\n",
    " .isna()\n",
    " .mean()\n",
    " *100)\n",
    " .pipe(lambda ser:ser[ser>0])\n",
    ")"
   ]
  },
  {
   "cell_type": "code",
   "execution_count": 230,
   "metadata": {
    "colab": {
     "base_uri": "https://localhost:8080/"
    },
    "id": "VAZztQTb478y",
    "outputId": "f34a9106-90cb-4b32-e890-93b3ac5b5144"
   },
   "outputs": [
    {
     "data": {
      "text/plain": [
       "(5440, 363)"
      ]
     },
     "execution_count": 230,
     "metadata": {},
     "output_type": "execute_result"
    }
   ],
   "source": [
    "#converting keywords into dummy columns\n",
    "df2=df.keywords2.str.get_dummies(',')\n",
    "#joining with df\n",
    "df=pd.concat([df,df2], axis=1)\n",
    "df.shape"
   ]
  },
  {
   "cell_type": "code",
   "execution_count": 231,
   "metadata": {
    "colab": {
     "base_uri": "https://localhost:8080/",
     "height": 643
    },
    "id": "BFtHAkoUgbJv",
    "outputId": "b19483da-3a97-4f5a-fe29-2ace63d43cf6"
   },
   "outputs": [
    {
     "data": {
      "text/html": [
       "<div>\n",
       "<style scoped>\n",
       "    .dataframe tbody tr th:only-of-type {\n",
       "        vertical-align: middle;\n",
       "    }\n",
       "\n",
       "    .dataframe tbody tr th {\n",
       "        vertical-align: top;\n",
       "    }\n",
       "\n",
       "    .dataframe thead th {\n",
       "        text-align: right;\n",
       "    }\n",
       "</style>\n",
       "<table border=\"1\" class=\"dataframe\">\n",
       "  <thead>\n",
       "    <tr style=\"text-align: right;\">\n",
       "      <th></th>\n",
       "      <th>author</th>\n",
       "      <th>views</th>\n",
       "      <th>likes</th>\n",
       "      <th>title</th>\n",
       "      <th>description_1</th>\n",
       "      <th>duration_seg</th>\n",
       "      <th>description_2</th>\n",
       "      <th>date_recorded_year</th>\n",
       "      <th>date_recorded_month</th>\n",
       "      <th>date_released_year</th>\n",
       "      <th>...</th>\n",
       "      <th>'water'</th>\n",
       "      <th>'weather'</th>\n",
       "      <th>'windenergy'</th>\n",
       "      <th>'women'</th>\n",
       "      <th>'womeninbusiness'</th>\n",
       "      <th>'work'</th>\n",
       "      <th>'work-lifebalance'</th>\n",
       "      <th>'writing'</th>\n",
       "      <th>'youth'</th>\n",
       "      <th>'ted'</th>\n",
       "    </tr>\n",
       "  </thead>\n",
       "  <tbody>\n",
       "    <tr>\n",
       "      <th>0</th>\n",
       "      <td>Ozawa Bineshi Albert</td>\n",
       "      <td>404000</td>\n",
       "      <td>12000</td>\n",
       "      <td>Climate action needs new frontline leadership</td>\n",
       "      <td>\"We can't rely on those who created climate ch...</td>\n",
       "      <td>834</td>\n",
       "      <td>\"We can't rely on those who created climate ch...</td>\n",
       "      <td>2021</td>\n",
       "      <td>12</td>\n",
       "      <td>2022</td>\n",
       "      <td>...</td>\n",
       "      <td>0</td>\n",
       "      <td>0</td>\n",
       "      <td>0</td>\n",
       "      <td>0</td>\n",
       "      <td>0</td>\n",
       "      <td>0</td>\n",
       "      <td>0</td>\n",
       "      <td>0</td>\n",
       "      <td>0</td>\n",
       "      <td>1</td>\n",
       "    </tr>\n",
       "    <tr>\n",
       "      <th>1</th>\n",
       "      <td>Sydney Iaukea</td>\n",
       "      <td>214000</td>\n",
       "      <td>6400</td>\n",
       "      <td>The dark history of the overthrow of Hawaii</td>\n",
       "      <td>\"On January 16th, 1895, two men arrived at Lil...</td>\n",
       "      <td>0</td>\n",
       "      <td>\"On January 16th, 1895, two men arrived at Lil...</td>\n",
       "      <td>2022</td>\n",
       "      <td>2</td>\n",
       "      <td>2022</td>\n",
       "      <td>...</td>\n",
       "      <td>0</td>\n",
       "      <td>0</td>\n",
       "      <td>0</td>\n",
       "      <td>1</td>\n",
       "      <td>0</td>\n",
       "      <td>0</td>\n",
       "      <td>0</td>\n",
       "      <td>0</td>\n",
       "      <td>0</td>\n",
       "      <td>1</td>\n",
       "    </tr>\n",
       "    <tr>\n",
       "      <th>2</th>\n",
       "      <td>Martin Reeves</td>\n",
       "      <td>412000</td>\n",
       "      <td>12000</td>\n",
       "      <td>Why play is essential for business</td>\n",
       "      <td>\"To thrive in today's competitive economy, you...</td>\n",
       "      <td>665</td>\n",
       "      <td>\"To thrive in today's competitive economy, you...</td>\n",
       "      <td>2021</td>\n",
       "      <td>9</td>\n",
       "      <td>2022</td>\n",
       "      <td>...</td>\n",
       "      <td>0</td>\n",
       "      <td>0</td>\n",
       "      <td>0</td>\n",
       "      <td>0</td>\n",
       "      <td>0</td>\n",
       "      <td>1</td>\n",
       "      <td>0</td>\n",
       "      <td>0</td>\n",
       "      <td>0</td>\n",
       "      <td>1</td>\n",
       "    </tr>\n",
       "    <tr>\n",
       "      <th>3</th>\n",
       "      <td>James K. Thornton</td>\n",
       "      <td>427000</td>\n",
       "      <td>12000</td>\n",
       "      <td>Why is China appointing judges to combat clima...</td>\n",
       "      <td>\"Why is China appointing thousands of judges t...</td>\n",
       "      <td>695</td>\n",
       "      <td>\"Why is China appointing thousands of judges t...</td>\n",
       "      <td>2021</td>\n",
       "      <td>10</td>\n",
       "      <td>2022</td>\n",
       "      <td>...</td>\n",
       "      <td>0</td>\n",
       "      <td>0</td>\n",
       "      <td>0</td>\n",
       "      <td>0</td>\n",
       "      <td>0</td>\n",
       "      <td>0</td>\n",
       "      <td>0</td>\n",
       "      <td>0</td>\n",
       "      <td>0</td>\n",
       "      <td>1</td>\n",
       "    </tr>\n",
       "    <tr>\n",
       "      <th>4</th>\n",
       "      <td>Mahendra Singhi</td>\n",
       "      <td>2400</td>\n",
       "      <td>72</td>\n",
       "      <td>Cement's carbon problem -- and 2 ways to fix it</td>\n",
       "      <td>\"Cement is vital to modernizing all kinds of i...</td>\n",
       "      <td>671</td>\n",
       "      <td>\"Cement is vital to modernizing all kinds of i...</td>\n",
       "      <td>2021</td>\n",
       "      <td>10</td>\n",
       "      <td>2022</td>\n",
       "      <td>...</td>\n",
       "      <td>0</td>\n",
       "      <td>0</td>\n",
       "      <td>0</td>\n",
       "      <td>0</td>\n",
       "      <td>0</td>\n",
       "      <td>0</td>\n",
       "      <td>0</td>\n",
       "      <td>0</td>\n",
       "      <td>0</td>\n",
       "      <td>1</td>\n",
       "    </tr>\n",
       "  </tbody>\n",
       "</table>\n",
       "<p>5 rows × 363 columns</p>\n",
       "</div>"
      ],
      "text/plain": [
       "                 author   views  likes  \\\n",
       "0  Ozawa Bineshi Albert  404000  12000   \n",
       "1         Sydney Iaukea  214000   6400   \n",
       "2         Martin Reeves  412000  12000   \n",
       "3     James K. Thornton  427000  12000   \n",
       "4       Mahendra Singhi    2400     72   \n",
       "\n",
       "                                               title  \\\n",
       "0      Climate action needs new frontline leadership   \n",
       "1        The dark history of the overthrow of Hawaii   \n",
       "2                 Why play is essential for business   \n",
       "3  Why is China appointing judges to combat clima...   \n",
       "4    Cement's carbon problem -- and 2 ways to fix it   \n",
       "\n",
       "                                       description_1  duration_seg  \\\n",
       "0  \"We can't rely on those who created climate ch...           834   \n",
       "1  \"On January 16th, 1895, two men arrived at Lil...             0   \n",
       "2  \"To thrive in today's competitive economy, you...           665   \n",
       "3  \"Why is China appointing thousands of judges t...           695   \n",
       "4  \"Cement is vital to modernizing all kinds of i...           671   \n",
       "\n",
       "                                       description_2  date_recorded_year  \\\n",
       "0  \"We can't rely on those who created climate ch...                2021   \n",
       "1  \"On January 16th, 1895, two men arrived at Lil...                2022   \n",
       "2  \"To thrive in today's competitive economy, you...                2021   \n",
       "3  \"Why is China appointing thousands of judges t...                2021   \n",
       "4  \"Cement is vital to modernizing all kinds of i...                2021   \n",
       "\n",
       "   date_recorded_month  date_released_year  ...   'water'   'weather'  \\\n",
       "0                   12                2022  ...         0           0   \n",
       "1                    2                2022  ...         0           0   \n",
       "2                    9                2022  ...         0           0   \n",
       "3                   10                2022  ...         0           0   \n",
       "4                   10                2022  ...         0           0   \n",
       "\n",
       "    'windenergy'  'women'   'womeninbusiness'   'work'   'work-lifebalance'  \\\n",
       "0              0        0                   0        0                    0   \n",
       "1              0        1                   0        0                    0   \n",
       "2              0        0                   0        1                    0   \n",
       "3              0        0                   0        0                    0   \n",
       "4              0        0                   0        0                    0   \n",
       "\n",
       "    'writing'   'youth'  'ted'  \n",
       "0           0         0      1  \n",
       "1           0         0      1  \n",
       "2           0         0      1  \n",
       "3           0         0      1  \n",
       "4           0         0      1  \n",
       "\n",
       "[5 rows x 363 columns]"
      ]
     },
     "execution_count": 231,
     "metadata": {},
     "output_type": "execute_result"
    }
   ],
   "source": [
    "df.head(5)"
   ]
  },
  {
   "cell_type": "code",
   "execution_count": 232,
   "metadata": {},
   "outputs": [],
   "source": [
    "#exploring date recorded"
   ]
  },
  {
   "cell_type": "code",
   "execution_count": 233,
   "metadata": {
    "id": "MyPsvjBC478y"
   },
   "outputs": [
    {
     "data": {
      "text/plain": [
       "<AxesSubplot:>"
      ]
     },
     "execution_count": 233,
     "metadata": {},
     "output_type": "execute_result"
    },
    {
     "data": {
      "image/png": "[encoded data removed]",
      "text/plain": [
       "<Figure size 432x288 with 1 Axes>"
      ]
     },
     "metadata": {
      "needs_background": "light"
     },
     "output_type": "display_data"
    }
   ],
   "source": [
    "df.date_recorded_month.hist()\n"
   ]
  },
  {
   "cell_type": "code",
   "execution_count": 234,
   "metadata": {
    "colab": {
     "base_uri": "https://localhost:8080/",
     "height": 1000
    },
    "id": "xOVyefa_f2uX",
    "outputId": "8faf33d0-e867-4f2b-85bf-b6621bb65e70"
   },
   "outputs": [
    {
     "data": {
      "text/plain": [
       "<AxesSubplot:>"
      ]
     },
     "execution_count": 234,
     "metadata": {},
     "output_type": "execute_result"
    },
    {
     "data": {
      "image/png": "[encoded data removed]",
      "text/plain": [
       "<Figure size 432x288 with 1 Axes>"
      ]
     },
     "metadata": {
      "needs_background": "light"
     },
     "output_type": "display_data"
    }
   ],
   "source": [
    "df.date_recorded_year.hist()"
   ]
  },
  {
   "cell_type": "code",
   "execution_count": 235,
   "metadata": {},
   "outputs": [
    {
     "data": {
      "text/plain": [
       "<AxesSubplot:>"
      ]
     },
     "execution_count": 235,
     "metadata": {},
     "output_type": "execute_result"
    },
    {
     "data": {
      "image/png": "[encoded data removed]",
      "text/plain": [
       "<Figure size 432x288 with 1 Axes>"
      ]
     },
     "metadata": {
      "needs_background": "light"
     },
     "output_type": "display_data"
    }
   ],
   "source": [
    "# Are there outliers\n",
    "df.date_recorded_year.plot.box()"
   ]
  },
  {
   "cell_type": "code",
   "execution_count": 236,
   "metadata": {},
   "outputs": [],
   "source": [
    "df_graph=df[df.date_recorded_year<2000]\n"
   ]
  },
  {
   "cell_type": "code",
   "execution_count": 237,
   "metadata": {},
   "outputs": [
    {
     "data": {
      "text/plain": [
       "<seaborn.axisgrid.FacetGrid at 0x7fefc10b1580>"
      ]
     },
     "execution_count": 237,
     "metadata": {},
     "output_type": "execute_result"
    },
    {
     "data": {
      "image/png": "[encoded data removed]",
      "text/plain": [
       "<Figure size 360x360 with 1 Axes>"
      ]
     },
     "metadata": {
      "needs_background": "light"
     },
     "output_type": "display_data"
    }
   ],
   "source": [
    "#removing outliyers\n",
    "df_graph=df[df.date_recorded_year>2000]\n",
    "sns.lmplot(x='date_recorded_year', y='likes', data=df_graph, x_jitter=1, scatter_kws={'alpha':.2})"
   ]
  },
  {
   "cell_type": "code",
   "execution_count": 238,
   "metadata": {},
   "outputs": [],
   "source": [
    "#exploring duration of videos"
   ]
  },
  {
   "cell_type": "code",
   "execution_count": 239,
   "metadata": {
    "scrolled": true
   },
   "outputs": [
    {
     "data": {
      "text/plain": [
       "<AxesSubplot:>"
      ]
     },
     "execution_count": 239,
     "metadata": {},
     "output_type": "execute_result"
    },
    {
     "data": {
      "image/png": "[encoded data removed]",
      "text/plain": [
       "<Figure size 432x288 with 1 Axes>"
      ]
     },
     "metadata": {
      "needs_background": "light"
     },
     "output_type": "display_data"
    }
   ],
   "source": [
    "# Are there outliers\n",
    "df.duration_seg.plot.box()"
   ]
  },
  {
   "cell_type": "code",
   "execution_count": 240,
   "metadata": {},
   "outputs": [
    {
     "data": {
      "text/plain": [
       "<seaborn.axisgrid.FacetGrid at 0x7fefa03f2dc0>"
      ]
     },
     "execution_count": 240,
     "metadata": {},
     "output_type": "execute_result"
    },
    {
     "data": {
      "image/png": "[encoded data removed]",
      "text/plain": [
       "<Figure size 360x360 with 1 Axes>"
      ]
     },
     "metadata": {
      "needs_background": "light"
     },
     "output_type": "display_data"
    }
   ],
   "source": [
    "#removing outliyers\n",
    "df_graph=df[df.date_recorded_year>2000]\n",
    "sns.lmplot(x='duration_seg', y='likes', data=df_graph, x_jitter=1, scatter_kws={'alpha':.1})"
   ]
  },
  {
   "cell_type": "code",
   "execution_count": 241,
   "metadata": {
    "scrolled": true
   },
   "outputs": [
    {
     "data": {
      "text/plain": [
       "<seaborn.axisgrid.FacetGrid at 0x7fefa03a2520>"
      ]
     },
     "execution_count": 241,
     "metadata": {},
     "output_type": "execute_result"
    },
    {
     "data": {
      "image/png": "[encoded data removed]",
      "text/plain": [
       "<Figure size 720x720 with 4 Axes>"
      ]
     },
     "metadata": {
      "needs_background": "light"
     },
     "output_type": "display_data"
    }
   ],
   "source": [
    "#Insight: during pandemic years (2020-2021) \n",
    "df_graph=df[df.date_recorded_year>2018]\n",
    "sns.relplot(x='duration_seg', y='likes', data=df_graph, col='date_recorded_year', col_wrap=2, alpha=.1)"
   ]
  },
  {
   "cell_type": "code",
   "execution_count": 242,
   "metadata": {},
   "outputs": [
    {
     "data": {
      "text/plain": [
       "array([[<AxesSubplot:title={'center':\"('likes', 'sum')\"}>,\n",
       "        <AxesSubplot:title={'center':\"('views', 'sum')\"}>]], dtype=object)"
      ]
     },
     "execution_count": 242,
     "metadata": {},
     "output_type": "execute_result"
    },
    {
     "data": {
      "image/png": "[encoded data removed]",
      "text/plain": [
       "<Figure size 432x288 with 2 Axes>"
      ]
     },
     "metadata": {
      "needs_background": "light"
     },
     "output_type": "display_data"
    }
   ],
   "source": [
    "df_graph = pd.pivot_table(data=df, \n",
    "               index=['date_recorded_year'], \n",
    "               values=['likes','views'], \n",
    "               aggfunc={'likes':[np.sum],'views':np.sum}\n",
    "        )\n",
    "df_graph.hist()"
   ]
  },
  {
   "cell_type": "code",
   "execution_count": 243,
   "metadata": {},
   "outputs": [
    {
     "data": {
      "text/html": [
       "<div>\n",
       "<style scoped>\n",
       "    .dataframe tbody tr th:only-of-type {\n",
       "        vertical-align: middle;\n",
       "    }\n",
       "\n",
       "    .dataframe tbody tr th {\n",
       "        vertical-align: top;\n",
       "    }\n",
       "\n",
       "    .dataframe thead th {\n",
       "        text-align: right;\n",
       "    }\n",
       "</style>\n",
       "<table border=\"1\" class=\"dataframe\">\n",
       "  <thead>\n",
       "    <tr style=\"text-align: right;\">\n",
       "      <th></th>\n",
       "      <th>views</th>\n",
       "      <th>likes</th>\n",
       "      <th>duration_seg</th>\n",
       "      <th>date_recorded_year</th>\n",
       "      <th>date_recorded_month</th>\n",
       "      <th>date_released_year</th>\n",
       "      <th>date_released_month</th>\n",
       "      <th>date_released_hour</th>\n",
       "      <th>date_released_minute</th>\n",
       "    </tr>\n",
       "  </thead>\n",
       "  <tbody>\n",
       "    <tr>\n",
       "      <th>views</th>\n",
       "      <td>1.000000</td>\n",
       "      <td>0.999661</td>\n",
       "      <td>0.032513</td>\n",
       "      <td>-0.083600</td>\n",
       "      <td>-0.085797</td>\n",
       "      <td>-0.101028</td>\n",
       "      <td>-0.024079</td>\n",
       "      <td>-0.008555</td>\n",
       "      <td>-0.006850</td>\n",
       "    </tr>\n",
       "    <tr>\n",
       "      <th>likes</th>\n",
       "      <td>0.999661</td>\n",
       "      <td>1.000000</td>\n",
       "      <td>0.032510</td>\n",
       "      <td>-0.083206</td>\n",
       "      <td>-0.086190</td>\n",
       "      <td>-0.100779</td>\n",
       "      <td>-0.023818</td>\n",
       "      <td>-0.008762</td>\n",
       "      <td>-0.006632</td>\n",
       "    </tr>\n",
       "    <tr>\n",
       "      <th>duration_seg</th>\n",
       "      <td>0.032513</td>\n",
       "      <td>0.032510</td>\n",
       "      <td>1.000000</td>\n",
       "      <td>-0.178443</td>\n",
       "      <td>-0.048921</td>\n",
       "      <td>-0.235843</td>\n",
       "      <td>0.004286</td>\n",
       "      <td>0.001337</td>\n",
       "      <td>-0.019144</td>\n",
       "    </tr>\n",
       "    <tr>\n",
       "      <th>date_recorded_year</th>\n",
       "      <td>-0.083600</td>\n",
       "      <td>-0.083206</td>\n",
       "      <td>-0.178443</td>\n",
       "      <td>1.000000</td>\n",
       "      <td>0.207671</td>\n",
       "      <td>0.897664</td>\n",
       "      <td>0.034764</td>\n",
       "      <td>-0.107005</td>\n",
       "      <td>0.250998</td>\n",
       "    </tr>\n",
       "    <tr>\n",
       "      <th>date_recorded_month</th>\n",
       "      <td>-0.085797</td>\n",
       "      <td>-0.086190</td>\n",
       "      <td>-0.048921</td>\n",
       "      <td>0.207671</td>\n",
       "      <td>1.000000</td>\n",
       "      <td>0.250865</td>\n",
       "      <td>0.119744</td>\n",
       "      <td>-0.073505</td>\n",
       "      <td>0.107123</td>\n",
       "    </tr>\n",
       "    <tr>\n",
       "      <th>date_released_year</th>\n",
       "      <td>-0.101028</td>\n",
       "      <td>-0.100779</td>\n",
       "      <td>-0.235843</td>\n",
       "      <td>0.897664</td>\n",
       "      <td>0.250865</td>\n",
       "      <td>1.000000</td>\n",
       "      <td>-0.073472</td>\n",
       "      <td>-0.037315</td>\n",
       "      <td>0.272284</td>\n",
       "    </tr>\n",
       "    <tr>\n",
       "      <th>date_released_month</th>\n",
       "      <td>-0.024079</td>\n",
       "      <td>-0.023818</td>\n",
       "      <td>0.004286</td>\n",
       "      <td>0.034764</td>\n",
       "      <td>0.119744</td>\n",
       "      <td>-0.073472</td>\n",
       "      <td>1.000000</td>\n",
       "      <td>-0.012557</td>\n",
       "      <td>-0.021944</td>\n",
       "    </tr>\n",
       "    <tr>\n",
       "      <th>date_released_hour</th>\n",
       "      <td>-0.008555</td>\n",
       "      <td>-0.008762</td>\n",
       "      <td>0.001337</td>\n",
       "      <td>-0.107005</td>\n",
       "      <td>-0.073505</td>\n",
       "      <td>-0.037315</td>\n",
       "      <td>-0.012557</td>\n",
       "      <td>1.000000</td>\n",
       "      <td>-0.226456</td>\n",
       "    </tr>\n",
       "    <tr>\n",
       "      <th>date_released_minute</th>\n",
       "      <td>-0.006850</td>\n",
       "      <td>-0.006632</td>\n",
       "      <td>-0.019144</td>\n",
       "      <td>0.250998</td>\n",
       "      <td>0.107123</td>\n",
       "      <td>0.272284</td>\n",
       "      <td>-0.021944</td>\n",
       "      <td>-0.226456</td>\n",
       "      <td>1.000000</td>\n",
       "    </tr>\n",
       "  </tbody>\n",
       "</table>\n",
       "</div>"
      ],
      "text/plain": [
       "                         views     likes  duration_seg  date_recorded_year  \\\n",
       "views                 1.000000  0.999661      0.032513           -0.083600   \n",
       "likes                 0.999661  1.000000      0.032510           -0.083206   \n",
       "duration_seg          0.032513  0.032510      1.000000           -0.178443   \n",
       "date_recorded_year   -0.083600 -0.083206     -0.178443            1.000000   \n",
       "date_recorded_month  -0.085797 -0.086190     -0.048921            0.207671   \n",
       "date_released_year   -0.101028 -0.100779     -0.235843            0.897664   \n",
       "date_released_month  -0.024079 -0.023818      0.004286            0.034764   \n",
       "date_released_hour   -0.008555 -0.008762      0.001337           -0.107005   \n",
       "date_released_minute -0.006850 -0.006632     -0.019144            0.250998   \n",
       "\n",
       "                      date_recorded_month  date_released_year  \\\n",
       "views                           -0.085797           -0.101028   \n",
       "likes                           -0.086190           -0.100779   \n",
       "duration_seg                    -0.048921           -0.235843   \n",
       "date_recorded_year               0.207671            0.897664   \n",
       "date_recorded_month              1.000000            0.250865   \n",
       "date_released_year               0.250865            1.000000   \n",
       "date_released_month              0.119744           -0.073472   \n",
       "date_released_hour              -0.073505           -0.037315   \n",
       "date_released_minute             0.107123            0.272284   \n",
       "\n",
       "                      date_released_month  date_released_hour  \\\n",
       "views                           -0.024079           -0.008555   \n",
       "likes                           -0.023818           -0.008762   \n",
       "duration_seg                     0.004286            0.001337   \n",
       "date_recorded_year               0.034764           -0.107005   \n",
       "date_recorded_month              0.119744           -0.073505   \n",
       "date_released_year              -0.073472           -0.037315   \n",
       "date_released_month              1.000000           -0.012557   \n",
       "date_released_hour              -0.012557            1.000000   \n",
       "date_released_minute            -0.021944           -0.226456   \n",
       "\n",
       "                      date_released_minute  \n",
       "views                            -0.006850  \n",
       "likes                            -0.006632  \n",
       "duration_seg                     -0.019144  \n",
       "date_recorded_year                0.250998  \n",
       "date_recorded_month               0.107123  \n",
       "date_released_year                0.272284  \n",
       "date_released_month              -0.021944  \n",
       "date_released_hour               -0.226456  \n",
       "date_released_minute              1.000000  "
      ]
     },
     "execution_count": 243,
     "metadata": {},
     "output_type": "execute_result"
    }
   ],
   "source": [
    "not_dummy_columns=pd.Series(np.arange(0,14,1))\n",
    "df_graph=df.iloc[:,not_dummy_columns].reset_index().drop('index', axis=1)\n",
    "df_graph.corr()"
   ]
  },
  {
   "cell_type": "code",
   "execution_count": 244,
   "metadata": {},
   "outputs": [
    {
     "data": {
      "text/plain": [
       "<AxesSubplot:>"
      ]
     },
     "execution_count": 244,
     "metadata": {},
     "output_type": "execute_result"
    },
    {
     "data": {
      "image/png": "[encoded data removed]",
      "text/plain": [
       "<Figure size 576x576 with 2 Axes>"
      ]
     },
     "metadata": {
      "needs_background": "light"
     },
     "output_type": "display_data"
    }
   ],
   "source": [
    "fig, ax = plt.subplots(figsize=(8,8))\n",
    "sns.heatmap(df_graph.corr(), cmap='RdBu', vmin=-1, vmax=1, annot=True, square=True, ax=ax)"
   ]
  },
  {
   "cell_type": "code",
   "execution_count": 245,
   "metadata": {},
   "outputs": [],
   "source": [
    "#dummies\n",
    "\n",
    "#removing 'ted' column\n",
    "column_to_drop=df.columns[362]\n",
    "df2=df.drop(column_to_drop, axis=1)\n",
    "\n",
    "#counting dummies and creating file to rename categories\n",
    "dummy_columns=pd.Series(np.arange(15,349,1))[1:]\n",
    "df_dummies=df.iloc[:,dummy_columns].sum().reset_index()\n",
    "df_dummies.columns=['keyword', 'sum']\n",
    "df2=df_dummies.copy()\n",
    "(df2\n",
    " .pipe(lambda df2: pd.crosstab(df2.keyword, df2.sum))\n",
    ")\n",
    "df2=df2.sort_values(by='sum', ascending=False)\n",
    "df2.to_csv('/Users/alialvarez/Desktop/keywords.csv')"
   ]
  },
  {
   "cell_type": "code",
   "execution_count": 246,
   "metadata": {},
   "outputs": [
    {
     "name": "stdout",
     "output_type": "stream",
     "text": [
      "<class 'pandas.core.frame.DataFrame'>\n",
      "RangeIndex: 5440 entries, 0 to 5439\n",
      "Columns: 363 entries, author to 'ted'\n",
      "dtypes: int64(358), object(5)\n",
      "memory usage: 15.1+ MB\n"
     ]
    }
   ],
   "source": [
    "df.info()"
   ]
  },
  {
   "cell_type": "code",
   "execution_count": 263,
   "metadata": {},
   "outputs": [],
   "source": [
    "#Reclassifying Dummies Categories\n",
    "cwd=os.getcwd()\n",
    "categories=pd.read_csv(cwd+'/keywords_categories.csv')"
   ]
  },
  {
   "cell_type": "code",
   "execution_count": 326,
   "metadata": {},
   "outputs": [
    {
     "name": "stdout",
     "output_type": "stream",
     "text": [
      "<built-in function len>\n",
      "332 (333, 2) (74, 15)\n",
      "              index    0\n",
      "0      '3dprinting'    9\n",
      "1        'activism'  352\n",
      "2       'addiction'   20\n",
      "3          'africa'  197\n",
      "4           'aging'   93\n",
      "5     'agriculture'   48\n",
      "6              'ai'  119\n",
      "7            'aids'   10\n",
      "8       'algorithm'   62\n",
      "9          'aliens'   19\n",
      "10   'ancientworld'  108\n",
      "11        'animals'  300\n",
      "12      'animation'  713\n",
      "13     'antarctica'   18\n",
      "14   'anthropocene'   48\n",
      "15   'anthropology'   52\n",
      "16    'archaeology'   31\n",
      "17   'architecture'  115\n",
      "18            'art'  432\n",
      "19           'asia'   40\n"
     ]
    }
   ],
   "source": [
    "\n",
    "\n",
    "#transforming categories\n",
    "new_cat=(categories.columns.values.tolist())\n",
    "dic={key: None for key in new_cat}\n",
    "\n",
    "##creating dictionary with categories file\n",
    "for column in range (0,categories.shape[1]):\n",
    "    dic_values=[]\n",
    "    key=new_cat[column]\n",
    "    for row in range (0,categories.shape[0]):\n",
    "        value=categories.iloc[row,column]\n",
    "        if value is np.nan:\n",
    "            pass\n",
    "        else:\n",
    "            value=value.replace(' ', '')[1:-1]\n",
    "            dic_values.append(value)\n",
    "    dic.update({key:dic_values})\n",
    "\n",
    "##adding column to df with \n",
    "dummy_columns=pd.Series(np.arange(15,349,1))[1:]\n",
    "df_dummies=df.iloc[:,dummy_columns].sum().reset_index()\n",
    "list_categories=[]\n",
    "for i in range (0, len(set(df_dummies['index']))):\n",
    "    keyword=df_dummies['index'][i][2:-1]\n",
    "    ###find category of keyword in dictionary\n",
    "    for key, value_list in dic.items():\n",
    "        for x in value_list:\n",
    "            if keyword==x:\n",
    "                category=key\n",
    "    ###add category to list\n",
    "                list_categories.append(category)\n",
    "##add list_categories to df\n",
    "print(len(list_categories), df_dummies.shape)\n",
    "# df_dummies['new_category']=list_categories\n",
    "print(df_dummies.head(20))"
   ]
  },
  {
   "cell_type": "code",
   "execution_count": 249,
   "metadata": {},
   "outputs": [
    {
     "data": {
      "text/html": [
       "<div>\n",
       "<style scoped>\n",
       "    .dataframe tbody tr th:only-of-type {\n",
       "        vertical-align: middle;\n",
       "    }\n",
       "\n",
       "    .dataframe tbody tr th {\n",
       "        vertical-align: top;\n",
       "    }\n",
       "\n",
       "    .dataframe thead th {\n",
       "        text-align: right;\n",
       "    }\n",
       "</style>\n",
       "<table border=\"1\" class=\"dataframe\">\n",
       "  <thead>\n",
       "    <tr style=\"text-align: right;\">\n",
       "      <th></th>\n",
       "      <th>technology</th>\n",
       "      <th>society</th>\n",
       "      <th>science</th>\n",
       "      <th>religion</th>\n",
       "      <th>personal growth</th>\n",
       "      <th>other</th>\n",
       "      <th>health</th>\n",
       "      <th>global</th>\n",
       "      <th>environment</th>\n",
       "      <th>education</th>\n",
       "      <th>culture</th>\n",
       "      <th>climate</th>\n",
       "      <th>business</th>\n",
       "      <th>art</th>\n",
       "      <th>values &amp; emotions</th>\n",
       "    </tr>\n",
       "  </thead>\n",
       "  <tbody>\n",
       "    <tr>\n",
       "      <th>0</th>\n",
       "      <td>'ai'</td>\n",
       "      <td>'aging'</td>\n",
       "      <td>'agriculture'</td>\n",
       "      <td>'atheism'</td>\n",
       "      <td>'decision-making'</td>\n",
       "      <td>'audaciousproject'</td>\n",
       "      <td>'addiction'</td>\n",
       "      <td>'africa'</td>\n",
       "      <td>'animals'</td>\n",
       "      <td>'education'</td>\n",
       "      <td>'ancientworld'</td>\n",
       "      <td>'climatechange'</td>\n",
       "      <td>'behavioraleconomics'</td>\n",
       "      <td>'animation'</td>\n",
       "      <td>'activism'</td>\n",
       "    </tr>\n",
       "    <tr>\n",
       "      <th>1</th>\n",
       "      <td>'algorithm'</td>\n",
       "      <td>'architecture'</td>\n",
       "      <td>'anthropocene'</td>\n",
       "      <td>'buddhism'</td>\n",
       "      <td>'goals'</td>\n",
       "      <td>'bodylanguage'</td>\n",
       "      <td>'aids'</td>\n",
       "      <td>'aliens'</td>\n",
       "      <td>'bees'</td>\n",
       "      <td>'math'</td>\n",
       "      <td>'culture'</td>\n",
       "      <td>'environment'</td>\n",
       "      <td>'business'</td>\n",
       "      <td>'art'</td>\n",
       "      <td>'compassion'</td>\n",
       "    </tr>\n",
       "    <tr>\n",
       "      <th>2</th>\n",
       "      <td>'augmentedreality'</td>\n",
       "      <td>'beauty'</td>\n",
       "      <td>'anthropology'</td>\n",
       "      <td>'christianity'</td>\n",
       "      <td>'leadership'</td>\n",
       "      <td>'conducting'</td>\n",
       "      <td>'autismspectrumdisorder'</td>\n",
       "      <td>'antarctica'</td>\n",
       "      <td>'biodiversity'</td>\n",
       "      <td>'teaching'</td>\n",
       "      <td>'grammar'</td>\n",
       "      <td>'naturaldisaster'</td>\n",
       "      <td>'crowdsourcing'</td>\n",
       "      <td>'comedy'</td>\n",
       "      <td>'consciousness'</td>\n",
       "    </tr>\n",
       "    <tr>\n",
       "      <th>3</th>\n",
       "      <td>'bestoftheweb'</td>\n",
       "      <td>'bullying'</td>\n",
       "      <td>'archaeology'</td>\n",
       "      <td>'hinduism'</td>\n",
       "      <td>'meditation'</td>\n",
       "      <td>'countdown'</td>\n",
       "      <td>'bacteria'</td>\n",
       "      <td>'asia'</td>\n",
       "      <td>'biosphere'</td>\n",
       "      <td>'ted-ed'</td>\n",
       "      <td>'history'</td>\n",
       "      <td>'renewableenergy'</td>\n",
       "      <td>'discovery'</td>\n",
       "      <td>'dance'</td>\n",
       "      <td>'creativity'</td>\n",
       "    </tr>\n",
       "    <tr>\n",
       "      <th>4</th>\n",
       "      <td>'blockchain'</td>\n",
       "      <td>'capitalism'</td>\n",
       "      <td>'astrobiology'</td>\n",
       "      <td>'islam'</td>\n",
       "      <td>'mindfulness'</td>\n",
       "      <td>'crispr'</td>\n",
       "      <td>'bioethics'</td>\n",
       "      <td>'asteroid'</td>\n",
       "      <td>'birds'</td>\n",
       "      <td>NaN</td>\n",
       "      <td>'museums'</td>\n",
       "      <td>'sustainability'</td>\n",
       "      <td>'entrepreneur'</td>\n",
       "      <td>'film'</td>\n",
       "      <td>'curiosity'</td>\n",
       "    </tr>\n",
       "  </tbody>\n",
       "</table>\n",
       "</div>"
      ],
      "text/plain": [
       "            technology          society          science         religion  \\\n",
       "0                 'ai'          'aging'    'agriculture'        'atheism'   \n",
       "1          'algorithm'   'architecture'   'anthropocene'       'buddhism'   \n",
       "2   'augmentedreality'         'beauty'   'anthropology'   'christianity'   \n",
       "3       'bestoftheweb'       'bullying'    'archaeology'       'hinduism'   \n",
       "4         'blockchain'     'capitalism'   'astrobiology'          'islam'   \n",
       "\n",
       "      personal growth                other                     health  \\\n",
       "0   'decision-making'   'audaciousproject'                'addiction'   \n",
       "1             'goals'       'bodylanguage'                     'aids'   \n",
       "2        'leadership'         'conducting'   'autismspectrumdisorder'   \n",
       "3        'meditation'          'countdown'                 'bacteria'   \n",
       "4       'mindfulness'             'crispr'                'bioethics'   \n",
       "\n",
       "          global      environment     education          culture  \\\n",
       "0       'africa'        'animals'   'education'   'ancientworld'   \n",
       "1       'aliens'           'bees'        'math'        'culture'   \n",
       "2   'antarctica'   'biodiversity'    'teaching'        'grammar'   \n",
       "3         'asia'      'biosphere'      'ted-ed'        'history'   \n",
       "4     'asteroid'          'birds'           NaN        'museums'   \n",
       "\n",
       "              climate                business           art values & emotions  \n",
       "0     'climatechange'   'behavioraleconomics'   'animation'        'activism'  \n",
       "1       'environment'              'business'         'art'      'compassion'  \n",
       "2   'naturaldisaster'         'crowdsourcing'      'comedy'   'consciousness'  \n",
       "3   'renewableenergy'             'discovery'       'dance'      'creativity'  \n",
       "4    'sustainability'          'entrepreneur'        'film'       'curiosity'  "
      ]
     },
     "execution_count": 249,
     "metadata": {},
     "output_type": "execute_result"
    }
   ],
   "source": [
    "categories.head(5)"
   ]
  },
  {
   "cell_type": "code",
   "execution_count": null,
   "metadata": {},
   "outputs": [],
   "source": []
  },
  {
   "cell_type": "code",
   "execution_count": null,
   "metadata": {},
   "outputs": [],
   "source": []
  },
  {
   "cell_type": "code",
   "execution_count": null,
   "metadata": {},
   "outputs": [],
   "source": []
  },
  {
   "cell_type": "code",
   "execution_count": null,
   "metadata": {},
   "outputs": [],
   "source": []
  },
  {
   "cell_type": "code",
   "execution_count": null,
   "metadata": {},
   "outputs": [],
   "source": []
  },
  {
   "cell_type": "markdown",
   "metadata": {
    "id": "NwIN6bu_478y"
   },
   "source": [
    "# Analysis"
   ]
  },
  {
   "cell_type": "code",
   "execution_count": 250,
   "metadata": {
    "colab": {
     "base_uri": "https://localhost:8080/"
    },
    "id": "i6dQmiTE478y",
    "outputId": "4f3ce7f8-4602-484a-8a57-323c3b5ebb29"
   },
   "outputs": [
    {
     "data": {
      "text/plain": [
       "count    5440.000000\n",
       "mean       62.666912\n",
       "std       107.730958\n",
       "min         0.000000\n",
       "25%        20.000000\n",
       "50%        41.000000\n",
       "75%        65.000000\n",
       "max      2100.000000\n",
       "Name: likes, dtype: float64"
      ]
     },
     "execution_count": 250,
     "metadata": {},
     "output_type": "execute_result"
    }
   ],
   "source": [
    "# #what constitude a good video based on likes?\n",
    "y=1000\n",
    "df_graph=df.likes.apply(lambda x: round(x/y,0))\n",
    "df_graph.describe()"
   ]
  },
  {
   "cell_type": "code",
   "execution_count": 251,
   "metadata": {
    "id": "_9qXV5zl478z"
   },
   "outputs": [
    {
     "data": {
      "text/plain": [
       "count     5440.000000\n",
       "mean      2063.652941\n",
       "std       3569.598818\n",
       "min          1.000000\n",
       "25%        670.750000\n",
       "50%       1300.000000\n",
       "75%       2100.000000\n",
       "max      72000.000000\n",
       "Name: views, dtype: float64"
      ]
     },
     "execution_count": 251,
     "metadata": {},
     "output_type": "execute_result"
    }
   ],
   "source": [
    "# #what constitude a good video based on views?\n",
    "y=1000\n",
    "df_graph=df.views.apply(lambda x: round(x/y,0))\n",
    "df_graph.describe()"
   ]
  },
  {
   "cell_type": "markdown",
   "metadata": {
    "id": "pvJFwsUP478z"
   },
   "source": [
    "### Top 10 Liked Videos"
   ]
  },
  {
   "cell_type": "code",
   "execution_count": 252,
   "metadata": {
    "id": "Kii_B_Jt478z"
   },
   "outputs": [
    {
     "data": {
      "text/html": [
       "<div>\n",
       "<style scoped>\n",
       "    .dataframe tbody tr th:only-of-type {\n",
       "        vertical-align: middle;\n",
       "    }\n",
       "\n",
       "    .dataframe tbody tr th {\n",
       "        vertical-align: top;\n",
       "    }\n",
       "\n",
       "    .dataframe thead th {\n",
       "        text-align: right;\n",
       "    }\n",
       "</style>\n",
       "<table border=\"1\" class=\"dataframe\">\n",
       "  <thead>\n",
       "    <tr style=\"text-align: right;\">\n",
       "      <th></th>\n",
       "      <th>title</th>\n",
       "      <th>author</th>\n",
       "      <th>date_recorded_year</th>\n",
       "      <th>views</th>\n",
       "      <th>likes</th>\n",
       "    </tr>\n",
       "  </thead>\n",
       "  <tbody>\n",
       "    <tr>\n",
       "      <th>0</th>\n",
       "      <td>Do schools kill creativity?</td>\n",
       "      <td>Sir Ken Robinson</td>\n",
       "      <td>2006</td>\n",
       "      <td>72000000</td>\n",
       "      <td>2100000</td>\n",
       "    </tr>\n",
       "    <tr>\n",
       "      <th>1</th>\n",
       "      <td>The self-organizing computer course</td>\n",
       "      <td>Amy Cuddy</td>\n",
       "      <td>2012</td>\n",
       "      <td>64000000</td>\n",
       "      <td>1900000</td>\n",
       "    </tr>\n",
       "    <tr>\n",
       "      <th>2</th>\n",
       "      <td>Inside the mind of a master procrastinator</td>\n",
       "      <td>Tim Urban</td>\n",
       "      <td>2016</td>\n",
       "      <td>60000000</td>\n",
       "      <td>1800000</td>\n",
       "    </tr>\n",
       "    <tr>\n",
       "      <th>3</th>\n",
       "      <td>The power of vulnerability</td>\n",
       "      <td>Brené Brown</td>\n",
       "      <td>2010</td>\n",
       "      <td>56000000</td>\n",
       "      <td>1700000</td>\n",
       "    </tr>\n",
       "    <tr>\n",
       "      <th>4</th>\n",
       "      <td>How great leaders inspire action</td>\n",
       "      <td>Simon Sinek</td>\n",
       "      <td>2009</td>\n",
       "      <td>57000000</td>\n",
       "      <td>1700000</td>\n",
       "    </tr>\n",
       "    <tr>\n",
       "      <th>...</th>\n",
       "      <td>...</td>\n",
       "      <td>...</td>\n",
       "      <td>...</td>\n",
       "      <td>...</td>\n",
       "      <td>...</td>\n",
       "    </tr>\n",
       "    <tr>\n",
       "      <th>1338</th>\n",
       "      <td>Why elephants never forget</td>\n",
       "      <td>Leana Wen</td>\n",
       "      <td>2014</td>\n",
       "      <td>2200000</td>\n",
       "      <td>66000</td>\n",
       "    </tr>\n",
       "    <tr>\n",
       "      <th>1339</th>\n",
       "      <td>What if we digitally empowered community healt...</td>\n",
       "      <td>Hugh Herr</td>\n",
       "      <td>2018</td>\n",
       "      <td>2200000</td>\n",
       "      <td>66000</td>\n",
       "    </tr>\n",
       "    <tr>\n",
       "      <th>1340</th>\n",
       "      <td>Why elephants never forget</td>\n",
       "      <td>Alejandro Aravena</td>\n",
       "      <td>2014</td>\n",
       "      <td>2200000</td>\n",
       "      <td>66000</td>\n",
       "    </tr>\n",
       "    <tr>\n",
       "      <th>1341</th>\n",
       "      <td>How humanity can reach the stars</td>\n",
       "      <td>Laurence Hurst</td>\n",
       "      <td>2020</td>\n",
       "      <td>2200000</td>\n",
       "      <td>66000</td>\n",
       "    </tr>\n",
       "    <tr>\n",
       "      <th>1342</th>\n",
       "      <td>Why you shouldn't worry about pooping once a day</td>\n",
       "      <td>Emily Nagoski and Amelia Nagoski</td>\n",
       "      <td>2021</td>\n",
       "      <td>2200000</td>\n",
       "      <td>66000</td>\n",
       "    </tr>\n",
       "  </tbody>\n",
       "</table>\n",
       "<p>1343 rows × 5 columns</p>\n",
       "</div>"
      ],
      "text/plain": [
       "                                                  title  \\\n",
       "0                           Do schools kill creativity?   \n",
       "1                   The self-organizing computer course   \n",
       "2            Inside the mind of a master procrastinator   \n",
       "3                            The power of vulnerability   \n",
       "4                      How great leaders inspire action   \n",
       "...                                                 ...   \n",
       "1338                         Why elephants never forget   \n",
       "1339  What if we digitally empowered community healt...   \n",
       "1340                         Why elephants never forget   \n",
       "1341                   How humanity can reach the stars   \n",
       "1342   Why you shouldn't worry about pooping once a day   \n",
       "\n",
       "                                author  date_recorded_year     views    likes  \n",
       "0                     Sir Ken Robinson                2006  72000000  2100000  \n",
       "1                            Amy Cuddy                2012  64000000  1900000  \n",
       "2                            Tim Urban                2016  60000000  1800000  \n",
       "3                          Brené Brown                2010  56000000  1700000  \n",
       "4                          Simon Sinek                2009  57000000  1700000  \n",
       "...                                ...                 ...       ...      ...  \n",
       "1338                         Leana Wen                2014   2200000    66000  \n",
       "1339                         Hugh Herr                2018   2200000    66000  \n",
       "1340                 Alejandro Aravena                2014   2200000    66000  \n",
       "1341                    Laurence Hurst                2020   2200000    66000  \n",
       "1342  Emily Nagoski and Amelia Nagoski                2021   2200000    66000  \n",
       "\n",
       "[1343 rows x 5 columns]"
      ]
     },
     "execution_count": 252,
     "metadata": {},
     "output_type": "execute_result"
    }
   ],
   "source": [
    "#build data: These are the 75% most liked videos\n",
    "y_var='likes'\n",
    "df_grap = (\n",
    "    (df.groupby(['title','author','date_recorded_year','views'])[y_var].sum().reset_index())\n",
    "    .sort_values([y_var],ascending=[False])\n",
    "    ).reset_index()\n",
    "df_grap=df_grap.drop('index', axis=1)\n",
    "df_grap = df_grap[df_grap[y_var] > 65000]\n",
    "df_grap"
   ]
  },
  {
   "cell_type": "code",
   "execution_count": 253,
   "metadata": {
    "id": "dkOKsGPN4780"
   },
   "outputs": [
    {
     "data": {
      "text/html": [
       "<div>\n",
       "<style scoped>\n",
       "    .dataframe tbody tr th:only-of-type {\n",
       "        vertical-align: middle;\n",
       "    }\n",
       "\n",
       "    .dataframe tbody tr th {\n",
       "        vertical-align: top;\n",
       "    }\n",
       "\n",
       "    .dataframe thead th {\n",
       "        text-align: right;\n",
       "    }\n",
       "</style>\n",
       "<table border=\"1\" class=\"dataframe\">\n",
       "  <thead>\n",
       "    <tr style=\"text-align: right;\">\n",
       "      <th></th>\n",
       "      <th>title</th>\n",
       "      <th>author</th>\n",
       "      <th>date_recorded_year</th>\n",
       "      <th>views</th>\n",
       "      <th>likes</th>\n",
       "    </tr>\n",
       "  </thead>\n",
       "  <tbody>\n",
       "    <tr>\n",
       "      <th>0</th>\n",
       "      <td>Do schools kill creativity?</td>\n",
       "      <td>Sir Ken Robinson</td>\n",
       "      <td>2006</td>\n",
       "      <td>72000000</td>\n",
       "      <td>2100000</td>\n",
       "    </tr>\n",
       "    <tr>\n",
       "      <th>1</th>\n",
       "      <td>The self-organizing computer course</td>\n",
       "      <td>Amy Cuddy</td>\n",
       "      <td>2012</td>\n",
       "      <td>64000000</td>\n",
       "      <td>1900000</td>\n",
       "    </tr>\n",
       "    <tr>\n",
       "      <th>2</th>\n",
       "      <td>Inside the mind of a master procrastinator</td>\n",
       "      <td>Tim Urban</td>\n",
       "      <td>2016</td>\n",
       "      <td>60000000</td>\n",
       "      <td>1800000</td>\n",
       "    </tr>\n",
       "    <tr>\n",
       "      <th>3</th>\n",
       "      <td>The power of vulnerability</td>\n",
       "      <td>Brené Brown</td>\n",
       "      <td>2010</td>\n",
       "      <td>56000000</td>\n",
       "      <td>1700000</td>\n",
       "    </tr>\n",
       "    <tr>\n",
       "      <th>4</th>\n",
       "      <td>How great leaders inspire action</td>\n",
       "      <td>Simon Sinek</td>\n",
       "      <td>2009</td>\n",
       "      <td>57000000</td>\n",
       "      <td>1700000</td>\n",
       "    </tr>\n",
       "    <tr>\n",
       "      <th>5</th>\n",
       "      <td>How to speak so that people want to listen</td>\n",
       "      <td>Julian Treasure</td>\n",
       "      <td>2013</td>\n",
       "      <td>49000000</td>\n",
       "      <td>1400000</td>\n",
       "    </tr>\n",
       "    <tr>\n",
       "      <th>6</th>\n",
       "      <td>The next outbreak? We're not ready</td>\n",
       "      <td>Bill Gates</td>\n",
       "      <td>2015</td>\n",
       "      <td>43000000</td>\n",
       "      <td>1300000</td>\n",
       "    </tr>\n",
       "    <tr>\n",
       "      <th>7</th>\n",
       "      <td>My philosophy for a happy life</td>\n",
       "      <td>Sam Berns</td>\n",
       "      <td>2013</td>\n",
       "      <td>43000000</td>\n",
       "      <td>1300000</td>\n",
       "    </tr>\n",
       "    <tr>\n",
       "      <th>8</th>\n",
       "      <td>What makes a good life? Lessons from the longe...</td>\n",
       "      <td>Robert Waldinger</td>\n",
       "      <td>2015</td>\n",
       "      <td>41000000</td>\n",
       "      <td>1200000</td>\n",
       "    </tr>\n",
       "    <tr>\n",
       "      <th>9</th>\n",
       "      <td>Why people believe they can't draw</td>\n",
       "      <td>Graham Shaw</td>\n",
       "      <td>2015</td>\n",
       "      <td>37000000</td>\n",
       "      <td>1100000</td>\n",
       "    </tr>\n",
       "    <tr>\n",
       "      <th>10</th>\n",
       "      <td>Could a Saturn moon harbor life?</td>\n",
       "      <td>Mary Roach</td>\n",
       "      <td>2009</td>\n",
       "      <td>37000000</td>\n",
       "      <td>1100000</td>\n",
       "    </tr>\n",
       "    <tr>\n",
       "      <th>11</th>\n",
       "      <td>Looks aren't everything. Believe me, I'm a model.</td>\n",
       "      <td>Cameron Russell</td>\n",
       "      <td>2012</td>\n",
       "      <td>38000000</td>\n",
       "      <td>1100000</td>\n",
       "    </tr>\n",
       "    <tr>\n",
       "      <th>12</th>\n",
       "      <td>The orchestra in my mouth</td>\n",
       "      <td>Tom Thum</td>\n",
       "      <td>2013</td>\n",
       "      <td>34000000</td>\n",
       "      <td>1000000</td>\n",
       "    </tr>\n",
       "    <tr>\n",
       "      <th>13</th>\n",
       "      <td>How to spot a liar</td>\n",
       "      <td>Pamela Meyer</td>\n",
       "      <td>2011</td>\n",
       "      <td>31000000</td>\n",
       "      <td>953000</td>\n",
       "    </tr>\n",
       "    <tr>\n",
       "      <th>14</th>\n",
       "      <td>The art of misdirection</td>\n",
       "      <td>Apollo Robbins</td>\n",
       "      <td>2013</td>\n",
       "      <td>31000000</td>\n",
       "      <td>933000</td>\n",
       "    </tr>\n",
       "    <tr>\n",
       "      <th>15</th>\n",
       "      <td>Why I must speak out about climate change</td>\n",
       "      <td>Susan Cain</td>\n",
       "      <td>2012</td>\n",
       "      <td>30000000</td>\n",
       "      <td>915000</td>\n",
       "    </tr>\n",
       "    <tr>\n",
       "      <th>16</th>\n",
       "      <td>manspace</td>\n",
       "      <td>Chimamanda Ngozi Adichie</td>\n",
       "      <td>2009</td>\n",
       "      <td>30000000</td>\n",
       "      <td>909000</td>\n",
       "    </tr>\n",
       "    <tr>\n",
       "      <th>17</th>\n",
       "      <td>10 young Indian artists to watch</td>\n",
       "      <td>David Blaine</td>\n",
       "      <td>2009</td>\n",
       "      <td>28000000</td>\n",
       "      <td>857000</td>\n",
       "    </tr>\n",
       "    <tr>\n",
       "      <th>18</th>\n",
       "      <td>For more wonder, rewild the world</td>\n",
       "      <td>Kelly McGonigal</td>\n",
       "      <td>2013</td>\n",
       "      <td>28000000</td>\n",
       "      <td>855000</td>\n",
       "    </tr>\n",
       "    <tr>\n",
       "      <th>19</th>\n",
       "      <td>How to stop screwing yourself over</td>\n",
       "      <td>Mel Robbins</td>\n",
       "      <td>2011</td>\n",
       "      <td>28000000</td>\n",
       "      <td>855000</td>\n",
       "    </tr>\n",
       "    <tr>\n",
       "      <th>20</th>\n",
       "      <td>The future we're building -- and boring</td>\n",
       "      <td>Elon Musk</td>\n",
       "      <td>2017</td>\n",
       "      <td>28000000</td>\n",
       "      <td>849000</td>\n",
       "    </tr>\n",
       "    <tr>\n",
       "      <th>21</th>\n",
       "      <td>My stroke of insight</td>\n",
       "      <td>Jill Bolte Taylor</td>\n",
       "      <td>2008</td>\n",
       "      <td>28000000</td>\n",
       "      <td>844000</td>\n",
       "    </tr>\n",
       "    <tr>\n",
       "      <th>22</th>\n",
       "      <td>A demo of wireless electricity</td>\n",
       "      <td>Dan Pink</td>\n",
       "      <td>2009</td>\n",
       "      <td>28000000</td>\n",
       "      <td>843000</td>\n",
       "    </tr>\n",
       "    <tr>\n",
       "      <th>23</th>\n",
       "      <td>Strange answers to the psychopath test</td>\n",
       "      <td>Jon Ronson</td>\n",
       "      <td>2012</td>\n",
       "      <td>27000000</td>\n",
       "      <td>838000</td>\n",
       "    </tr>\n",
       "    <tr>\n",
       "      <th>24</th>\n",
       "      <td>The science of skin color</td>\n",
       "      <td>Celeste Headlee</td>\n",
       "      <td>2015</td>\n",
       "      <td>26000000</td>\n",
       "      <td>789000</td>\n",
       "    </tr>\n",
       "    <tr>\n",
       "      <th>25</th>\n",
       "      <td>Deep ocean mysteries and wonders</td>\n",
       "      <td>Chris Anderson (TED)</td>\n",
       "      <td>2012</td>\n",
       "      <td>26000000</td>\n",
       "      <td>782000</td>\n",
       "    </tr>\n",
       "    <tr>\n",
       "      <th>26</th>\n",
       "      <td>Grit: The power of passion and perseverance</td>\n",
       "      <td>Angela Lee Duckworth</td>\n",
       "      <td>2013</td>\n",
       "      <td>25000000</td>\n",
       "      <td>773000</td>\n",
       "    </tr>\n",
       "    <tr>\n",
       "      <th>27</th>\n",
       "      <td>My underwater robot</td>\n",
       "      <td>Rose Eveleth</td>\n",
       "      <td>2013</td>\n",
       "      <td>12000000</td>\n",
       "      <td>746000</td>\n",
       "    </tr>\n",
       "    <tr>\n",
       "      <th>28</th>\n",
       "      <td>The universal anesthesia machine</td>\n",
       "      <td>Shawn Achor</td>\n",
       "      <td>2011</td>\n",
       "      <td>24000000</td>\n",
       "      <td>732000</td>\n",
       "    </tr>\n",
       "    <tr>\n",
       "      <th>29</th>\n",
       "      <td>Can you solve the prisoner hat riddle?</td>\n",
       "      <td>Alex Gendler</td>\n",
       "      <td>2015</td>\n",
       "      <td>24000000</td>\n",
       "      <td>723000</td>\n",
       "    </tr>\n",
       "  </tbody>\n",
       "</table>\n",
       "</div>"
      ],
      "text/plain": [
       "                                                title  \\\n",
       "0                         Do schools kill creativity?   \n",
       "1                 The self-organizing computer course   \n",
       "2          Inside the mind of a master procrastinator   \n",
       "3                          The power of vulnerability   \n",
       "4                    How great leaders inspire action   \n",
       "5          How to speak so that people want to listen   \n",
       "6                  The next outbreak? We're not ready   \n",
       "7                      My philosophy for a happy life   \n",
       "8   What makes a good life? Lessons from the longe...   \n",
       "9                  Why people believe they can't draw   \n",
       "10                   Could a Saturn moon harbor life?   \n",
       "11  Looks aren't everything. Believe me, I'm a model.   \n",
       "12                          The orchestra in my mouth   \n",
       "13                                 How to spot a liar   \n",
       "14                            The art of misdirection   \n",
       "15          Why I must speak out about climate change   \n",
       "16                                           manspace   \n",
       "17                   10 young Indian artists to watch   \n",
       "18                  For more wonder, rewild the world   \n",
       "19                 How to stop screwing yourself over   \n",
       "20            The future we're building -- and boring   \n",
       "21                               My stroke of insight   \n",
       "22                     A demo of wireless electricity   \n",
       "23             Strange answers to the psychopath test   \n",
       "24                          The science of skin color   \n",
       "25                   Deep ocean mysteries and wonders   \n",
       "26        Grit: The power of passion and perseverance   \n",
       "27                                My underwater robot   \n",
       "28                   The universal anesthesia machine   \n",
       "29             Can you solve the prisoner hat riddle?   \n",
       "\n",
       "                      author  date_recorded_year     views    likes  \n",
       "0           Sir Ken Robinson                2006  72000000  2100000  \n",
       "1                  Amy Cuddy                2012  64000000  1900000  \n",
       "2                  Tim Urban                2016  60000000  1800000  \n",
       "3                Brené Brown                2010  56000000  1700000  \n",
       "4                Simon Sinek                2009  57000000  1700000  \n",
       "5            Julian Treasure                2013  49000000  1400000  \n",
       "6                 Bill Gates                2015  43000000  1300000  \n",
       "7                  Sam Berns                2013  43000000  1300000  \n",
       "8           Robert Waldinger                2015  41000000  1200000  \n",
       "9                Graham Shaw                2015  37000000  1100000  \n",
       "10                Mary Roach                2009  37000000  1100000  \n",
       "11           Cameron Russell                2012  38000000  1100000  \n",
       "12                  Tom Thum                2013  34000000  1000000  \n",
       "13              Pamela Meyer                2011  31000000   953000  \n",
       "14            Apollo Robbins                2013  31000000   933000  \n",
       "15                Susan Cain                2012  30000000   915000  \n",
       "16  Chimamanda Ngozi Adichie                2009  30000000   909000  \n",
       "17              David Blaine                2009  28000000   857000  \n",
       "18           Kelly McGonigal                2013  28000000   855000  \n",
       "19               Mel Robbins                2011  28000000   855000  \n",
       "20                 Elon Musk                2017  28000000   849000  \n",
       "21         Jill Bolte Taylor                2008  28000000   844000  \n",
       "22                  Dan Pink                2009  28000000   843000  \n",
       "23                Jon Ronson                2012  27000000   838000  \n",
       "24           Celeste Headlee                2015  26000000   789000  \n",
       "25      Chris Anderson (TED)                2012  26000000   782000  \n",
       "26      Angela Lee Duckworth                2013  25000000   773000  \n",
       "27              Rose Eveleth                2013  12000000   746000  \n",
       "28               Shawn Achor                2011  24000000   732000  \n",
       "29              Alex Gendler                2015  24000000   723000  "
      ]
     },
     "execution_count": 253,
     "metadata": {},
     "output_type": "execute_result"
    }
   ],
   "source": [
    "#This is taking the 75% percentile on liked videos\n",
    "#Modifiable variables\n",
    "y_var='likes'\n",
    "\n",
    "#build data\n",
    "df_grap = (\n",
    "    (df.groupby(['title','author','date_recorded_year','views'])[y_var].sum().reset_index())\n",
    "    .sort_values([y_var],ascending=[False])\n",
    "    ).reset_index()\n",
    "df_grap=df_grap.drop('index', axis=1)\n",
    "df_grap = df_grap[df_grap[y_var] > 65000]\n",
    "df_grap.head(30)"
   ]
  },
  {
   "cell_type": "markdown",
   "metadata": {
    "id": "WBEJ5F5-4780"
   },
   "source": [
    "### Top 10 Authors"
   ]
  },
  {
   "cell_type": "code",
   "execution_count": 254,
   "metadata": {
    "id": "sVvE1w3w4780"
   },
   "outputs": [
    {
     "data": {
      "text/html": [
       "<div>\n",
       "<style scoped>\n",
       "    .dataframe tbody tr th:only-of-type {\n",
       "        vertical-align: middle;\n",
       "    }\n",
       "\n",
       "    .dataframe tbody tr th {\n",
       "        vertical-align: top;\n",
       "    }\n",
       "\n",
       "    .dataframe thead th {\n",
       "        text-align: right;\n",
       "    }\n",
       "</style>\n",
       "<table border=\"1\" class=\"dataframe\">\n",
       "  <thead>\n",
       "    <tr style=\"text-align: right;\">\n",
       "      <th></th>\n",
       "      <th>author</th>\n",
       "      <th>likes</th>\n",
       "      <th>views</th>\n",
       "    </tr>\n",
       "  </thead>\n",
       "  <tbody>\n",
       "    <tr>\n",
       "      <th>0</th>\n",
       "      <td>Sir Ken Robinson</td>\n",
       "      <td>2100000</td>\n",
       "      <td>72000000</td>\n",
       "    </tr>\n",
       "    <tr>\n",
       "      <th>1</th>\n",
       "      <td>Amy Cuddy</td>\n",
       "      <td>1900000</td>\n",
       "      <td>64000000</td>\n",
       "    </tr>\n",
       "    <tr>\n",
       "      <th>2</th>\n",
       "      <td>Tim Urban</td>\n",
       "      <td>1800000</td>\n",
       "      <td>60000000</td>\n",
       "    </tr>\n",
       "    <tr>\n",
       "      <th>3</th>\n",
       "      <td>Simon Sinek</td>\n",
       "      <td>1700000</td>\n",
       "      <td>57000000</td>\n",
       "    </tr>\n",
       "    <tr>\n",
       "      <th>4</th>\n",
       "      <td>Brené Brown</td>\n",
       "      <td>1700000</td>\n",
       "      <td>56000000</td>\n",
       "    </tr>\n",
       "    <tr>\n",
       "      <th>5</th>\n",
       "      <td>Julian Treasure</td>\n",
       "      <td>1400000</td>\n",
       "      <td>49000000</td>\n",
       "    </tr>\n",
       "    <tr>\n",
       "      <th>6</th>\n",
       "      <td>Bill Gates</td>\n",
       "      <td>1300000</td>\n",
       "      <td>43000000</td>\n",
       "    </tr>\n",
       "    <tr>\n",
       "      <th>7</th>\n",
       "      <td>Sam Berns</td>\n",
       "      <td>1300000</td>\n",
       "      <td>43000000</td>\n",
       "    </tr>\n",
       "    <tr>\n",
       "      <th>8</th>\n",
       "      <td>Robert Waldinger</td>\n",
       "      <td>1200000</td>\n",
       "      <td>41000000</td>\n",
       "    </tr>\n",
       "    <tr>\n",
       "      <th>9</th>\n",
       "      <td>Cameron Russell</td>\n",
       "      <td>1100000</td>\n",
       "      <td>38000000</td>\n",
       "    </tr>\n",
       "  </tbody>\n",
       "</table>\n",
       "</div>"
      ],
      "text/plain": [
       "             author    likes     views\n",
       "0  Sir Ken Robinson  2100000  72000000\n",
       "1         Amy Cuddy  1900000  64000000\n",
       "2         Tim Urban  1800000  60000000\n",
       "3       Simon Sinek  1700000  57000000\n",
       "4       Brené Brown  1700000  56000000\n",
       "5   Julian Treasure  1400000  49000000\n",
       "6        Bill Gates  1300000  43000000\n",
       "7         Sam Berns  1300000  43000000\n",
       "8  Robert Waldinger  1200000  41000000\n",
       "9   Cameron Russell  1100000  38000000"
      ]
     },
     "execution_count": 254,
     "metadata": {},
     "output_type": "execute_result"
    }
   ],
   "source": [
    "#Modifiable variables\n",
    "y_var='views'\n",
    "x_var1='author'\n",
    "x_var2='likes'\n",
    "\n",
    "#build data\n",
    "df_grap = (\n",
    "    (df.groupby([x_var1, x_var2])[y_var].sum().reset_index())\n",
    "    .sort_values([y_var],ascending=[False])\n",
    "    ).reset_index().head(10)\n",
    "df_grap=df_grap.drop('index', axis=1)\n",
    "df_grap"
   ]
  },
  {
   "cell_type": "code",
   "execution_count": 255,
   "metadata": {
    "id": "RnMUu55i4781"
   },
   "outputs": [],
   "source": [
    "# #visualize\n",
    "# x_var='author'\n",
    "# y_var='views'\n",
    "# sns.set_theme(style=\"white\")\n",
    "# ax = sns.barplot(x=y_var, y=x_var, data=df_grap, orient=\"h\")"
   ]
  },
  {
   "cell_type": "code",
   "execution_count": 256,
   "metadata": {
    "id": "oXivxzZz4781",
    "scrolled": false
   },
   "outputs": [],
   "source": [
    "# #visualize\n",
    "# x_var='author'\n",
    "# y_var='likes'\n",
    "# sns.set_theme(style=\"white\")\n",
    "# ax = sns.barplot(x=y_var, y=x_var, data=df_grap, orient=\"h\", palette=\"Blues_d\")"
   ]
  },
  {
   "cell_type": "code",
   "execution_count": 257,
   "metadata": {
    "id": "YZtYd7lC4781"
   },
   "outputs": [],
   "source": [
    "#from pandasql import sqldf\n",
    "# q = \"\"\"\n",
    "# SELECT\n",
    "# `title`\n",
    "# FROM\n",
    "# df\n",
    "# LIMIT 5\n",
    "# \"\"\"\n",
    "# print(sqldf(q))"
   ]
  },
  {
   "cell_type": "markdown",
   "metadata": {
    "id": "SO74xRWm4782"
   },
   "source": [
    "Areas of improvements:\n",
    "    \n",
    "    1) More information on the authors. Understanding age, gender and nationality of authors, may answer questions related to diversity of the speakers. This data could be parcially scrapped from Wikipedia as there is a dedicated website that tracks this information. \n",
    "    https://en.wikipedia.org/wiki/List_of_TED_speakers"
   ]
  },
  {
   "cell_type": "code",
   "execution_count": 258,
   "metadata": {},
   "outputs": [
    {
     "data": {
      "text/plain": [
       "array(['author', 'views', 'likes', 'title', 'description_1',\n",
       "       'duration_seg', 'description_2', 'date_recorded_year',\n",
       "       'date_recorded_month', 'date_released_year', 'date_released_month',\n",
       "       'date_released_hour', 'date_released_minute', 'keywords2',\n",
       "       ' \"alzheimer\\'s\"', \" ''\", \" '3dprinting'\", \" 'activism'\",\n",
       "       \" 'addiction'\", \" 'africa'\", \" 'aging'\", \" 'agriculture'\", \" 'ai'\",\n",
       "       \" 'aids'\", \" 'algorithm'\", \" 'aliens'\", \" 'ancientworld'\",\n",
       "       \" 'animals'\", \" 'animation'\", \" 'antarctica'\", \" 'anthropocene'\",\n",
       "       \" 'anthropology'\", \" 'archaeology'\", \" 'architecture'\", \" 'art'\",\n",
       "       \" 'asia'\", \" 'asteroid'\", \" 'astrobiology'\", \" 'astronomy'\",\n",
       "       \" 'atheism'\", \" 'audaciousproject'\", \" 'augmentedreality'\",\n",
       "       \" 'autismspectrumdisorder'\", \" 'bacteria'\", \" 'beauty'\", \" 'bees'\",\n",
       "       \" 'behavioraleconomics'\", \" 'bestoftheweb'\", \" 'bigbang'\",\n",
       "       \" 'biodiversity'\", \" 'bioethics'\", \" 'biology'\", \" 'biomimicry'\",\n",
       "       \" 'bionics'\", \" 'biosphere'\", \" 'biotech'\", \" 'birds'\",\n",
       "       \" 'blindness'\", \" 'blockchain'\", \" 'bodylanguage'\", \" 'books'\",\n",
       "       \" 'botany'\", \" 'brain'\", \" 'brazil'\", \" 'buddhism'\", \" 'bullying'\",\n",
       "       \" 'business'\", \" 'cancer'\", \" 'capitalism'\", \" 'chemistry'\",\n",
       "       \" 'china'\", \" 'christianity'\", \" 'cities'\", \" 'climatechange'\",\n",
       "       \" 'code'\", \" 'cognitivescience'\", \" 'collaboration'\", \" 'comedy'\",\n",
       "       \" 'communication'\", \" 'community'\", \" 'compassion'\",\n",
       "       \" 'computers'\", \" 'conducting'\", \" 'consciousness'\",\n",
       "       \" 'conservation'\", \" 'consumerism'\", \" 'coralreefs'\",\n",
       "       \" 'coronavirus'\", \" 'corruption'\", \" 'countdown'\", \" 'creativity'\",\n",
       "       \" 'crime'\", \" 'crispr'\", \" 'crowdsourcing'\", \" 'cryptocurrency'\",\n",
       "       \" 'culture'\", \" 'curiosity'\", \" 'cybersecurity'\", \" 'dance'\",\n",
       "       \" 'darkmatter'\", \" 'data'\", \" 'death'\", \" 'decision-making'\",\n",
       "       \" 'deextinction'\", \" 'demo'\", \" 'democracy'\", \" 'depression'\",\n",
       "       \" 'design'\", \" 'dinosaurs'\", \" 'disability'\", \" 'discovery'\",\n",
       "       \" 'disease'\", \" 'diversity'\", \" 'dna'\", \" 'driverlesscars'\",\n",
       "       \" 'drones'\", \" 'drugs'\", \" 'ebola'\", \" 'ecology'\", \" 'economics'\",\n",
       "       \" 'education'\", \" 'egypt'\", \" 'electricity'\", \" 'emotions'\",\n",
       "       \" 'empathy'\", \" 'encryption'\", \" 'energy'\", \" 'engineering'\",\n",
       "       \" 'entertainment'\", \" 'entrepreneur'\", \" 'environment'\",\n",
       "       \" 'equality'\", \" 'ethics'\", \" 'europe'\", \" 'evolution'\",\n",
       "       \" 'exercise'\", \" 'exploration'\", \" 'family'\", \" 'farming'\",\n",
       "       \" 'fashion'\", \" 'fear'\", \" 'feminism'\", \" 'film'\", \" 'finance'\",\n",
       "       \" 'fish'\", \" 'flight'\", \" 'food'\", \" 'forensics'\",\n",
       "       \" 'fossilfuels'\", \" 'friendship'\", \" 'fungi'\", \" 'future'\",\n",
       "       \" 'gaming'\", \" 'gardening'\", \" 'gender'\", \" 'genetics'\",\n",
       "       \" 'geology'\", \" 'glaciers'\", \" 'globalissues'\", \" 'goals'\",\n",
       "       \" 'government'\", \" 'grammar'\", \" 'graphicdesign'\", \" 'happiness'\",\n",
       "       \" 'health'\", \" 'healthcare'\", \" 'hearing'\", \" 'heart'\",\n",
       "       \" 'hinduism'\", \" 'history'\", \" 'homelessness'\", \" 'humanbody'\",\n",
       "       \" 'humanity'\", \" 'humanrights'\", \" 'humor'\", \" 'identity'\",\n",
       "       \" 'illness'\", \" 'illusion'\", \" 'immigration'\", \" 'inclusion'\",\n",
       "       \" 'india'\", \" 'indigenouspeoples'\", \" 'industrialdesign'\",\n",
       "       \" 'infrastructure'\", \" 'innovation'\", \" 'insects'\",\n",
       "       \" 'internationaldevelopment'\", \" 'internationalrelations'\",\n",
       "       \" 'internet'\", \" 'interview'\", \" 'invention'\", \" 'investing'\",\n",
       "       \" 'islam'\", \" 'journalism'\", \" 'judaism'\", \" 'justicesystem'\",\n",
       "       \" 'kids'\", \" 'language'\", \" 'law'\", \" 'leadership'\", \" 'lgbtqia+'\",\n",
       "       \" 'library'\", \" 'life'\", \" 'literature'\", \" 'love'\",\n",
       "       \" 'machinelearning'\", \" 'magic'\", \" 'manufacturing'\", \" 'maps'\",\n",
       "       \" 'marinebiology'\", \" 'marketing'\", \" 'mars'\", \" 'math'\",\n",
       "       \" 'media'\", \" 'medicalimaging'\", \" 'medicalresearch'\",\n",
       "       \" 'medicine'\", \" 'meditation'\", \" 'memory'\", \" 'mentalhealth'\",\n",
       "       \" 'microbes'\", \" 'microbiology'\", \" 'middleeast'\", \" 'military'\",\n",
       "       \" 'mindfulness'\", \" 'missionblue'\", \" 'money'\", \" 'moon'\",\n",
       "       \" 'motivation'\", \" 'museums'\", \" 'music'\", \" 'nanotechnology'\",\n",
       "       \" 'nasa'\", \" 'naturaldisaster'\", \" 'naturalresources'\",\n",
       "       \" 'nature'\", \" 'neurology'\", \" 'neuroscience'\", \" 'nuclearenergy'\",\n",
       "       \" 'ocean'\", \" 'onlineprivacy'\", \" 'pain'\", \" 'painting'\",\n",
       "       \" 'paleontology'\", \" 'pandemic'\", \" 'parenting'\", \" 'performance'\",\n",
       "       \" 'personalgrowth'\", \" 'personality'\", \" 'philanthropy'\",\n",
       "       \" 'philosophy'\", \" 'photography'\", \" 'physics'\", \" 'planets'\",\n",
       "       \" 'plants'\", \" 'plastic'\", \" 'podcast'\", \" 'poetry'\", \" 'policy'\",\n",
       "       \" 'politics'\", \" 'pollution'\", \" 'potential'\", \" 'poverty'\",\n",
       "       \" 'pregnancy'\", \" 'primates'\", \" 'prison'\", \" 'productdesign'\",\n",
       "       \" 'productivity'\", \" 'prosthetics'\", \" 'protest'\", \" 'psychology'\",\n",
       "       \" 'ptsd'\", \" 'publichealth'\", \" 'publicspace'\",\n",
       "       \" 'publicspeaking'\", \" 'quantum'\", \" 'race'\", \" 'refugees'\",\n",
       "       \" 'relationships'\", \" 'religion'\", \" 'renewableenergy'\",\n",
       "       \" 'resources'\", \" 'rivers'\", \" 'robots'\", \" 'rocketscience'\",\n",
       "       \" 'science'\", \" 'sciencefiction'\", \" 'self'\", \" 'sex'\",\n",
       "       \" 'sexualviolence'\", \" 'shopping'\", \" 'sight'\", \" 'slavery'\",\n",
       "       \" 'sleep'\", \" 'smell'\", \" 'socialchange'\", \" 'socialmedia'\",\n",
       "       \" 'society'\", \" 'sociology'\", \" 'software'\", \" 'solarenergy'\",\n",
       "       \" 'solarsystem'\", \" 'sound'\", \" 'southamerica'\", \" 'space'\",\n",
       "       \" 'spokenword'\", \" 'sports'\", \" 'statistics'\", \" 'storytelling'\",\n",
       "       \" 'streetart'\", \" 'stringtheory'\", \" 'success'\", \" 'suicide'\",\n",
       "       \" 'sun'\", \" 'surgery'\", \" 'surveillance'\", \" 'sustainability'\",\n",
       "       \" 'syntheticbiology'\", \" 'talks'\", \" 'teaching'\", \" 'technology'\",\n",
       "       \" 'ted-ed'\", \" 'tedbooks'\", \" 'tedconnects'\",\n",
       "       \" 'tedenespa\\\\\\\\xc3\\\\\\\\xb1ol'\", \" 'tedfellows'\", \" 'tedmed'\",\n",
       "       \" 'tedprize'\", \" 'tedresidency'\", \" 'tedx'\", \" 'telescopes'\",\n",
       "       \" 'television'\", \" 'terrorism'\", \" 'theater'\", \" 'time'\",\n",
       "       \" 'toys'\", \" 'transgender'\", \" 'transportation'\", \" 'travel'\",\n",
       "       \" 'trees'\", \" 'trust'\", \" 'typography'\", \" 'unitedstates'\",\n",
       "       \" 'universe'\", \" 'urbanplanning'\", \" 'uxdesign'\", \" 'vaccines'\",\n",
       "       \" 'violence'\", \" 'virtualreality'\", \" 'virus'\",\n",
       "       \" 'visualizations'\", \" 'vulnerability'\", \" 'war'\", \" 'water'\",\n",
       "       \" 'weather'\", \" 'windenergy'\", \" 'women'\", \" 'womeninbusiness'\",\n",
       "       \" 'work'\", \" 'work-lifebalance'\", \" 'writing'\", \" 'youth'\",\n",
       "       \"'ted'\"], dtype=object)"
      ]
     },
     "execution_count": 258,
     "metadata": {},
     "output_type": "execute_result"
    }
   ],
   "source": [
    "df.columns.values"
   ]
  },
  {
   "cell_type": "code",
   "execution_count": null,
   "metadata": {
    "id": "NWAkBBmK4782"
   },
   "outputs": [],
   "source": []
  },
  {
   "cell_type": "code",
   "execution_count": null,
   "metadata": {
    "id": "mMtRSdb04782"
   },
   "outputs": [],
   "source": []
  },
  {
   "cell_type": "code",
   "execution_count": null,
   "metadata": {
    "id": "gUj0ooG_4782"
   },
   "outputs": [],
   "source": []
  },
  {
   "cell_type": "code",
   "execution_count": null,
   "metadata": {
    "id": "XOHs0tzv4782"
   },
   "outputs": [],
   "source": []
  }
 ],
 "metadata": {
  "colab": {
   "collapsed_sections": [],
   "name": "colab.ipynb",
   "provenance": []
  },
  "kernelspec": {
   "display_name": "analytics",
   "language": "python",
   "name": "analytics"
  },
  "language_info": {
   "codemirror_mode": {
    "name": "ipython",
    "version": 3
   },
   "file_extension": ".py",
   "mimetype": "text/x-python",
   "name": "python",
   "nbconvert_exporter": "python",
   "pygments_lexer": "ipython3",
   "version": "3.8.5"
  }
 },
 "nbformat": 4,
 "nbformat_minor": 1
}
