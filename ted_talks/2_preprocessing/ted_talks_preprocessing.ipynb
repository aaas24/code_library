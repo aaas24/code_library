{
 "cells": [
  {
   "cell_type": "code",
   "execution_count": 760,
   "metadata": {
    "id": "2dGer9wZ478q"
   },
   "outputs": [],
   "source": [
    "import pandas as pd\n",
    "import seaborn as sns\n",
    "import numpy as np\n",
    "import matplotlib.pyplot as plt\n",
    "import os as os\n",
    "\n",
    "#ML\n",
    "from sklearn.preprocessing import StandardScaler, LabelEncoder\n",
    "from sklearn.model_selection import train_test_split\n",
    "from sklearn.linear_model import LogisticRegression\n",
    "from sklearn.metrics import roc_curve\n",
    "from sklearn.metrics import roc_auc_score\n",
    "from sklearn.metrics import confusion_matrix"
   ]
  },
  {
   "cell_type": "code",
   "execution_count": 761,
   "metadata": {
    "id": "_dXfGYaz53zq"
   },
   "outputs": [],
   "source": [
    "def preprocessing(df):  \n",
    "\n",
    "    #drop duplicated columns\n",
    "    drop_column=['description2', 'Unnamed: 0', 'link', 'author_y', 'title','url', 'title_1']\n",
    "    df=df.drop(drop_column,axis=1)\n",
    "    \n",
    "    #renaming\n",
    "    column_names=['author', 'date_recorded', 'views', 'likes', 'title',\n",
    "       'description_1', 'duration_seg', 'date_released', 'keywords','description_2']\n",
    "    df.columns=column_names\n",
    "\n",
    "    #\n",
    "    #MODIFYING COLUMN: date_recorded\n",
    "    #\n",
    "    df['date_recorded']= pd.to_datetime(df['date_recorded'], format='%B %Y')\n",
    "  \n",
    "    ##separate data into new Column\n",
    "    list_months=[]\n",
    "    list_years=[]\n",
    "    for i in range(df.shape[0]):\n",
    "        list_months.append(df['date_recorded'][i].month)\n",
    "        list_years.append(df['date_recorded'][i].year)\n",
    "    df['date_recorded_year']=list_years\n",
    "    df['date_recorded_month']=list_months\n",
    "\n",
    "    #\n",
    "    #MODIFYING COLUMN: date_released\n",
    "    #\n",
    "    column='date_released'\n",
    "    df[column]= pd.to_datetime(df[column], format='%Y-%m-%d %H:%M:%S')\n",
    "\n",
    "    ##separate data into new Column\n",
    "    list_months=[]\n",
    "    list_years=[]\n",
    "    list_hours=[]\n",
    "    list_minutes=[]\n",
    "    for i in range(df.shape[0]):\n",
    "        list_months.append(df[column][i].month)\n",
    "        list_years.append(df[column][i].year)\n",
    "        list_hours.append(df[column][i].hour)\n",
    "        list_minutes.append(df[column][i].minute)\n",
    "    df[column+'_year']=list_years\n",
    "    df[column+'_month']=list_months\n",
    "    df[column+'_hour']=list_hours\n",
    "    df[column+'_minute']=list_minutes\n",
    "\n",
    "    #\n",
    "    #MODIFYING COLUMN: 'keywords'\n",
    "    #\n",
    "    df_key=df.keywords\n",
    "    i=0\n",
    "    df_result=pd.DataFrame()\n",
    "    ##transforming line into string\n",
    "    for line in df_key:\n",
    "        line=(str(line).replace(\"[\",\"\").replace(\"]\",\"\").split(','))\n",
    "        new_line=[]\n",
    "        ##removing additional spaces in words and converting the into lower case\n",
    "        for word in line:\n",
    "            word=word.lower().replace(' ', '')[1:-1]\n",
    "            new_line.append(word)\n",
    "        ##transforming line into string\n",
    "        new_line=str(new_line).replace(\"[\",\"\").replace(\"]\",\"\")\n",
    "        ##writting line into dataframe\n",
    "        df_result.at[i,'keywords2']=new_line\n",
    "        i=i+1\n",
    "  \n",
    "    df=pd.concat([df,df_result], axis=1)\n",
    "\n",
    "    #drop initial columns\n",
    "    drop_columns=['date_recorded','date_released', 'keywords']\n",
    "    df=df.drop(drop_columns, axis=1)\n",
    "    \n",
    "    return(df)"
   ]
  },
  {
   "cell_type": "code",
   "execution_count": 762,
   "metadata": {},
   "outputs": [],
   "source": [
    "def create_dummies_file(df):\n",
    "    '''\n",
    "    This function does: \n",
    "    1) convert df.keywords into dummy columns\n",
    "    2) creates a file called ''in order to manually map new categories from keywords\n",
    "    '''\n",
    "    #converting keywords into dummy columns\n",
    "    df2=df.keywords2.str.get_dummies(',')\n",
    "\n",
    "    #joining with df\n",
    "    df=pd.concat([df,df2], axis=1)\n",
    "    \n",
    "    #removing 'ted' column\n",
    "    column_to_drop=df.columns[362]\n",
    "    df2=df.drop(column_to_drop, axis=1)\n",
    "\n",
    "    #counting dummies and creating file to rename categories\n",
    "    dummy_columns=pd.Series(np.arange(15,349,1))[1:]\n",
    "    df_dummies=df.iloc[:,dummy_columns].sum().reset_index()\n",
    "    df_dummies.columns=['keyword', 'sum']\n",
    "    df2=df_dummies.copy()\n",
    "    (df2\n",
    "     .pipe(lambda df2: pd.crosstab(df2.keyword, df2.sum))\n",
    "    )\n",
    "    df2=df2.sort_values(by='sum', ascending=False)\n",
    "    cwd=os.getcwd()\n",
    "    df2.to_csv(cwd+'/keywords.csv')\n",
    "    return df"
   ]
  },
  {
   "cell_type": "code",
   "execution_count": 763,
   "metadata": {},
   "outputs": [],
   "source": [
    "def dummy_data(df):\n",
    "    '''\n",
    "    This function takes the keyword_categories.csv file and creates a new dataframe 'df_dummies' to analyze the keywords\n",
    "    '''\n",
    "    cwd=os.getcwd()\n",
    "    categories=pd.read_csv(cwd+'/keywords_categories.csv')\n",
    "\n",
    "    #transforming categories\n",
    "    new_cat=(categories.columns.values.tolist())\n",
    "    dic={key: None for key in new_cat}\n",
    "\n",
    "    ##creating dictionary with categories file\n",
    "    for column in range (0,categories.shape[1]):\n",
    "        dic_values=[]\n",
    "        key=new_cat[column]\n",
    "        for row in range (0,categories.shape[0]):\n",
    "            value=categories.iloc[row,column]\n",
    "            if value is np.nan:\n",
    "                pass\n",
    "            else:\n",
    "                value=value.replace(' ', '')[1:-1]\n",
    "                dic_values.append(value)\n",
    "        dic.update({key:dic_values})\n",
    "\n",
    "    ##adding column to df with \n",
    "    dummy_columns=pd.Series(np.arange(15,349,1))[1:]\n",
    "    df_dummies=df.iloc[:,dummy_columns].sum().reset_index()\n",
    "    list_categories=[]\n",
    "    for i in range (0, len(set(df_dummies['index']))):\n",
    "        keyword=df_dummies['index'][i][2:-1]\n",
    "        ###find category of keyword in dictionary\n",
    "        for key, value_list in dic.items():\n",
    "            for x in value_list:\n",
    "                if keyword==x:\n",
    "                    category=key\n",
    "        ###add category to list\n",
    "        list_categories.append(category)\n",
    "    ##add list_categories to df\n",
    "    df_dummies['new_category']=list_categories\n",
    "    df_dummies.columns=['keywords', 'sum', 'categories']\n",
    "    df_dummies=df_dummies[['categories','keywords', 'sum']]\n",
    "    return df_dummies"
   ]
  },
  {
   "cell_type": "code",
   "execution_count": 764,
   "metadata": {
    "id": "Jms_2u6Y673R"
   },
   "outputs": [],
   "source": [
    "def main():\n",
    "    #load data\n",
    "    raw_data=pd.read_csv('https://github.com/aaas24/code_library/raw/main/ted_talks/1_raw_data/final_raw_data.csv')\n",
    "    df=raw_data.copy()\n",
    "\n",
    "    #clean data\n",
    "    df=preprocessing(df)\n",
    "    df=create_dummies_file(df)\n",
    "    df_dummies=dummy_data(df)\n",
    "    return(df, df_dummies)\n",
    "  \n"
   ]
  },
  {
   "cell_type": "code",
   "execution_count": 765,
   "metadata": {
    "colab": {
     "base_uri": "https://localhost:8080/"
    },
    "id": "2bk-P0Nk67Kv",
    "outputId": "3989549c-5563-4a90-9138-bb0ac9c59363"
   },
   "outputs": [],
   "source": [
    "if __name__ == '__main__':\n",
    "  main()"
   ]
  },
  {
   "cell_type": "code",
   "execution_count": 766,
   "metadata": {
    "scrolled": true
   },
   "outputs": [
    {
     "data": {
      "text/plain": [
       "(5440, 363)"
      ]
     },
     "execution_count": 766,
     "metadata": {},
     "output_type": "execute_result"
    }
   ],
   "source": [
    "df.shape"
   ]
  },
  {
   "cell_type": "code",
   "execution_count": 767,
   "metadata": {},
   "outputs": [
    {
     "data": {
      "text/html": [
       "<div>\n",
       "<style scoped>\n",
       "    .dataframe tbody tr th:only-of-type {\n",
       "        vertical-align: middle;\n",
       "    }\n",
       "\n",
       "    .dataframe tbody tr th {\n",
       "        vertical-align: top;\n",
       "    }\n",
       "\n",
       "    .dataframe thead th {\n",
       "        text-align: right;\n",
       "    }\n",
       "</style>\n",
       "<table border=\"1\" class=\"dataframe\">\n",
       "  <thead>\n",
       "    <tr style=\"text-align: right;\">\n",
       "      <th></th>\n",
       "      <th>author</th>\n",
       "      <th>views</th>\n",
       "      <th>likes</th>\n",
       "      <th>title</th>\n",
       "      <th>description_1</th>\n",
       "      <th>duration_seg</th>\n",
       "      <th>description_2</th>\n",
       "      <th>date_recorded_year</th>\n",
       "      <th>date_recorded_month</th>\n",
       "      <th>date_released_year</th>\n",
       "      <th>...</th>\n",
       "      <th>'water'</th>\n",
       "      <th>'weather'</th>\n",
       "      <th>'windenergy'</th>\n",
       "      <th>'women'</th>\n",
       "      <th>'womeninbusiness'</th>\n",
       "      <th>'work'</th>\n",
       "      <th>'work-lifebalance'</th>\n",
       "      <th>'writing'</th>\n",
       "      <th>'youth'</th>\n",
       "      <th>'ted'</th>\n",
       "    </tr>\n",
       "  </thead>\n",
       "  <tbody>\n",
       "    <tr>\n",
       "      <th>0</th>\n",
       "      <td>Ozawa Bineshi Albert</td>\n",
       "      <td>404000</td>\n",
       "      <td>12000</td>\n",
       "      <td>Climate action needs new frontline leadership</td>\n",
       "      <td>\"We can't rely on those who created climate ch...</td>\n",
       "      <td>834</td>\n",
       "      <td>\"We can't rely on those who created climate ch...</td>\n",
       "      <td>2021</td>\n",
       "      <td>12</td>\n",
       "      <td>2022</td>\n",
       "      <td>...</td>\n",
       "      <td>0</td>\n",
       "      <td>0</td>\n",
       "      <td>0</td>\n",
       "      <td>0</td>\n",
       "      <td>0</td>\n",
       "      <td>0</td>\n",
       "      <td>0</td>\n",
       "      <td>0</td>\n",
       "      <td>0</td>\n",
       "      <td>1</td>\n",
       "    </tr>\n",
       "    <tr>\n",
       "      <th>1</th>\n",
       "      <td>Sydney Iaukea</td>\n",
       "      <td>214000</td>\n",
       "      <td>6400</td>\n",
       "      <td>The dark history of the overthrow of Hawaii</td>\n",
       "      <td>\"On January 16th, 1895, two men arrived at Lil...</td>\n",
       "      <td>0</td>\n",
       "      <td>\"On January 16th, 1895, two men arrived at Lil...</td>\n",
       "      <td>2022</td>\n",
       "      <td>2</td>\n",
       "      <td>2022</td>\n",
       "      <td>...</td>\n",
       "      <td>0</td>\n",
       "      <td>0</td>\n",
       "      <td>0</td>\n",
       "      <td>1</td>\n",
       "      <td>0</td>\n",
       "      <td>0</td>\n",
       "      <td>0</td>\n",
       "      <td>0</td>\n",
       "      <td>0</td>\n",
       "      <td>1</td>\n",
       "    </tr>\n",
       "    <tr>\n",
       "      <th>2</th>\n",
       "      <td>Martin Reeves</td>\n",
       "      <td>412000</td>\n",
       "      <td>12000</td>\n",
       "      <td>Why play is essential for business</td>\n",
       "      <td>\"To thrive in today's competitive economy, you...</td>\n",
       "      <td>665</td>\n",
       "      <td>\"To thrive in today's competitive economy, you...</td>\n",
       "      <td>2021</td>\n",
       "      <td>9</td>\n",
       "      <td>2022</td>\n",
       "      <td>...</td>\n",
       "      <td>0</td>\n",
       "      <td>0</td>\n",
       "      <td>0</td>\n",
       "      <td>0</td>\n",
       "      <td>0</td>\n",
       "      <td>1</td>\n",
       "      <td>0</td>\n",
       "      <td>0</td>\n",
       "      <td>0</td>\n",
       "      <td>1</td>\n",
       "    </tr>\n",
       "    <tr>\n",
       "      <th>3</th>\n",
       "      <td>James K. Thornton</td>\n",
       "      <td>427000</td>\n",
       "      <td>12000</td>\n",
       "      <td>Why is China appointing judges to combat clima...</td>\n",
       "      <td>\"Why is China appointing thousands of judges t...</td>\n",
       "      <td>695</td>\n",
       "      <td>\"Why is China appointing thousands of judges t...</td>\n",
       "      <td>2021</td>\n",
       "      <td>10</td>\n",
       "      <td>2022</td>\n",
       "      <td>...</td>\n",
       "      <td>0</td>\n",
       "      <td>0</td>\n",
       "      <td>0</td>\n",
       "      <td>0</td>\n",
       "      <td>0</td>\n",
       "      <td>0</td>\n",
       "      <td>0</td>\n",
       "      <td>0</td>\n",
       "      <td>0</td>\n",
       "      <td>1</td>\n",
       "    </tr>\n",
       "    <tr>\n",
       "      <th>4</th>\n",
       "      <td>Mahendra Singhi</td>\n",
       "      <td>2400</td>\n",
       "      <td>72</td>\n",
       "      <td>Cement's carbon problem -- and 2 ways to fix it</td>\n",
       "      <td>\"Cement is vital to modernizing all kinds of i...</td>\n",
       "      <td>671</td>\n",
       "      <td>\"Cement is vital to modernizing all kinds of i...</td>\n",
       "      <td>2021</td>\n",
       "      <td>10</td>\n",
       "      <td>2022</td>\n",
       "      <td>...</td>\n",
       "      <td>0</td>\n",
       "      <td>0</td>\n",
       "      <td>0</td>\n",
       "      <td>0</td>\n",
       "      <td>0</td>\n",
       "      <td>0</td>\n",
       "      <td>0</td>\n",
       "      <td>0</td>\n",
       "      <td>0</td>\n",
       "      <td>1</td>\n",
       "    </tr>\n",
       "  </tbody>\n",
       "</table>\n",
       "<p>5 rows × 363 columns</p>\n",
       "</div>"
      ],
      "text/plain": [
       "                 author   views  likes  \\\n",
       "0  Ozawa Bineshi Albert  404000  12000   \n",
       "1         Sydney Iaukea  214000   6400   \n",
       "2         Martin Reeves  412000  12000   \n",
       "3     James K. Thornton  427000  12000   \n",
       "4       Mahendra Singhi    2400     72   \n",
       "\n",
       "                                               title  \\\n",
       "0      Climate action needs new frontline leadership   \n",
       "1        The dark history of the overthrow of Hawaii   \n",
       "2                 Why play is essential for business   \n",
       "3  Why is China appointing judges to combat clima...   \n",
       "4    Cement's carbon problem -- and 2 ways to fix it   \n",
       "\n",
       "                                       description_1  duration_seg  \\\n",
       "0  \"We can't rely on those who created climate ch...           834   \n",
       "1  \"On January 16th, 1895, two men arrived at Lil...             0   \n",
       "2  \"To thrive in today's competitive economy, you...           665   \n",
       "3  \"Why is China appointing thousands of judges t...           695   \n",
       "4  \"Cement is vital to modernizing all kinds of i...           671   \n",
       "\n",
       "                                       description_2  date_recorded_year  \\\n",
       "0  \"We can't rely on those who created climate ch...                2021   \n",
       "1  \"On January 16th, 1895, two men arrived at Lil...                2022   \n",
       "2  \"To thrive in today's competitive economy, you...                2021   \n",
       "3  \"Why is China appointing thousands of judges t...                2021   \n",
       "4  \"Cement is vital to modernizing all kinds of i...                2021   \n",
       "\n",
       "   date_recorded_month  date_released_year  ...   'water'   'weather'  \\\n",
       "0                   12                2022  ...         0           0   \n",
       "1                    2                2022  ...         0           0   \n",
       "2                    9                2022  ...         0           0   \n",
       "3                   10                2022  ...         0           0   \n",
       "4                   10                2022  ...         0           0   \n",
       "\n",
       "    'windenergy'  'women'   'womeninbusiness'   'work'   'work-lifebalance'  \\\n",
       "0              0        0                   0        0                    0   \n",
       "1              0        1                   0        0                    0   \n",
       "2              0        0                   0        1                    0   \n",
       "3              0        0                   0        0                    0   \n",
       "4              0        0                   0        0                    0   \n",
       "\n",
       "    'writing'   'youth'  'ted'  \n",
       "0           0         0      1  \n",
       "1           0         0      1  \n",
       "2           0         0      1  \n",
       "3           0         0      1  \n",
       "4           0         0      1  \n",
       "\n",
       "[5 rows x 363 columns]"
      ]
     },
     "execution_count": 767,
     "metadata": {},
     "output_type": "execute_result"
    }
   ],
   "source": [
    "df=main()[0]\n",
    "df.head(5)"
   ]
  },
  {
   "cell_type": "code",
   "execution_count": 768,
   "metadata": {},
   "outputs": [
    {
     "data": {
      "text/html": [
       "<div>\n",
       "<style scoped>\n",
       "    .dataframe tbody tr th:only-of-type {\n",
       "        vertical-align: middle;\n",
       "    }\n",
       "\n",
       "    .dataframe tbody tr th {\n",
       "        vertical-align: top;\n",
       "    }\n",
       "\n",
       "    .dataframe thead th {\n",
       "        text-align: right;\n",
       "    }\n",
       "</style>\n",
       "<table border=\"1\" class=\"dataframe\">\n",
       "  <thead>\n",
       "    <tr style=\"text-align: right;\">\n",
       "      <th></th>\n",
       "      <th>categories</th>\n",
       "      <th>keywords</th>\n",
       "      <th>sum</th>\n",
       "    </tr>\n",
       "  </thead>\n",
       "  <tbody>\n",
       "    <tr>\n",
       "      <th>0</th>\n",
       "      <td>technology</td>\n",
       "      <td>'3dprinting'</td>\n",
       "      <td>9</td>\n",
       "    </tr>\n",
       "    <tr>\n",
       "      <th>1</th>\n",
       "      <td>values &amp; emotions</td>\n",
       "      <td>'activism'</td>\n",
       "      <td>352</td>\n",
       "    </tr>\n",
       "    <tr>\n",
       "      <th>2</th>\n",
       "      <td>health</td>\n",
       "      <td>'addiction'</td>\n",
       "      <td>20</td>\n",
       "    </tr>\n",
       "    <tr>\n",
       "      <th>3</th>\n",
       "      <td>global</td>\n",
       "      <td>'africa'</td>\n",
       "      <td>197</td>\n",
       "    </tr>\n",
       "    <tr>\n",
       "      <th>4</th>\n",
       "      <td>society</td>\n",
       "      <td>'aging'</td>\n",
       "      <td>93</td>\n",
       "    </tr>\n",
       "  </tbody>\n",
       "</table>\n",
       "</div>"
      ],
      "text/plain": [
       "          categories       keywords  sum\n",
       "0         technology   '3dprinting'    9\n",
       "1  values & emotions     'activism'  352\n",
       "2             health    'addiction'   20\n",
       "3             global       'africa'  197\n",
       "4            society        'aging'   93"
      ]
     },
     "execution_count": 768,
     "metadata": {},
     "output_type": "execute_result"
    }
   ],
   "source": [
    "df_dummies=main()[1]\n",
    "df_dummies.head(5)"
   ]
  },
  {
   "cell_type": "markdown",
   "metadata": {
    "id": "7eAeovVl478o"
   },
   "source": [
    "# Data Exploration"
   ]
  },
  {
   "cell_type": "code",
   "execution_count": 769,
   "metadata": {
    "colab": {
     "base_uri": "https://localhost:8080/"
    },
    "id": "smevCzKh478s",
    "outputId": "60957972-0620-4107-9975-c1dd6c802e3a"
   },
   "outputs": [
    {
     "data": {
      "text/plain": [
       "author    0.018382\n",
       "dtype: float64"
      ]
     },
     "execution_count": 769,
     "metadata": {},
     "output_type": "execute_result"
    }
   ],
   "source": [
    "# missing data\n",
    "((df\n",
    " .isna()\n",
    " .mean()\n",
    " *100)\n",
    " .pipe(lambda ser:ser[ser>0])\n",
    ")"
   ]
  },
  {
   "cell_type": "code",
   "execution_count": 770,
   "metadata": {
    "colab": {
     "base_uri": "https://localhost:8080/",
     "height": 643
    },
    "id": "BFtHAkoUgbJv",
    "outputId": "b19483da-3a97-4f5a-fe29-2ace63d43cf6",
    "scrolled": true
   },
   "outputs": [
    {
     "data": {
      "text/html": [
       "<div>\n",
       "<style scoped>\n",
       "    .dataframe tbody tr th:only-of-type {\n",
       "        vertical-align: middle;\n",
       "    }\n",
       "\n",
       "    .dataframe tbody tr th {\n",
       "        vertical-align: top;\n",
       "    }\n",
       "\n",
       "    .dataframe thead th {\n",
       "        text-align: right;\n",
       "    }\n",
       "</style>\n",
       "<table border=\"1\" class=\"dataframe\">\n",
       "  <thead>\n",
       "    <tr style=\"text-align: right;\">\n",
       "      <th></th>\n",
       "      <th>author</th>\n",
       "      <th>views</th>\n",
       "      <th>likes</th>\n",
       "      <th>title</th>\n",
       "      <th>description_1</th>\n",
       "      <th>duration_seg</th>\n",
       "      <th>description_2</th>\n",
       "      <th>date_recorded_year</th>\n",
       "      <th>date_recorded_month</th>\n",
       "      <th>date_released_year</th>\n",
       "      <th>...</th>\n",
       "      <th>'water'</th>\n",
       "      <th>'weather'</th>\n",
       "      <th>'windenergy'</th>\n",
       "      <th>'women'</th>\n",
       "      <th>'womeninbusiness'</th>\n",
       "      <th>'work'</th>\n",
       "      <th>'work-lifebalance'</th>\n",
       "      <th>'writing'</th>\n",
       "      <th>'youth'</th>\n",
       "      <th>'ted'</th>\n",
       "    </tr>\n",
       "  </thead>\n",
       "  <tbody>\n",
       "    <tr>\n",
       "      <th>0</th>\n",
       "      <td>Ozawa Bineshi Albert</td>\n",
       "      <td>404000</td>\n",
       "      <td>12000</td>\n",
       "      <td>Climate action needs new frontline leadership</td>\n",
       "      <td>\"We can't rely on those who created climate ch...</td>\n",
       "      <td>834</td>\n",
       "      <td>\"We can't rely on those who created climate ch...</td>\n",
       "      <td>2021</td>\n",
       "      <td>12</td>\n",
       "      <td>2022</td>\n",
       "      <td>...</td>\n",
       "      <td>0</td>\n",
       "      <td>0</td>\n",
       "      <td>0</td>\n",
       "      <td>0</td>\n",
       "      <td>0</td>\n",
       "      <td>0</td>\n",
       "      <td>0</td>\n",
       "      <td>0</td>\n",
       "      <td>0</td>\n",
       "      <td>1</td>\n",
       "    </tr>\n",
       "    <tr>\n",
       "      <th>1</th>\n",
       "      <td>Sydney Iaukea</td>\n",
       "      <td>214000</td>\n",
       "      <td>6400</td>\n",
       "      <td>The dark history of the overthrow of Hawaii</td>\n",
       "      <td>\"On January 16th, 1895, two men arrived at Lil...</td>\n",
       "      <td>0</td>\n",
       "      <td>\"On January 16th, 1895, two men arrived at Lil...</td>\n",
       "      <td>2022</td>\n",
       "      <td>2</td>\n",
       "      <td>2022</td>\n",
       "      <td>...</td>\n",
       "      <td>0</td>\n",
       "      <td>0</td>\n",
       "      <td>0</td>\n",
       "      <td>1</td>\n",
       "      <td>0</td>\n",
       "      <td>0</td>\n",
       "      <td>0</td>\n",
       "      <td>0</td>\n",
       "      <td>0</td>\n",
       "      <td>1</td>\n",
       "    </tr>\n",
       "    <tr>\n",
       "      <th>2</th>\n",
       "      <td>Martin Reeves</td>\n",
       "      <td>412000</td>\n",
       "      <td>12000</td>\n",
       "      <td>Why play is essential for business</td>\n",
       "      <td>\"To thrive in today's competitive economy, you...</td>\n",
       "      <td>665</td>\n",
       "      <td>\"To thrive in today's competitive economy, you...</td>\n",
       "      <td>2021</td>\n",
       "      <td>9</td>\n",
       "      <td>2022</td>\n",
       "      <td>...</td>\n",
       "      <td>0</td>\n",
       "      <td>0</td>\n",
       "      <td>0</td>\n",
       "      <td>0</td>\n",
       "      <td>0</td>\n",
       "      <td>1</td>\n",
       "      <td>0</td>\n",
       "      <td>0</td>\n",
       "      <td>0</td>\n",
       "      <td>1</td>\n",
       "    </tr>\n",
       "    <tr>\n",
       "      <th>3</th>\n",
       "      <td>James K. Thornton</td>\n",
       "      <td>427000</td>\n",
       "      <td>12000</td>\n",
       "      <td>Why is China appointing judges to combat clima...</td>\n",
       "      <td>\"Why is China appointing thousands of judges t...</td>\n",
       "      <td>695</td>\n",
       "      <td>\"Why is China appointing thousands of judges t...</td>\n",
       "      <td>2021</td>\n",
       "      <td>10</td>\n",
       "      <td>2022</td>\n",
       "      <td>...</td>\n",
       "      <td>0</td>\n",
       "      <td>0</td>\n",
       "      <td>0</td>\n",
       "      <td>0</td>\n",
       "      <td>0</td>\n",
       "      <td>0</td>\n",
       "      <td>0</td>\n",
       "      <td>0</td>\n",
       "      <td>0</td>\n",
       "      <td>1</td>\n",
       "    </tr>\n",
       "    <tr>\n",
       "      <th>4</th>\n",
       "      <td>Mahendra Singhi</td>\n",
       "      <td>2400</td>\n",
       "      <td>72</td>\n",
       "      <td>Cement's carbon problem -- and 2 ways to fix it</td>\n",
       "      <td>\"Cement is vital to modernizing all kinds of i...</td>\n",
       "      <td>671</td>\n",
       "      <td>\"Cement is vital to modernizing all kinds of i...</td>\n",
       "      <td>2021</td>\n",
       "      <td>10</td>\n",
       "      <td>2022</td>\n",
       "      <td>...</td>\n",
       "      <td>0</td>\n",
       "      <td>0</td>\n",
       "      <td>0</td>\n",
       "      <td>0</td>\n",
       "      <td>0</td>\n",
       "      <td>0</td>\n",
       "      <td>0</td>\n",
       "      <td>0</td>\n",
       "      <td>0</td>\n",
       "      <td>1</td>\n",
       "    </tr>\n",
       "  </tbody>\n",
       "</table>\n",
       "<p>5 rows × 363 columns</p>\n",
       "</div>"
      ],
      "text/plain": [
       "                 author   views  likes  \\\n",
       "0  Ozawa Bineshi Albert  404000  12000   \n",
       "1         Sydney Iaukea  214000   6400   \n",
       "2         Martin Reeves  412000  12000   \n",
       "3     James K. Thornton  427000  12000   \n",
       "4       Mahendra Singhi    2400     72   \n",
       "\n",
       "                                               title  \\\n",
       "0      Climate action needs new frontline leadership   \n",
       "1        The dark history of the overthrow of Hawaii   \n",
       "2                 Why play is essential for business   \n",
       "3  Why is China appointing judges to combat clima...   \n",
       "4    Cement's carbon problem -- and 2 ways to fix it   \n",
       "\n",
       "                                       description_1  duration_seg  \\\n",
       "0  \"We can't rely on those who created climate ch...           834   \n",
       "1  \"On January 16th, 1895, two men arrived at Lil...             0   \n",
       "2  \"To thrive in today's competitive economy, you...           665   \n",
       "3  \"Why is China appointing thousands of judges t...           695   \n",
       "4  \"Cement is vital to modernizing all kinds of i...           671   \n",
       "\n",
       "                                       description_2  date_recorded_year  \\\n",
       "0  \"We can't rely on those who created climate ch...                2021   \n",
       "1  \"On January 16th, 1895, two men arrived at Lil...                2022   \n",
       "2  \"To thrive in today's competitive economy, you...                2021   \n",
       "3  \"Why is China appointing thousands of judges t...                2021   \n",
       "4  \"Cement is vital to modernizing all kinds of i...                2021   \n",
       "\n",
       "   date_recorded_month  date_released_year  ...   'water'   'weather'  \\\n",
       "0                   12                2022  ...         0           0   \n",
       "1                    2                2022  ...         0           0   \n",
       "2                    9                2022  ...         0           0   \n",
       "3                   10                2022  ...         0           0   \n",
       "4                   10                2022  ...         0           0   \n",
       "\n",
       "    'windenergy'  'women'   'womeninbusiness'   'work'   'work-lifebalance'  \\\n",
       "0              0        0                   0        0                    0   \n",
       "1              0        1                   0        0                    0   \n",
       "2              0        0                   0        1                    0   \n",
       "3              0        0                   0        0                    0   \n",
       "4              0        0                   0        0                    0   \n",
       "\n",
       "    'writing'   'youth'  'ted'  \n",
       "0           0         0      1  \n",
       "1           0         0      1  \n",
       "2           0         0      1  \n",
       "3           0         0      1  \n",
       "4           0         0      1  \n",
       "\n",
       "[5 rows x 363 columns]"
      ]
     },
     "execution_count": 770,
     "metadata": {},
     "output_type": "execute_result"
    }
   ],
   "source": [
    "df.head(5)"
   ]
  },
  {
   "cell_type": "markdown",
   "metadata": {},
   "source": [
    "## Exploring: date recorded"
   ]
  },
  {
   "cell_type": "code",
   "execution_count": 771,
   "metadata": {},
   "outputs": [
    {
     "data": {
      "text/plain": [
       "<AxesSubplot:>"
      ]
     },
     "execution_count": 771,
     "metadata": {},
     "output_type": "execute_result"
    },
    {
     "data": {
      "image/png": "[encoded data removed]",
      "text/plain": [
       "<Figure size 648x648 with 1 Axes>"
      ]
     },
     "metadata": {},
     "output_type": "display_data"
    }
   ],
   "source": [
    "df_graph=df[df.date_recorded_year>2000]\n",
    "df_graph.date_recorded_month.hist()"
   ]
  },
  {
   "cell_type": "code",
   "execution_count": 772,
   "metadata": {
    "id": "MyPsvjBC478y"
   },
   "outputs": [
    {
     "data": {
      "text/plain": [
       "<AxesSubplot:>"
      ]
     },
     "execution_count": 772,
     "metadata": {},
     "output_type": "execute_result"
    },
    {
     "data": {
      "image/png": "[encoded data removed]",
      "text/plain": [
       "<Figure size 648x648 with 1 Axes>"
      ]
     },
     "metadata": {},
     "output_type": "display_data"
    }
   ],
   "source": [
    "df_graph.date_released_month.hist()"
   ]
  },
  {
   "cell_type": "code",
   "execution_count": 773,
   "metadata": {
    "scrolled": true
   },
   "outputs": [
    {
     "data": {
      "image/png": "[encoded data removed]",
      "text/plain": [
       "<Figure size 936x360 with 1 Axes>"
      ]
     },
     "metadata": {},
     "output_type": "display_data"
    }
   ],
   "source": [
    "# @hidden_cell\n",
    "#improving graph\n",
    "\n",
    "data=df[df.date_recorded_year>2000]\n",
    "fig, ax = plt.subplots(nrows=1, ncols=1, figsize=(13,5), sharex=True)\n",
    "\n",
    "#plotting first hidtogram\n",
    "ax=(data\n",
    "    .groupby(['date_recorded_month'])\n",
    "    .likes\n",
    "    .count()\n",
    "    .plot(x='date_recorded_month', kind = 'bar',alpha=0.6, ax=ax,) \n",
    ")\n",
    "#plotting second hidtogram\n",
    "ax=(data\n",
    "    .groupby(['date_released_month'])\n",
    "    .likes\n",
    "    .count()\n",
    "    .plot(x='date_released_month', kind = 'bar',alpha=0.5, ax=ax, color='#76725e') \n",
    ")\n",
    "#improving labes\n",
    "ax.set_xticks(ticks=range(0,12,1))  \n",
    "ax.set_xticklabels(['Jan', 'Feb', 'Mar', 'Apr', 'May', 'Jun', 'Jul', 'Ago', 'Sep', 'Oct', 'Nov', 'Dec'])\n",
    "ax.set_xlabel('')\n",
    "ax.set_ylabel('Count Videos ')\n",
    "#styling grid, leyend and title\n",
    "plt.title('Monthly Videos Recorded vs Released', ha='center', fontsize='xx-large')\n",
    "plt.legend([\"Recorded\", \"Released\"], loc='upper center',ncol=2, bbox_to_anchor=(0.5, 1.1), borderaxespad=2.6, facecolor=\"white\")\n",
    "ax.set_facecolor(\"white\")\n",
    "plt.grid(axis='y', color='black', alpha=.2)"
   ]
  },
  {
   "cell_type": "code",
   "execution_count": 774,
   "metadata": {
    "colab": {
     "base_uri": "https://localhost:8080/",
     "height": 1000
    },
    "id": "xOVyefa_f2uX",
    "outputId": "8faf33d0-e867-4f2b-85bf-b6621bb65e70"
   },
   "outputs": [
    {
     "data": {
      "image/png": "[encoded data removed]",
      "text/plain": [
       "<Figure size 648x648 with 1 Axes>"
      ]
     },
     "metadata": {},
     "output_type": "display_data"
    }
   ],
   "source": [
    "df.date_recorded_year.hist(alpha=0.6)\n",
    "plt.grid(axis='x')"
   ]
  },
  {
   "cell_type": "code",
   "execution_count": 775,
   "metadata": {},
   "outputs": [
    {
     "data": {
      "text/plain": [
       "<AxesSubplot:>"
      ]
     },
     "execution_count": 775,
     "metadata": {},
     "output_type": "execute_result"
    },
    {
     "data": {
      "image/png": "[encoded data removed]",
      "text/plain": [
       "<Figure size 648x648 with 1 Axes>"
      ]
     },
     "metadata": {},
     "output_type": "display_data"
    }
   ],
   "source": [
    "# Are there outliers\n",
    "df.date_recorded_year.plot.box()"
   ]
  },
  {
   "cell_type": "code",
   "execution_count": 776,
   "metadata": {},
   "outputs": [],
   "source": [
    "df_graph=df[df.date_recorded_year<2000]\n"
   ]
  },
  {
   "cell_type": "code",
   "execution_count": 777,
   "metadata": {},
   "outputs": [
    {
     "data": {
      "text/plain": [
       "<seaborn.axisgrid.FacetGrid at 0x7fefc7bba0d0>"
      ]
     },
     "execution_count": 777,
     "metadata": {},
     "output_type": "execute_result"
    },
    {
     "data": {
      "image/png": "[encoded data removed]",
      "text/plain": [
       "<Figure size 360x360 with 1 Axes>"
      ]
     },
     "metadata": {},
     "output_type": "display_data"
    }
   ],
   "source": [
    "#removing outliyers\n",
    "df_graph=df[df.date_recorded_year>2000]\n",
    "sns.lmplot(x='date_recorded_year', y='likes', data=df_graph, x_jitter=1, scatter_kws={'alpha':.2})"
   ]
  },
  {
   "cell_type": "markdown",
   "metadata": {},
   "source": [
    "## Exploring: duration of videos"
   ]
  },
  {
   "cell_type": "code",
   "execution_count": 778,
   "metadata": {
    "scrolled": true
   },
   "outputs": [
    {
     "data": {
      "text/plain": [
       "<AxesSubplot:>"
      ]
     },
     "execution_count": 778,
     "metadata": {},
     "output_type": "execute_result"
    },
    {
     "data": {
      "image/png": "[encoded data removed]",
      "text/plain": [
       "<Figure size 648x648 with 1 Axes>"
      ]
     },
     "metadata": {},
     "output_type": "display_data"
    }
   ],
   "source": [
    "# Are there outliers\n",
    "df.duration_seg.plot.box()"
   ]
  },
  {
   "cell_type": "code",
   "execution_count": 779,
   "metadata": {},
   "outputs": [
    {
     "data": {
      "text/plain": [
       "<seaborn.axisgrid.FacetGrid at 0x7fef840d7610>"
      ]
     },
     "execution_count": 779,
     "metadata": {},
     "output_type": "execute_result"
    },
    {
     "data": {
      "image/png": "[encoded data removed]",
      "text/plain": [
       "<Figure size 360x360 with 1 Axes>"
      ]
     },
     "metadata": {},
     "output_type": "display_data"
    }
   ],
   "source": [
    "#removing outliyers\n",
    "df_graph=df[df.date_recorded_year>2000]\n",
    "sns.lmplot(x='duration_seg', y='likes', data=df_graph, x_jitter=1, scatter_kws={'alpha':.1})"
   ]
  },
  {
   "cell_type": "code",
   "execution_count": 780,
   "metadata": {
    "scrolled": true
   },
   "outputs": [
    {
     "data": {
      "text/plain": [
       "<seaborn.axisgrid.FacetGrid at 0x7fef840d7c10>"
      ]
     },
     "execution_count": 780,
     "metadata": {},
     "output_type": "execute_result"
    },
    {
     "data": {
      "image/png": "[encoded data removed]",
      "text/plain": [
       "<Figure size 720x720 with 4 Axes>"
      ]
     },
     "metadata": {},
     "output_type": "display_data"
    }
   ],
   "source": [
    "#Insight: during pandemic years (2020-2021) \n",
    "df_graph=df[df.date_recorded_year>2018]\n",
    "sns.relplot(x='duration_seg', y='likes', data=df_graph, col='date_recorded_year', col_wrap=2, alpha=.1)"
   ]
  },
  {
   "cell_type": "code",
   "execution_count": 781,
   "metadata": {},
   "outputs": [
    {
     "data": {
      "text/plain": [
       "array([[<AxesSubplot:title={'center':\"('likes', 'sum')\"}>,\n",
       "        <AxesSubplot:title={'center':\"('views', 'sum')\"}>]], dtype=object)"
      ]
     },
     "execution_count": 781,
     "metadata": {},
     "output_type": "execute_result"
    },
    {
     "data": {
      "image/png": "[encoded data removed]",
      "text/plain": [
       "<Figure size 648x648 with 2 Axes>"
      ]
     },
     "metadata": {},
     "output_type": "display_data"
    }
   ],
   "source": [
    "df_graph = pd.pivot_table(data=df, \n",
    "               index=['date_recorded_year'], \n",
    "               values=['likes','views'], \n",
    "               aggfunc={'likes':[np.sum],'views':np.sum}\n",
    "        )\n",
    "df_graph.hist()"
   ]
  },
  {
   "cell_type": "code",
   "execution_count": 782,
   "metadata": {},
   "outputs": [
    {
     "data": {
      "text/html": [
       "<div>\n",
       "<style scoped>\n",
       "    .dataframe tbody tr th:only-of-type {\n",
       "        vertical-align: middle;\n",
       "    }\n",
       "\n",
       "    .dataframe tbody tr th {\n",
       "        vertical-align: top;\n",
       "    }\n",
       "\n",
       "    .dataframe thead th {\n",
       "        text-align: right;\n",
       "    }\n",
       "</style>\n",
       "<table border=\"1\" class=\"dataframe\">\n",
       "  <thead>\n",
       "    <tr style=\"text-align: right;\">\n",
       "      <th></th>\n",
       "      <th>views</th>\n",
       "      <th>likes</th>\n",
       "      <th>duration_seg</th>\n",
       "      <th>date_recorded_year</th>\n",
       "      <th>date_recorded_month</th>\n",
       "      <th>date_released_year</th>\n",
       "      <th>date_released_month</th>\n",
       "      <th>date_released_hour</th>\n",
       "      <th>date_released_minute</th>\n",
       "    </tr>\n",
       "  </thead>\n",
       "  <tbody>\n",
       "    <tr>\n",
       "      <th>views</th>\n",
       "      <td>1.000000</td>\n",
       "      <td>0.999661</td>\n",
       "      <td>0.032513</td>\n",
       "      <td>-0.083600</td>\n",
       "      <td>-0.085797</td>\n",
       "      <td>-0.101028</td>\n",
       "      <td>-0.024079</td>\n",
       "      <td>-0.008555</td>\n",
       "      <td>-0.006850</td>\n",
       "    </tr>\n",
       "    <tr>\n",
       "      <th>likes</th>\n",
       "      <td>0.999661</td>\n",
       "      <td>1.000000</td>\n",
       "      <td>0.032510</td>\n",
       "      <td>-0.083206</td>\n",
       "      <td>-0.086190</td>\n",
       "      <td>-0.100779</td>\n",
       "      <td>-0.023818</td>\n",
       "      <td>-0.008762</td>\n",
       "      <td>-0.006632</td>\n",
       "    </tr>\n",
       "    <tr>\n",
       "      <th>duration_seg</th>\n",
       "      <td>0.032513</td>\n",
       "      <td>0.032510</td>\n",
       "      <td>1.000000</td>\n",
       "      <td>-0.178443</td>\n",
       "      <td>-0.048921</td>\n",
       "      <td>-0.235843</td>\n",
       "      <td>0.004286</td>\n",
       "      <td>0.001337</td>\n",
       "      <td>-0.019144</td>\n",
       "    </tr>\n",
       "    <tr>\n",
       "      <th>date_recorded_year</th>\n",
       "      <td>-0.083600</td>\n",
       "      <td>-0.083206</td>\n",
       "      <td>-0.178443</td>\n",
       "      <td>1.000000</td>\n",
       "      <td>0.207671</td>\n",
       "      <td>0.897664</td>\n",
       "      <td>0.034764</td>\n",
       "      <td>-0.107005</td>\n",
       "      <td>0.250998</td>\n",
       "    </tr>\n",
       "    <tr>\n",
       "      <th>date_recorded_month</th>\n",
       "      <td>-0.085797</td>\n",
       "      <td>-0.086190</td>\n",
       "      <td>-0.048921</td>\n",
       "      <td>0.207671</td>\n",
       "      <td>1.000000</td>\n",
       "      <td>0.250865</td>\n",
       "      <td>0.119744</td>\n",
       "      <td>-0.073505</td>\n",
       "      <td>0.107123</td>\n",
       "    </tr>\n",
       "    <tr>\n",
       "      <th>date_released_year</th>\n",
       "      <td>-0.101028</td>\n",
       "      <td>-0.100779</td>\n",
       "      <td>-0.235843</td>\n",
       "      <td>0.897664</td>\n",
       "      <td>0.250865</td>\n",
       "      <td>1.000000</td>\n",
       "      <td>-0.073472</td>\n",
       "      <td>-0.037315</td>\n",
       "      <td>0.272284</td>\n",
       "    </tr>\n",
       "    <tr>\n",
       "      <th>date_released_month</th>\n",
       "      <td>-0.024079</td>\n",
       "      <td>-0.023818</td>\n",
       "      <td>0.004286</td>\n",
       "      <td>0.034764</td>\n",
       "      <td>0.119744</td>\n",
       "      <td>-0.073472</td>\n",
       "      <td>1.000000</td>\n",
       "      <td>-0.012557</td>\n",
       "      <td>-0.021944</td>\n",
       "    </tr>\n",
       "    <tr>\n",
       "      <th>date_released_hour</th>\n",
       "      <td>-0.008555</td>\n",
       "      <td>-0.008762</td>\n",
       "      <td>0.001337</td>\n",
       "      <td>-0.107005</td>\n",
       "      <td>-0.073505</td>\n",
       "      <td>-0.037315</td>\n",
       "      <td>-0.012557</td>\n",
       "      <td>1.000000</td>\n",
       "      <td>-0.226456</td>\n",
       "    </tr>\n",
       "    <tr>\n",
       "      <th>date_released_minute</th>\n",
       "      <td>-0.006850</td>\n",
       "      <td>-0.006632</td>\n",
       "      <td>-0.019144</td>\n",
       "      <td>0.250998</td>\n",
       "      <td>0.107123</td>\n",
       "      <td>0.272284</td>\n",
       "      <td>-0.021944</td>\n",
       "      <td>-0.226456</td>\n",
       "      <td>1.000000</td>\n",
       "    </tr>\n",
       "  </tbody>\n",
       "</table>\n",
       "</div>"
      ],
      "text/plain": [
       "                         views     likes  duration_seg  date_recorded_year  \\\n",
       "views                 1.000000  0.999661      0.032513           -0.083600   \n",
       "likes                 0.999661  1.000000      0.032510           -0.083206   \n",
       "duration_seg          0.032513  0.032510      1.000000           -0.178443   \n",
       "date_recorded_year   -0.083600 -0.083206     -0.178443            1.000000   \n",
       "date_recorded_month  -0.085797 -0.086190     -0.048921            0.207671   \n",
       "date_released_year   -0.101028 -0.100779     -0.235843            0.897664   \n",
       "date_released_month  -0.024079 -0.023818      0.004286            0.034764   \n",
       "date_released_hour   -0.008555 -0.008762      0.001337           -0.107005   \n",
       "date_released_minute -0.006850 -0.006632     -0.019144            0.250998   \n",
       "\n",
       "                      date_recorded_month  date_released_year  \\\n",
       "views                           -0.085797           -0.101028   \n",
       "likes                           -0.086190           -0.100779   \n",
       "duration_seg                    -0.048921           -0.235843   \n",
       "date_recorded_year               0.207671            0.897664   \n",
       "date_recorded_month              1.000000            0.250865   \n",
       "date_released_year               0.250865            1.000000   \n",
       "date_released_month              0.119744           -0.073472   \n",
       "date_released_hour              -0.073505           -0.037315   \n",
       "date_released_minute             0.107123            0.272284   \n",
       "\n",
       "                      date_released_month  date_released_hour  \\\n",
       "views                           -0.024079           -0.008555   \n",
       "likes                           -0.023818           -0.008762   \n",
       "duration_seg                     0.004286            0.001337   \n",
       "date_recorded_year               0.034764           -0.107005   \n",
       "date_recorded_month              0.119744           -0.073505   \n",
       "date_released_year              -0.073472           -0.037315   \n",
       "date_released_month              1.000000           -0.012557   \n",
       "date_released_hour              -0.012557            1.000000   \n",
       "date_released_minute            -0.021944           -0.226456   \n",
       "\n",
       "                      date_released_minute  \n",
       "views                            -0.006850  \n",
       "likes                            -0.006632  \n",
       "duration_seg                     -0.019144  \n",
       "date_recorded_year                0.250998  \n",
       "date_recorded_month               0.107123  \n",
       "date_released_year                0.272284  \n",
       "date_released_month              -0.021944  \n",
       "date_released_hour               -0.226456  \n",
       "date_released_minute              1.000000  "
      ]
     },
     "execution_count": 782,
     "metadata": {},
     "output_type": "execute_result"
    }
   ],
   "source": [
    "not_dummy_columns=pd.Series(np.arange(0,14,1))\n",
    "df_graph=df.iloc[:,not_dummy_columns].reset_index().drop('index', axis=1)\n",
    "df_graph.corr()"
   ]
  },
  {
   "cell_type": "code",
   "execution_count": 783,
   "metadata": {},
   "outputs": [
    {
     "data": {
      "text/plain": [
       "<AxesSubplot:>"
      ]
     },
     "execution_count": 783,
     "metadata": {},
     "output_type": "execute_result"
    },
    {
     "data": {
      "image/png": "[encoded data removed]",
      "text/plain": [
       "<Figure size 576x576 with 2 Axes>"
      ]
     },
     "metadata": {},
     "output_type": "display_data"
    }
   ],
   "source": [
    "fig, ax = plt.subplots(figsize=(8,8))\n",
    "sns.heatmap(df_graph.corr(), cmap='RdBu', vmin=-1, vmax=1, annot=True, square=True, ax=ax)"
   ]
  },
  {
   "cell_type": "code",
   "execution_count": 784,
   "metadata": {},
   "outputs": [],
   "source": [
    "# analyzing keywords"
   ]
  },
  {
   "cell_type": "code",
   "execution_count": 785,
   "metadata": {
    "scrolled": true
   },
   "outputs": [
    {
     "data": {
      "text/html": [
       "<div>\n",
       "<style scoped>\n",
       "    .dataframe tbody tr th:only-of-type {\n",
       "        vertical-align: middle;\n",
       "    }\n",
       "\n",
       "    .dataframe tbody tr th {\n",
       "        vertical-align: top;\n",
       "    }\n",
       "\n",
       "    .dataframe thead th {\n",
       "        text-align: right;\n",
       "    }\n",
       "</style>\n",
       "<table border=\"1\" class=\"dataframe\">\n",
       "  <thead>\n",
       "    <tr style=\"text-align: right;\">\n",
       "      <th></th>\n",
       "      <th>'3dprinting'</th>\n",
       "      <th>'activism'</th>\n",
       "      <th>'addiction'</th>\n",
       "      <th>'africa'</th>\n",
       "      <th>'aging'</th>\n",
       "      <th>'agriculture'</th>\n",
       "      <th>'ai'</th>\n",
       "      <th>'aids'</th>\n",
       "      <th>'algorithm'</th>\n",
       "      <th>'aliens'</th>\n",
       "      <th>...</th>\n",
       "      <th>'unitedstates'</th>\n",
       "      <th>'universe'</th>\n",
       "      <th>'urbanplanning'</th>\n",
       "      <th>'uxdesign'</th>\n",
       "      <th>'vaccines'</th>\n",
       "      <th>'violence'</th>\n",
       "      <th>'virtualreality'</th>\n",
       "      <th>likes</th>\n",
       "      <th>views</th>\n",
       "      <th>date_released_month</th>\n",
       "    </tr>\n",
       "  </thead>\n",
       "  <tbody>\n",
       "    <tr>\n",
       "      <th>0</th>\n",
       "      <td>0</td>\n",
       "      <td>1</td>\n",
       "      <td>0</td>\n",
       "      <td>0</td>\n",
       "      <td>0</td>\n",
       "      <td>0</td>\n",
       "      <td>0</td>\n",
       "      <td>0</td>\n",
       "      <td>0</td>\n",
       "      <td>0</td>\n",
       "      <td>...</td>\n",
       "      <td>0</td>\n",
       "      <td>0</td>\n",
       "      <td>0</td>\n",
       "      <td>0</td>\n",
       "      <td>0</td>\n",
       "      <td>0</td>\n",
       "      <td>0</td>\n",
       "      <td>12000</td>\n",
       "      <td>404000</td>\n",
       "      <td>2</td>\n",
       "    </tr>\n",
       "    <tr>\n",
       "      <th>1</th>\n",
       "      <td>0</td>\n",
       "      <td>0</td>\n",
       "      <td>0</td>\n",
       "      <td>0</td>\n",
       "      <td>0</td>\n",
       "      <td>0</td>\n",
       "      <td>0</td>\n",
       "      <td>0</td>\n",
       "      <td>0</td>\n",
       "      <td>0</td>\n",
       "      <td>...</td>\n",
       "      <td>1</td>\n",
       "      <td>0</td>\n",
       "      <td>0</td>\n",
       "      <td>0</td>\n",
       "      <td>0</td>\n",
       "      <td>0</td>\n",
       "      <td>0</td>\n",
       "      <td>6400</td>\n",
       "      <td>214000</td>\n",
       "      <td>2</td>\n",
       "    </tr>\n",
       "    <tr>\n",
       "      <th>2</th>\n",
       "      <td>0</td>\n",
       "      <td>0</td>\n",
       "      <td>0</td>\n",
       "      <td>0</td>\n",
       "      <td>0</td>\n",
       "      <td>0</td>\n",
       "      <td>0</td>\n",
       "      <td>0</td>\n",
       "      <td>0</td>\n",
       "      <td>0</td>\n",
       "      <td>...</td>\n",
       "      <td>0</td>\n",
       "      <td>0</td>\n",
       "      <td>0</td>\n",
       "      <td>0</td>\n",
       "      <td>0</td>\n",
       "      <td>0</td>\n",
       "      <td>0</td>\n",
       "      <td>12000</td>\n",
       "      <td>412000</td>\n",
       "      <td>2</td>\n",
       "    </tr>\n",
       "  </tbody>\n",
       "</table>\n",
       "<p>3 rows × 336 columns</p>\n",
       "</div>"
      ],
      "text/plain": [
       "    '3dprinting'   'activism'   'addiction'   'africa'   'aging'  \\\n",
       "0              0            1             0          0         0   \n",
       "1              0            0             0          0         0   \n",
       "2              0            0             0          0         0   \n",
       "\n",
       "    'agriculture'   'ai'   'aids'   'algorithm'   'aliens'  ...  \\\n",
       "0               0      0        0             0          0  ...   \n",
       "1               0      0        0             0          0  ...   \n",
       "2               0      0        0             0          0  ...   \n",
       "\n",
       "    'unitedstates'   'universe'   'urbanplanning'   'uxdesign'   'vaccines'  \\\n",
       "0                0            0                 0            0            0   \n",
       "1                1            0                 0            0            0   \n",
       "2                0            0                 0            0            0   \n",
       "\n",
       "    'violence'   'virtualreality'  likes   views  date_released_month  \n",
       "0            0                  0  12000  404000                    2  \n",
       "1            0                  0   6400  214000                    2  \n",
       "2            0                  0  12000  412000                    2  \n",
       "\n",
       "[3 rows x 336 columns]"
      ]
     },
     "execution_count": 785,
     "metadata": {},
     "output_type": "execute_result"
    }
   ],
   "source": [
    "dummy_columns=pd.Series(np.arange(15,349,1))[1:]\n",
    "df_d=pd.concat([df.iloc[:,dummy_columns],df[['likes', 'views', 'date_released_month']]], axis=1)\n",
    "df_d.head(3)"
   ]
  },
  {
   "cell_type": "code",
   "execution_count": 786,
   "metadata": {},
   "outputs": [
    {
     "data": {
      "text/plain": [
       "(5440, 336)"
      ]
     },
     "execution_count": 786,
     "metadata": {},
     "output_type": "execute_result"
    }
   ],
   "source": [
    "df_d.shape"
   ]
  },
  {
   "cell_type": "markdown",
   "metadata": {},
   "source": [
    "## Exploring: Keywords categories"
   ]
  },
  {
   "cell_type": "code",
   "execution_count": 787,
   "metadata": {},
   "outputs": [
    {
     "data": {
      "text/html": [
       "<div>\n",
       "<style scoped>\n",
       "    .dataframe tbody tr th:only-of-type {\n",
       "        vertical-align: middle;\n",
       "    }\n",
       "\n",
       "    .dataframe tbody tr th {\n",
       "        vertical-align: top;\n",
       "    }\n",
       "\n",
       "    .dataframe thead th {\n",
       "        text-align: right;\n",
       "    }\n",
       "</style>\n",
       "<table border=\"1\" class=\"dataframe\">\n",
       "  <thead>\n",
       "    <tr style=\"text-align: right;\">\n",
       "      <th></th>\n",
       "      <th>categories</th>\n",
       "      <th>keywords</th>\n",
       "      <th>sum</th>\n",
       "    </tr>\n",
       "  </thead>\n",
       "  <tbody>\n",
       "    <tr>\n",
       "      <th>0</th>\n",
       "      <td>technology</td>\n",
       "      <td>'3dprinting'</td>\n",
       "      <td>9</td>\n",
       "    </tr>\n",
       "    <tr>\n",
       "      <th>1</th>\n",
       "      <td>values &amp; emotions</td>\n",
       "      <td>'activism'</td>\n",
       "      <td>352</td>\n",
       "    </tr>\n",
       "    <tr>\n",
       "      <th>2</th>\n",
       "      <td>health</td>\n",
       "      <td>'addiction'</td>\n",
       "      <td>20</td>\n",
       "    </tr>\n",
       "  </tbody>\n",
       "</table>\n",
       "</div>"
      ],
      "text/plain": [
       "          categories       keywords  sum\n",
       "0         technology   '3dprinting'    9\n",
       "1  values & emotions     'activism'  352\n",
       "2             health    'addiction'   20"
      ]
     },
     "execution_count": 787,
     "metadata": {},
     "output_type": "execute_result"
    }
   ],
   "source": [
    "df_dummies=main()[1]\n",
    "df_dummies.head(3)"
   ]
  },
  {
   "cell_type": "code",
   "execution_count": 788,
   "metadata": {},
   "outputs": [
    {
     "data": {
      "text/html": [
       "<div>\n",
       "<style scoped>\n",
       "    .dataframe tbody tr th:only-of-type {\n",
       "        vertical-align: middle;\n",
       "    }\n",
       "\n",
       "    .dataframe tbody tr th {\n",
       "        vertical-align: top;\n",
       "    }\n",
       "\n",
       "    .dataframe thead th {\n",
       "        text-align: right;\n",
       "    }\n",
       "</style>\n",
       "<table border=\"1\" class=\"dataframe\">\n",
       "  <thead>\n",
       "    <tr style=\"text-align: right;\">\n",
       "      <th></th>\n",
       "      <th>categories</th>\n",
       "      <th>keywords</th>\n",
       "      <th>sum</th>\n",
       "    </tr>\n",
       "  </thead>\n",
       "  <tbody>\n",
       "    <tr>\n",
       "      <th>0</th>\n",
       "      <td>art</td>\n",
       "      <td>'animation'</td>\n",
       "      <td>713</td>\n",
       "    </tr>\n",
       "    <tr>\n",
       "      <th>1</th>\n",
       "      <td>art</td>\n",
       "      <td>'dance'</td>\n",
       "      <td>54</td>\n",
       "    </tr>\n",
       "    <tr>\n",
       "      <th>2</th>\n",
       "      <td>art</td>\n",
       "      <td>'theater'</td>\n",
       "      <td>24</td>\n",
       "    </tr>\n",
       "    <tr>\n",
       "      <th>3</th>\n",
       "      <td>art</td>\n",
       "      <td>'painting'</td>\n",
       "      <td>33</td>\n",
       "    </tr>\n",
       "    <tr>\n",
       "      <th>4</th>\n",
       "      <td>art</td>\n",
       "      <td>'sports'</td>\n",
       "      <td>75</td>\n",
       "    </tr>\n",
       "  </tbody>\n",
       "</table>\n",
       "</div>"
      ],
      "text/plain": [
       "  categories      keywords  sum\n",
       "0        art   'animation'  713\n",
       "1        art       'dance'   54\n",
       "2        art     'theater'   24\n",
       "3        art    'painting'   33\n",
       "4        art      'sports'   75"
      ]
     },
     "execution_count": 788,
     "metadata": {},
     "output_type": "execute_result"
    }
   ],
   "source": [
    "df_dummies=df_dummies.sort_values(by='categories').reset_index().drop('index', axis=1)\n",
    "df_dummies.head(5)"
   ]
  },
  {
   "cell_type": "code",
   "execution_count": 789,
   "metadata": {},
   "outputs": [
    {
     "name": "stdout",
     "output_type": "stream",
     "text": [
      "           categories   sum\n",
      "0              health  9630\n",
      "1             society  8549\n",
      "2          technology  4376\n",
      "3             science  3080\n",
      "4                 art  2230\n",
      "5              global  2023\n",
      "6               other  1818\n",
      "7         environment  1815\n",
      "8           education  1691\n",
      "9             culture  1546\n",
      "10  values & emotions  1347\n",
      "11    personal growth  1259\n",
      "12           business  1175\n",
      "13            climate  1133\n",
      "14           religion   140\n"
     ]
    },
    {
     "data": {
      "text/plain": [
       "<AxesSubplot:xlabel='categories', ylabel='sum'>"
      ]
     },
     "execution_count": 789,
     "metadata": {},
     "output_type": "execute_result"
    },
    {
     "data": {
      "image/png": "[encoded data removed]",
      "text/plain": [
       "<Figure size 648x648 with 1 Axes>"
      ]
     },
     "metadata": {},
     "output_type": "display_data"
    }
   ],
   "source": [
    "df_graph=(\n",
    "            (df_dummies.groupby(['categories'])['sum'].sum().reset_index())\n",
    "            .sort_values(['sum'],ascending=[False]).reset_index()\n",
    ").drop('index', axis=1)\n",
    "print(df_graph)\n",
    "\n",
    "sns.histplot(data=df_graph, x='categories', y='sum',shrink=.8)"
   ]
  },
  {
   "cell_type": "code",
   "execution_count": 790,
   "metadata": {},
   "outputs": [
    {
     "name": "stdout",
     "output_type": "stream",
     "text": [
      "           categories   sum  rand_x  rand_y\n",
      "0              health  9630       7       4\n",
      "1             society  8549       1       7\n",
      "2          technology  4376       6       9\n",
      "3             science  3080       5       9\n",
      "4                 art  2230       6       7\n",
      "5              global  2023       1       1\n",
      "6               other  1818       6       8\n",
      "7         environment  1815       0       3\n",
      "8           education  1691       1       4\n",
      "9             culture  1546       7       2\n",
      "10  values & emotions  1347       3       5\n",
      "11    personal growth  1259       5       4\n",
      "12           business  1175       6       5\n",
      "13            climate  1133       6       8\n",
      "14           religion   140       8       8\n"
     ]
    },
    {
     "data": {
      "image/png": "[encoded data removed]",
      "text/plain": [
       "<Figure size 648x648 with 1 Axes>"
      ]
     },
     "metadata": {},
     "output_type": "display_data"
    }
   ],
   "source": [
    "df_graph=(\n",
    "            (df_dummies.groupby(['categories'])['sum'].sum().reset_index())\n",
    "            .sort_values(['sum'],ascending=[False]).reset_index()\n",
    ").drop('index', axis=1)\n",
    "\n",
    "df_graph['rand_x']=np.random.randint(0,10,size=(15, 1))\n",
    "df_graph['rand_y']=np.random.randint(0,10,size=(15, 1))\n",
    "print(df_graph)\n",
    "\n",
    "sns.scatterplot(data=df_graph, x=\"rand_x\", y=\"rand_y\", size=\"sum\", legend=True, hue='categories', alpha=0.5) \n",
    "plt.legend(bbox_to_anchor=(1, 1), loc='upper left', fontsize=10)\n",
    "sns.set(rc={\"figure.figsize\":(9 , 9)}) #(width,height)\n",
    "plt.show()"
   ]
  },
  {
   "cell_type": "markdown",
   "metadata": {},
   "source": [
    "# ML Predicting model for likes based on content labels to answer:\n",
    "Will certain labels increase the likes on a content"
   ]
  },
  {
   "cell_type": "code",
   "execution_count": 791,
   "metadata": {
    "colab": {
     "base_uri": "https://localhost:8080/"
    },
    "id": "i6dQmiTE478y",
    "outputId": "4f3ce7f8-4602-484a-8a57-323c3b5ebb29"
   },
   "outputs": [
    {
     "data": {
      "text/plain": [
       "count    5440.000000\n",
       "mean       62.666912\n",
       "std       107.730958\n",
       "min         0.000000\n",
       "25%        20.000000\n",
       "50%        41.000000\n",
       "75%        65.000000\n",
       "max      2100.000000\n",
       "Name: likes, dtype: float64"
      ]
     },
     "execution_count": 791,
     "metadata": {},
     "output_type": "execute_result"
    }
   ],
   "source": [
    "# #what constitude a good video based on likes?\n",
    "y=1000\n",
    "df_graph=df.likes.apply(lambda x: round(x/y,0))\n",
    "df_graph.describe()"
   ]
  },
  {
   "cell_type": "code",
   "execution_count": 792,
   "metadata": {},
   "outputs": [
    {
     "data": {
      "text/html": [
       "<div>\n",
       "<style scoped>\n",
       "    .dataframe tbody tr th:only-of-type {\n",
       "        vertical-align: middle;\n",
       "    }\n",
       "\n",
       "    .dataframe tbody tr th {\n",
       "        vertical-align: top;\n",
       "    }\n",
       "\n",
       "    .dataframe thead th {\n",
       "        text-align: right;\n",
       "    }\n",
       "</style>\n",
       "<table border=\"1\" class=\"dataframe\">\n",
       "  <thead>\n",
       "    <tr style=\"text-align: right;\">\n",
       "      <th></th>\n",
       "      <th>author</th>\n",
       "      <th>views</th>\n",
       "      <th>likes</th>\n",
       "      <th>title</th>\n",
       "      <th>description_1</th>\n",
       "      <th>duration_seg</th>\n",
       "      <th>description_2</th>\n",
       "      <th>date_recorded_year</th>\n",
       "      <th>date_recorded_month</th>\n",
       "      <th>date_released_year</th>\n",
       "      <th>...</th>\n",
       "      <th>'water'</th>\n",
       "      <th>'weather'</th>\n",
       "      <th>'windenergy'</th>\n",
       "      <th>'women'</th>\n",
       "      <th>'womeninbusiness'</th>\n",
       "      <th>'work'</th>\n",
       "      <th>'work-lifebalance'</th>\n",
       "      <th>'writing'</th>\n",
       "      <th>'youth'</th>\n",
       "      <th>'ted'</th>\n",
       "    </tr>\n",
       "  </thead>\n",
       "  <tbody>\n",
       "  </tbody>\n",
       "</table>\n",
       "<p>0 rows × 363 columns</p>\n",
       "</div>"
      ],
      "text/plain": [
       "Empty DataFrame\n",
       "Columns: [author, views, likes, title, description_1, duration_seg, description_2, date_recorded_year, date_recorded_month, date_released_year, date_released_month, date_released_hour, date_released_minute, keywords2,  \"alzheimer's\",  '',  '3dprinting',  'activism',  'addiction',  'africa',  'aging',  'agriculture',  'ai',  'aids',  'algorithm',  'aliens',  'ancientworld',  'animals',  'animation',  'antarctica',  'anthropocene',  'anthropology',  'archaeology',  'architecture',  'art',  'asia',  'asteroid',  'astrobiology',  'astronomy',  'atheism',  'audaciousproject',  'augmentedreality',  'autismspectrumdisorder',  'bacteria',  'beauty',  'bees',  'behavioraleconomics',  'bestoftheweb',  'bigbang',  'biodiversity',  'bioethics',  'biology',  'biomimicry',  'bionics',  'biosphere',  'biotech',  'birds',  'blindness',  'blockchain',  'bodylanguage',  'books',  'botany',  'brain',  'brazil',  'buddhism',  'bullying',  'business',  'cancer',  'capitalism',  'chemistry',  'china',  'christianity',  'cities',  'climatechange',  'code',  'cognitivescience',  'collaboration',  'comedy',  'communication',  'community',  'compassion',  'computers',  'conducting',  'consciousness',  'conservation',  'consumerism',  'coralreefs',  'coronavirus',  'corruption',  'countdown',  'creativity',  'crime',  'crispr',  'crowdsourcing',  'cryptocurrency',  'culture',  'curiosity',  'cybersecurity',  'dance',  'darkmatter', ...]\n",
       "Index: []\n",
       "\n",
       "[0 rows x 363 columns]"
      ]
     },
     "execution_count": 792,
     "metadata": {},
     "output_type": "execute_result"
    }
   ],
   "source": [
    "df[df.likes.isnull()==True]"
   ]
  },
  {
   "cell_type": "code",
   "execution_count": 793,
   "metadata": {},
   "outputs": [],
   "source": [
    "#create target\n",
    "\n",
    "#we define a well performing video if it is above 75% percentile\n",
    "threshold= np.percentile(df_d.likes, 75)\n",
    "\n",
    "#create target column\n",
    "df_d['target']=[1 if x>threshold else 0 for x in df.likes]"
   ]
  },
  {
   "cell_type": "code",
   "execution_count": 794,
   "metadata": {},
   "outputs": [],
   "source": [
    "#drop multicolinearity columns\n",
    "df_d=df_d.drop(['likes', 'views'], axis=1)"
   ]
  },
  {
   "cell_type": "code",
   "execution_count": 795,
   "metadata": {},
   "outputs": [
    {
     "data": {
      "text/html": [
       "<div>\n",
       "<style scoped>\n",
       "    .dataframe tbody tr th:only-of-type {\n",
       "        vertical-align: middle;\n",
       "    }\n",
       "\n",
       "    .dataframe tbody tr th {\n",
       "        vertical-align: top;\n",
       "    }\n",
       "\n",
       "    .dataframe thead th {\n",
       "        text-align: right;\n",
       "    }\n",
       "</style>\n",
       "<table border=\"1\" class=\"dataframe\">\n",
       "  <thead>\n",
       "    <tr style=\"text-align: right;\">\n",
       "      <th></th>\n",
       "      <th>'3dprinting'</th>\n",
       "      <th>'activism'</th>\n",
       "      <th>'addiction'</th>\n",
       "      <th>'africa'</th>\n",
       "      <th>'aging'</th>\n",
       "      <th>'agriculture'</th>\n",
       "      <th>'ai'</th>\n",
       "      <th>'aids'</th>\n",
       "      <th>'algorithm'</th>\n",
       "      <th>'aliens'</th>\n",
       "      <th>...</th>\n",
       "      <th>'typography'</th>\n",
       "      <th>'unitedstates'</th>\n",
       "      <th>'universe'</th>\n",
       "      <th>'urbanplanning'</th>\n",
       "      <th>'uxdesign'</th>\n",
       "      <th>'vaccines'</th>\n",
       "      <th>'violence'</th>\n",
       "      <th>'virtualreality'</th>\n",
       "      <th>date_released_month</th>\n",
       "      <th>target</th>\n",
       "    </tr>\n",
       "  </thead>\n",
       "  <tbody>\n",
       "    <tr>\n",
       "      <th>0</th>\n",
       "      <td>0</td>\n",
       "      <td>1</td>\n",
       "      <td>0</td>\n",
       "      <td>0</td>\n",
       "      <td>0</td>\n",
       "      <td>0</td>\n",
       "      <td>0</td>\n",
       "      <td>0</td>\n",
       "      <td>0</td>\n",
       "      <td>0</td>\n",
       "      <td>...</td>\n",
       "      <td>0</td>\n",
       "      <td>0</td>\n",
       "      <td>0</td>\n",
       "      <td>0</td>\n",
       "      <td>0</td>\n",
       "      <td>0</td>\n",
       "      <td>0</td>\n",
       "      <td>0</td>\n",
       "      <td>2</td>\n",
       "      <td>0</td>\n",
       "    </tr>\n",
       "    <tr>\n",
       "      <th>1</th>\n",
       "      <td>0</td>\n",
       "      <td>0</td>\n",
       "      <td>0</td>\n",
       "      <td>0</td>\n",
       "      <td>0</td>\n",
       "      <td>0</td>\n",
       "      <td>0</td>\n",
       "      <td>0</td>\n",
       "      <td>0</td>\n",
       "      <td>0</td>\n",
       "      <td>...</td>\n",
       "      <td>0</td>\n",
       "      <td>1</td>\n",
       "      <td>0</td>\n",
       "      <td>0</td>\n",
       "      <td>0</td>\n",
       "      <td>0</td>\n",
       "      <td>0</td>\n",
       "      <td>0</td>\n",
       "      <td>2</td>\n",
       "      <td>0</td>\n",
       "    </tr>\n",
       "    <tr>\n",
       "      <th>2</th>\n",
       "      <td>0</td>\n",
       "      <td>0</td>\n",
       "      <td>0</td>\n",
       "      <td>0</td>\n",
       "      <td>0</td>\n",
       "      <td>0</td>\n",
       "      <td>0</td>\n",
       "      <td>0</td>\n",
       "      <td>0</td>\n",
       "      <td>0</td>\n",
       "      <td>...</td>\n",
       "      <td>0</td>\n",
       "      <td>0</td>\n",
       "      <td>0</td>\n",
       "      <td>0</td>\n",
       "      <td>0</td>\n",
       "      <td>0</td>\n",
       "      <td>0</td>\n",
       "      <td>0</td>\n",
       "      <td>2</td>\n",
       "      <td>0</td>\n",
       "    </tr>\n",
       "  </tbody>\n",
       "</table>\n",
       "<p>3 rows × 335 columns</p>\n",
       "</div>"
      ],
      "text/plain": [
       "    '3dprinting'   'activism'   'addiction'   'africa'   'aging'  \\\n",
       "0              0            1             0          0         0   \n",
       "1              0            0             0          0         0   \n",
       "2              0            0             0          0         0   \n",
       "\n",
       "    'agriculture'   'ai'   'aids'   'algorithm'   'aliens'  ...  \\\n",
       "0               0      0        0             0          0  ...   \n",
       "1               0      0        0             0          0  ...   \n",
       "2               0      0        0             0          0  ...   \n",
       "\n",
       "    'typography'   'unitedstates'   'universe'   'urbanplanning'   'uxdesign'  \\\n",
       "0              0                0            0                 0            0   \n",
       "1              0                1            0                 0            0   \n",
       "2              0                0            0                 0            0   \n",
       "\n",
       "    'vaccines'   'violence'   'virtualreality'  date_released_month  target  \n",
       "0            0            0                  0                    2       0  \n",
       "1            0            0                  0                    2       0  \n",
       "2            0            0                  0                    2       0  \n",
       "\n",
       "[3 rows x 335 columns]"
      ]
     },
     "execution_count": 795,
     "metadata": {},
     "output_type": "execute_result"
    }
   ],
   "source": [
    "data=df_d.copy()\n",
    "data.head(3)"
   ]
  },
  {
   "cell_type": "code",
   "execution_count": 796,
   "metadata": {},
   "outputs": [
    {
     "data": {
      "text/plain": [
       "0    4098\n",
       "1    1342\n",
       "Name: target, dtype: int64"
      ]
     },
     "execution_count": 796,
     "metadata": {},
     "output_type": "execute_result"
    }
   ],
   "source": [
    "#Balance data\n",
    "data.target.value_counts()"
   ]
  },
  {
   "cell_type": "code",
   "execution_count": 797,
   "metadata": {},
   "outputs": [
    {
     "data": {
      "text/plain": [
       "1342"
      ]
     },
     "execution_count": 797,
     "metadata": {},
     "output_type": "execute_result"
    }
   ],
   "source": [
    "positive_labels = data[data.target==1]\n",
    "num_positive_labels = positive_labels.shape[0]\n",
    "num_positive_labels"
   ]
  },
  {
   "cell_type": "code",
   "execution_count": 798,
   "metadata": {},
   "outputs": [
    {
     "data": {
      "text/plain": [
       "(1342, 335)"
      ]
     },
     "execution_count": 798,
     "metadata": {},
     "output_type": "execute_result"
    }
   ],
   "source": [
    "negative_labels = data[data.target==0].sample(num_positive_labels)\n",
    "negative_labels.shape"
   ]
  },
  {
   "cell_type": "code",
   "execution_count": 799,
   "metadata": {},
   "outputs": [
    {
     "data": {
      "text/plain": [
       "1    1342\n",
       "0    1342\n",
       "Name: target, dtype: int64"
      ]
     },
     "execution_count": 799,
     "metadata": {},
     "output_type": "execute_result"
    }
   ],
   "source": [
    "balanced_data =  positive_labels.append(negative_labels)\n",
    "balanced_data.target.value_counts()"
   ]
  },
  {
   "cell_type": "code",
   "execution_count": 800,
   "metadata": {},
   "outputs": [],
   "source": [
    "## Splitting data into test splits"
   ]
  },
  {
   "cell_type": "code",
   "execution_count": 801,
   "metadata": {},
   "outputs": [],
   "source": [
    "y = balanced_data.pop('target')\n",
    "X = balanced_data"
   ]
  },
  {
   "cell_type": "code",
   "execution_count": 802,
   "metadata": {},
   "outputs": [
    {
     "data": {
      "text/html": [
       "<div>\n",
       "<style scoped>\n",
       "    .dataframe tbody tr th:only-of-type {\n",
       "        vertical-align: middle;\n",
       "    }\n",
       "\n",
       "    .dataframe tbody tr th {\n",
       "        vertical-align: top;\n",
       "    }\n",
       "\n",
       "    .dataframe thead th {\n",
       "        text-align: right;\n",
       "    }\n",
       "</style>\n",
       "<table border=\"1\" class=\"dataframe\">\n",
       "  <thead>\n",
       "    <tr style=\"text-align: right;\">\n",
       "      <th></th>\n",
       "      <th>'3dprinting'</th>\n",
       "      <th>'activism'</th>\n",
       "      <th>'addiction'</th>\n",
       "      <th>'africa'</th>\n",
       "      <th>'aging'</th>\n",
       "      <th>'agriculture'</th>\n",
       "      <th>'ai'</th>\n",
       "      <th>'aids'</th>\n",
       "      <th>'algorithm'</th>\n",
       "      <th>'aliens'</th>\n",
       "      <th>...</th>\n",
       "      <th>'trust'</th>\n",
       "      <th>'typography'</th>\n",
       "      <th>'unitedstates'</th>\n",
       "      <th>'universe'</th>\n",
       "      <th>'urbanplanning'</th>\n",
       "      <th>'uxdesign'</th>\n",
       "      <th>'vaccines'</th>\n",
       "      <th>'violence'</th>\n",
       "      <th>'virtualreality'</th>\n",
       "      <th>date_released_month</th>\n",
       "    </tr>\n",
       "  </thead>\n",
       "  <tbody>\n",
       "    <tr>\n",
       "      <th>2767</th>\n",
       "      <td>0</td>\n",
       "      <td>0</td>\n",
       "      <td>0</td>\n",
       "      <td>0</td>\n",
       "      <td>0</td>\n",
       "      <td>0</td>\n",
       "      <td>0</td>\n",
       "      <td>0</td>\n",
       "      <td>0</td>\n",
       "      <td>0</td>\n",
       "      <td>...</td>\n",
       "      <td>0</td>\n",
       "      <td>0</td>\n",
       "      <td>0</td>\n",
       "      <td>0</td>\n",
       "      <td>0</td>\n",
       "      <td>0</td>\n",
       "      <td>0</td>\n",
       "      <td>0</td>\n",
       "      <td>0</td>\n",
       "      <td>5</td>\n",
       "    </tr>\n",
       "    <tr>\n",
       "      <th>4255</th>\n",
       "      <td>0</td>\n",
       "      <td>0</td>\n",
       "      <td>0</td>\n",
       "      <td>0</td>\n",
       "      <td>0</td>\n",
       "      <td>0</td>\n",
       "      <td>0</td>\n",
       "      <td>0</td>\n",
       "      <td>0</td>\n",
       "      <td>0</td>\n",
       "      <td>...</td>\n",
       "      <td>0</td>\n",
       "      <td>0</td>\n",
       "      <td>0</td>\n",
       "      <td>0</td>\n",
       "      <td>0</td>\n",
       "      <td>0</td>\n",
       "      <td>0</td>\n",
       "      <td>0</td>\n",
       "      <td>0</td>\n",
       "      <td>3</td>\n",
       "    </tr>\n",
       "    <tr>\n",
       "      <th>5176</th>\n",
       "      <td>0</td>\n",
       "      <td>0</td>\n",
       "      <td>0</td>\n",
       "      <td>1</td>\n",
       "      <td>0</td>\n",
       "      <td>0</td>\n",
       "      <td>0</td>\n",
       "      <td>0</td>\n",
       "      <td>0</td>\n",
       "      <td>0</td>\n",
       "      <td>...</td>\n",
       "      <td>0</td>\n",
       "      <td>0</td>\n",
       "      <td>0</td>\n",
       "      <td>0</td>\n",
       "      <td>0</td>\n",
       "      <td>0</td>\n",
       "      <td>0</td>\n",
       "      <td>0</td>\n",
       "      <td>0</td>\n",
       "      <td>7</td>\n",
       "    </tr>\n",
       "    <tr>\n",
       "      <th>3113</th>\n",
       "      <td>0</td>\n",
       "      <td>0</td>\n",
       "      <td>0</td>\n",
       "      <td>0</td>\n",
       "      <td>0</td>\n",
       "      <td>0</td>\n",
       "      <td>0</td>\n",
       "      <td>0</td>\n",
       "      <td>0</td>\n",
       "      <td>0</td>\n",
       "      <td>...</td>\n",
       "      <td>0</td>\n",
       "      <td>0</td>\n",
       "      <td>0</td>\n",
       "      <td>0</td>\n",
       "      <td>0</td>\n",
       "      <td>0</td>\n",
       "      <td>0</td>\n",
       "      <td>0</td>\n",
       "      <td>0</td>\n",
       "      <td>9</td>\n",
       "    </tr>\n",
       "    <tr>\n",
       "      <th>2179</th>\n",
       "      <td>0</td>\n",
       "      <td>0</td>\n",
       "      <td>0</td>\n",
       "      <td>0</td>\n",
       "      <td>0</td>\n",
       "      <td>0</td>\n",
       "      <td>0</td>\n",
       "      <td>0</td>\n",
       "      <td>0</td>\n",
       "      <td>0</td>\n",
       "      <td>...</td>\n",
       "      <td>0</td>\n",
       "      <td>0</td>\n",
       "      <td>0</td>\n",
       "      <td>0</td>\n",
       "      <td>0</td>\n",
       "      <td>0</td>\n",
       "      <td>0</td>\n",
       "      <td>0</td>\n",
       "      <td>0</td>\n",
       "      <td>3</td>\n",
       "    </tr>\n",
       "  </tbody>\n",
       "</table>\n",
       "<p>5 rows × 334 columns</p>\n",
       "</div>"
      ],
      "text/plain": [
       "       '3dprinting'   'activism'   'addiction'   'africa'   'aging'  \\\n",
       "2767              0            0             0          0         0   \n",
       "4255              0            0             0          0         0   \n",
       "5176              0            0             0          1         0   \n",
       "3113              0            0             0          0         0   \n",
       "2179              0            0             0          0         0   \n",
       "\n",
       "       'agriculture'   'ai'   'aids'   'algorithm'   'aliens'  ...   'trust'  \\\n",
       "2767               0      0        0             0          0  ...         0   \n",
       "4255               0      0        0             0          0  ...         0   \n",
       "5176               0      0        0             0          0  ...         0   \n",
       "3113               0      0        0             0          0  ...         0   \n",
       "2179               0      0        0             0          0  ...         0   \n",
       "\n",
       "       'typography'   'unitedstates'   'universe'   'urbanplanning'  \\\n",
       "2767              0                0            0                 0   \n",
       "4255              0                0            0                 0   \n",
       "5176              0                0            0                 0   \n",
       "3113              0                0            0                 0   \n",
       "2179              0                0            0                 0   \n",
       "\n",
       "       'uxdesign'   'vaccines'   'violence'   'virtualreality'  \\\n",
       "2767            0            0            0                  0   \n",
       "4255            0            0            0                  0   \n",
       "5176            0            0            0                  0   \n",
       "3113            0            0            0                  0   \n",
       "2179            0            0            0                  0   \n",
       "\n",
       "      date_released_month  \n",
       "2767                    5  \n",
       "4255                    3  \n",
       "5176                    7  \n",
       "3113                    9  \n",
       "2179                    3  \n",
       "\n",
       "[5 rows x 334 columns]"
      ]
     },
     "execution_count": 802,
     "metadata": {},
     "output_type": "execute_result"
    }
   ],
   "source": [
    "X_train, X_test, y_train, y_test = train_test_split(X, y, test_size = 0.25)\n",
    "X_train.head()"
   ]
  },
  {
   "cell_type": "markdown",
   "metadata": {},
   "source": [
    "## Fitting Model"
   ]
  },
  {
   "cell_type": "code",
   "execution_count": 803,
   "metadata": {},
   "outputs": [
    {
     "name": "stderr",
     "output_type": "stream",
     "text": [
      "/Users/alialvarez/opt/anaconda3/lib/python3.8/site-packages/sklearn/linear_model/_logistic.py:762: ConvergenceWarning: lbfgs failed to converge (status=1):\n",
      "STOP: TOTAL NO. of ITERATIONS REACHED LIMIT.\n",
      "\n",
      "Increase the number of iterations (max_iter) or scale the data as shown in:\n",
      "    https://scikit-learn.org/stable/modules/preprocessing.html\n",
      "Please also refer to the documentation for alternative solver options:\n",
      "    https://scikit-learn.org/stable/modules/linear_model.html#logistic-regression\n",
      "  n_iter_i = _check_optimize_result(\n"
     ]
    }
   ],
   "source": [
    "# fit a model\n",
    "clf = LogisticRegression(penalty='l2').fit(X_train, y_train)\n",
    "# predict probabilities\n",
    "predictions = clf.predict_proba(X_test)[:, 1]"
   ]
  },
  {
   "cell_type": "markdown",
   "metadata": {},
   "source": [
    "## Model Evaluation"
   ]
  },
  {
   "cell_type": "code",
   "execution_count": 804,
   "metadata": {},
   "outputs": [],
   "source": [
    "# Predict probabilities given test data\n",
    "y_pred = clf.predict_proba(X_test)"
   ]
  },
  {
   "cell_type": "code",
   "execution_count": 805,
   "metadata": {},
   "outputs": [
    {
     "data": {
      "image/png": "[encoded data removed]",
      "text/plain": [
       "<Figure size 1080x720 with 1 Axes>"
      ]
     },
     "metadata": {},
     "output_type": "display_data"
    }
   ],
   "source": [
    "# calculate scores\n",
    "auc = roc_auc_score(y_test, predictions)\n",
    "\n",
    "# calculate roc curves\n",
    "fpr, tpr, _ = roc_curve(y_test, predictions)\n",
    "\n",
    "plt.figure(figsize=(15, 10))\n",
    "# plot horizontal line \n",
    "plt.plot([0, 1], [0, 1], linestyle='--')\n",
    "# plot the roc curve for the model\n",
    "plt.plot(fpr, tpr, label='ROC curve (AUC = %0.2f)' % auc)\n",
    "# axis labels\n",
    "plt.xlabel('FPR')\n",
    "plt.ylabel('TPR')\n",
    "# show the legend\n",
    "plt.legend(loc='lower right')\n",
    "# show the plot\n",
    "plt.show()"
   ]
  },
  {
   "cell_type": "code",
   "execution_count": 806,
   "metadata": {},
   "outputs": [
    {
     "data": {
      "text/plain": [
       "array([ 3.10063718e-01, -5.77593080e-02, -6.80611643e-01, -8.62458108e-01,\n",
       "       -1.38652875e-02,  1.02289746e-01,  3.92529097e-01, -4.14698979e-01,\n",
       "        3.54308922e-01,  1.71852339e-01,  1.06140996e-01,  2.92171461e-01,\n",
       "       -6.56822719e-01,  7.19022071e-01,  2.82003327e-01, -1.27655100e-02,\n",
       "       -1.02181847e+00, -5.91584845e-02, -3.49403589e-01,  1.83146238e+00,\n",
       "        6.17383975e-01, -5.89721879e-01,  5.06349469e-01,  3.88683105e-01,\n",
       "        2.61899737e-01,  0.00000000e+00,  1.23729764e-01, -4.59972183e-01,\n",
       "        5.64441706e-01, -7.28743995e-01,  6.11251797e-01, -1.51003851e-01,\n",
       "        6.03763337e-02, -3.59505406e-02, -8.92307929e-01,  9.20163639e-02,\n",
       "        4.52794323e-01,  3.58724819e-01, -1.79224194e-01, -1.72855575e-01,\n",
       "       -1.28561204e-01, -2.11367650e-01,  4.32515469e-01,  8.40333023e-01,\n",
       "       -1.51390760e-01,  1.50012514e-01,  5.85371784e-01,  3.17858339e-03,\n",
       "       -1.21507266e-01,  3.07843935e-01,  2.79428568e-01,  4.33246111e-01,\n",
       "       -6.45641679e-02,  3.55404088e-02, -4.79046192e-01,  3.25961634e-01,\n",
       "       -6.76138884e-01,  1.63527751e-01,  7.16045035e-01,  1.51602612e-01,\n",
       "        8.48034262e-02,  7.02940526e-01, -1.73578094e-01,  3.20582005e-01,\n",
       "        1.70108179e-01,  4.47098553e-02,  2.65314647e-01,  1.65178905e-01,\n",
       "        5.38163448e-02, -4.02843802e-01, -8.79066932e-02, -3.60040058e-01,\n",
       "       -1.66825178e-01, -1.78002991e+00,  3.23262273e-03,  5.78548949e-01,\n",
       "        4.89747950e-01,  0.00000000e+00,  4.32515469e-01,  3.13436164e-01,\n",
       "       -9.22827535e-02,  3.48392944e-01, -4.64249285e-01, -9.58296189e-02,\n",
       "       -2.68407371e-01, -1.14702035e-01, -7.63102311e-02, -5.05078028e-01,\n",
       "        4.93492319e-01, -1.20995402e-01, -1.62393336e-01, -2.07236741e-01,\n",
       "        2.34504415e-01, -1.67851910e-01, -2.95873963e-01,  2.68794876e-01,\n",
       "        3.67795394e-01,  1.08337956e-01, -8.55318200e-01,  1.09827317e-01,\n",
       "       -1.49582071e-02, -3.80568760e-01,  9.07865781e-01,  7.33356430e-01,\n",
       "       -2.24373624e-01, -2.78032239e-01, -9.79481390e-02, -7.22408612e-01,\n",
       "        5.12879066e-02,  1.69986690e-01,  3.20214992e-01,  6.41440260e-01,\n",
       "        4.86215496e-01,  8.43840411e-01, -6.93587726e-02, -3.67573790e-01,\n",
       "       -1.17991045e-01,  7.89787377e-01,  4.75589972e-01,  1.68978788e+00,\n",
       "        1.51567795e-01,  1.70209658e-01,  6.01512786e-01,  1.67252447e-01,\n",
       "        4.95326868e-01,  9.23458479e-01,  3.49015349e-01, -3.67580870e-01,\n",
       "       -3.30513883e-01,  1.00695013e-01,  4.11398323e-01, -4.92103491e-02,\n",
       "       -3.61152239e-01, -4.50066287e-01,  3.63876137e-02, -1.62225607e-01,\n",
       "        9.37499263e-01,  3.68121761e-01,  2.32894181e-01,  4.68704137e-01,\n",
       "       -3.20809293e-01,  3.89263681e-02, -1.39149558e-02,  5.72291489e-01,\n",
       "       -5.75433351e-01, -1.55162280e-03,  1.68963302e-02,  3.11317435e-01,\n",
       "        2.04751760e-01, -6.19450939e-01,  8.96494691e-01, -3.07925868e-01,\n",
       "        0.00000000e+00, -3.47689459e-01, -5.24232069e-01,  1.09543683e-01,\n",
       "        4.24430762e-01, -2.68737156e-01, -5.31564413e-01,  2.89664535e-01,\n",
       "       -3.20578393e-01,  6.08489748e-01, -4.56505852e-01, -4.57884405e-01,\n",
       "        5.96851007e-02, -1.90191542e-01, -6.71491684e-01,  4.34526228e-01,\n",
       "       -2.61248160e-02, -7.62183454e-01,  6.85692177e-01,  8.62567858e-02,\n",
       "       -1.72074310e-01,  9.88431599e-01, -1.19654898e-01, -3.20930996e-01,\n",
       "       -1.10437716e+00,  1.58671293e-01,  0.00000000e+00, -4.65713104e-01,\n",
       "        6.96227449e-01,  2.20842416e-01, -4.06812309e-02,  8.65712170e-02,\n",
       "        2.37243833e-01, -4.23004862e-01,  1.65723777e-01,  1.61828468e-02,\n",
       "        1.02555532e-01, -1.98223474e-01,  5.44864452e-01, -3.84665891e-01,\n",
       "        3.05698873e-01,  3.05470285e-01,  2.03622940e-01,  7.42910844e-02,\n",
       "        4.46472177e-01,  3.54569621e-01, -1.05859799e+00,  2.28018095e-01,\n",
       "       -2.38781728e-01, -1.34545975e-01,  1.78814630e-01,  3.63499994e-01,\n",
       "       -2.33109640e-01, -1.93078307e-01,  5.62180236e-01, -1.80219498e-01,\n",
       "        5.76745116e-01, -1.89934292e-01, -5.06332238e-01, -8.28865313e-02,\n",
       "        5.98544273e-01, -4.11756904e-01, -4.10284313e-01, -3.74250913e-02,\n",
       "       -3.99255276e-01, -1.71160960e-01,  1.74571070e-01,  3.82098788e-01,\n",
       "        2.34251144e-01,  1.24318787e-01,  4.31421167e-01,  1.13221906e-01,\n",
       "        1.85830186e-01,  2.46386342e-01,  1.62054334e-01,  2.28440798e-01,\n",
       "       -4.56864827e-01, -5.45137453e-02,  2.34705697e-01, -1.05056850e-01,\n",
       "        1.25427533e+00, -7.33438307e-01,  4.29040073e-01, -4.66342758e-01,\n",
       "        6.79263123e-01,  4.70102134e-01, -4.53091697e-01,  2.21878278e-01,\n",
       "       -2.88113249e-01, -1.50788576e-01,  1.81063295e-01,  5.73970839e-01,\n",
       "       -1.07615384e-01, -5.13362646e-02, -3.17957139e-01,  6.36404760e-01,\n",
       "        1.33715590e-01, -7.96968122e-02,  2.02619470e-01,  7.77831587e-01,\n",
       "        8.08916937e-01, -1.66097816e-01,  8.70596625e-02,  3.54585843e-01,\n",
       "        3.29753724e-01, -1.18278192e-01,  4.62814797e-01,  2.27075184e-02,\n",
       "       -4.46329045e-01, -8.46524311e-01,  2.89312512e-03,  4.66802888e-01,\n",
       "        4.61432453e-01, -2.33756605e-01,  2.57234074e-01, -5.59553822e-01,\n",
       "       -1.06241321e-02, -2.72263812e-01, -9.17177887e-01,  2.71619887e-01,\n",
       "        6.18684694e-01,  5.05529216e-01, -2.84969250e-01, -4.49503272e-01,\n",
       "        1.07939520e+00, -4.30612652e-01,  9.75337708e-02,  1.80893410e-01,\n",
       "       -2.91815486e-01,  2.93863226e-01, -2.87951873e-01, -3.13220147e-01,\n",
       "        5.03546281e-02,  4.78840747e-01,  3.67026752e-01, -1.47050179e-01,\n",
       "       -5.86779951e-01,  4.70043909e-01,  3.22159020e-02, -9.41404261e-01,\n",
       "       -1.16107458e-03,  9.91189925e-01,  1.22954215e+00,  1.06891135e+00,\n",
       "        8.90634269e-01, -2.53516810e-01,  3.04230421e-01,  7.46233475e-01,\n",
       "       -1.36302577e-01,  2.23775699e-01, -9.90610647e-02, -1.33850169e-01,\n",
       "        6.43014901e-02,  1.14865606e+00,  1.32745340e+00,  4.20497299e-01,\n",
       "       -7.45684060e-01, -3.63747739e-01,  1.11917357e-01,  6.50117430e-01,\n",
       "        1.33023390e-01, -1.80635066e-01,  7.33599579e-01, -8.23401020e-02,\n",
       "        1.87329671e-01, -4.75530553e-01,  6.50189873e-01, -1.25574436e-01,\n",
       "       -1.76501266e-01, -5.52606527e-01,  1.45956001e-01, -4.25692745e-01,\n",
       "        7.00650426e-02, -7.48900418e-01,  6.56060152e-01, -5.46321251e-01,\n",
       "       -9.45533434e-02, -4.62281565e-01, -7.44344340e-01, -1.34611602e-01,\n",
       "       -1.61169684e+00, -3.59417444e-03])"
      ]
     },
     "execution_count": 806,
     "metadata": {},
     "output_type": "execute_result"
    }
   ],
   "source": [
    "clf.coef_[0]"
   ]
  },
  {
   "cell_type": "markdown",
   "metadata": {},
   "source": [
    "## Feature Importance"
   ]
  },
  {
   "cell_type": "code",
   "execution_count": 807,
   "metadata": {},
   "outputs": [
    {
     "data": {
      "image/png": "[encoded data removed]",
      "text/plain": [
       "<Figure size 720x1080 with 1 Axes>"
      ]
     },
     "metadata": {},
     "output_type": "display_data"
    }
   ],
   "source": [
    "feature_importance = abs(clf.coef_[0])\n",
    "feature_importance = 100.0 * (feature_importance / feature_importance.max())\n",
    "sorted_idx = np.argsort(feature_importance)\n",
    "pos = np.arange(sorted_idx.shape[0]) + .5\n",
    "\n",
    "featfig = plt.figure(figsize=(10, 15))\n",
    "featax = featfig.add_subplot(1, 1, 1)\n",
    "featax.barh(pos, feature_importance[sorted_idx], align='center')\n",
    "featax.set_yticks(pos)\n",
    "featax.set_yticklabels(np.array(X.columns)[sorted_idx], fontsize=8)\n",
    "\n",
    "plt.show()"
   ]
  },
  {
   "cell_type": "code",
   "execution_count": 808,
   "metadata": {},
   "outputs": [],
   "source": [
    "# NLP Machine Learning on Description"
   ]
  },
  {
   "cell_type": "code",
   "execution_count": null,
   "metadata": {},
   "outputs": [],
   "source": []
  },
  {
   "cell_type": "code",
   "execution_count": null,
   "metadata": {},
   "outputs": [],
   "source": []
  },
  {
   "cell_type": "code",
   "execution_count": null,
   "metadata": {},
   "outputs": [],
   "source": []
  },
  {
   "cell_type": "markdown",
   "metadata": {
    "id": "NwIN6bu_478y"
   },
   "source": [
    "# Analysis"
   ]
  },
  {
   "cell_type": "code",
   "execution_count": 809,
   "metadata": {
    "id": "_9qXV5zl478z"
   },
   "outputs": [
    {
     "data": {
      "text/plain": [
       "count     5440.000000\n",
       "mean      2063.652941\n",
       "std       3569.598818\n",
       "min          1.000000\n",
       "25%        670.750000\n",
       "50%       1300.000000\n",
       "75%       2100.000000\n",
       "max      72000.000000\n",
       "Name: views, dtype: float64"
      ]
     },
     "execution_count": 809,
     "metadata": {},
     "output_type": "execute_result"
    }
   ],
   "source": [
    "# #what constitude a good video based on views?\n",
    "y=1000\n",
    "df_graph=df.views.apply(lambda x: round(x/y,0))\n",
    "df_graph.describe()"
   ]
  },
  {
   "cell_type": "markdown",
   "metadata": {
    "id": "pvJFwsUP478z"
   },
   "source": [
    "### Top 10 Liked Videos"
   ]
  },
  {
   "cell_type": "code",
   "execution_count": 810,
   "metadata": {
    "id": "Kii_B_Jt478z"
   },
   "outputs": [
    {
     "data": {
      "text/html": [
       "<div>\n",
       "<style scoped>\n",
       "    .dataframe tbody tr th:only-of-type {\n",
       "        vertical-align: middle;\n",
       "    }\n",
       "\n",
       "    .dataframe tbody tr th {\n",
       "        vertical-align: top;\n",
       "    }\n",
       "\n",
       "    .dataframe thead th {\n",
       "        text-align: right;\n",
       "    }\n",
       "</style>\n",
       "<table border=\"1\" class=\"dataframe\">\n",
       "  <thead>\n",
       "    <tr style=\"text-align: right;\">\n",
       "      <th></th>\n",
       "      <th>title</th>\n",
       "      <th>author</th>\n",
       "      <th>date_recorded_year</th>\n",
       "      <th>views</th>\n",
       "      <th>likes</th>\n",
       "    </tr>\n",
       "  </thead>\n",
       "  <tbody>\n",
       "    <tr>\n",
       "      <th>0</th>\n",
       "      <td>Do schools kill creativity?</td>\n",
       "      <td>Sir Ken Robinson</td>\n",
       "      <td>2006</td>\n",
       "      <td>72000000</td>\n",
       "      <td>2100000</td>\n",
       "    </tr>\n",
       "    <tr>\n",
       "      <th>1</th>\n",
       "      <td>The self-organizing computer course</td>\n",
       "      <td>Amy Cuddy</td>\n",
       "      <td>2012</td>\n",
       "      <td>64000000</td>\n",
       "      <td>1900000</td>\n",
       "    </tr>\n",
       "    <tr>\n",
       "      <th>2</th>\n",
       "      <td>Inside the mind of a master procrastinator</td>\n",
       "      <td>Tim Urban</td>\n",
       "      <td>2016</td>\n",
       "      <td>60000000</td>\n",
       "      <td>1800000</td>\n",
       "    </tr>\n",
       "    <tr>\n",
       "      <th>3</th>\n",
       "      <td>The power of vulnerability</td>\n",
       "      <td>Brené Brown</td>\n",
       "      <td>2010</td>\n",
       "      <td>56000000</td>\n",
       "      <td>1700000</td>\n",
       "    </tr>\n",
       "    <tr>\n",
       "      <th>4</th>\n",
       "      <td>How great leaders inspire action</td>\n",
       "      <td>Simon Sinek</td>\n",
       "      <td>2009</td>\n",
       "      <td>57000000</td>\n",
       "      <td>1700000</td>\n",
       "    </tr>\n",
       "    <tr>\n",
       "      <th>...</th>\n",
       "      <td>...</td>\n",
       "      <td>...</td>\n",
       "      <td>...</td>\n",
       "      <td>...</td>\n",
       "      <td>...</td>\n",
       "    </tr>\n",
       "    <tr>\n",
       "      <th>1338</th>\n",
       "      <td>Why elephants never forget</td>\n",
       "      <td>Leana Wen</td>\n",
       "      <td>2014</td>\n",
       "      <td>2200000</td>\n",
       "      <td>66000</td>\n",
       "    </tr>\n",
       "    <tr>\n",
       "      <th>1339</th>\n",
       "      <td>What if we digitally empowered community healt...</td>\n",
       "      <td>Hugh Herr</td>\n",
       "      <td>2018</td>\n",
       "      <td>2200000</td>\n",
       "      <td>66000</td>\n",
       "    </tr>\n",
       "    <tr>\n",
       "      <th>1340</th>\n",
       "      <td>Why elephants never forget</td>\n",
       "      <td>Alejandro Aravena</td>\n",
       "      <td>2014</td>\n",
       "      <td>2200000</td>\n",
       "      <td>66000</td>\n",
       "    </tr>\n",
       "    <tr>\n",
       "      <th>1341</th>\n",
       "      <td>How humanity can reach the stars</td>\n",
       "      <td>Laurence Hurst</td>\n",
       "      <td>2020</td>\n",
       "      <td>2200000</td>\n",
       "      <td>66000</td>\n",
       "    </tr>\n",
       "    <tr>\n",
       "      <th>1342</th>\n",
       "      <td>Why you shouldn't worry about pooping once a day</td>\n",
       "      <td>Emily Nagoski and Amelia Nagoski</td>\n",
       "      <td>2021</td>\n",
       "      <td>2200000</td>\n",
       "      <td>66000</td>\n",
       "    </tr>\n",
       "  </tbody>\n",
       "</table>\n",
       "<p>1343 rows × 5 columns</p>\n",
       "</div>"
      ],
      "text/plain": [
       "                                                  title  \\\n",
       "0                           Do schools kill creativity?   \n",
       "1                   The self-organizing computer course   \n",
       "2            Inside the mind of a master procrastinator   \n",
       "3                            The power of vulnerability   \n",
       "4                      How great leaders inspire action   \n",
       "...                                                 ...   \n",
       "1338                         Why elephants never forget   \n",
       "1339  What if we digitally empowered community healt...   \n",
       "1340                         Why elephants never forget   \n",
       "1341                   How humanity can reach the stars   \n",
       "1342   Why you shouldn't worry about pooping once a day   \n",
       "\n",
       "                                author  date_recorded_year     views    likes  \n",
       "0                     Sir Ken Robinson                2006  72000000  2100000  \n",
       "1                            Amy Cuddy                2012  64000000  1900000  \n",
       "2                            Tim Urban                2016  60000000  1800000  \n",
       "3                          Brené Brown                2010  56000000  1700000  \n",
       "4                          Simon Sinek                2009  57000000  1700000  \n",
       "...                                ...                 ...       ...      ...  \n",
       "1338                         Leana Wen                2014   2200000    66000  \n",
       "1339                         Hugh Herr                2018   2200000    66000  \n",
       "1340                 Alejandro Aravena                2014   2200000    66000  \n",
       "1341                    Laurence Hurst                2020   2200000    66000  \n",
       "1342  Emily Nagoski and Amelia Nagoski                2021   2200000    66000  \n",
       "\n",
       "[1343 rows x 5 columns]"
      ]
     },
     "execution_count": 810,
     "metadata": {},
     "output_type": "execute_result"
    }
   ],
   "source": [
    "#build data: These are the 75% most liked videos\n",
    "y_var='likes'\n",
    "df_grap = (\n",
    "    (df.groupby(['title','author','date_recorded_year','views'])[y_var].sum().reset_index())\n",
    "    .sort_values([y_var],ascending=[False])\n",
    "    ).reset_index()\n",
    "df_grap=df_grap.drop('index', axis=1)\n",
    "df_grap = df_grap[df_grap[y_var] > 65000]\n",
    "df_grap"
   ]
  },
  {
   "cell_type": "code",
   "execution_count": 811,
   "metadata": {
    "id": "dkOKsGPN4780"
   },
   "outputs": [
    {
     "data": {
      "text/html": [
       "<div>\n",
       "<style scoped>\n",
       "    .dataframe tbody tr th:only-of-type {\n",
       "        vertical-align: middle;\n",
       "    }\n",
       "\n",
       "    .dataframe tbody tr th {\n",
       "        vertical-align: top;\n",
       "    }\n",
       "\n",
       "    .dataframe thead th {\n",
       "        text-align: right;\n",
       "    }\n",
       "</style>\n",
       "<table border=\"1\" class=\"dataframe\">\n",
       "  <thead>\n",
       "    <tr style=\"text-align: right;\">\n",
       "      <th></th>\n",
       "      <th>title</th>\n",
       "      <th>author</th>\n",
       "      <th>date_recorded_year</th>\n",
       "      <th>views</th>\n",
       "      <th>likes</th>\n",
       "    </tr>\n",
       "  </thead>\n",
       "  <tbody>\n",
       "    <tr>\n",
       "      <th>0</th>\n",
       "      <td>Do schools kill creativity?</td>\n",
       "      <td>Sir Ken Robinson</td>\n",
       "      <td>2006</td>\n",
       "      <td>72000000</td>\n",
       "      <td>2100000</td>\n",
       "    </tr>\n",
       "    <tr>\n",
       "      <th>1</th>\n",
       "      <td>The self-organizing computer course</td>\n",
       "      <td>Amy Cuddy</td>\n",
       "      <td>2012</td>\n",
       "      <td>64000000</td>\n",
       "      <td>1900000</td>\n",
       "    </tr>\n",
       "    <tr>\n",
       "      <th>2</th>\n",
       "      <td>Inside the mind of a master procrastinator</td>\n",
       "      <td>Tim Urban</td>\n",
       "      <td>2016</td>\n",
       "      <td>60000000</td>\n",
       "      <td>1800000</td>\n",
       "    </tr>\n",
       "    <tr>\n",
       "      <th>3</th>\n",
       "      <td>The power of vulnerability</td>\n",
       "      <td>Brené Brown</td>\n",
       "      <td>2010</td>\n",
       "      <td>56000000</td>\n",
       "      <td>1700000</td>\n",
       "    </tr>\n",
       "    <tr>\n",
       "      <th>4</th>\n",
       "      <td>How great leaders inspire action</td>\n",
       "      <td>Simon Sinek</td>\n",
       "      <td>2009</td>\n",
       "      <td>57000000</td>\n",
       "      <td>1700000</td>\n",
       "    </tr>\n",
       "    <tr>\n",
       "      <th>5</th>\n",
       "      <td>How to speak so that people want to listen</td>\n",
       "      <td>Julian Treasure</td>\n",
       "      <td>2013</td>\n",
       "      <td>49000000</td>\n",
       "      <td>1400000</td>\n",
       "    </tr>\n",
       "    <tr>\n",
       "      <th>6</th>\n",
       "      <td>The next outbreak? We're not ready</td>\n",
       "      <td>Bill Gates</td>\n",
       "      <td>2015</td>\n",
       "      <td>43000000</td>\n",
       "      <td>1300000</td>\n",
       "    </tr>\n",
       "    <tr>\n",
       "      <th>7</th>\n",
       "      <td>My philosophy for a happy life</td>\n",
       "      <td>Sam Berns</td>\n",
       "      <td>2013</td>\n",
       "      <td>43000000</td>\n",
       "      <td>1300000</td>\n",
       "    </tr>\n",
       "    <tr>\n",
       "      <th>8</th>\n",
       "      <td>What makes a good life? Lessons from the longe...</td>\n",
       "      <td>Robert Waldinger</td>\n",
       "      <td>2015</td>\n",
       "      <td>41000000</td>\n",
       "      <td>1200000</td>\n",
       "    </tr>\n",
       "    <tr>\n",
       "      <th>9</th>\n",
       "      <td>Why people believe they can't draw</td>\n",
       "      <td>Graham Shaw</td>\n",
       "      <td>2015</td>\n",
       "      <td>37000000</td>\n",
       "      <td>1100000</td>\n",
       "    </tr>\n",
       "    <tr>\n",
       "      <th>10</th>\n",
       "      <td>Could a Saturn moon harbor life?</td>\n",
       "      <td>Mary Roach</td>\n",
       "      <td>2009</td>\n",
       "      <td>37000000</td>\n",
       "      <td>1100000</td>\n",
       "    </tr>\n",
       "    <tr>\n",
       "      <th>11</th>\n",
       "      <td>Looks aren't everything. Believe me, I'm a model.</td>\n",
       "      <td>Cameron Russell</td>\n",
       "      <td>2012</td>\n",
       "      <td>38000000</td>\n",
       "      <td>1100000</td>\n",
       "    </tr>\n",
       "    <tr>\n",
       "      <th>12</th>\n",
       "      <td>The orchestra in my mouth</td>\n",
       "      <td>Tom Thum</td>\n",
       "      <td>2013</td>\n",
       "      <td>34000000</td>\n",
       "      <td>1000000</td>\n",
       "    </tr>\n",
       "    <tr>\n",
       "      <th>13</th>\n",
       "      <td>How to spot a liar</td>\n",
       "      <td>Pamela Meyer</td>\n",
       "      <td>2011</td>\n",
       "      <td>31000000</td>\n",
       "      <td>953000</td>\n",
       "    </tr>\n",
       "    <tr>\n",
       "      <th>14</th>\n",
       "      <td>The art of misdirection</td>\n",
       "      <td>Apollo Robbins</td>\n",
       "      <td>2013</td>\n",
       "      <td>31000000</td>\n",
       "      <td>933000</td>\n",
       "    </tr>\n",
       "    <tr>\n",
       "      <th>15</th>\n",
       "      <td>Why I must speak out about climate change</td>\n",
       "      <td>Susan Cain</td>\n",
       "      <td>2012</td>\n",
       "      <td>30000000</td>\n",
       "      <td>915000</td>\n",
       "    </tr>\n",
       "    <tr>\n",
       "      <th>16</th>\n",
       "      <td>manspace</td>\n",
       "      <td>Chimamanda Ngozi Adichie</td>\n",
       "      <td>2009</td>\n",
       "      <td>30000000</td>\n",
       "      <td>909000</td>\n",
       "    </tr>\n",
       "    <tr>\n",
       "      <th>17</th>\n",
       "      <td>10 young Indian artists to watch</td>\n",
       "      <td>David Blaine</td>\n",
       "      <td>2009</td>\n",
       "      <td>28000000</td>\n",
       "      <td>857000</td>\n",
       "    </tr>\n",
       "    <tr>\n",
       "      <th>18</th>\n",
       "      <td>For more wonder, rewild the world</td>\n",
       "      <td>Kelly McGonigal</td>\n",
       "      <td>2013</td>\n",
       "      <td>28000000</td>\n",
       "      <td>855000</td>\n",
       "    </tr>\n",
       "    <tr>\n",
       "      <th>19</th>\n",
       "      <td>How to stop screwing yourself over</td>\n",
       "      <td>Mel Robbins</td>\n",
       "      <td>2011</td>\n",
       "      <td>28000000</td>\n",
       "      <td>855000</td>\n",
       "    </tr>\n",
       "    <tr>\n",
       "      <th>20</th>\n",
       "      <td>The future we're building -- and boring</td>\n",
       "      <td>Elon Musk</td>\n",
       "      <td>2017</td>\n",
       "      <td>28000000</td>\n",
       "      <td>849000</td>\n",
       "    </tr>\n",
       "    <tr>\n",
       "      <th>21</th>\n",
       "      <td>My stroke of insight</td>\n",
       "      <td>Jill Bolte Taylor</td>\n",
       "      <td>2008</td>\n",
       "      <td>28000000</td>\n",
       "      <td>844000</td>\n",
       "    </tr>\n",
       "    <tr>\n",
       "      <th>22</th>\n",
       "      <td>A demo of wireless electricity</td>\n",
       "      <td>Dan Pink</td>\n",
       "      <td>2009</td>\n",
       "      <td>28000000</td>\n",
       "      <td>843000</td>\n",
       "    </tr>\n",
       "    <tr>\n",
       "      <th>23</th>\n",
       "      <td>Strange answers to the psychopath test</td>\n",
       "      <td>Jon Ronson</td>\n",
       "      <td>2012</td>\n",
       "      <td>27000000</td>\n",
       "      <td>838000</td>\n",
       "    </tr>\n",
       "    <tr>\n",
       "      <th>24</th>\n",
       "      <td>The science of skin color</td>\n",
       "      <td>Celeste Headlee</td>\n",
       "      <td>2015</td>\n",
       "      <td>26000000</td>\n",
       "      <td>789000</td>\n",
       "    </tr>\n",
       "    <tr>\n",
       "      <th>25</th>\n",
       "      <td>Deep ocean mysteries and wonders</td>\n",
       "      <td>Chris Anderson (TED)</td>\n",
       "      <td>2012</td>\n",
       "      <td>26000000</td>\n",
       "      <td>782000</td>\n",
       "    </tr>\n",
       "    <tr>\n",
       "      <th>26</th>\n",
       "      <td>Grit: The power of passion and perseverance</td>\n",
       "      <td>Angela Lee Duckworth</td>\n",
       "      <td>2013</td>\n",
       "      <td>25000000</td>\n",
       "      <td>773000</td>\n",
       "    </tr>\n",
       "    <tr>\n",
       "      <th>27</th>\n",
       "      <td>My underwater robot</td>\n",
       "      <td>Rose Eveleth</td>\n",
       "      <td>2013</td>\n",
       "      <td>12000000</td>\n",
       "      <td>746000</td>\n",
       "    </tr>\n",
       "    <tr>\n",
       "      <th>28</th>\n",
       "      <td>The universal anesthesia machine</td>\n",
       "      <td>Shawn Achor</td>\n",
       "      <td>2011</td>\n",
       "      <td>24000000</td>\n",
       "      <td>732000</td>\n",
       "    </tr>\n",
       "    <tr>\n",
       "      <th>29</th>\n",
       "      <td>Can you solve the prisoner hat riddle?</td>\n",
       "      <td>Alex Gendler</td>\n",
       "      <td>2015</td>\n",
       "      <td>24000000</td>\n",
       "      <td>723000</td>\n",
       "    </tr>\n",
       "  </tbody>\n",
       "</table>\n",
       "</div>"
      ],
      "text/plain": [
       "                                                title  \\\n",
       "0                         Do schools kill creativity?   \n",
       "1                 The self-organizing computer course   \n",
       "2          Inside the mind of a master procrastinator   \n",
       "3                          The power of vulnerability   \n",
       "4                    How great leaders inspire action   \n",
       "5          How to speak so that people want to listen   \n",
       "6                  The next outbreak? We're not ready   \n",
       "7                      My philosophy for a happy life   \n",
       "8   What makes a good life? Lessons from the longe...   \n",
       "9                  Why people believe they can't draw   \n",
       "10                   Could a Saturn moon harbor life?   \n",
       "11  Looks aren't everything. Believe me, I'm a model.   \n",
       "12                          The orchestra in my mouth   \n",
       "13                                 How to spot a liar   \n",
       "14                            The art of misdirection   \n",
       "15          Why I must speak out about climate change   \n",
       "16                                           manspace   \n",
       "17                   10 young Indian artists to watch   \n",
       "18                  For more wonder, rewild the world   \n",
       "19                 How to stop screwing yourself over   \n",
       "20            The future we're building -- and boring   \n",
       "21                               My stroke of insight   \n",
       "22                     A demo of wireless electricity   \n",
       "23             Strange answers to the psychopath test   \n",
       "24                          The science of skin color   \n",
       "25                   Deep ocean mysteries and wonders   \n",
       "26        Grit: The power of passion and perseverance   \n",
       "27                                My underwater robot   \n",
       "28                   The universal anesthesia machine   \n",
       "29             Can you solve the prisoner hat riddle?   \n",
       "\n",
       "                      author  date_recorded_year     views    likes  \n",
       "0           Sir Ken Robinson                2006  72000000  2100000  \n",
       "1                  Amy Cuddy                2012  64000000  1900000  \n",
       "2                  Tim Urban                2016  60000000  1800000  \n",
       "3                Brené Brown                2010  56000000  1700000  \n",
       "4                Simon Sinek                2009  57000000  1700000  \n",
       "5            Julian Treasure                2013  49000000  1400000  \n",
       "6                 Bill Gates                2015  43000000  1300000  \n",
       "7                  Sam Berns                2013  43000000  1300000  \n",
       "8           Robert Waldinger                2015  41000000  1200000  \n",
       "9                Graham Shaw                2015  37000000  1100000  \n",
       "10                Mary Roach                2009  37000000  1100000  \n",
       "11           Cameron Russell                2012  38000000  1100000  \n",
       "12                  Tom Thum                2013  34000000  1000000  \n",
       "13              Pamela Meyer                2011  31000000   953000  \n",
       "14            Apollo Robbins                2013  31000000   933000  \n",
       "15                Susan Cain                2012  30000000   915000  \n",
       "16  Chimamanda Ngozi Adichie                2009  30000000   909000  \n",
       "17              David Blaine                2009  28000000   857000  \n",
       "18           Kelly McGonigal                2013  28000000   855000  \n",
       "19               Mel Robbins                2011  28000000   855000  \n",
       "20                 Elon Musk                2017  28000000   849000  \n",
       "21         Jill Bolte Taylor                2008  28000000   844000  \n",
       "22                  Dan Pink                2009  28000000   843000  \n",
       "23                Jon Ronson                2012  27000000   838000  \n",
       "24           Celeste Headlee                2015  26000000   789000  \n",
       "25      Chris Anderson (TED)                2012  26000000   782000  \n",
       "26      Angela Lee Duckworth                2013  25000000   773000  \n",
       "27              Rose Eveleth                2013  12000000   746000  \n",
       "28               Shawn Achor                2011  24000000   732000  \n",
       "29              Alex Gendler                2015  24000000   723000  "
      ]
     },
     "execution_count": 811,
     "metadata": {},
     "output_type": "execute_result"
    }
   ],
   "source": [
    "#This is taking the 75% percentile on liked videos\n",
    "#Modifiable variables\n",
    "y_var='likes'\n",
    "\n",
    "#build data\n",
    "df_grap = (\n",
    "    (df.groupby(['title','author','date_recorded_year','views'])[y_var].sum().reset_index())\n",
    "    .sort_values([y_var],ascending=[False])\n",
    "    ).reset_index()\n",
    "df_grap=df_grap.drop('index', axis=1)\n",
    "df_grap = df_grap[df_grap[y_var] > 65000]\n",
    "df_grap.head(30)"
   ]
  },
  {
   "cell_type": "markdown",
   "metadata": {
    "id": "WBEJ5F5-4780"
   },
   "source": [
    "### Top 10 Authors"
   ]
  },
  {
   "cell_type": "code",
   "execution_count": 812,
   "metadata": {
    "id": "sVvE1w3w4780"
   },
   "outputs": [
    {
     "data": {
      "text/html": [
       "<div>\n",
       "<style scoped>\n",
       "    .dataframe tbody tr th:only-of-type {\n",
       "        vertical-align: middle;\n",
       "    }\n",
       "\n",
       "    .dataframe tbody tr th {\n",
       "        vertical-align: top;\n",
       "    }\n",
       "\n",
       "    .dataframe thead th {\n",
       "        text-align: right;\n",
       "    }\n",
       "</style>\n",
       "<table border=\"1\" class=\"dataframe\">\n",
       "  <thead>\n",
       "    <tr style=\"text-align: right;\">\n",
       "      <th></th>\n",
       "      <th>author</th>\n",
       "      <th>likes</th>\n",
       "      <th>views</th>\n",
       "    </tr>\n",
       "  </thead>\n",
       "  <tbody>\n",
       "    <tr>\n",
       "      <th>0</th>\n",
       "      <td>Sir Ken Robinson</td>\n",
       "      <td>2100000</td>\n",
       "      <td>72000000</td>\n",
       "    </tr>\n",
       "    <tr>\n",
       "      <th>1</th>\n",
       "      <td>Amy Cuddy</td>\n",
       "      <td>1900000</td>\n",
       "      <td>64000000</td>\n",
       "    </tr>\n",
       "    <tr>\n",
       "      <th>2</th>\n",
       "      <td>Tim Urban</td>\n",
       "      <td>1800000</td>\n",
       "      <td>60000000</td>\n",
       "    </tr>\n",
       "    <tr>\n",
       "      <th>3</th>\n",
       "      <td>Simon Sinek</td>\n",
       "      <td>1700000</td>\n",
       "      <td>57000000</td>\n",
       "    </tr>\n",
       "    <tr>\n",
       "      <th>4</th>\n",
       "      <td>Brené Brown</td>\n",
       "      <td>1700000</td>\n",
       "      <td>56000000</td>\n",
       "    </tr>\n",
       "    <tr>\n",
       "      <th>5</th>\n",
       "      <td>Julian Treasure</td>\n",
       "      <td>1400000</td>\n",
       "      <td>49000000</td>\n",
       "    </tr>\n",
       "    <tr>\n",
       "      <th>6</th>\n",
       "      <td>Bill Gates</td>\n",
       "      <td>1300000</td>\n",
       "      <td>43000000</td>\n",
       "    </tr>\n",
       "    <tr>\n",
       "      <th>7</th>\n",
       "      <td>Sam Berns</td>\n",
       "      <td>1300000</td>\n",
       "      <td>43000000</td>\n",
       "    </tr>\n",
       "    <tr>\n",
       "      <th>8</th>\n",
       "      <td>Robert Waldinger</td>\n",
       "      <td>1200000</td>\n",
       "      <td>41000000</td>\n",
       "    </tr>\n",
       "    <tr>\n",
       "      <th>9</th>\n",
       "      <td>Cameron Russell</td>\n",
       "      <td>1100000</td>\n",
       "      <td>38000000</td>\n",
       "    </tr>\n",
       "  </tbody>\n",
       "</table>\n",
       "</div>"
      ],
      "text/plain": [
       "             author    likes     views\n",
       "0  Sir Ken Robinson  2100000  72000000\n",
       "1         Amy Cuddy  1900000  64000000\n",
       "2         Tim Urban  1800000  60000000\n",
       "3       Simon Sinek  1700000  57000000\n",
       "4       Brené Brown  1700000  56000000\n",
       "5   Julian Treasure  1400000  49000000\n",
       "6        Bill Gates  1300000  43000000\n",
       "7         Sam Berns  1300000  43000000\n",
       "8  Robert Waldinger  1200000  41000000\n",
       "9   Cameron Russell  1100000  38000000"
      ]
     },
     "execution_count": 812,
     "metadata": {},
     "output_type": "execute_result"
    }
   ],
   "source": [
    "#Modifiable variables\n",
    "y_var='views'\n",
    "x_var1='author'\n",
    "x_var2='likes'\n",
    "\n",
    "#build data\n",
    "df_grap = (\n",
    "    (df.groupby([x_var1, x_var2])[y_var].sum().reset_index())\n",
    "    .sort_values([y_var],ascending=[False])\n",
    "    ).reset_index().head(10)\n",
    "df_grap=df_grap.drop('index', axis=1)\n",
    "df_grap"
   ]
  },
  {
   "cell_type": "code",
   "execution_count": 813,
   "metadata": {
    "id": "RnMUu55i4781"
   },
   "outputs": [],
   "source": [
    "# #visualize\n",
    "# x_var='author'\n",
    "# y_var='views'\n",
    "# sns.set_theme(style=\"white\")\n",
    "# ax = sns.barplot(x=y_var, y=x_var, data=df_grap, orient=\"h\")"
   ]
  },
  {
   "cell_type": "code",
   "execution_count": 814,
   "metadata": {
    "id": "oXivxzZz4781",
    "scrolled": false
   },
   "outputs": [],
   "source": [
    "# #visualize\n",
    "# x_var='author'\n",
    "# y_var='likes'\n",
    "# sns.set_theme(style=\"white\")\n",
    "# ax = sns.barplot(x=y_var, y=x_var, data=df_grap, orient=\"h\", palette=\"Blues_d\")"
   ]
  },
  {
   "cell_type": "code",
   "execution_count": 815,
   "metadata": {
    "id": "YZtYd7lC4781"
   },
   "outputs": [],
   "source": [
    "#from pandasql import sqldf\n",
    "# q = \"\"\"\n",
    "# SELECT\n",
    "# `title`\n",
    "# FROM\n",
    "# df\n",
    "# LIMIT 5\n",
    "# \"\"\"\n",
    "# print(sqldf(q))"
   ]
  },
  {
   "cell_type": "markdown",
   "metadata": {
    "id": "SO74xRWm4782"
   },
   "source": [
    "Areas of improvements:\n",
    "    \n",
    "    1) More information on the authors. Understanding age, gender and nationality of authors, may answer questions related to diversity of the speakers. This data could be parcially scrapped from Wikipedia as there is a dedicated website that tracks this information. \n",
    "    https://en.wikipedia.org/wiki/List_of_TED_speakers"
   ]
  },
  {
   "cell_type": "code",
   "execution_count": null,
   "metadata": {
    "id": "NWAkBBmK4782"
   },
   "outputs": [],
   "source": []
  },
  {
   "cell_type": "code",
   "execution_count": null,
   "metadata": {
    "id": "mMtRSdb04782"
   },
   "outputs": [],
   "source": []
  },
  {
   "cell_type": "code",
   "execution_count": null,
   "metadata": {
    "id": "gUj0ooG_4782"
   },
   "outputs": [],
   "source": []
  },
  {
   "cell_type": "code",
   "execution_count": null,
   "metadata": {
    "id": "XOHs0tzv4782"
   },
   "outputs": [],
   "source": []
  }
 ],
 "metadata": {
  "colab": {
   "collapsed_sections": [],
   "name": "colab.ipynb",
   "provenance": []
  },
  "kernelspec": {
   "display_name": "analytics",
   "language": "python",
   "name": "analytics"
  },
  "language_info": {
   "codemirror_mode": {
    "name": "ipython",
    "version": 3
   },
   "file_extension": ".py",
   "mimetype": "text/x-python",
   "name": "python",
   "nbconvert_exporter": "python",
   "pygments_lexer": "ipython3",
   "version": "3.8.5"
  }
 },
 "nbformat": 4,
 "nbformat_minor": 1
}
