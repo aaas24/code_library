{
 "cells": [
  {
   "cell_type": "code",
   "execution_count": 133,
   "metadata": {
    "id": "2dGer9wZ478q"
   },
   "outputs": [],
   "source": [
    "import pandas as pd\n",
    "import seaborn as sns\n",
    "import numpy as np\n",
    "import matplotlib.pyplot as plt\n",
    "import os as os\n",
    "\n",
    "#ML Regression, Decision Trees\n",
    "from sklearn.preprocessing import StandardScaler, LabelEncoder\n",
    "from sklearn.model_selection import train_test_split\n",
    "from sklearn.linear_model import LogisticRegression\n",
    "from sklearn.metrics import roc_curve\n",
    "from sklearn.metrics import roc_auc_score\n",
    "from sklearn.metrics import confusion_matrix\n",
    "from sklearn.model_selection import train_test_split\n",
    "\n",
    "#ML PCA\n",
    "from scipy.cluster import hierarchy\n",
    "import seaborn as sns\n",
    "from sklearn import decomposition, preprocessing, cluster, tree\n",
    "import pydotplus\n",
    "from yellowbrick.cluster.silhouette import SilhouetteVisualizer"
   ]
  },
  {
   "cell_type": "markdown",
   "metadata": {
    "id": "vDfILyVkFp3Q"
   },
   "source": [
    "# Preprocessing Data\n",
    "\n",
    "&nbsp; With a more robust dataset obtained in Step 2, we will proceed to clean and generate two base DataFrame to be used in the following steps."
   ]
  },
  {
   "cell_type": "code",
   "execution_count": 144,
   "metadata": {
    "id": "_dXfGYaz53zq"
   },
   "outputs": [],
   "source": [
    "def preprocessing(df):  \n",
    "\n",
    "    #drop duplicated columns\n",
    "    drop_column=['description2', 'Unnamed: 0', 'link', 'author_y', 'title','url', 'title_1']\n",
    "    df=df.drop(drop_column,axis=1)\n",
    "    \n",
    "    #renaming\n",
    "    column_names=['author', 'date_recorded', 'views', 'likes', 'title',\n",
    "       'description_1', 'duration_seg', 'date_released', 'keywords','description_2']\n",
    "    df.columns=column_names\n",
    "\n",
    "    #mm\n",
    "    #MODIFYING COLUMN: date_recorded\n",
    "    #\n",
    "    df['date_recorded']= pd.to_datetime(df['date_recorded'], format='%B %Y')\n",
    "  \n",
    "    ##separate data into new Column\n",
    "    list_months=[]\n",
    "    list_years=[]\n",
    "    for i in range(df.shape[0]):\n",
    "        list_months.append(df['date_recorded'][i].month)\n",
    "        list_years.append(df['date_recorded'][i].year)\n",
    "    df['date_recorded_year']=list_years\n",
    "    df['date_recorded_month']=list_months\n",
    "\n",
    "    #\n",
    "    #MODIFYING COLUMN: date_released\n",
    "    #\n",
    "    column='date_released'\n",
    "    df[column]= pd.to_datetime(df[column], format='%Y-%m-%d %H:%M:%S')\n",
    "\n",
    "    ##separate data into new Column\n",
    "    list_months=[]\n",
    "    list_years=[]\n",
    "    list_hours=[]\n",
    "    list_minutes=[]\n",
    "    for i in range(df.shape[0]):\n",
    "        list_months.append(df[column][i].month)\n",
    "        list_years.append(df[column][i].year)\n",
    "        list_hours.append(df[column][i].hour)\n",
    "        list_minutes.append(df[column][i].minute)\n",
    "    df[column+'_year']=list_years\n",
    "    df[column+'_month']=list_months\n",
    "    df[column+'_hour']=list_hours\n",
    "    df[column+'_minute']=list_minutes\n",
    "\n",
    "    #\n",
    "    #MODIFYING COLUMN: 'keywords'\n",
    "    #\n",
    "    df_key=df.keywords\n",
    "    i=0\n",
    "    df_result=pd.DataFrame()\n",
    "    ##transforming line into string\n",
    "    for line in df_key:\n",
    "        line=(str(line).replace(\"[\",\"\").replace(\"]\",\"\").split(','))\n",
    "        new_line=[]\n",
    "        ##removing additional spaces in words and converting the into lower case\n",
    "        for word in line:\n",
    "            word=word.lower().replace(' ', '')[1:-1]\n",
    "            new_line.append(word)\n",
    "        ##transforming line into string\n",
    "        new_line=str(new_line).replace(\"[\",\"\").replace(\"]\",\"\")\n",
    "        ##writting line into dataframe\n",
    "        df_result.at[i,'keywords2']=new_line\n",
    "        i=i+1\n",
    "  \n",
    "    df=pd.concat([df,df_result], axis=1)\n",
    "\n",
    "    #drop initial columns\n",
    "    drop_columns=['date_recorded','date_released', 'keywords']\n",
    "    df=df.drop(drop_columns, axis=1)\n",
    "    \n",
    "    return(df)"
   ]
  },
  {
   "cell_type": "code",
   "execution_count": 135,
   "metadata": {
    "id": "RtPORsv3CPVm"
   },
   "outputs": [],
   "source": [
    "def create_dummies_file(df):\n",
    "    '''\n",
    "    This function does: \n",
    "    1) convert df.keywords into dummy columns\n",
    "    2) creates a file called ''in order to manually map new categories from keywords\n",
    "    '''\n",
    "    #converting keywords into dummy columns\n",
    "    df2=df.keywords2.str.get_dummies(',')\n",
    "\n",
    "    #joining with df\n",
    "    df=pd.concat([df,df2], axis=1)\n",
    "    \n",
    "    #removing 'ted' column\n",
    "    column_to_drop=df.columns[362]\n",
    "    df2=df.drop(column_to_drop, axis=1)\n",
    "\n",
    "    #counting dummies and creating file to rename categories\n",
    "    dummy_columns=pd.Series(np.arange(15,349,1))[1:]\n",
    "    df_dummies=df.iloc[:,dummy_columns].sum().reset_index()\n",
    "    df_dummies.columns=['keyword', 'sum']\n",
    "    df2=df_dummies.copy()\n",
    "    (df2\n",
    "     .groupby(['keyword'])\n",
    "     .agg({'sum':'sum'})\n",
    "    )\n",
    "    df2=df2.sort_values(by='sum', ascending=False)\n",
    "    cwd=os.getcwd()\n",
    "    df2.to_csv(cwd+'/keywords.csv')\n",
    "    return df"
   ]
  },
  {
   "cell_type": "code",
   "execution_count": 136,
   "metadata": {
    "id": "IP5dpzAlCPVn"
   },
   "outputs": [],
   "source": [
    "def dummy_data(df):\n",
    "    '''\n",
    "    This function takes the keyword_categories.csv file and creates a new dataframe 'df_dummies' to analyze the keywords\n",
    "    '''\n",
    "    # cwd=os.getcwd()\n",
    "    # categories=pd.read_csv(cwd+'/keywords_categories.csv')\n",
    "    #for github\n",
    "    categories=pd.read_csv('https://github.com/aaas24/code_library/raw/main/ted_talks/2_preprocessing/keywords_categories.csv')\n",
    "\n",
    "    #transforming categories\n",
    "    new_cat=(categories.columns.values.tolist())\n",
    "    dic={key: None for key in new_cat}\n",
    "\n",
    "    ##creating dictionary with categories file\n",
    "    for column in range (0,categories.shape[1]):\n",
    "        dic_values=[]\n",
    "        key=new_cat[column]\n",
    "        for row in range (0,categories.shape[0]):\n",
    "            value=categories.iloc[row,column]\n",
    "            if value is np.nan:\n",
    "                pass\n",
    "            else:\n",
    "                value=value.replace(' ', '')[1:-1]\n",
    "                dic_values.append(value)\n",
    "        dic.update({key:dic_values})\n",
    "\n",
    "    ##adding column to df with \n",
    "    dummy_columns=pd.concat([df.iloc[:,16:349], df[['likes', 'views']]], axis=1)\n",
    "    df_dummies=dummy_columns.iloc[:,:-2].sum().reset_index()\n",
    "    df_dummies.columns=['sub_category', 'num_talks']\n",
    "    \n",
    "    #adding categories to subcategories\n",
    "    list_categories=[]\n",
    "    for i in range (0, len(set(df_dummies['sub_category']))):\n",
    "        keyword=df_dummies['sub_category'][i][2:-1]\n",
    "        ###find category of keyword in dictionary\n",
    "        for key, value_list in dic.items():\n",
    "            for x in value_list:\n",
    "                if keyword==x:\n",
    "                    category=key\n",
    "        ###add category to list\n",
    "        list_categories.append(category)\n",
    "    \n",
    "    ##add list_categories to df\n",
    "    df_dummies['category']=list_categories\n",
    "\n",
    "    #add num likes and views\n",
    "    list_likes=[]\n",
    "    list_views=[]\n",
    "    for row in range (0,df_dummies.shape[0]):\n",
    "        subcategory=df_dummies.iloc[row,0]\n",
    "        df2=dummy_columns[[subcategory,'likes','views']]\n",
    "        df2.columns=['A', 'likes','views']\n",
    "        df3=(df2\n",
    "             .query('A>0')\n",
    "             .groupby('A')\n",
    "             .agg({'likes': ['sum'], 'views':['sum']})\n",
    "            )\n",
    "        \n",
    "        list_likes.append(df3.iloc[0,0])\n",
    "        list_views.append(df3.iloc[0,1])\n",
    "    #add lists to df_dummies\n",
    "    df_dummies['likes']=list_likes\n",
    "    df_dummies['views']=list_views\n",
    "    return df_dummies"
   ]
  },
  {
   "cell_type": "code",
   "execution_count": 137,
   "metadata": {
    "id": "Jms_2u6Y673R"
   },
   "outputs": [],
   "source": [
    "def main():\n",
    "    #load data\n",
    "    raw_data=pd.read_csv('https://github.com/aaas24/code_library/raw/main/ted_talks/1_raw_data/final_raw_data.csv')\n",
    "    df=raw_data.copy()\n",
    "\n",
    "    #clean data\n",
    "    df=preprocessing(df)\n",
    "    df=create_dummies_file(df)\n",
    "    df_dummies=dummy_data(df)\n",
    "    return(df, df_dummies)\n",
    "  \n"
   ]
  },
  {
   "cell_type": "code",
   "execution_count": 138,
   "metadata": {
    "id": "2bk-P0Nk67Kv"
   },
   "outputs": [],
   "source": [
    "if __name__ == '__main__':\n",
    "  main()"
   ]
  },
  {
   "cell_type": "code",
   "execution_count": 139,
   "metadata": {
    "colab": {
     "base_uri": "https://localhost:8080/",
     "height": 688
    },
    "id": "TnVa73nkCPVp",
    "outputId": "b79eb51d-a1a2-479a-8b41-fb9b31f76a76"
   },
   "outputs": [
    {
     "data": {
      "text/html": [
       "<div>\n",
       "<style scoped>\n",
       "    .dataframe tbody tr th:only-of-type {\n",
       "        vertical-align: middle;\n",
       "    }\n",
       "\n",
       "    .dataframe tbody tr th {\n",
       "        vertical-align: top;\n",
       "    }\n",
       "\n",
       "    .dataframe thead th {\n",
       "        text-align: right;\n",
       "    }\n",
       "</style>\n",
       "<table border=\"1\" class=\"dataframe\">\n",
       "  <thead>\n",
       "    <tr style=\"text-align: right;\">\n",
       "      <th></th>\n",
       "      <th>author</th>\n",
       "      <th>views</th>\n",
       "      <th>likes</th>\n",
       "      <th>title</th>\n",
       "      <th>description_1</th>\n",
       "      <th>duration_seg</th>\n",
       "      <th>description_2</th>\n",
       "      <th>date_recorded_year</th>\n",
       "      <th>date_recorded_month</th>\n",
       "      <th>date_released_year</th>\n",
       "      <th>...</th>\n",
       "      <th>'water'</th>\n",
       "      <th>'weather'</th>\n",
       "      <th>'windenergy'</th>\n",
       "      <th>'women'</th>\n",
       "      <th>'womeninbusiness'</th>\n",
       "      <th>'work'</th>\n",
       "      <th>'work-lifebalance'</th>\n",
       "      <th>'writing'</th>\n",
       "      <th>'youth'</th>\n",
       "      <th>'ted'</th>\n",
       "    </tr>\n",
       "  </thead>\n",
       "  <tbody>\n",
       "    <tr>\n",
       "      <th>0</th>\n",
       "      <td>Ozawa Bineshi Albert</td>\n",
       "      <td>404000</td>\n",
       "      <td>12000</td>\n",
       "      <td>Climate action needs new frontline leadership</td>\n",
       "      <td>\"We can't rely on those who created climate ch...</td>\n",
       "      <td>834</td>\n",
       "      <td>\"We can't rely on those who created climate ch...</td>\n",
       "      <td>2021</td>\n",
       "      <td>12</td>\n",
       "      <td>2022</td>\n",
       "      <td>...</td>\n",
       "      <td>0</td>\n",
       "      <td>0</td>\n",
       "      <td>0</td>\n",
       "      <td>0</td>\n",
       "      <td>0</td>\n",
       "      <td>0</td>\n",
       "      <td>0</td>\n",
       "      <td>0</td>\n",
       "      <td>0</td>\n",
       "      <td>1</td>\n",
       "    </tr>\n",
       "    <tr>\n",
       "      <th>1</th>\n",
       "      <td>Sydney Iaukea</td>\n",
       "      <td>214000</td>\n",
       "      <td>6400</td>\n",
       "      <td>The dark history of the overthrow of Hawaii</td>\n",
       "      <td>\"On January 16th, 1895, two men arrived at Lil...</td>\n",
       "      <td>0</td>\n",
       "      <td>\"On January 16th, 1895, two men arrived at Lil...</td>\n",
       "      <td>2022</td>\n",
       "      <td>2</td>\n",
       "      <td>2022</td>\n",
       "      <td>...</td>\n",
       "      <td>0</td>\n",
       "      <td>0</td>\n",
       "      <td>0</td>\n",
       "      <td>1</td>\n",
       "      <td>0</td>\n",
       "      <td>0</td>\n",
       "      <td>0</td>\n",
       "      <td>0</td>\n",
       "      <td>0</td>\n",
       "      <td>1</td>\n",
       "    </tr>\n",
       "    <tr>\n",
       "      <th>2</th>\n",
       "      <td>Martin Reeves</td>\n",
       "      <td>412000</td>\n",
       "      <td>12000</td>\n",
       "      <td>Why play is essential for business</td>\n",
       "      <td>\"To thrive in today's competitive economy, you...</td>\n",
       "      <td>665</td>\n",
       "      <td>\"To thrive in today's competitive economy, you...</td>\n",
       "      <td>2021</td>\n",
       "      <td>9</td>\n",
       "      <td>2022</td>\n",
       "      <td>...</td>\n",
       "      <td>0</td>\n",
       "      <td>0</td>\n",
       "      <td>0</td>\n",
       "      <td>0</td>\n",
       "      <td>0</td>\n",
       "      <td>1</td>\n",
       "      <td>0</td>\n",
       "      <td>0</td>\n",
       "      <td>0</td>\n",
       "      <td>1</td>\n",
       "    </tr>\n",
       "    <tr>\n",
       "      <th>3</th>\n",
       "      <td>James K. Thornton</td>\n",
       "      <td>427000</td>\n",
       "      <td>12000</td>\n",
       "      <td>Why is China appointing judges to combat clima...</td>\n",
       "      <td>\"Why is China appointing thousands of judges t...</td>\n",
       "      <td>695</td>\n",
       "      <td>\"Why is China appointing thousands of judges t...</td>\n",
       "      <td>2021</td>\n",
       "      <td>10</td>\n",
       "      <td>2022</td>\n",
       "      <td>...</td>\n",
       "      <td>0</td>\n",
       "      <td>0</td>\n",
       "      <td>0</td>\n",
       "      <td>0</td>\n",
       "      <td>0</td>\n",
       "      <td>0</td>\n",
       "      <td>0</td>\n",
       "      <td>0</td>\n",
       "      <td>0</td>\n",
       "      <td>1</td>\n",
       "    </tr>\n",
       "    <tr>\n",
       "      <th>4</th>\n",
       "      <td>Mahendra Singhi</td>\n",
       "      <td>2400</td>\n",
       "      <td>72</td>\n",
       "      <td>Cement's carbon problem -- and 2 ways to fix it</td>\n",
       "      <td>\"Cement is vital to modernizing all kinds of i...</td>\n",
       "      <td>671</td>\n",
       "      <td>\"Cement is vital to modernizing all kinds of i...</td>\n",
       "      <td>2021</td>\n",
       "      <td>10</td>\n",
       "      <td>2022</td>\n",
       "      <td>...</td>\n",
       "      <td>0</td>\n",
       "      <td>0</td>\n",
       "      <td>0</td>\n",
       "      <td>0</td>\n",
       "      <td>0</td>\n",
       "      <td>0</td>\n",
       "      <td>0</td>\n",
       "      <td>0</td>\n",
       "      <td>0</td>\n",
       "      <td>1</td>\n",
       "    </tr>\n",
       "  </tbody>\n",
       "</table>\n",
       "<p>5 rows × 363 columns</p>\n",
       "</div>"
      ],
      "text/plain": [
       "                 author   views  likes  \\\n",
       "0  Ozawa Bineshi Albert  404000  12000   \n",
       "1         Sydney Iaukea  214000   6400   \n",
       "2         Martin Reeves  412000  12000   \n",
       "3     James K. Thornton  427000  12000   \n",
       "4       Mahendra Singhi    2400     72   \n",
       "\n",
       "                                               title  \\\n",
       "0      Climate action needs new frontline leadership   \n",
       "1        The dark history of the overthrow of Hawaii   \n",
       "2                 Why play is essential for business   \n",
       "3  Why is China appointing judges to combat clima...   \n",
       "4    Cement's carbon problem -- and 2 ways to fix it   \n",
       "\n",
       "                                       description_1  duration_seg  \\\n",
       "0  \"We can't rely on those who created climate ch...           834   \n",
       "1  \"On January 16th, 1895, two men arrived at Lil...             0   \n",
       "2  \"To thrive in today's competitive economy, you...           665   \n",
       "3  \"Why is China appointing thousands of judges t...           695   \n",
       "4  \"Cement is vital to modernizing all kinds of i...           671   \n",
       "\n",
       "                                       description_2  date_recorded_year  \\\n",
       "0  \"We can't rely on those who created climate ch...                2021   \n",
       "1  \"On January 16th, 1895, two men arrived at Lil...                2022   \n",
       "2  \"To thrive in today's competitive economy, you...                2021   \n",
       "3  \"Why is China appointing thousands of judges t...                2021   \n",
       "4  \"Cement is vital to modernizing all kinds of i...                2021   \n",
       "\n",
       "   date_recorded_month  date_released_year  ...   'water'   'weather'  \\\n",
       "0                   12                2022  ...         0           0   \n",
       "1                    2                2022  ...         0           0   \n",
       "2                    9                2022  ...         0           0   \n",
       "3                   10                2022  ...         0           0   \n",
       "4                   10                2022  ...         0           0   \n",
       "\n",
       "    'windenergy'  'women'   'womeninbusiness'   'work'   'work-lifebalance'  \\\n",
       "0              0        0                   0        0                    0   \n",
       "1              0        1                   0        0                    0   \n",
       "2              0        0                   0        1                    0   \n",
       "3              0        0                   0        0                    0   \n",
       "4              0        0                   0        0                    0   \n",
       "\n",
       "    'writing'   'youth'  'ted'  \n",
       "0           0         0      1  \n",
       "1           0         0      1  \n",
       "2           0         0      1  \n",
       "3           0         0      1  \n",
       "4           0         0      1  \n",
       "\n",
       "[5 rows x 363 columns]"
      ]
     },
     "execution_count": 139,
     "metadata": {},
     "output_type": "execute_result"
    }
   ],
   "source": [
    "df=main()[0]\n",
    "df.head(5)"
   ]
  },
  {
   "cell_type": "code",
   "execution_count": 140,
   "metadata": {
    "colab": {
     "base_uri": "https://localhost:8080/",
     "height": 201
    },
    "id": "4EnZ48ldCPVq",
    "outputId": "4cc453b0-527c-430b-c597-133fc77901be",
    "scrolled": false
   },
   "outputs": [
    {
     "data": {
      "text/html": [
       "<div>\n",
       "<style scoped>\n",
       "    .dataframe tbody tr th:only-of-type {\n",
       "        vertical-align: middle;\n",
       "    }\n",
       "\n",
       "    .dataframe tbody tr th {\n",
       "        vertical-align: top;\n",
       "    }\n",
       "\n",
       "    .dataframe thead th {\n",
       "        text-align: right;\n",
       "    }\n",
       "</style>\n",
       "<table border=\"1\" class=\"dataframe\">\n",
       "  <thead>\n",
       "    <tr style=\"text-align: right;\">\n",
       "      <th></th>\n",
       "      <th>sub_category</th>\n",
       "      <th>num_talks</th>\n",
       "      <th>category</th>\n",
       "      <th>likes</th>\n",
       "      <th>views</th>\n",
       "    </tr>\n",
       "  </thead>\n",
       "  <tbody>\n",
       "    <tr>\n",
       "      <th>0</th>\n",
       "      <td>'3dprinting'</td>\n",
       "      <td>9</td>\n",
       "      <td>technology</td>\n",
       "      <td>201574</td>\n",
       "      <td>6655100</td>\n",
       "    </tr>\n",
       "    <tr>\n",
       "      <th>1</th>\n",
       "      <td>'activism'</td>\n",
       "      <td>352</td>\n",
       "      <td>values &amp; emotions</td>\n",
       "      <td>21752759</td>\n",
       "      <td>714057797</td>\n",
       "    </tr>\n",
       "    <tr>\n",
       "      <th>2</th>\n",
       "      <td>'addiction'</td>\n",
       "      <td>20</td>\n",
       "      <td>health</td>\n",
       "      <td>1870500</td>\n",
       "      <td>60982000</td>\n",
       "    </tr>\n",
       "    <tr>\n",
       "      <th>3</th>\n",
       "      <td>'africa'</td>\n",
       "      <td>197</td>\n",
       "      <td>global</td>\n",
       "      <td>9097799</td>\n",
       "      <td>299541000</td>\n",
       "    </tr>\n",
       "    <tr>\n",
       "      <th>4</th>\n",
       "      <td>'aging'</td>\n",
       "      <td>93</td>\n",
       "      <td>society</td>\n",
       "      <td>8152092</td>\n",
       "      <td>269034199</td>\n",
       "    </tr>\n",
       "  </tbody>\n",
       "</table>\n",
       "</div>"
      ],
      "text/plain": [
       "    sub_category  num_talks           category     likes      views\n",
       "0   '3dprinting'          9         technology    201574    6655100\n",
       "1     'activism'        352  values & emotions  21752759  714057797\n",
       "2    'addiction'         20             health   1870500   60982000\n",
       "3       'africa'        197             global   9097799  299541000\n",
       "4        'aging'         93            society   8152092  269034199"
      ]
     },
     "execution_count": 140,
     "metadata": {},
     "output_type": "execute_result"
    }
   ],
   "source": [
    "df_dummies=main()[1]\n",
    "df_dummies.head(5)"
   ]
  },
  {
   "cell_type": "markdown",
   "metadata": {
    "id": "7eAeovVl478o"
   },
   "source": [
    "# Data Exploration"
   ]
  },
  {
   "cell_type": "markdown",
   "metadata": {
    "id": "81ur6MnnCPV0"
   },
   "source": [
    "## PCA - Visualize High Dimension Data"
   ]
  },
  {
   "cell_type": "code",
   "execution_count": 141,
   "metadata": {
    "colab": {
     "base_uri": "https://localhost:8080/",
     "height": 463
    },
    "id": "gQ-kBcOjCPV1",
    "outputId": "9853d29a-277a-4e37-ccaf-3078f724bf2a"
   },
   "outputs": [
    {
     "data": {
      "text/html": [
       "<div>\n",
       "<style scoped>\n",
       "    .dataframe tbody tr th:only-of-type {\n",
       "        vertical-align: middle;\n",
       "    }\n",
       "\n",
       "    .dataframe tbody tr th {\n",
       "        vertical-align: top;\n",
       "    }\n",
       "\n",
       "    .dataframe thead th {\n",
       "        text-align: right;\n",
       "    }\n",
       "</style>\n",
       "<table border=\"1\" class=\"dataframe\">\n",
       "  <thead>\n",
       "    <tr style=\"text-align: right;\">\n",
       "      <th></th>\n",
       "      <th>author</th>\n",
       "      <th>views</th>\n",
       "      <th>likes</th>\n",
       "      <th>title</th>\n",
       "      <th>description_1</th>\n",
       "      <th>duration_seg</th>\n",
       "      <th>description_2</th>\n",
       "      <th>date_recorded_year</th>\n",
       "      <th>date_recorded_month</th>\n",
       "      <th>date_released_year</th>\n",
       "      <th>...</th>\n",
       "      <th>'water'</th>\n",
       "      <th>'weather'</th>\n",
       "      <th>'windenergy'</th>\n",
       "      <th>'women'</th>\n",
       "      <th>'womeninbusiness'</th>\n",
       "      <th>'work'</th>\n",
       "      <th>'work-lifebalance'</th>\n",
       "      <th>'writing'</th>\n",
       "      <th>'youth'</th>\n",
       "      <th>'ted'</th>\n",
       "    </tr>\n",
       "  </thead>\n",
       "  <tbody>\n",
       "    <tr>\n",
       "      <th>0</th>\n",
       "      <td>Ozawa Bineshi Albert</td>\n",
       "      <td>404000</td>\n",
       "      <td>12000</td>\n",
       "      <td>Climate action needs new frontline leadership</td>\n",
       "      <td>\"We can't rely on those who created climate ch...</td>\n",
       "      <td>834</td>\n",
       "      <td>\"We can't rely on those who created climate ch...</td>\n",
       "      <td>2021</td>\n",
       "      <td>12</td>\n",
       "      <td>2022</td>\n",
       "      <td>...</td>\n",
       "      <td>0</td>\n",
       "      <td>0</td>\n",
       "      <td>0</td>\n",
       "      <td>0</td>\n",
       "      <td>0</td>\n",
       "      <td>0</td>\n",
       "      <td>0</td>\n",
       "      <td>0</td>\n",
       "      <td>0</td>\n",
       "      <td>1</td>\n",
       "    </tr>\n",
       "    <tr>\n",
       "      <th>1</th>\n",
       "      <td>Sydney Iaukea</td>\n",
       "      <td>214000</td>\n",
       "      <td>6400</td>\n",
       "      <td>The dark history of the overthrow of Hawaii</td>\n",
       "      <td>\"On January 16th, 1895, two men arrived at Lil...</td>\n",
       "      <td>0</td>\n",
       "      <td>\"On January 16th, 1895, two men arrived at Lil...</td>\n",
       "      <td>2022</td>\n",
       "      <td>2</td>\n",
       "      <td>2022</td>\n",
       "      <td>...</td>\n",
       "      <td>0</td>\n",
       "      <td>0</td>\n",
       "      <td>0</td>\n",
       "      <td>1</td>\n",
       "      <td>0</td>\n",
       "      <td>0</td>\n",
       "      <td>0</td>\n",
       "      <td>0</td>\n",
       "      <td>0</td>\n",
       "      <td>1</td>\n",
       "    </tr>\n",
       "    <tr>\n",
       "      <th>2</th>\n",
       "      <td>Martin Reeves</td>\n",
       "      <td>412000</td>\n",
       "      <td>12000</td>\n",
       "      <td>Why play is essential for business</td>\n",
       "      <td>\"To thrive in today's competitive economy, you...</td>\n",
       "      <td>665</td>\n",
       "      <td>\"To thrive in today's competitive economy, you...</td>\n",
       "      <td>2021</td>\n",
       "      <td>9</td>\n",
       "      <td>2022</td>\n",
       "      <td>...</td>\n",
       "      <td>0</td>\n",
       "      <td>0</td>\n",
       "      <td>0</td>\n",
       "      <td>0</td>\n",
       "      <td>0</td>\n",
       "      <td>1</td>\n",
       "      <td>0</td>\n",
       "      <td>0</td>\n",
       "      <td>0</td>\n",
       "      <td>1</td>\n",
       "    </tr>\n",
       "  </tbody>\n",
       "</table>\n",
       "<p>3 rows × 363 columns</p>\n",
       "</div>"
      ],
      "text/plain": [
       "                 author   views  likes  \\\n",
       "0  Ozawa Bineshi Albert  404000  12000   \n",
       "1         Sydney Iaukea  214000   6400   \n",
       "2         Martin Reeves  412000  12000   \n",
       "\n",
       "                                           title  \\\n",
       "0  Climate action needs new frontline leadership   \n",
       "1    The dark history of the overthrow of Hawaii   \n",
       "2             Why play is essential for business   \n",
       "\n",
       "                                       description_1  duration_seg  \\\n",
       "0  \"We can't rely on those who created climate ch...           834   \n",
       "1  \"On January 16th, 1895, two men arrived at Lil...             0   \n",
       "2  \"To thrive in today's competitive economy, you...           665   \n",
       "\n",
       "                                       description_2  date_recorded_year  \\\n",
       "0  \"We can't rely on those who created climate ch...                2021   \n",
       "1  \"On January 16th, 1895, two men arrived at Lil...                2022   \n",
       "2  \"To thrive in today's competitive economy, you...                2021   \n",
       "\n",
       "   date_recorded_month  date_released_year  ...   'water'   'weather'  \\\n",
       "0                   12                2022  ...         0           0   \n",
       "1                    2                2022  ...         0           0   \n",
       "2                    9                2022  ...         0           0   \n",
       "\n",
       "    'windenergy'  'women'   'womeninbusiness'   'work'   'work-lifebalance'  \\\n",
       "0              0        0                   0        0                    0   \n",
       "1              0        1                   0        0                    0   \n",
       "2              0        0                   0        1                    0   \n",
       "\n",
       "    'writing'   'youth'  'ted'  \n",
       "0           0         0      1  \n",
       "1           0         0      1  \n",
       "2           0         0      1  \n",
       "\n",
       "[3 rows x 363 columns]"
      ]
     },
     "execution_count": 141,
     "metadata": {},
     "output_type": "execute_result"
    }
   ],
   "source": [
    "df.head(3)"
   ]
  },
  {
   "cell_type": "code",
   "execution_count": 142,
   "metadata": {
    "colab": {
     "base_uri": "https://localhost:8080/",
     "height": 140
    },
    "id": "Sfoa2curCPV1",
    "outputId": "79b3cf05-60f6-4b18-efb9-7bcedab3d9b2"
   },
   "outputs": [
    {
     "data": {
      "text/html": [
       "<div>\n",
       "<style scoped>\n",
       "    .dataframe tbody tr th:only-of-type {\n",
       "        vertical-align: middle;\n",
       "    }\n",
       "\n",
       "    .dataframe tbody tr th {\n",
       "        vertical-align: top;\n",
       "    }\n",
       "\n",
       "    .dataframe thead th {\n",
       "        text-align: right;\n",
       "    }\n",
       "</style>\n",
       "<table border=\"1\" class=\"dataframe\">\n",
       "  <thead>\n",
       "    <tr style=\"text-align: right;\">\n",
       "      <th></th>\n",
       "      <th>views</th>\n",
       "      <th>likes</th>\n",
       "      <th>duration_seg</th>\n",
       "      <th>date_recorded_year</th>\n",
       "      <th>date_recorded_month</th>\n",
       "      <th>date_released_year</th>\n",
       "      <th>date_released_month</th>\n",
       "      <th>date_released_hour</th>\n",
       "      <th>date_released_minute</th>\n",
       "    </tr>\n",
       "  </thead>\n",
       "  <tbody>\n",
       "    <tr>\n",
       "      <th>0</th>\n",
       "      <td>404000</td>\n",
       "      <td>12000</td>\n",
       "      <td>834</td>\n",
       "      <td>2021</td>\n",
       "      <td>12</td>\n",
       "      <td>2022</td>\n",
       "      <td>2</td>\n",
       "      <td>9</td>\n",
       "      <td>41</td>\n",
       "    </tr>\n",
       "    <tr>\n",
       "      <th>1</th>\n",
       "      <td>214000</td>\n",
       "      <td>6400</td>\n",
       "      <td>0</td>\n",
       "      <td>2022</td>\n",
       "      <td>2</td>\n",
       "      <td>2022</td>\n",
       "      <td>2</td>\n",
       "      <td>10</td>\n",
       "      <td>13</td>\n",
       "    </tr>\n",
       "    <tr>\n",
       "      <th>2</th>\n",
       "      <td>412000</td>\n",
       "      <td>12000</td>\n",
       "      <td>665</td>\n",
       "      <td>2021</td>\n",
       "      <td>9</td>\n",
       "      <td>2022</td>\n",
       "      <td>2</td>\n",
       "      <td>9</td>\n",
       "      <td>51</td>\n",
       "    </tr>\n",
       "  </tbody>\n",
       "</table>\n",
       "</div>"
      ],
      "text/plain": [
       "    views  likes  duration_seg  date_recorded_year  date_recorded_month  \\\n",
       "0  404000  12000           834                2021                   12   \n",
       "1  214000   6400             0                2022                    2   \n",
       "2  412000  12000           665                2021                    9   \n",
       "\n",
       "   date_released_year  date_released_month  date_released_hour  \\\n",
       "0                2022                    2                   9   \n",
       "1                2022                    2                  10   \n",
       "2                2022                    2                   9   \n",
       "\n",
       "   date_released_minute  \n",
       "0                    41  \n",
       "1                    13  \n",
       "2                    51  "
      ]
     },
     "execution_count": 142,
     "metadata": {},
     "output_type": "execute_result"
    }
   ],
   "source": [
    "#dropping categorical columns\n",
    "df_model=df.drop(['author','title','description_1', 'description_2', 'keywords2'], axis=1).iloc[:,:9]\n",
    "df_model.head(3)"
   ]
  },
  {
   "cell_type": "code",
   "execution_count": 143,
   "metadata": {
    "colab": {
     "base_uri": "https://localhost:8080/",
     "height": 411
    },
    "id": "HudPU1jgCPV1",
    "outputId": "ae3f20a0-ec92-44d0-e986-1c9cfa2b6805"
   },
   "outputs": [
    {
     "ename": "AttributeError",
     "evalue": "'function' object has no attribute 'StandardScaler'",
     "output_type": "error",
     "traceback": [
      "\u001b[0;31m-------------------------------------------------------------------------\u001b[0m",
      "\u001b[0;31mAttributeError\u001b[0m                          Traceback (most recent call last)",
      "\u001b[0;32m<ipython-input-143-9bf04c928f79>\u001b[0m in \u001b[0;36m<module>\u001b[0;34m\u001b[0m\n\u001b[1;32m      1\u001b[0m \u001b[0mX\u001b[0m \u001b[0;34m=\u001b[0m \u001b[0mdf_model\u001b[0m\u001b[0;34m\u001b[0m\u001b[0;34m\u001b[0m\u001b[0m\n\u001b[0;32m----> 2\u001b[0;31m \u001b[0mstd\u001b[0m \u001b[0;34m=\u001b[0m \u001b[0mpreprocessing\u001b[0m\u001b[0;34m.\u001b[0m\u001b[0mStandardScaler\u001b[0m\u001b[0;34m(\u001b[0m\u001b[0;34m)\u001b[0m\u001b[0;34m\u001b[0m\u001b[0;34m\u001b[0m\u001b[0m\n\u001b[0m\u001b[1;32m      3\u001b[0m \u001b[0mX_std\u001b[0m \u001b[0;34m=\u001b[0m \u001b[0mpd\u001b[0m\u001b[0;34m.\u001b[0m\u001b[0mDataFrame\u001b[0m\u001b[0;34m(\u001b[0m\u001b[0mstd\u001b[0m\u001b[0;34m.\u001b[0m\u001b[0mfit_transform\u001b[0m\u001b[0;34m(\u001b[0m\u001b[0mX\u001b[0m\u001b[0;34m)\u001b[0m\u001b[0;34m,\u001b[0m \u001b[0mcolumns\u001b[0m\u001b[0;34m=\u001b[0m\u001b[0mX\u001b[0m\u001b[0;34m.\u001b[0m\u001b[0mcolumns\u001b[0m\u001b[0;34m)\u001b[0m\u001b[0;34m\u001b[0m\u001b[0;34m\u001b[0m\u001b[0m\n\u001b[1;32m      4\u001b[0m \u001b[0mX_std\u001b[0m\u001b[0;34m\u001b[0m\u001b[0;34m\u001b[0m\u001b[0m\n",
      "\u001b[0;31mAttributeError\u001b[0m: 'function' object has no attribute 'StandardScaler'"
     ]
    }
   ],
   "source": [
    "X = df_model\n",
    "std = preprocessing.StandardScaler()\n",
    "X_std = pd.DataFrame(std.fit_transform(X), columns=X.columns)\n",
    "X_std"
   ]
  },
  {
   "cell_type": "code",
   "execution_count": null,
   "metadata": {
    "colab": {
     "base_uri": "https://localhost:8080/",
     "height": 411
    },
    "id": "cWHH1u84CPV2",
    "outputId": "a50ee8a7-5566-448c-e965-5aea1e3e4e05"
   },
   "outputs": [],
   "source": [
    "pca = decomposition.PCA()\n",
    "pca_X = pd.DataFrame(pca.fit_transform(X_std), columns=[f'PC{i+1}' for i in range(len(X.columns))])\n",
    "pca_X"
   ]
  },
  {
   "cell_type": "code",
   "execution_count": null,
   "metadata": {
    "colab": {
     "base_uri": "https://localhost:8080/"
    },
    "id": "5CmIKhB_CPV2",
    "outputId": "0ae23a0f-d5a9-40ab-9fe2-e676bb9ce07f"
   },
   "outputs": [],
   "source": [
    "#variance or relevance of PCAs. In this case the first 3 hold ~50% of representation of the data\n",
    "pca.explained_variance_ratio_\n"
   ]
  },
  {
   "cell_type": "code",
   "execution_count": null,
   "metadata": {
    "colab": {
     "base_uri": "https://localhost:8080/"
    },
    "id": "XMN2MZ2xCPV2",
    "outputId": "713763b3-1558-4629-abd8-ee43044e82f6"
   },
   "outputs": [],
   "source": [
    "# Components\n",
    "# First component is .36 * Views + .36 * likes + 0.19 * Dur ... etc\n",
    "pca.components_[0]"
   ]
  },
  {
   "cell_type": "code",
   "execution_count": null,
   "metadata": {
    "colab": {
     "base_uri": "https://localhost:8080/",
     "height": 556
    },
    "id": "sJYQXJ4dCPV3",
    "outputId": "b4c616ff-68cf-4002-9bbe-f4cac5777380"
   },
   "outputs": [],
   "source": [
    "# What columns make up the components 1 & 2?\n",
    "# 1 - Views & Likes\n",
    "# 2 - Recorded & Released Year\n",
    "(pd.DataFrame(pca.components_, columns=X.columns)\n",
    " .iloc[:2]\n",
    " .plot.bar()\n",
    " .legend(bbox_to_anchor=(1,1)))"
   ]
  },
  {
   "cell_type": "code",
   "execution_count": null,
   "metadata": {
    "colab": {
     "base_uri": "https://localhost:8080/",
     "height": 556
    },
    "id": "CXfi5qsjCPV3",
    "outputId": "ac8cc430-73e6-4b8c-ce78-6c41d7df367c"
   },
   "outputs": [],
   "source": [
    "# What columns make up the components 3 & 4?\n",
    "(pd.DataFrame(pca.components_, columns=X.columns)\n",
    " .iloc[2:4]\n",
    " .plot.bar()\n",
    " .legend(bbox_to_anchor=(1,1)))"
   ]
  },
  {
   "cell_type": "code",
   "execution_count": null,
   "metadata": {
    "colab": {
     "base_uri": "https://localhost:8080/",
     "height": 576
    },
    "id": "TtBM6T4vCPV3",
    "outputId": "1f997650-1ce3-47f6-9335-dc3d73fb3a94"
   },
   "outputs": [],
   "source": [
    "# Plot with Seaborn\n",
    "x='PC1'\n",
    "y='PC2'\n",
    "val='date_released_month'\n",
    "sns.scatterplot(x=x, y=y, \n",
    "                data=pca_X.assign(val=X[val]), \n",
    "                hue='val')"
   ]
  },
  {
   "cell_type": "markdown",
   "metadata": {
    "id": "b6dCzw69CPV4"
   },
   "source": [
    "## Clustering"
   ]
  },
  {
   "cell_type": "code",
   "execution_count": null,
   "metadata": {
    "colab": {
     "base_uri": "https://localhost:8080/",
     "height": 69
    },
    "id": "7sA4be-qCPV4",
    "outputId": "e93a460e-dfef-46d3-e5e2-0aa6a16602fa"
   },
   "outputs": [],
   "source": [
    "inerts = []\n",
    "for i in range(2, 20):\n",
    "    k = cluster.KMeans(n_clusters=i, random_state=42)\n",
    "    k.fit(X_std)\n",
    "    inerts.append(k.inertia_)\n",
    "    \n",
    "pd.Series(inerts).plot()"
   ]
  },
  {
   "cell_type": "code",
   "execution_count": null,
   "metadata": {
    "colab": {
     "base_uri": "https://localhost:8080/",
     "height": 52
    },
    "id": "KkkG05juCPV5",
    "outputId": "968c84f2-5cfe-4f07-8f76-ee038b8d5b02"
   },
   "outputs": [],
   "source": [
    "start, end = 2, 10\n",
    "cols = 2\n",
    "rows = ((end - start) // cols)\n",
    "fix, axes = plt.subplots(rows, cols, figsize=(12,8))\n",
    "axes = axes.reshape(cols * rows)\n",
    "for i, k in enumerate(range(start, end), 0):\n",
    "    ax = axes[i]\n",
    "    sil = SilhouetteVisualizer(cluster.KMeans(n_clusters=k, random_state=42), ax=ax)\n",
    "    sil.fit(X_std)\n",
    "    sil.finalize()\n",
    "plt.tight_layout()"
   ]
  },
  {
   "cell_type": "code",
   "execution_count": null,
   "metadata": {
    "colab": {
     "base_uri": "https://localhost:8080/",
     "height": 52
    },
    "id": "swnNtaGfCPV5",
    "outputId": "64a2b293-32cc-4268-fa0c-4cc91529f501"
   },
   "outputs": [],
   "source": [
    "# Try another mechanism\n",
    "fig, ax = plt.subplots(figsize=(10,8))\n",
    "hierarchy.dendrogram(hierarchy.linkage(X_std, method='ward'),\n",
    "                    truncate_mode='lastp', p=20, show_contracted=True)\n",
    "pass  # here to hide return value of above"
   ]
  },
  {
   "cell_type": "code",
   "execution_count": null,
   "metadata": {
    "id": "80J3W4CFCPV5"
   },
   "outputs": [],
   "source": [
    "# going to choose 4 clusters\n",
    "k9 = cluster.KMeans(n_clusters=4, random_state=42)\n",
    "k9.fit(X_std)\n",
    "labels = k9.predict(X_std)"
   ]
  },
  {
   "cell_type": "code",
   "execution_count": null,
   "metadata": {
    "colab": {
     "base_uri": "https://localhost:8080/"
    },
    "id": "r4YiTdbXCPV5",
    "outputId": "f1a10535-d2f1-41bb-c6a7-4bdfb1c23309"
   },
   "outputs": [],
   "source": [
    "labels"
   ]
  },
  {
   "cell_type": "code",
   "execution_count": null,
   "metadata": {
    "colab": {
     "base_uri": "https://localhost:8080/",
     "height": 476
    },
    "id": "9bqBYwr7CPV6",
    "outputId": "986982cb-aaa2-418a-93c3-8d1f6c93864d"
   },
   "outputs": [],
   "source": [
    "X.assign(label=labels)"
   ]
  },
  {
   "cell_type": "code",
   "execution_count": null,
   "metadata": {
    "colab": {
     "base_uri": "https://localhost:8080/",
     "height": 660
    },
    "id": "H2jriRocCPV6",
    "outputId": "4533dcb8-4c3d-4f10-e89f-0fbffc124b2b"
   },
   "outputs": [],
   "source": [
    "(X.assign(label=labels)\n",
    "  .groupby('label')\n",
    "  .agg(['mean', 'var'])\n",
    "  .T\n",
    ")"
   ]
  },
  {
   "cell_type": "code",
   "execution_count": null,
   "metadata": {
    "colab": {
     "base_uri": "https://localhost:8080/"
    },
    "id": "auLXBqoiCPV7",
    "outputId": "a722f941-2f54-415f-b7e2-6e488a163723"
   },
   "outputs": [],
   "source": [
    "# how many in each cluster?\n",
    "pd.Series(labels).value_counts().sort_index()"
   ]
  },
  {
   "cell_type": "code",
   "execution_count": null,
   "metadata": {
    "colab": {
     "base_uri": "https://localhost:8080/",
     "height": 342
    },
    "id": "51-zMKH0CPV7",
    "outputId": "bb5de1ad-473c-4209-b445-00e34c38715b",
    "scrolled": true
   },
   "outputs": [],
   "source": [
    "# Add coloring to aid impact to clusters\n",
    "(X.assign(label=labels)\n",
    "  .groupby('label')\n",
    "  .mean()\n",
    "  .T\n",
    " .style.background_gradient(cmap='RdBu', axis=1)\n",
    ")"
   ]
  },
  {
   "cell_type": "markdown",
   "metadata": {
    "id": "rCrJ02NhCPV7"
   },
   "source": [
    "### Clusters\n",
    "* 0 - Newer videos released in fall\n",
    "* 1 - Newer videos released in earlier in the year\n",
    "* 2 - Older videos, longer duration in seg\n",
    "* 3 - Highest views & likes"
   ]
  },
  {
   "cell_type": "code",
   "execution_count": null,
   "metadata": {
    "colab": {
     "base_uri": "https://localhost:8080/",
     "height": 264
    },
    "id": "ZuxDV_62CPV7",
    "outputId": "f26b1b12-f794-4048-db00-8cbb14ec8b1b"
   },
   "outputs": [],
   "source": [
    "# describe a column for each label\n",
    "(X.assign(label=labels)\n",
    "  .groupby('label')\n",
    "  .date_recorded_year\n",
    "  .describe()\n",
    ")"
   ]
  },
  {
   "cell_type": "code",
   "execution_count": null,
   "metadata": {
    "colab": {
     "base_uri": "https://localhost:8080/",
     "height": 356
    },
    "id": "-J6hPipiCPV7",
    "outputId": "2b79a11a-3bf6-4b81-918e-35084f515bf6"
   },
   "outputs": [],
   "source": [
    "# describe a label in a cluster\n",
    "(X.assign(label=labels)\n",
    " .query('label == 0')\n",
    " .describe()\n",
    ")"
   ]
  },
  {
   "cell_type": "code",
   "execution_count": null,
   "metadata": {
    "colab": {
     "base_uri": "https://localhost:8080/",
     "height": 69
    },
    "id": "TGNzttMCCPV8",
    "outputId": "93cc38b6-9603-46bf-c2c2-88c214ecf007"
   },
   "outputs": [],
   "source": [
    "# Plot with Seaborn\n",
    "cmap = sns.cubehelix_palette(dark=.3, light=.8, as_cmap=True)\n",
    "fig, ax = plt.subplots(figsize=(10,8))\n",
    "sns.scatterplot(x='PC1', y='PC2', \n",
    "                data=pca_X.assign(label=labels),\n",
    "                cmap='Pastel',\n",
    "                hue='label', ax=ax)"
   ]
  },
  {
   "cell_type": "code",
   "execution_count": null,
   "metadata": {
    "colab": {
     "base_uri": "https://localhost:8080/",
     "height": 652
    },
    "id": "wHhlUh6CCPV8",
    "outputId": "ee84cc73-11a9-4786-8728-e71d59fc07d4"
   },
   "outputs": [],
   "source": [
    "from bokeh.io import output_notebook\n",
    "from bokeh import models, palettes, transform\n",
    "from bokeh.plotting import figure, show\n",
    "\n",
    "def bokeh_scatter(\n",
    "    x,\n",
    "    y,\n",
    "    data,\n",
    "    hue=None,\n",
    "    label_cols=None,\n",
    "    size=None,\n",
    "    legend=None,\n",
    "    alpha=0.5,\n",
    "):\n",
    "    \"\"\"\n",
    "    x - x column name to plot\n",
    "    y - y column name to plot\n",
    "    data - pandas dataframe\n",
    "    hue - column name to color by (numeric)\n",
    "    legend - column name to label by\n",
    "    label_cols - columns to use in tooltip (None all in dataframe)\n",
    "    size - size of points in screen space unigs\n",
    "    alpha - transparency\n",
    "    \"\"\"\n",
    "    output_notebook()\n",
    "    circle_kwargs = {}\n",
    "    if legend:\n",
    "        circle_kwargs[\"legend\"] = legend\n",
    "    if size:\n",
    "        circle_kwargs[\"size\"] = size\n",
    "    if hue:\n",
    "        color_seq = data[hue]\n",
    "        mapper = models.LinearColorMapper(\n",
    "            palette=palettes.viridis(256),\n",
    "            low=min(color_seq),\n",
    "            high=max(color_seq),\n",
    "        )\n",
    "        circle_kwargs[\n",
    "            \"fill_color\"\n",
    "        ] = transform.transform(hue, mapper)\n",
    "    ds = models.ColumnDataSource(data)\n",
    "    if label_cols is None:\n",
    "        label_cols = data.columns\n",
    "    tool_tips = sorted(\n",
    "        [\n",
    "            (x, \"@{}\".format(x))\n",
    "            for x in label_cols\n",
    "        ],\n",
    "        key=lambda tup: tup[0],\n",
    "    )\n",
    "    hover = models.HoverTool(\n",
    "        tooltips=tool_tips\n",
    "    )\n",
    "    fig = figure(\n",
    "        tools=[\n",
    "            hover,\n",
    "            \"pan\",\n",
    "            \"zoom_in\",\n",
    "            \"zoom_out\",\n",
    "            \"reset\",\n",
    "        ],\n",
    "        toolbar_location=\"below\",\n",
    "    )\n",
    "\n",
    "    fig.circle(\n",
    "        x,\n",
    "        y,\n",
    "        source=ds,\n",
    "        alpha=alpha,\n",
    "        **circle_kwargs\n",
    "    )\n",
    "    show(fig)\n",
    "    return fig\n",
    "\n",
    "res = bokeh_scatter(\"PC1\",\"PC2\", \n",
    "                    data=pd.concat([pca_X, X], axis=1).assign(label=labels), hue='label', size=10,\n",
    "                    label_cols=list(X.columns)+['label'],\n",
    "                   legend='label')"
   ]
  },
  {
   "cell_type": "markdown",
   "metadata": {},
   "source": [
    "## Exploring"
   ]
  },
  {
   "cell_type": "code",
   "execution_count": null,
   "metadata": {
    "colab": {
     "base_uri": "https://localhost:8080/",
     "height": 69
    },
    "id": "gdAtCLTdCPVy",
    "outputId": "8129ed70-26e4-461f-daa1-7240dfd63cd6"
   },
   "outputs": [],
   "source": [
    "fig, ax = plt.subplots(figsize=(8,8))\n",
    "sns.heatmap(df_graph.corr(), cmap='RdBu', vmin=-1, vmax=1, annot=True, square=True, ax=ax)"
   ]
  },
  {
   "cell_type": "markdown",
   "metadata": {
    "id": "yXJu_L9wCPVs"
   },
   "source": [
    "## Exploring: date recorded"
   ]
  },
  {
   "cell_type": "code",
   "execution_count": null,
   "metadata": {
    "colab": {
     "base_uri": "https://localhost:8080/",
     "height": 69
    },
    "id": "mKXrKEN3CPVt",
    "outputId": "57784055-e4f1-48bc-acbd-774211f50697"
   },
   "outputs": [],
   "source": [
    "df_graph=df[df.date_recorded_year>2000]\n",
    "df_graph.date_recorded_month.hist()"
   ]
  },
  {
   "cell_type": "code",
   "execution_count": null,
   "metadata": {
    "colab": {
     "base_uri": "https://localhost:8080/",
     "height": 69
    },
    "id": "MyPsvjBC478y",
    "outputId": "e488eb2d-970f-4f3a-c726-46a3bf351163"
   },
   "outputs": [],
   "source": [
    "df_graph.date_released_month.hist()"
   ]
  },
  {
   "cell_type": "code",
   "execution_count": null,
   "metadata": {
    "colab": {
     "base_uri": "https://localhost:8080/",
     "height": 52
    },
    "id": "6v2HYq2LCPVt",
    "outputId": "738f4132-4b43-4eed-922a-2d0aecfc9ffe",
    "scrolled": true
   },
   "outputs": [],
   "source": [
    "#improving graph\n",
    "\n",
    "data=df[df.date_recorded_year>2000]\n",
    "fig, ax = plt.subplots(nrows=1, ncols=1, figsize=(13,5), sharex=True)\n",
    "\n",
    "#plotting first histogram\n",
    "ax=(data\n",
    "    .groupby(['date_recorded_month'])\n",
    "    .likes\n",
    "    .count()\n",
    "    .plot(x='date_recorded_month', kind = 'bar',alpha=0.6, ax=ax,) \n",
    ")\n",
    "#plotting second hidtogram\n",
    "ax=(data\n",
    "    .groupby(['date_released_month'])\n",
    "    .likes\n",
    "    .count()\n",
    "    .plot(x='date_released_month', kind = 'bar',alpha=0.5, ax=ax, color='#76725e') \n",
    ")\n",
    "#improving labes\n",
    "ax.set_xticks(ticks=range(0,12,1))  \n",
    "ax.set_xticklabels(['Jan', 'Feb', 'Mar', 'Apr', 'May', 'Jun', 'Jul', 'Ago', 'Sep', 'Oct', 'Nov', 'Dec'])\n",
    "ax.set_xlabel('')\n",
    "ax.set_ylabel('Count Videos ')\n",
    "#styling grid, leyend and title\n",
    "plt.title('Monthly Videos Recorded vs Released', ha='center', fontsize='xx-large')\n",
    "plt.legend([\"Recorded\", \"Released\"], loc='upper center',ncol=2, bbox_to_anchor=(0.5, 1.1), borderaxespad=2.6, facecolor=\"white\")\n",
    "ax.set_facecolor(\"white\")\n",
    "plt.grid(axis='y', color='black', alpha=.2)"
   ]
  },
  {
   "cell_type": "code",
   "execution_count": null,
   "metadata": {
    "id": "X6W-WYrGCPVu"
   },
   "outputs": [],
   "source": []
  },
  {
   "cell_type": "code",
   "execution_count": null,
   "metadata": {
    "colab": {
     "base_uri": "https://localhost:8080/",
     "height": 69
    },
    "id": "xOVyefa_f2uX",
    "outputId": "4e2bdbc6-c2ba-4b9a-d5de-caefb3152501",
    "scrolled": true
   },
   "outputs": [],
   "source": [
    "title='Number of Videos Released by Year'\n",
    "y_label='Num Videos'\n",
    "\n",
    "fig, ax = plt.subplots(nrows=1, ncols=1, figsize=(13,5), sharex=True)\n",
    "ax=df.date_released_year.hist(alpha=0.6)\n",
    "plt.plot(ax=ax)\n",
    "plt.grid(axis='x')\n",
    "ax.set_facecolor(\"white\")\n",
    "ax.set_ylabel(y_label)\n",
    "plt.grid(axis='y', color='black', alpha=.2)\n",
    "plt.title(title, ha='center', fontsize='xx-large')"
   ]
  },
  {
   "cell_type": "code",
   "execution_count": null,
   "metadata": {},
   "outputs": [],
   "source": [
    "title='Number of Videos Recorded per Year'\n",
    "y_label='Num Videos'\n",
    "\n",
    "fig, ax = plt.subplots(nrows=1, ncols=1, figsize=(13,5), sharex=True)\n",
    "ax=df.date_recorded_year.hist(alpha=0.6)\n",
    "plt.plot(ax=ax)\n",
    "plt.grid(axis='x')\n",
    "ax.set_facecolor(\"white\")\n",
    "ax.set_ylabel(y_label)\n",
    "plt.grid(axis='y', color='black', alpha=.2)\n",
    "plt.title(title, ha='center', fontsize='xx-large')"
   ]
  },
  {
   "cell_type": "code",
   "execution_count": null,
   "metadata": {
    "colab": {
     "base_uri": "https://localhost:8080/",
     "height": 69
    },
    "id": "N01MefhICPVv",
    "outputId": "97fc8d63-c0fe-4cd3-90d2-ab4a4ba80435"
   },
   "outputs": [],
   "source": [
    "# Are there outliers\n",
    "title='Most Videos were Recorded Between 2012-2020'\n",
    "ax=df.date_recorded_year.plot.box()\n",
    "plt.plot(ax=ax)\n",
    "plt.grid(axis='x')\n",
    "ax.set_facecolor(\"white\")\n",
    "plt.grid(axis='y', color='black', alpha=.2)\n",
    "plt.title(title, ha='center', fontsize='xx-large')"
   ]
  },
  {
   "cell_type": "code",
   "execution_count": null,
   "metadata": {
    "id": "U4Wwr2gUCPVv"
   },
   "outputs": [],
   "source": [
    "df_graph=df[df.date_recorded_year<2000]\n"
   ]
  },
  {
   "cell_type": "code",
   "execution_count": null,
   "metadata": {
    "colab": {
     "base_uri": "https://localhost:8080/",
     "height": 69
    },
    "id": "xj26y9-_CPVw",
    "outputId": "1dcc7e5c-be0a-4cbd-da37-e088d7f034e3"
   },
   "outputs": [],
   "source": [
    "#removing outliyers\n",
    "df_graph=df[df.date_recorded_year>2000]\n",
    "sns.lmplot(x='date_recorded_year', y='likes', data=df_graph, x_jitter=1, scatter_kws={'alpha':.2})"
   ]
  },
  {
   "cell_type": "markdown",
   "metadata": {
    "id": "LpLFKO4FCPVw"
   },
   "source": [
    "## Exploring: duration of videos"
   ]
  },
  {
   "cell_type": "code",
   "execution_count": null,
   "metadata": {
    "colab": {
     "base_uri": "https://localhost:8080/",
     "height": 69
    },
    "id": "Xqszp3-oCPVw",
    "outputId": "f0ad1940-9c4b-4ea8-d69b-044e9e940b91",
    "scrolled": true
   },
   "outputs": [],
   "source": [
    "# Are there outliers\n",
    "df.duration_seg.plot.box()"
   ]
  },
  {
   "cell_type": "code",
   "execution_count": null,
   "metadata": {
    "colab": {
     "base_uri": "https://localhost:8080/",
     "height": 69
    },
    "id": "PjfvWN_BCPVw",
    "outputId": "1a8647e6-d321-4fa1-9862-75b3ae889e4b"
   },
   "outputs": [],
   "source": [
    "#relationship between duration and likes\n",
    "df_graph=df\n",
    "sns.relplot(x='duration_seg', y='likes', data=df_graph, alpha=.1)"
   ]
  },
  {
   "cell_type": "code",
   "execution_count": null,
   "metadata": {
    "colab": {
     "base_uri": "https://localhost:8080/",
     "height": 69
    },
    "id": "4V41rKMbCPVx",
    "outputId": "6ca736e6-d761-4c31-b5e7-16c01bcc8457",
    "scrolled": true
   },
   "outputs": [],
   "source": [
    "#Insight: during pandemic years (2020-2021) \n",
    "df_graph=df[df.date_recorded_year==2019]\n",
    "sns.relplot(x='duration_seg', y='likes', data=df_graph, col='date_recorded_year', col_wrap=2, alpha=.1)"
   ]
  },
  {
   "cell_type": "code",
   "execution_count": null,
   "metadata": {
    "colab": {
     "base_uri": "https://localhost:8080/",
     "height": 102
    },
    "id": "kr_uhtsMCPVx",
    "outputId": "34fbb125-7e07-44fe-a37b-6c6c2d7e572e"
   },
   "outputs": [],
   "source": [
    "df_graph = pd.pivot_table(data=df, \n",
    "               index=['date_recorded_year'], \n",
    "               values=['likes','views'], \n",
    "               aggfunc={'likes':[np.sum],'views':np.sum}\n",
    "        )\n",
    "df_graph.hist()"
   ]
  },
  {
   "cell_type": "code",
   "execution_count": null,
   "metadata": {
    "colab": {
     "base_uri": "https://localhost:8080/",
     "height": 387
    },
    "id": "oV-NWruDCPVx",
    "outputId": "d3eec3c7-6f6c-4f1a-a978-17677c5b3a74"
   },
   "outputs": [],
   "source": [
    "not_dummy_columns=pd.Series(np.arange(0,14,1))\n",
    "df_graph=df.iloc[:,not_dummy_columns].reset_index().drop('index', axis=1)\n",
    "df_graph.corr()"
   ]
  },
  {
   "cell_type": "markdown",
   "metadata": {
    "id": "AO8EmJHgCPVz"
   },
   "source": [
    "## Exploring: Keywords categories"
   ]
  },
  {
   "cell_type": "code",
   "execution_count": null,
   "metadata": {
    "colab": {
     "base_uri": "https://localhost:8080/",
     "height": 140
    },
    "id": "HpCfurV9CPVz",
    "outputId": "80897c75-d3ba-402d-bf8c-72f1257d9bc7"
   },
   "outputs": [],
   "source": [
    "df_dummies=main()[1]\n",
    "df_dummies.head(3)"
   ]
  },
  {
   "cell_type": "code",
   "execution_count": null,
   "metadata": {
    "colab": {
     "base_uri": "https://localhost:8080/",
     "height": 570
    },
    "id": "FBYGtjOOCPVz",
    "outputId": "1344acc0-13fc-402d-b83f-e76b9b1ecbf9"
   },
   "outputs": [],
   "source": [
    "df_graph=(\n",
    "            df_dummies.\n",
    "            groupby(['category'])\n",
    "            .agg({'likes':['sum'],'views':['sum'], 'num_talks':['sum']})\n",
    "            \n",
    ")\n",
    "df_graph.columns=['likes', 'views', 'num_talks']\n",
    "df_graph=df_graph.sort_values(by=['num_talks'], ascending=False)\n",
    "\n",
    "#plot\n",
    "sns.scatterplot(data=df_graph, x=\"likes\", y=\"views\", size=\"num_talks\", legend=True, hue='category', alpha=0.5, sizes=(40, 400)) \n",
    "plt.legend(bbox_to_anchor=(1, 1), loc='upper left', fontsize=10)\n",
    "sns.axes_style({\n",
    "    'axes.facecolor': 'white',\n",
    "    'axes.edgecolor': 'black',\n",
    "    'axes.grid': False,\n",
    "    'figure.facecolor': 'white',\n",
    "     'grid.color': 'white',\n",
    "     'grid.linestyle': '-',\n",
    "     'font.sans-serif': 'Arial',\n",
    "     'grid.color': '#ffffff'\n",
    "\n",
    "})\n",
    "sns.set(rc={\"figure.figsize\":(9 , 9)}) #(width,height)\n",
    "plt.show()"
   ]
  },
  {
   "cell_type": "code",
   "execution_count": null,
   "metadata": {
    "colab": {
     "base_uri": "https://localhost:8080/",
     "height": 570
    },
    "id": "f8rV5cQJCPV0",
    "outputId": "a3653b00-2385-45a3-e80d-21d9f370caea"
   },
   "outputs": [],
   "source": [
    "df_graph=(\n",
    "            df_dummies.\n",
    "            groupby(['sub_category'])\n",
    "            .agg({'likes':['sum'],'views':['sum'], 'num_talks':['sum']})\n",
    "            \n",
    ")\n",
    "df_graph.columns=['likes', 'views', 'num_talks']\n",
    "df_graph=(df_graph\n",
    "    .sort_values(by=['num_talks'], ascending=False)\n",
    "    .iloc[1:20,:]\n",
    ")\n",
    "\n",
    "# df_graph\n",
    "# plot\n",
    "sns.scatterplot(data=df_graph, x=\"likes\", y=\"views\", size=\"num_talks\", legend=True, hue='sub_category', alpha=0.5, sizes=(40, 400)) \n",
    "plt.legend(bbox_to_anchor=(1, 1), loc='upper left', fontsize=10)\n",
    "sns.axes_style({\n",
    "    'axes.facecolor': 'white',\n",
    "    'axes.edgecolor': 'black',\n",
    "    'axes.grid': False,\n",
    "    'figure.facecolor': 'white',\n",
    "     'grid.color': 'white',\n",
    "     'grid.linestyle': '-',\n",
    "     'font.sans-serif': 'Arial',\n",
    "     'grid.color': '#ffffff'\n",
    "\n",
    "})\n",
    "sns.set(rc={\"figure.figsize\":(9 ,9)}) #(width,height)\n",
    "plt.show()"
   ]
  },
  {
   "cell_type": "code",
   "execution_count": null,
   "metadata": {
    "colab": {
     "base_uri": "https://localhost:8080/",
     "height": 232
    },
    "id": "tYh5cO2RCPVy",
    "outputId": "6d312e58-11e1-4273-f6a2-9ee763c6c80c",
    "scrolled": false
   },
   "outputs": [],
   "source": [
    "dummy_columns=pd.Series(np.arange(15,349,1))[1:]\n",
    "df_d=pd.concat([df.iloc[:,dummy_columns],df[['likes', 'views', 'date_released_month']]], axis=1)\n",
    "df_d.head(3)"
   ]
  },
  {
   "cell_type": "code",
   "execution_count": null,
   "metadata": {
    "colab": {
     "base_uri": "https://localhost:8080/"
    },
    "id": "vnrNZSWhCPVz",
    "outputId": "b9e044dd-81dc-407e-82f1-09fc956267b0"
   },
   "outputs": [],
   "source": [
    "df_d.shape"
   ]
  },
  {
   "cell_type": "markdown",
   "metadata": {
    "id": "NwIN6bu_478y"
   },
   "source": [
    "# Analysis"
   ]
  },
  {
   "cell_type": "code",
   "execution_count": null,
   "metadata": {
    "colab": {
     "base_uri": "https://localhost:8080/"
    },
    "id": "_9qXV5zl478z",
    "outputId": "0cc2a120-16db-4699-9a2f-be1393578efb"
   },
   "outputs": [],
   "source": [
    "# #what constitude a good video based on views?\n",
    "y=1000\n",
    "df_graph=df.views.apply(lambda x: round(x/y,0))\n",
    "df_graph.describe()"
   ]
  },
  {
   "cell_type": "markdown",
   "metadata": {
    "id": "pvJFwsUP478z"
   },
   "source": [
    "### Top 10 Liked Videos"
   ]
  },
  {
   "cell_type": "code",
   "execution_count": null,
   "metadata": {
    "colab": {
     "base_uri": "https://localhost:8080/",
     "height": 411
    },
    "id": "Kii_B_Jt478z",
    "outputId": "ba68b5e4-e5e4-4369-85c5-1ca821e59213"
   },
   "outputs": [],
   "source": [
    "#build data: These are the 75% most liked videos\n",
    "y_var='likes'\n",
    "df_grap = (\n",
    "    (df.groupby(['title','author','date_recorded_year','views'])[y_var].sum().reset_index())\n",
    "    .sort_values([y_var],ascending=[False])\n",
    "    ).reset_index()\n",
    "df_grap=df_grap.drop('index', axis=1)\n",
    "df_grap = df_grap[df_grap[y_var] > 65000]\n",
    "df_grap.head(25)"
   ]
  },
  {
   "cell_type": "markdown",
   "metadata": {
    "id": "WBEJ5F5-4780"
   },
   "source": [
    "### Top 10 Authors"
   ]
  },
  {
   "cell_type": "code",
   "execution_count": null,
   "metadata": {
    "colab": {
     "base_uri": "https://localhost:8080/",
     "height": 352
    },
    "id": "sVvE1w3w4780",
    "outputId": "60a6455e-4e94-412f-a586-daf346f0c168"
   },
   "outputs": [],
   "source": [
    "#Modifiable variables\n",
    "y_var='views'\n",
    "x_var1='author'\n",
    "x_var2='likes'\n",
    "\n",
    "#build data\n",
    "df_grap = (\n",
    "    (df.groupby([x_var1, x_var2])[y_var].sum().reset_index())\n",
    "    .sort_values([y_var],ascending=[False])\n",
    "    ).reset_index().head(20)\n",
    "df_grap=df_grap.drop('index', axis=1)\n",
    "df_grap"
   ]
  },
  {
   "cell_type": "markdown",
   "metadata": {
    "id": "SO74xRWm4782"
   },
   "source": [
    "Areas of improvements:\n",
    "    \n",
    "    1) More information on the authors. Understanding age, gender and nationality of authors, may answer questions related to diversity of the speakers. This data could be parcially scrapped from Wikipedia as there is a dedicated website that tracks this information. \n",
    "    https://en.wikipedia.org/wiki/List_of_TED_speakers"
   ]
  },
  {
   "cell_type": "markdown",
   "metadata": {
    "id": "sy2HbjP8CPV9"
   },
   "source": [
    "# ML Predicting model for likes based on content labels to answer:\n",
    "Will certain labels increase the likes on a content"
   ]
  },
  {
   "cell_type": "code",
   "execution_count": null,
   "metadata": {
    "colab": {
     "base_uri": "https://localhost:8080/"
    },
    "id": "i6dQmiTE478y",
    "outputId": "b494f890-77fc-41a9-efd3-0b705c177f2b"
   },
   "outputs": [],
   "source": [
    "# #what constitude a good video based on likes?\n",
    "y=1000\n",
    "df_graph=df.likes.apply(lambda x: round(x/y,0))\n",
    "df_graph.describe()"
   ]
  },
  {
   "cell_type": "code",
   "execution_count": null,
   "metadata": {
    "colab": {
     "base_uri": "https://localhost:8080/",
     "height": 156
    },
    "id": "aHduZP0TCPV-",
    "outputId": "593ed29c-ccac-4200-b501-7e1f455686a6"
   },
   "outputs": [],
   "source": [
    "#verifying no NAN in data feeding model\n",
    "df[df.likes.isnull()==True]"
   ]
  },
  {
   "cell_type": "code",
   "execution_count": null,
   "metadata": {
    "id": "4oIox4rHCPV-"
   },
   "outputs": [],
   "source": [
    "#create target\n",
    "\n",
    "#we define TARGET a well performing video if it is above 75% percentile. So the model should predict if a video will\n",
    "#perform above 75% percentile\n",
    "threshold= np.percentile(df_d.likes, 75)\n",
    "\n",
    "#create target column\n",
    "df_d['target']=[1 if x>threshold else 0 for x in df.likes]"
   ]
  },
  {
   "cell_type": "code",
   "execution_count": null,
   "metadata": {
    "id": "opZt705mCPV_"
   },
   "outputs": [],
   "source": [
    "#drop multicolinearity columns\n",
    "df_d=df_d.drop(['likes', 'views'], axis=1)"
   ]
  },
  {
   "cell_type": "code",
   "execution_count": null,
   "metadata": {
    "colab": {
     "base_uri": "https://localhost:8080/",
     "height": 232
    },
    "id": "hcHRU3icCPV_",
    "outputId": "93961fa2-bfac-41c3-859a-673c9ef940ff"
   },
   "outputs": [],
   "source": [
    "data=df_d.copy()\n",
    "data.head(3)"
   ]
  },
  {
   "cell_type": "code",
   "execution_count": null,
   "metadata": {
    "colab": {
     "base_uri": "https://localhost:8080/"
    },
    "id": "OZ9VJgXOCPV_",
    "outputId": "ab330737-8758-461b-938d-7c5a0cb6c4ec"
   },
   "outputs": [],
   "source": [
    "#Balance data\n",
    "data.target.value_counts()"
   ]
  },
  {
   "cell_type": "code",
   "execution_count": null,
   "metadata": {
    "colab": {
     "base_uri": "https://localhost:8080/"
    },
    "id": "P3HHNiRDCPV_",
    "outputId": "35aa8ac1-3086-4b65-fa0f-42c25df04328"
   },
   "outputs": [],
   "source": [
    "positive_labels = data[data.target==1]\n",
    "num_positive_labels = positive_labels.shape[0]\n",
    "num_positive_labels"
   ]
  },
  {
   "cell_type": "code",
   "execution_count": null,
   "metadata": {
    "colab": {
     "base_uri": "https://localhost:8080/"
    },
    "id": "tTYbaGfyCPWA",
    "outputId": "cc8b6955-db94-487b-da22-a870c033b00a"
   },
   "outputs": [],
   "source": [
    "negative_labels = data[data.target==0].sample(num_positive_labels)\n",
    "negative_labels.shape"
   ]
  },
  {
   "cell_type": "code",
   "execution_count": null,
   "metadata": {
    "colab": {
     "base_uri": "https://localhost:8080/"
    },
    "id": "f4ETnh9kCPWA",
    "outputId": "aa146989-248c-4970-a036-da3b53dda144"
   },
   "outputs": [],
   "source": [
    "balanced_data =  positive_labels.append(negative_labels)\n",
    "balanced_data.target.value_counts()"
   ]
  },
  {
   "cell_type": "code",
   "execution_count": null,
   "metadata": {
    "id": "wNes1GpLCPWA"
   },
   "outputs": [],
   "source": [
    "## Splitting data into test splits"
   ]
  },
  {
   "cell_type": "code",
   "execution_count": null,
   "metadata": {
    "id": "l6BJhPaeCPWA"
   },
   "outputs": [],
   "source": [
    "y = balanced_data.pop('target')\n",
    "X = balanced_data"
   ]
  },
  {
   "cell_type": "code",
   "execution_count": null,
   "metadata": {
    "colab": {
     "base_uri": "https://localhost:8080/",
     "height": 292
    },
    "id": "iLWP0tVTCPWB",
    "outputId": "34366372-bffc-451a-c8c0-e40e3887ea5d"
   },
   "outputs": [],
   "source": [
    "X_train, X_valid, y_train, y_valid = train_test_split(X, y, test_size = 0.3)\n",
    "X_valid, X_test, y_valid, y_test = train_test_split(X_valid, y_valid, test_size = 0.33)\n",
    "X_train.head()"
   ]
  },
  {
   "cell_type": "markdown",
   "metadata": {
    "id": "b_fLeS1sCPWB"
   },
   "source": [
    "## Linear Regression"
   ]
  },
  {
   "cell_type": "code",
   "execution_count": null,
   "metadata": {
    "colab": {
     "base_uri": "https://localhost:8080/"
    },
    "id": "N-EZ5_GxCPWB",
    "outputId": "3b24462d-e1f9-41cf-a569-cd10796040a8"
   },
   "outputs": [],
   "source": [
    "# fit a model\n",
    "clf = LogisticRegression(penalty='l2').fit(X_train, y_train)\n",
    "# predict probabilities\n",
    "predictions = clf.predict_proba(X_test)[:, 1]"
   ]
  },
  {
   "cell_type": "code",
   "execution_count": null,
   "metadata": {
    "colab": {
     "base_uri": "https://localhost:8080/",
     "height": 869
    },
    "id": "91qu8h-xCPWD",
    "outputId": "bcf41c4b-0577-46d9-9fb7-81a7e05b5c36"
   },
   "outputs": [],
   "source": [
    "# Feature Importance\n",
    "feature_importance = abs(clf.coef_[0])\n",
    "feature_importance = 100.0 * (feature_importance / feature_importance.max())\n",
    "sorted_idx = np.argsort(feature_importance)\n",
    "pos = np.arange(sorted_idx.shape[0]) + .5\n",
    "\n",
    "featfig = plt.figure(figsize=(10, 15))\n",
    "featax = featfig.add_subplot(1, 1, 1)\n",
    "featax.barh(pos, feature_importance[sorted_idx], align='center')\n",
    "featax.set_yticks(pos)\n",
    "featax.set_yticklabels(np.array(X.columns)[sorted_idx], fontsize=8)\n",
    "\n",
    "plt.show()"
   ]
  },
  {
   "cell_type": "markdown",
   "metadata": {
    "id": "DKtkyDFlCPWB"
   },
   "source": [
    "### Model Evaluation"
   ]
  },
  {
   "cell_type": "code",
   "execution_count": null,
   "metadata": {
    "id": "qEED8cQ9CPWC"
   },
   "outputs": [],
   "source": [
    "# Predict probabilities given test data\n",
    "y_pred = clf.predict_proba(X_test)\n",
    "pred_reg=y_pred"
   ]
  },
  {
   "cell_type": "code",
   "execution_count": null,
   "metadata": {
    "colab": {
     "base_uri": "https://localhost:8080/",
     "height": 615
    },
    "id": "cbfmfrvsCPWC",
    "outputId": "a864870c-ee99-4356-918d-0f6f44c952b3"
   },
   "outputs": [],
   "source": [
    "# calculate scores\n",
    "auc = roc_auc_score(y_test, predictions)\n",
    "\n",
    "# calculate roc curves\n",
    "fpr, tpr, _ = roc_curve(y_test, predictions)\n",
    "\n",
    "plt.figure(figsize=(15, 10))\n",
    "# plot horizontal line \n",
    "plt.plot([0, 1], [0, 1], linestyle='--')\n",
    "# plot the roc curve for the model\n",
    "plt.plot(fpr, tpr, label='ROC curve (AUC = %0.2f)' % auc)\n",
    "# axis labels\n",
    "plt.xlabel('FPR')\n",
    "plt.ylabel('TPR')\n",
    "# show the legend\n",
    "plt.legend(loc='lower right')\n",
    "# show the plot\n",
    "plt.show()"
   ]
  },
  {
   "cell_type": "markdown",
   "metadata": {},
   "source": [
    "## Decision Tree"
   ]
  },
  {
   "cell_type": "code",
   "execution_count": null,
   "metadata": {},
   "outputs": [],
   "source": [
    "from sklearn.tree import DecisionTreeClassifier\n",
    "\n",
    "dt_model = DecisionTreeClassifier(max_depth=10)\n",
    "\n",
    "print(dt_model)\n",
    "\n",
    "dt_model = dt_model.fit(X_train,y_train)\n",
    "pred_dt = dt_model.predict_proba(X_valid)[:, 1]"
   ]
  },
  {
   "cell_type": "code",
   "execution_count": null,
   "metadata": {},
   "outputs": [],
   "source": [
    "from sklearn.metrics import classification_report\n",
    "pred_dt_binary = dt_model.predict(X_valid)\n",
    "print(classification_report(y_valid, pred_dt_binary))"
   ]
  },
  {
   "cell_type": "markdown",
   "metadata": {},
   "source": [
    "## Random Forest"
   ]
  },
  {
   "cell_type": "code",
   "execution_count": null,
   "metadata": {
    "scrolled": true
   },
   "outputs": [],
   "source": [
    "from sklearn.ensemble import RandomForestClassifier\n",
    "\n",
    "rf_model = RandomForestClassifier()\n",
    "print(rf_model)\n",
    "\n",
    "rf_model = rf_model.fit(X_train, y_train)\n",
    "pred_rf = rf_model.predict_proba(X_valid)[:, 1]\n",
    "print(classification_report(y_valid, pred_rf.round(0)))"
   ]
  },
  {
   "cell_type": "code",
   "execution_count": null,
   "metadata": {},
   "outputs": [],
   "source": [
    "#Feature Component\n",
    "from sklearn.inspection import permutation_importance\n",
    "rf_model.feature_importances_\n",
    "plt.barh(X.columns.values, rf_model.feature_importances_)"
   ]
  },
  {
   "cell_type": "markdown",
   "metadata": {},
   "source": []
  },
  {
   "cell_type": "markdown",
   "metadata": {},
   "source": [
    "## XGBoost"
   ]
  },
  {
   "cell_type": "code",
   "execution_count": null,
   "metadata": {},
   "outputs": [],
   "source": [
    "#code to fix error taken from: https://stackoverflow.com/questions/43579180/feature-names-must-be-unique-xgboost\n",
    "X_train = X_train.loc[:,~X_train.columns.duplicated()]\n",
    "X_valid = X_valid.loc[:,~X_valid.columns.duplicated()]"
   ]
  },
  {
   "cell_type": "code",
   "execution_count": null,
   "metadata": {},
   "outputs": [],
   "source": [
    "from xgboost import XGBClassifier\n",
    "\n",
    "xgb_model = XGBClassifier()\n",
    "\n",
    "xgb_model = xgb_model.fit(X_train, y_train)\n",
    "pred_xgb = xgb_model.predict_proba(X_valid)[:, 1]"
   ]
  },
  {
   "cell_type": "code",
   "execution_count": null,
   "metadata": {},
   "outputs": [],
   "source": [
    "#Feature Component\n",
    "from xgboost import plot_importance\n",
    "# plot feature importance\n",
    "plot_importance(xgb_model)\n",
    "plt.show()"
   ]
  },
  {
   "cell_type": "markdown",
   "metadata": {},
   "source": [
    "## Comparing Tree Models"
   ]
  },
  {
   "cell_type": "code",
   "execution_count": null,
   "metadata": {},
   "outputs": [],
   "source": [
    "def create_roc_plot(name, predictions):\n",
    "  auc = roc_auc_score(y_valid, predictions).round(2)\n",
    "  fpr, tpr, _ = roc_curve(y_valid, predictions)\n",
    "\n",
    "  plt.figure(figsize=(5, 4))\n",
    "  plt.plot([0, 1], [0, 1], linestyle='--')  # plot horizontal line \n",
    "  plt.plot(fpr, tpr, label='{} AUC = {}'.format(name, auc)) # plot the roc curve for the model\n",
    "  plt.xlabel('FPR')\n",
    "  plt.ylabel('TPR')\n",
    "  plt.legend(loc='lower right')  # show the legend\n",
    "  plt.show() # show the plot\n",
    "  return None"
   ]
  },
  {
   "cell_type": "code",
   "execution_count": null,
   "metadata": {},
   "outputs": [],
   "source": [
    "# create_roc_plot('Regression', pred_reg)\n",
    "create_roc_plot('Decision Tree', pred_dt)\n",
    "create_roc_plot('Random Forest', pred_rf)\n",
    "create_roc_plot('XGBoost', pred_xgb)"
   ]
  },
  {
   "cell_type": "code",
   "execution_count": null,
   "metadata": {
    "id": "CssYMWa_CPWD"
   },
   "outputs": [],
   "source": [
    "# NLP Machine Learning on Description\n",
    "#Spacy to capture entities from description"
   ]
  },
  {
   "cell_type": "code",
   "execution_count": null,
   "metadata": {
    "id": "rI6GH783CPWD"
   },
   "outputs": [],
   "source": [
    "import spacy\n",
    "from spacy import displacy\n",
    "\n",
    "\n",
    "text=df.description_1[0]\n",
    "\n",
    "nlp = spacy.load(\"en_core_web_sm\")\n",
    "doc = nlp(text)\n",
    "displacy.render(doc, style='ent', jupyter=True)\n",
    "\n",
    "\n",
    "list_text = []\n",
    "list_ent = []\n",
    "\n",
    "for ent in doc.ents:\n",
    "    print(ent.text, ent.label_)\n",
    "    list_text.append(ent.text)\n",
    "    list_ent.append(ent.label_)\n",
    "    \n",
    "\n",
    "test_df = pd.DataFrame(list_text, columns=['text'])\n",
    "test_df['ent'] = list_ent\n",
    "test_df\n",
    "\n",
    "print(text)\n",
    "print(test_df)"
   ]
  },
  {
   "cell_type": "code",
   "execution_count": null,
   "metadata": {
    "id": "zD0yl7NqCPWE"
   },
   "outputs": [],
   "source": []
  }
 ],
 "metadata": {
  "colab": {
   "collapsed_sections": [],
   "name": "Copy of colab.ipynb",
   "provenance": []
  },
  "kernelspec": {
   "display_name": "clustering",
   "language": "python",
   "name": "clustering"
  },
  "language_info": {
   "codemirror_mode": {
    "name": "ipython",
    "version": 3
   },
   "file_extension": ".py",
   "mimetype": "text/x-python",
   "name": "python",
   "nbconvert_exporter": "python",
   "pygments_lexer": "ipython3",
   "version": "3.6.13"
  }
 },
 "nbformat": 4,
 "nbformat_minor": 1
}
