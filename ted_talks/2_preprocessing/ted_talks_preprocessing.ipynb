{
 "cells": [
  {
   "cell_type": "code",
   "execution_count": 9,
   "metadata": {
    "id": "2dGer9wZ478q"
   },
   "outputs": [],
   "source": [
    "import pandas as pd\n",
    "import seaborn as sns\n",
    "import numpy as np\n",
    "# from pandasql import sqldf"
   ]
  },
  {
   "cell_type": "code",
   "execution_count": 10,
   "metadata": {
    "id": "_dXfGYaz53zq"
   },
   "outputs": [],
   "source": [
    "def preprocessing(df):  \n",
    "\n",
    "  #drop duplicated columns\n",
    "  drop_column=['description2', 'Unnamed: 0', 'link', 'author_y', 'title','url', 'title_1']\n",
    "  df=df.drop(drop_column,axis=1)\n",
    "\n",
    "  #renaming\n",
    "  column_names=['author', 'date_recorded', 'views', 'likes', 'title',\n",
    "       'description_1', 'duration_seg', 'date_released', 'keywords','description_2']\n",
    "  df.columns=column_names\n",
    "\n",
    "  #MODIFYING COLUMN: date_recorded\n",
    "  df['date_recorded']= pd.to_datetime(df['date_recorded'], format='%B %Y')\n",
    "  \n",
    "  ##separate data into new Column\n",
    "  list_months=[]\n",
    "  list_years=[]\n",
    "  for i in range(df.shape[0]):\n",
    "      list_months.append(df['date_recorded'][i].month)\n",
    "      list_years.append(df['date_recorded'][i].year)\n",
    "  df['date_recorded_year']=list_years\n",
    "  df['date_recorded_month']=list_months\n",
    "\n",
    "  #mMODIFYING COLUMN: date_released\n",
    "  column='date_released'\n",
    "  df[column]= pd.to_datetime(df[column], format='%Y-%m-%d %H:%M:%S')\n",
    "\n",
    "  ##separate data into new Column\n",
    "  list_months=[]\n",
    "  list_years=[]\n",
    "  list_hours=[]\n",
    "  list_minutes=[]\n",
    "  for i in range(df.shape[0]):\n",
    "      list_months.append(df[column][i].month)\n",
    "      list_years.append(df[column][i].year)\n",
    "      list_hours.append(df[column][i].hour)\n",
    "      list_minutes.append(df[column][i].minute)\n",
    "  df[column+'_year']=list_years\n",
    "  df[column+'_month']=list_months\n",
    "  df[column+'_hour']=list_hours\n",
    "  df[column+'_minute']=list_minutes\n",
    "\n",
    "  #MODIFYING COLUMN: 'keywords'\n",
    "  df_key=df.keywords\n",
    "  i=0\n",
    "  df_result=pd.DataFrame()\n",
    "  ##transforming line into string\n",
    "  for line in df_key:\n",
    "    line=(str(line).replace(\"[\",\"\").replace(\"]\",\"\").split(','))\n",
    "    new_line=[]\n",
    "    ##removing additional spaces in words and converting the into lower case\n",
    "    for word in line:\n",
    "      word=word.lower().replace(' ', '')[1:-1]\n",
    "      new_line.append(word)\n",
    "    ##transforming line into string\n",
    "    new_line=str(new_line).replace(\"[\",\"\").replace(\"]\",\"\")\n",
    "    ##writting line into dataframe\n",
    "    df_result.at[i,'keywords2']=new_line\n",
    "    i=i+1\n",
    "  \n",
    "  df=pd.concat([df,df_result], axis=1)\n",
    "\n",
    "  #drop initial columns\n",
    "  drop_columns=['date_recorded','date_released', 'keywords']\n",
    "  df=df.drop(drop_columns, axis=1)\n",
    "\n",
    "  return(df)"
   ]
  },
  {
   "cell_type": "code",
   "execution_count": 11,
   "metadata": {
    "id": "Jms_2u6Y673R"
   },
   "outputs": [],
   "source": [
    "def main():\n",
    "  #load data\n",
    "  raw_data=pd.read_csv('https://github.com/aaas24/code_library/raw/main/ted_talks/1_raw_data/final_raw_data.csv')\n",
    "  df=raw_data.copy()\n",
    "\n",
    "  #clean data\n",
    "  df=preprocessing(df)\n",
    "\n",
    "  return(df)\n",
    "  \n"
   ]
  },
  {
   "cell_type": "code",
   "execution_count": 12,
   "metadata": {
    "colab": {
     "base_uri": "https://localhost:8080/"
    },
    "id": "2bk-P0Nk67Kv",
    "outputId": "3989549c-5563-4a90-9138-bb0ac9c59363"
   },
   "outputs": [],
   "source": [
    "if __name__ == '__main__':\n",
    "  main()"
   ]
  },
  {
   "cell_type": "markdown",
   "metadata": {
    "id": "7eAeovVl478o"
   },
   "source": [
    "## Data Exploration"
   ]
  },
  {
   "cell_type": "code",
   "execution_count": 15,
   "metadata": {
    "colab": {
     "base_uri": "https://localhost:8080/"
    },
    "id": "smevCzKh478s",
    "outputId": "60957972-0620-4107-9975-c1dd6c802e3a"
   },
   "outputs": [
    {
     "data": {
      "text/plain": [
       "author    0.018382\n",
       "dtype: float64"
      ]
     },
     "execution_count": 15,
     "metadata": {},
     "output_type": "execute_result"
    }
   ],
   "source": [
    "# missing data\n",
    "((df\n",
    " .isna()\n",
    " .mean()\n",
    " *100)\n",
    " .pipe(lambda ser:ser[ser>0])\n",
    ")"
   ]
  },
  {
   "cell_type": "code",
   "execution_count": 18,
   "metadata": {
    "colab": {
     "base_uri": "https://localhost:8080/"
    },
    "id": "VAZztQTb478y",
    "outputId": "f34a9106-90cb-4b32-e890-93b3ac5b5144"
   },
   "outputs": [
    {
     "name": "stdout",
     "output_type": "stream",
     "text": [
      "(5440, 349)\n"
     ]
    }
   ],
   "source": [
    "#converting keywords into dummy columns\n",
    "df2=df.keywords2.str.get_dummies(',')\n",
    "print(df.shape)"
   ]
  },
  {
   "cell_type": "code",
   "execution_count": 19,
   "metadata": {
    "colab": {
     "base_uri": "https://localhost:8080/"
    },
    "id": "YE6vrEEy478r",
    "outputId": "a7bb0ca7-1bbb-4f36-aa59-2ce905054a9f",
    "scrolled": true
   },
   "outputs": [
    {
     "data": {
      "text/plain": [
       " \"alzheimer's\"         int64\n",
       " ''                    int64\n",
       " '3dprinting'          int64\n",
       " 'activism'            int64\n",
       " 'addiction'           int64\n",
       "                       ...  \n",
       " 'work'                int64\n",
       " 'work-lifebalance'    int64\n",
       " 'writing'             int64\n",
       " 'youth'               int64\n",
       "'ted'                  int64\n",
       "Length: 349, dtype: object"
      ]
     },
     "execution_count": 19,
     "metadata": {},
     "output_type": "execute_result"
    }
   ],
   "source": [
    "df.dtypes"
   ]
  },
  {
   "cell_type": "code",
   "execution_count": 21,
   "metadata": {
    "colab": {
     "base_uri": "https://localhost:8080/",
     "height": 643
    },
    "id": "BFtHAkoUgbJv",
    "outputId": "b19483da-3a97-4f5a-fe29-2ace63d43cf6"
   },
   "outputs": [
    {
     "data": {
      "text/html": [
       "<div>\n",
       "<style scoped>\n",
       "    .dataframe tbody tr th:only-of-type {\n",
       "        vertical-align: middle;\n",
       "    }\n",
       "\n",
       "    .dataframe tbody tr th {\n",
       "        vertical-align: top;\n",
       "    }\n",
       "\n",
       "    .dataframe thead th {\n",
       "        text-align: right;\n",
       "    }\n",
       "</style>\n",
       "<table border=\"1\" class=\"dataframe\">\n",
       "  <thead>\n",
       "    <tr style=\"text-align: right;\">\n",
       "      <th></th>\n",
       "      <th>author</th>\n",
       "      <th>views</th>\n",
       "      <th>likes</th>\n",
       "      <th>title</th>\n",
       "      <th>description_1</th>\n",
       "      <th>duration_seg</th>\n",
       "      <th>description_2</th>\n",
       "      <th>date_recorded_year</th>\n",
       "      <th>date_recorded_month</th>\n",
       "      <th>date_released_year</th>\n",
       "      <th>date_released_month</th>\n",
       "      <th>date_released_hour</th>\n",
       "      <th>date_released_minute</th>\n",
       "      <th>keywords2</th>\n",
       "    </tr>\n",
       "  </thead>\n",
       "  <tbody>\n",
       "    <tr>\n",
       "      <th>0</th>\n",
       "      <td>Ozawa Bineshi Albert</td>\n",
       "      <td>404000</td>\n",
       "      <td>12000</td>\n",
       "      <td>Climate action needs new frontline leadership</td>\n",
       "      <td>\"We can't rely on those who created climate ch...</td>\n",
       "      <td>834</td>\n",
       "      <td>\"We can't rely on those who created climate ch...</td>\n",
       "      <td>2021</td>\n",
       "      <td>12</td>\n",
       "      <td>2022</td>\n",
       "      <td>2</td>\n",
       "      <td>9</td>\n",
       "      <td>41</td>\n",
       "      <td>'ted', 'talks', 'climatechange', 'globalissues...</td>\n",
       "    </tr>\n",
       "    <tr>\n",
       "      <th>1</th>\n",
       "      <td>Sydney Iaukea</td>\n",
       "      <td>214000</td>\n",
       "      <td>6400</td>\n",
       "      <td>The dark history of the overthrow of Hawaii</td>\n",
       "      <td>\"On January 16th, 1895, two men arrived at Lil...</td>\n",
       "      <td>0</td>\n",
       "      <td>\"On January 16th, 1895, two men arrived at Lil...</td>\n",
       "      <td>2022</td>\n",
       "      <td>2</td>\n",
       "      <td>2022</td>\n",
       "      <td>2</td>\n",
       "      <td>10</td>\n",
       "      <td>13</td>\n",
       "      <td>'ted', 'talks', 'education', 'women', 'ted-ed'...</td>\n",
       "    </tr>\n",
       "    <tr>\n",
       "      <th>2</th>\n",
       "      <td>Martin Reeves</td>\n",
       "      <td>412000</td>\n",
       "      <td>12000</td>\n",
       "      <td>Why play is essential for business</td>\n",
       "      <td>\"To thrive in today's competitive economy, you...</td>\n",
       "      <td>665</td>\n",
       "      <td>\"To thrive in today's competitive economy, you...</td>\n",
       "      <td>2021</td>\n",
       "      <td>9</td>\n",
       "      <td>2022</td>\n",
       "      <td>2</td>\n",
       "      <td>9</td>\n",
       "      <td>51</td>\n",
       "      <td>'ted', 'talks', 'business', 'leadership', 'wor...</td>\n",
       "    </tr>\n",
       "    <tr>\n",
       "      <th>3</th>\n",
       "      <td>James K. Thornton</td>\n",
       "      <td>427000</td>\n",
       "      <td>12000</td>\n",
       "      <td>Why is China appointing judges to combat clima...</td>\n",
       "      <td>\"Why is China appointing thousands of judges t...</td>\n",
       "      <td>695</td>\n",
       "      <td>\"Why is China appointing thousands of judges t...</td>\n",
       "      <td>2021</td>\n",
       "      <td>10</td>\n",
       "      <td>2022</td>\n",
       "      <td>2</td>\n",
       "      <td>9</td>\n",
       "      <td>45</td>\n",
       "      <td>'ted', 'talks', 'climatechange', 'pollution', ...</td>\n",
       "    </tr>\n",
       "    <tr>\n",
       "      <th>4</th>\n",
       "      <td>Mahendra Singhi</td>\n",
       "      <td>2400</td>\n",
       "      <td>72</td>\n",
       "      <td>Cement's carbon problem -- and 2 ways to fix it</td>\n",
       "      <td>\"Cement is vital to modernizing all kinds of i...</td>\n",
       "      <td>671</td>\n",
       "      <td>\"Cement is vital to modernizing all kinds of i...</td>\n",
       "      <td>2021</td>\n",
       "      <td>10</td>\n",
       "      <td>2022</td>\n",
       "      <td>2</td>\n",
       "      <td>9</td>\n",
       "      <td>38</td>\n",
       "      <td>'ted', 'talks', 'climatechange', 'countdown', ...</td>\n",
       "    </tr>\n",
       "  </tbody>\n",
       "</table>\n",
       "</div>"
      ],
      "text/plain": [
       "                 author   views  likes  \\\n",
       "0  Ozawa Bineshi Albert  404000  12000   \n",
       "1         Sydney Iaukea  214000   6400   \n",
       "2         Martin Reeves  412000  12000   \n",
       "3     James K. Thornton  427000  12000   \n",
       "4       Mahendra Singhi    2400     72   \n",
       "\n",
       "                                               title  \\\n",
       "0      Climate action needs new frontline leadership   \n",
       "1        The dark history of the overthrow of Hawaii   \n",
       "2                 Why play is essential for business   \n",
       "3  Why is China appointing judges to combat clima...   \n",
       "4    Cement's carbon problem -- and 2 ways to fix it   \n",
       "\n",
       "                                       description_1  duration_seg  \\\n",
       "0  \"We can't rely on those who created climate ch...           834   \n",
       "1  \"On January 16th, 1895, two men arrived at Lil...             0   \n",
       "2  \"To thrive in today's competitive economy, you...           665   \n",
       "3  \"Why is China appointing thousands of judges t...           695   \n",
       "4  \"Cement is vital to modernizing all kinds of i...           671   \n",
       "\n",
       "                                       description_2  date_recorded_year  \\\n",
       "0  \"We can't rely on those who created climate ch...                2021   \n",
       "1  \"On January 16th, 1895, two men arrived at Lil...                2022   \n",
       "2  \"To thrive in today's competitive economy, you...                2021   \n",
       "3  \"Why is China appointing thousands of judges t...                2021   \n",
       "4  \"Cement is vital to modernizing all kinds of i...                2021   \n",
       "\n",
       "   date_recorded_month  date_released_year  date_released_month  \\\n",
       "0                   12                2022                    2   \n",
       "1                    2                2022                    2   \n",
       "2                    9                2022                    2   \n",
       "3                   10                2022                    2   \n",
       "4                   10                2022                    2   \n",
       "\n",
       "   date_released_hour  date_released_minute  \\\n",
       "0                   9                    41   \n",
       "1                  10                    13   \n",
       "2                   9                    51   \n",
       "3                   9                    45   \n",
       "4                   9                    38   \n",
       "\n",
       "                                           keywords2  \n",
       "0  'ted', 'talks', 'climatechange', 'globalissues...  \n",
       "1  'ted', 'talks', 'education', 'women', 'ted-ed'...  \n",
       "2  'ted', 'talks', 'business', 'leadership', 'wor...  \n",
       "3  'ted', 'talks', 'climatechange', 'pollution', ...  \n",
       "4  'ted', 'talks', 'climatechange', 'countdown', ...  "
      ]
     },
     "execution_count": 21,
     "metadata": {},
     "output_type": "execute_result"
    }
   ],
   "source": [
    "df=main()\n",
    "df.head(5)"
   ]
  },
  {
   "cell_type": "code",
   "execution_count": null,
   "metadata": {
    "id": "MyPsvjBC478y"
   },
   "outputs": [],
   "source": []
  },
  {
   "cell_type": "code",
   "execution_count": null,
   "metadata": {
    "colab": {
     "base_uri": "https://localhost:8080/",
     "height": 1000
    },
    "id": "xOVyefa_f2uX",
    "outputId": "8faf33d0-e867-4f2b-85bf-b6621bb65e70"
   },
   "outputs": [],
   "source": []
  },
  {
   "cell_type": "markdown",
   "metadata": {
    "id": "NwIN6bu_478y"
   },
   "source": [
    "# Analysis"
   ]
  },
  {
   "cell_type": "code",
   "execution_count": null,
   "metadata": {
    "colab": {
     "base_uri": "https://localhost:8080/"
    },
    "id": "i6dQmiTE478y",
    "outputId": "4f3ce7f8-4602-484a-8a57-323c3b5ebb29"
   },
   "outputs": [],
   "source": [
    "# #what constitude a good video based on likes?\n",
    "y=1000\n",
    "df_graph=df.likes.apply(lambda x: round(x/y,0))\n",
    "df_graph.describe()"
   ]
  },
  {
   "cell_type": "code",
   "execution_count": null,
   "metadata": {
    "id": "_9qXV5zl478z"
   },
   "outputs": [],
   "source": [
    "# #what constitude a good video based on views?\n",
    "# y=1000\n",
    "# df_graph=df.views.apply(lambda x: round(x/y,0))\n",
    "# df_graph.describe()"
   ]
  },
  {
   "cell_type": "markdown",
   "metadata": {
    "id": "pvJFwsUP478z"
   },
   "source": [
    "### Top 10 Liked Videos"
   ]
  },
  {
   "cell_type": "code",
   "execution_count": null,
   "metadata": {
    "id": "Kii_B_Jt478z"
   },
   "outputs": [],
   "source": [
    "# #build data: These are the 75% most liked videos\n",
    "# y_var='likes'\n",
    "# df_grap = (\n",
    "#     (df.groupby(['title','author_x','views', 'keywords'])[y_var].sum().reset_index())\n",
    "#     .sort_values([y_var],ascending=[False])\n",
    "#     ).reset_index()\n",
    "# df_grap=df_grap.drop('index', axis=1)\n",
    "# df_grap = df_grap[df_grap[y_var] > 65000]\n",
    "# df_grap"
   ]
  },
  {
   "cell_type": "code",
   "execution_count": null,
   "metadata": {
    "id": "dkOKsGPN4780"
   },
   "outputs": [],
   "source": [
    "# #This is taking the 75% percentile on liked videos\n",
    "# #Modifiable variables\n",
    "# y_var='likes'\n",
    "\n",
    "# #build data\n",
    "# df_grap = (\n",
    "#     (df.groupby(['title_2','author','views'])[y_var].sum().reset_index())\n",
    "#     .sort_values([y_var],ascending=[False])\n",
    "#     ).reset_index()\n",
    "# df_grap=df_grap.drop('index', axis=1)\n",
    "# df_grap = df_grap[df_grap[y_var] > 65000]\n",
    "# df_grap.head(30)"
   ]
  },
  {
   "cell_type": "markdown",
   "metadata": {
    "id": "WBEJ5F5-4780"
   },
   "source": [
    "### Top 10 Authors"
   ]
  },
  {
   "cell_type": "code",
   "execution_count": null,
   "metadata": {
    "id": "sVvE1w3w4780"
   },
   "outputs": [],
   "source": [
    "# #Modifiable variables\n",
    "# y_var='views'\n",
    "# x_var1='author'\n",
    "# x_var2='likes'\n",
    "\n",
    "# #build data\n",
    "# df_grap = (\n",
    "#     (df.groupby([x_var1, x_var2])[y_var].sum().reset_index())\n",
    "#     .sort_values([y_var],ascending=[False])\n",
    "#     ).reset_index().head(10)\n",
    "# df_grap=df_grap.drop('index', axis=1)\n",
    "# df_grap"
   ]
  },
  {
   "cell_type": "code",
   "execution_count": null,
   "metadata": {
    "id": "RnMUu55i4781"
   },
   "outputs": [],
   "source": [
    "# #visualize\n",
    "# x_var='author'\n",
    "# y_var='views'\n",
    "# sns.set_theme(style=\"white\")\n",
    "# ax = sns.barplot(x=y_var, y=x_var, data=df_grap, orient=\"h\")"
   ]
  },
  {
   "cell_type": "code",
   "execution_count": null,
   "metadata": {
    "id": "oXivxzZz4781",
    "scrolled": false
   },
   "outputs": [],
   "source": [
    "# #visualize\n",
    "# x_var='author'\n",
    "# y_var='likes'\n",
    "# sns.set_theme(style=\"white\")\n",
    "# ax = sns.barplot(x=y_var, y=x_var, data=df_grap, orient=\"h\", palette=\"Blues_d\")"
   ]
  },
  {
   "cell_type": "code",
   "execution_count": null,
   "metadata": {
    "id": "YZtYd7lC4781"
   },
   "outputs": [],
   "source": [
    "#from pandasql import sqldf\n",
    "# q = \"\"\"\n",
    "# SELECT\n",
    "# `title`\n",
    "# FROM\n",
    "# df\n",
    "# LIMIT 5\n",
    "# \"\"\"\n",
    "# print(sqldf(q))"
   ]
  },
  {
   "cell_type": "markdown",
   "metadata": {
    "id": "SO74xRWm4782"
   },
   "source": [
    "Areas of improvements:\n",
    "    \n",
    "    1) More information on the authors. Understanding age, gender and nationality of authors, may answer questions related to diversity of the speakers. This data could be parcially scrapped from Wikipedia as there is a dedicated website that tracks this information. \n",
    "    https://en.wikipedia.org/wiki/List_of_TED_speakers"
   ]
  },
  {
   "cell_type": "code",
   "execution_count": null,
   "metadata": {
    "id": "NWAkBBmK4782"
   },
   "outputs": [],
   "source": []
  },
  {
   "cell_type": "code",
   "execution_count": null,
   "metadata": {
    "id": "mMtRSdb04782"
   },
   "outputs": [],
   "source": []
  },
  {
   "cell_type": "code",
   "execution_count": null,
   "metadata": {
    "id": "gUj0ooG_4782"
   },
   "outputs": [],
   "source": []
  },
  {
   "cell_type": "code",
   "execution_count": null,
   "metadata": {
    "id": "XOHs0tzv4782"
   },
   "outputs": [],
   "source": []
  }
 ],
 "metadata": {
  "colab": {
   "collapsed_sections": [],
   "name": "colab.ipynb",
   "provenance": []
  },
  "kernelspec": {
   "display_name": "analytics",
   "language": "python",
   "name": "analytics"
  },
  "language_info": {
   "codemirror_mode": {
    "name": "ipython",
    "version": 3
   },
   "file_extension": ".py",
   "mimetype": "text/x-python",
   "name": "python",
   "nbconvert_exporter": "python",
   "pygments_lexer": "ipython3",
   "version": "3.8.5"
  }
 },
 "nbformat": 4,
 "nbformat_minor": 1
}
