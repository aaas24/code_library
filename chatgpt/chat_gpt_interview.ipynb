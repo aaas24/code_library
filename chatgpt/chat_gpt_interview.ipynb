{
 "cells": [
  {
   "cell_type": "code",
   "execution_count": 1,
   "metadata": {},
   "outputs": [
    {
     "name": "stdout",
     "output_type": "stream",
     "text": [
      "Python version: 3.8.5 (default, Sep  4 2020, 02:22:02) \n",
      "[Clang 10.0.0 ]\n"
     ]
    }
   ],
   "source": [
    "import sys\n",
    "print(\"Python version:\", sys.version)"
   ]
  },
  {
   "cell_type": "code",
   "execution_count": 16,
   "metadata": {},
   "outputs": [],
   "source": [
    "# import sys\n",
    "# !{sys.executable} -m pip install urllib"
   ]
  },
  {
   "cell_type": "code",
   "execution_count": 3,
   "metadata": {},
   "outputs": [],
   "source": [
    "import os\n",
    "import pandas as pd\n",
    "import openai"
   ]
  },
  {
   "cell_type": "code",
   "execution_count": 4,
   "metadata": {},
   "outputs": [],
   "source": [
    "def retrieve_password(row,column=1, print=False):\n",
    "    file=os.path.join(os.path.expanduser(\"~\"), '.secret')\n",
    "    secret=pd.read_csv(file, sep=\"=\", header=None).iloc[row,column]\n",
    "    if print=='True':\n",
    "        print('\\n \\n password obtained: ', secret)\n",
    "    return secret\n"
   ]
  },
  {
   "cell_type": "code",
   "execution_count": 5,
   "metadata": {},
   "outputs": [],
   "source": [
    "#retrieve keys\n",
    "def retrieve_environ_key(key_name, row):\n",
    "    '''\n",
    "    function that retrieves environmental keys. takes in two variables: \n",
    "    1)key_name, as stored in environ \n",
    "    2)row, of key name stored in password master record\n",
    "    \n",
    "    If current session has keys stored, it retrieves names requested\n",
    "    if keys ARE NOT stored in current session it calls the 'retrieve_password' function with row provided\n",
    "    '''\n",
    "    if key_name not in os.environ:\n",
    "        print(\"Environment variable does not exist in current session, loading variables\")\n",
    "        passwd=retrieve_password(row,1)\n",
    "        os.environ[key_name]=passwd\n",
    "        try: \n",
    "            open_api_key=os.environ.get(key_name, 'Does not exist')\n",
    "            print(key_name,'found')\n",
    "        except:\n",
    "            print('Unable to find key')\n",
    "    else: \n",
    "        print(key_name, 'found' )"
   ]
  },
  {
   "cell_type": "code",
   "execution_count": 6,
   "metadata": {
    "scrolled": true
   },
   "outputs": [],
   "source": [
    "def message_chat_gpt(message):\n",
    "    openai.organization = os.environ.get('OPENAI_API_ORG_KEY')\n",
    "    openai.api_key=os.environ.get('OPENAI_API_KEY')\n",
    "\n",
    "    completion = openai.ChatCompletion.create(\n",
    "      model=\"gpt-3.5-turbo\",\n",
    "      messages=[\n",
    "        {\"role\": \"user\", \"content\": message}\n",
    "      ]\n",
    "    )\n",
    "    response=completion.choices[0].message.content\n",
    "    return response"
   ]
  },
  {
   "cell_type": "code",
   "execution_count": 7,
   "metadata": {},
   "outputs": [],
   "source": [
    "company='Vibrant Emotional Health'\n",
    "industry='healthcare'"
   ]
  },
  {
   "cell_type": "code",
   "execution_count": 8,
   "metadata": {},
   "outputs": [
    {
     "name": "stdout",
     "output_type": "stream",
     "text": [
      "Environment variable does not exist in current session, loading variables\n",
      "OPENAI_API_KEY found\n",
      "Environment variable does not exist in current session, loading variables\n",
      "OPENAI_API_ORG_KEY found\n"
     ]
    }
   ],
   "source": [
    "retrieve_environ_key('OPENAI_API_KEY',3)\n",
    "retrieve_environ_key('OPENAI_API_ORG_KEY',4)"
   ]
  },
  {
   "cell_type": "code",
   "execution_count": 9,
   "metadata": {},
   "outputs": [],
   "source": [
    "# message='what information about a company should I review before interviewing?'\n",
    "# print('user: ',message, '\\n')\n",
    "# response= message_chat_gpt(message)\n",
    "# print('chatgpt',response)"
   ]
  },
  {
   "cell_type": "markdown",
   "metadata": {},
   "source": [
    "user:  what information about a company should I review before interviewing? \n",
    "\n",
    "chatgpt As an AI language model, I do not have access to the specific job position or industry you are asking about. However, here are some general information about a company that you can review before an interview:\n",
    "\n",
    "1. Company background and history: Learn about the company's founding, development, and current direction. It is particularly important to research the company values, mission statement, and cultural values.\n",
    "\n",
    "2. Industry knowledge: Become familiar with the industry's trends, the competition, and other companies in the same field.\n",
    "\n",
    "3. Recent news or events about the company: Have there been any significant changes recently, such as new product launches, acquisitions, or controversies?\n",
    "\n",
    "4. Financial information: Review the company's financial performance and growth, as well as information about the company's investors.\n",
    "\n",
    "5. Job position: Know the job description and the role they expect you to play. Explore the company's culture, challenges, and professional development opportunities.\n",
    "\n",
    "6. Company leadership: Learn about the company's leadership structure, including who holds key positions, and the leadership team's philosophy and management style.\n",
    "\n",
    "7. Company culture: Read about the company's culture and values, such as how they describe their mission to employees, how they strive to create a supportive work environment, and what community causes or initiatives they support. \n",
    "\n",
    "8. Customer base: Know about the company's customer base, location, and the scope of their operations.\n",
    "\n",
    "By doing thorough research about the company prior to an interview, you can position yourself to better understand the company, to answer interview questions more effectively, and to demonstrate your enthusiasm by showing that you understand the company's mission and values.mm"
   ]
  },
  {
   "cell_type": "markdown",
   "metadata": {},
   "source": [
    "## Information about the company"
   ]
  },
  {
   "cell_type": "code",
   "execution_count": 10,
   "metadata": {},
   "outputs": [
    {
     "name": "stdout",
     "output_type": "stream",
     "text": [
      "user:  can you provide key stats on the company Vibrant Emotional Health, from the healthcare industry? \n",
      "\n",
      "chatgpt I'm sorry, but as an AI language model, I don't have access to real-time data or the ability to browse the internet. Therefore, I cannot provide you with the latest or specific key stats on Vibrant Emotional Health. However, I can provide you with some general information about the organization.\n",
      "\n",
      "Vibrant Emotional Health, formerly known as the Mental Health Association of New York City (MHA-NYC), is a nonprofit organization primarily working in the mental health and emotional wellness sector. Here are some key details about Vibrant Emotional Health:\n",
      "\n",
      "1. Name: Vibrant Emotional Health (previously MHA-NYC)\n",
      "2. Industry: Healthcare, Mental Health\n",
      "3. Founded: 1948\n",
      "4. Headquarters: New York City, USA\n",
      "5. Mission: Vibrant Emotional Health's mission is to strengthen emotional well-being and reduce the personal and societal impact of mental health challenges.\n",
      "6. Programs and Services: Vibrant Emotional Health offers various services, including crisis intervention, mental health helplines (such as the National Suicide Prevention Lifeline), online emotional support chat, suicide prevention training, advocacy, and awareness programs.\n",
      "7. Funding: Vibrant Emotional Health relies on a combination of government grants, private donations, corporate sponsorships, and fundraising activities for funding their initiatives.\n",
      "8. Impact: The organization has nationwide reach and is known for its expertise in mental health crisis intervention, helpline operations, and suicide prevention efforts.\n",
      "9. Collaborations: Vibrant Emotional Health collaborates with governmental agencies, healthcare providers, corporations, and community organizations to raise awareness and promote mental health initiatives.\n",
      "\n",
      "For the most accurate and up-to-date statistical information or financial details about Vibrant Emotional Health, I recommend visiting their official website or referring to their annual reports or public filings.\n"
     ]
    }
   ],
   "source": [
    "message='can you provide key stats on the company '+company+', from the '+industry+' industry?'\n",
    "print('user: ',message, '\\n')\n",
    "response= message_chat_gpt(message)\n",
    "print('chatgpt',response)"
   ]
  },
  {
   "cell_type": "code",
   "execution_count": 11,
   "metadata": {},
   "outputs": [
    {
     "name": "stdout",
     "output_type": "stream",
     "text": [
      "user:  What is the company history of Vibrant Emotional Health from the healthcare sector? \n",
      "\n",
      "chatgpt: Vibrant Emotional Health, formerly known as the Mental Health Association of New York City (MHA-NYC), is an organization that operates in the healthcare sector. Here is a brief history of the company:\n",
      "\n",
      "- Vibrant Emotional Health was founded in 1963 as the Mental Health Association of New York City (MHA-NYC). Its primary mission was to promote mental health and advocate for the rights of individuals with mental illness.\n",
      "\n",
      "- In the 1970s, the organization played a significant role in advocating for the rights of people with mental illness, promoting deinstitutionalization, and community-based mental health services.\n",
      "\n",
      "- Throughout the following decades, MHA-NYC continued to grow its programs and services, focusing on crisis intervention and suicide prevention. It established the first National Suicide Prevention Lifeline in 2001, in partnership with the Substance Abuse and Mental Health Services Administration (SAMHSA) and other organizations.\n",
      "\n",
      "- In 2009, MHA-NYC launched the first-ever crisis texting service, the Crisis Text Line, offering 24/7 support for individuals in crisis via text messages.\n",
      "\n",
      "- In 2015, MHA-NYC rebranded itself as Vibrant Emotional Health to better reflect its mission and the services it provides.\n",
      "\n",
      "- Vibrant Emotional Health has expanded its programs and services, including suicide prevention, disaster response and recovery, supportive housing, training and education, behavioral healthcare technology, and more.\n",
      "\n",
      "- Today, Vibrant Emotional Health continues to be a leading mental health organization, providing innovative and evidence-based solutions to improve the emotional well-being of individuals and communities.\n",
      "\n",
      "Note: Please keep in mind that this information is a general overview and might not capture all the details of Vibrant Emotional Health's history. For more specific and accurate information, it is recommended to visit the company's official website or contact them directly.\n"
     ]
    }
   ],
   "source": [
    "message='What is the company history of '+company+ ' from the '+industry+' sector?'\n",
    "print('user: ',message, '\\n')\n",
    "response= message_chat_gpt(message)\n",
    "print('chatgpt:',response)"
   ]
  },
  {
   "cell_type": "code",
   "execution_count": 12,
   "metadata": {},
   "outputs": [
    {
     "name": "stdout",
     "output_type": "stream",
     "text": [
      "user:  Tell me everything useful about the company Vibrant Emotional Health from the healthcare sector that is relevant for interviewing for a job in data analytics position. Limit your answer to specific company information \n",
      "\n",
      "chatgpt: Vibrant Emotional Health, formerly known as The Mental Health Association of New York City, is a non-profit organization operating in the healthcare sector that aims to support individuals and families affected by mental health challenges. While specific information about the company's data analytics function may not be readily available, understanding the overall company focus, mission, and values can help you demonstrate alignment during the interview process.\n",
      "\n",
      "1. Mission and Focus: Vibrant Emotional Health strives to strengthen emotional well-being and create a society where mental health is recognized as essential to overall health. They work towards integrating mental health care into healthcare and society, offering support programs, advocacy, and education.\n",
      "\n",
      "2. National Suicide Prevention Lifeline: Vibrant Emotional Health operates the National Suicide Prevention Lifeline, a 24/7 toll-free helpline available to individuals in distress or experiencing a mental health crisis. This service provides essential emotional support, resources, and referrals to local crisis centers.\n",
      "\n",
      "3. Services and Programs: Vibrant Emotional Health provides a range of services and programs to support emotional health. These include training initiatives for mental health professionals, suicide prevention programs, outreach efforts within communities, and initiatives to combat stigma surrounding mental health.\n",
      "\n",
      "4. Collaborative Efforts: The organization collaborates with various partners, government agencies, and healthcare providers to improve mental health services and enhance the overall mental well-being of individuals. They work closely with communities and organizations to foster a united approach towards mental health services.\n",
      "\n",
      "5. Research and Evaluation: While specific information about their data analytics department may not be readily available, Vibrant Emotional Health is likely to engage in data collection, research, and evaluation to optimize and enhance their programs' effectiveness. This demonstrates the potential for applying data analytics in a role at the company.\n",
      "\n",
      "In your interview, it is essential to highlight your understanding of the intersection between healthcare and mental health, as well as your alignment with Vibrant Emotional Health's mission to support emotional well-being. Additionally, emphasize your skills and experience with data analytics, and demonstrate how you can contribute to the organization's efforts in further developing and optimizing their programs and services.\n"
     ]
    }
   ],
   "source": [
    "message='Tell me everything useful about the company '+company+ ' from the '+industry+' sector that is relevant for interviewing for a job in data analytics position. Limit your answer to specific company information'\n",
    "print('user: ',message, '\\n')\n",
    "response= message_chat_gpt(message)\n",
    "print('chatgpt:',response)"
   ]
  },
  {
   "cell_type": "markdown",
   "metadata": {},
   "source": [
    "## Competitors"
   ]
  },
  {
   "cell_type": "code",
   "execution_count": 13,
   "metadata": {
    "scrolled": true
   },
   "outputs": [
    {
     "name": "stdout",
     "output_type": "stream",
     "text": [
      "user:  Which are the key competitors of Vibrant Emotional Health from the healthcare sector? \n",
      "\n",
      "chatgpt Some key competitors of Vibrant Emotional Health in the healthcare sector include:\n",
      "\n",
      "1. National Alliance on Mental Illness (NAMI): NAMI is a nonprofit organization that provides advocacy, education, and support for individuals with mental illnesses and their families. They offer various programs and resources similar to Vibrant Emotional Health.\n",
      "\n",
      "2. Mental Health America (MHA): MHA is a nonprofit organization that aims to promote mental health and well-being through advocacy, education, and services. They provide similar resources and support as Vibrant Emotional Health.\n",
      "\n",
      "3. American Foundation for Suicide Prevention (AFSP): AFSP is a nonprofit organization dedicated to preventing suicide through research, education, and advocacy. They provide support and resources to individuals affected by suicide, similar to Vibrant Emotional Health's Suicide Prevention Lifeline.\n",
      "\n",
      "4. Crisis Text Line: Crisis Text Line is a nonprofit organization that provides free, 24/7 crisis intervention and support via text message. They offer a similar service to Vibrant Emotional Health's Crisis Text Line.\n",
      "\n",
      "5. Substance Abuse and Mental Health Services Administration (SAMHSA): SAMHSA is a government agency under the U.S. Department of Health and Human Services that focuses on mental health and substance abuse prevention, treatment, and recovery. They offer various programs and resources similar to Vibrant Emotional Health.\n",
      "\n",
      "Please note that the specific competitors may vary based on the specific services and programs offered by Vibrant Emotional Health.\n"
     ]
    }
   ],
   "source": [
    "message='Which are the key competitors of '+company+ ' from the '+industry+' sector?'\n",
    "print('user: ',message, '\\n')\n",
    "response= message_chat_gpt(message)\n",
    "print('chatgpt',response)"
   ]
  },
  {
   "cell_type": "markdown",
   "metadata": {},
   "source": [
    "## KPIs for Business Model"
   ]
  },
  {
   "cell_type": "code",
   "execution_count": 14,
   "metadata": {},
   "outputs": [
    {
     "name": "stdout",
     "output_type": "stream",
     "text": [
      "user:  what is the key business model for Vibrant Emotional Health? \n",
      "\n",
      "chatgpt The key business model for Vibrant Emotional Health is focused on providing mental health and emotional support services to individuals and communities. They primarily operate through a range of programs and initiatives that aim to promote mental wellness, prevent suicide, and support those affected by mental health challenges. Some key aspects of their business model include:\n",
      "\n",
      "1. Helpline Services: Vibrant Emotional Health operates helpline services like the National Suicide Prevention Lifeline, Disaster Distress Helpline, and Veterans Crisis Line. These helplines provide 24/7 support, crisis intervention, and suicide prevention assistance.\n",
      "\n",
      "2. Outreach and Education: They conduct various outreach and educational programs to raise awareness about mental health issues, reduce stigma, and promote mental wellness. These initiatives target different groups, including schools, workplaces, communities, and healthcare professionals.\n",
      "\n",
      "3. Training and Consultancy: Vibrant Emotional Health offers training programs and consultancy services to organizations, institutions, and providers in the mental health field. They assist in enhancing the capacity of professionals in suicide prevention, crisis intervention, and other related areas.\n",
      "\n",
      "4. Technological Solutions: The organization leverages technology to develop innovative mental health solutions. This includes digital platforms, mobile applications, and online resources that provide accessible mental health support, tools, and resources.\n",
      "\n",
      "5. Research and Advocacy: Vibrant Emotional Health engages in research activities to identify emerging mental health trends, understand the effectiveness of interventions, and inform best practices. Additionally, they advocate for mental health policies, funding, and resources at local, state, and national levels.\n",
      "\n",
      "Overall, Vibrant Emotional Health’s business model revolves around delivering mental health support and services through helplines, educational programs, training, technological solutions, research, and advocacy. Their aim is to improve mental well-being, prevent suicide, and support individuals and communities affected by mental health challenges.\n"
     ]
    }
   ],
   "source": [
    "message='what is the key business model for '+company+'?'\n",
    "print('user: ',message, '\\n')\n",
    "response= message_chat_gpt(message)\n",
    "print('chatgpt',response)"
   ]
  },
  {
   "cell_type": "code",
   "execution_count": 15,
   "metadata": {},
   "outputs": [
    {
     "ename": "SyntaxError",
     "evalue": "invalid syntax (<ipython-input-15-74db4f6eee56>, line 1)",
     "output_type": "error",
     "traceback": [
      "\u001b[0;36m  File \u001b[0;32m\"<ipython-input-15-74db4f6eee56>\"\u001b[0;36m, line \u001b[0;32m1\u001b[0m\n\u001b[0;31m    business_model=mental health services and resources to individuals'\u001b[0m\n\u001b[0m                          ^\u001b[0m\n\u001b[0;31mSyntaxError\u001b[0m\u001b[0;31m:\u001b[0m invalid syntax\n"
     ]
    }
   ],
   "source": [
    "business_model=mental health services and resources to individuals'"
   ]
  },
  {
   "cell_type": "code",
   "execution_count": null,
   "metadata": {},
   "outputs": [],
   "source": [
    "message='what are the most important KPIs for '+ business_model+'?'\n",
    "print('user: ',message, '\\n')\n",
    "response= message_chat_gpt(message)\n",
    "print('chatgpt',response)"
   ]
  },
  {
   "cell_type": "code",
   "execution_count": null,
   "metadata": {},
   "outputs": [],
   "source": [
    "#clean list provided\n",
    "list_kpi=[]\n",
    "kpis=[]\n",
    "formatted_response=(\n",
    "        response.split('.')\n",
    ")\n",
    "for line in formatted_response:\n",
    "    if line.find(':') != -1:  \n",
    "        list_kpi.append(\n",
    "            line.split(':',1)[0]\n",
    "            .lstrip()\n",
    "        )\n",
    "for ele in list_kpi:\n",
    "    if ele.find('(') != -1:\n",
    "        kpis.append(ele.split('(')[0].rstrip())\n",
    "    else:\n",
    "        kpis.append(ele.split('(')[0])"
   ]
  },
  {
   "cell_type": "code",
   "execution_count": null,
   "metadata": {},
   "outputs": [],
   "source": [
    "message='Can you provide me the mathematical formulas for this ' +str(len(kpis))+ ' metrics: '+str(kpis).lstrip('[').rstrip(']')+'?'\n",
    "print('user: ',message, '\\n')\n",
    "response= message_chat_gpt(message)\n",
    "print('chatgpt',response)"
   ]
  },
  {
   "cell_type": "code",
   "execution_count": null,
   "metadata": {},
   "outputs": [],
   "source": [
    "message='Can you provide me examples in SQL code for these ' +str(len(kpis))+ ' metrics: '+str(kpis).lstrip('[').rstrip(']')+'?'\n",
    "print('user: ',message, '\\n')\n",
    "response= message_chat_gpt(message)\n",
    "print('chatgpt',response)"
   ]
  },
  {
   "cell_type": "markdown",
   "metadata": {},
   "source": [
    "## Mock Interview"
   ]
  },
  {
   "cell_type": "code",
   "execution_count": null,
   "metadata": {},
   "outputs": [],
   "source": [
    "ready=False"
   ]
  },
  {
   "cell_type": "code",
   "execution_count": null,
   "metadata": {},
   "outputs": [],
   "source": [
    "#provide context of interview\n",
    "tone='strict'\n",
    "interviewer_job_title='data scientist manager'\n",
    "role='data analyst'\n",
    "focus='sql applications to industry problems'\n",
    "\n",
    "\n",
    "#building dictionary\n",
    "context=(\" \").join([\"You’re a\", tone,interviewer_job_title, \n",
    "                                        \"working for\", company, \n",
    "                                        \"interviewing a candidate for the a\", role, \"role.\",\n",
    "                                        \"Your focus is to validate the candidate's knowledge of\",focus\n",
    "                                       ])\n",
    "message_context={\"role\": \"system\",\n",
    "                 \"content\" : context }\n",
    "#print result\n",
    "print(context)"
   ]
  },
  {
   "cell_type": "code",
   "execution_count": null,
   "metadata": {},
   "outputs": [],
   "source": [
    "import os\n",
    "import openai\n",
    "\n",
    "if ready== True:\n",
    "    openai.organization = os.environ.get('OPENAI_API_ORG_KEY')\n",
    "    openai.api_key=os.environ.get('OPENAI_API_KEY')\n",
    "\n",
    "    messages = [message_context]\n",
    "\n",
    "    while True:\n",
    "        content=input(\"User: \")\n",
    "        messages.append({\"role\":\"user\", \"content\":content})\n",
    "\n",
    "        completion = openai.ChatCompletion.create(\n",
    "            model=\"gpt-3.5-turbo\",\n",
    "            messages=messages\n",
    "        )\n",
    "\n",
    "        chat_response=completion.choices[0].message.content\n",
    "        print(f'ChatGPT: {chat_response}')\n",
    "        messages.append({\"role\": \"assistant\", \"content\": chat_response})"
   ]
  },
  {
   "cell_type": "markdown",
   "metadata": {},
   "source": [
    "SOURCES: \n",
    "\n",
    "    - Credit of code goes to [The PyCoach](https://medium.com/geekculture/a-simple-guide-to-chatgpt-api-with-python-c147985ae28)"
   ]
  }
 ],
 "metadata": {
  "kernelspec": {
   "display_name": "chatgpt",
   "language": "python",
   "name": "chatgpt"
  },
  "language_info": {
   "codemirror_mode": {
    "name": "ipython",
    "version": 3
   },
   "file_extension": ".py",
   "mimetype": "text/x-python",
   "name": "python",
   "nbconvert_exporter": "python",
   "pygments_lexer": "ipython3",
   "version": "3.8.5"
  }
 },
 "nbformat": 4,
 "nbformat_minor": 4
}
