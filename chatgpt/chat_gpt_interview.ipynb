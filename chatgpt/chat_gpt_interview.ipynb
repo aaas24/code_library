{
 "cells": [
  {
   "cell_type": "code",
   "execution_count": 246,
   "metadata": {},
   "outputs": [
    {
     "name": "stdout",
     "output_type": "stream",
     "text": [
      "Python version: 3.8.5 (default, Sep  4 2020, 02:22:02) \n",
      "[Clang 10.0.0 ]\n"
     ]
    }
   ],
   "source": [
    "import sys\n",
    "print(\"Python version:\", sys.version)"
   ]
  },
  {
   "cell_type": "code",
   "execution_count": 252,
   "metadata": {},
   "outputs": [
    {
     "name": "stdout",
     "output_type": "stream",
     "text": [
      "\u001b[31mERROR: Could not find a version that satisfies the requirement urllib (from versions: none)\u001b[0m\r\n",
      "\u001b[31mERROR: No matching distribution found for urllib\u001b[0m\r\n"
     ]
    }
   ],
   "source": [
    "import sys\n",
    "!{sys.executable} -m pip install urllib"
   ]
  },
  {
   "cell_type": "code",
   "execution_count": 215,
   "metadata": {},
   "outputs": [],
   "source": [
    "import os\n",
    "import pandas as pd\n",
    "import openai"
   ]
  },
  {
   "cell_type": "code",
   "execution_count": 217,
   "metadata": {},
   "outputs": [],
   "source": [
    "def retrieve_password(row,column=1, print=False):\n",
    "    file=os.path.join(os.path.expanduser(\"~\"), '.secret')\n",
    "    secret=pd.read_csv(file, sep=\"=\", header=None).iloc[row,column]\n",
    "    if print=='True':\n",
    "        print('\\n \\n password obtained: ', secret)\n",
    "    return secret\n"
   ]
  },
  {
   "cell_type": "code",
   "execution_count": 236,
   "metadata": {},
   "outputs": [],
   "source": [
    "#retrieve keys\n",
    "def retrieve_environ_key(key_name, row):\n",
    "    '''\n",
    "    function that retrieves environmental keys. takes in two variables: \n",
    "    1)key_name, as stored in environ \n",
    "    2)row, of key name stored in password master record\n",
    "    \n",
    "    If current session has keys stored, it retrieves names requested\n",
    "    if keys ARE NOT stored in current session it calls the 'retrieve_password' function with row provided\n",
    "    '''\n",
    "    if key_name not in os.environ:\n",
    "        print(\"Environment variable does not exist in current session, loading variables\")\n",
    "        passwd=retrieve_password(row,1)\n",
    "        os.environ[key_name]=passwd\n",
    "        try: \n",
    "            open_api_key=os.environ.get(key_name, 'Does not exist')\n",
    "        except:\n",
    "            print('Unable to find key')\n",
    "    else: \n",
    "        print(key_name, 'found' )"
   ]
  },
  {
   "cell_type": "code",
   "execution_count": 219,
   "metadata": {
    "scrolled": true
   },
   "outputs": [],
   "source": [
    "def message_chat_gpt(message):\n",
    "    openai.organization = os.environ.get('OPENAI_API_ORG_KEY')\n",
    "    openai.api_key=os.environ.get('OPENAI_API_KEY')\n",
    "\n",
    "    completion = openai.ChatCompletion.create(\n",
    "      model=\"gpt-3.5-turbo\",\n",
    "      messages=[\n",
    "        {\"role\": \"user\", \"content\": message}\n",
    "      ]\n",
    "    )\n",
    "    response=completion.choices[0].message.content\n",
    "    return response"
   ]
  },
  {
   "cell_type": "code",
   "execution_count": 216,
   "metadata": {},
   "outputs": [],
   "source": [
    "company='Autodesk'"
   ]
  },
  {
   "cell_type": "code",
   "execution_count": null,
   "metadata": {},
   "outputs": [],
   "source": [
    "retrieve_environ_key('OPENAI_API_KEY',3)\n",
    "retrieve_environ_key('OPENAI_API_ORG_KEY',5)"
   ]
  },
  {
   "cell_type": "code",
   "execution_count": 231,
   "metadata": {},
   "outputs": [
    {
     "name": "stdout",
     "output_type": "stream",
     "text": [
      "user:  what information about a company should I review before interviewing? \n",
      "\n",
      "chatgpt As an AI language model, I don't have the context about the job role for which you are interviewing. However, here are some general pieces of information about a company that you should review before attending an interview:\n",
      "\n",
      "1. Company history and background: Familiarize yourself with the company's history, values, mission, and culture.\n",
      "\n",
      "2. Industry information: Research current industry trends and news related to the company's field.\n",
      "\n",
      "3. Products and services: Learn about the company's products or services, and how they benefit customers.\n",
      "\n",
      "4. Competitors: Look into the company's competitors, their strengths and weaknesses, and how the company differentiates itself.\n",
      "\n",
      "5. Financial information: Study the company's financial statements, annual reports, and any recent investments or mergers.\n",
      "\n",
      "6. Company structure: Understanding the company's structure, departments, and potential career paths is essential.\n",
      "\n",
      "7. Company Reputation: Check if the company has received any awards, accolades, or has made any significant contributions to society.\n",
      "\n",
      "8. Current open positions: Review the job description for the position you are applying to and take note of all requirements mentioned.\n",
      "\n",
      "The information can vary depending on the job role and other factors, but reviewing these pieces of information will help you prepare yourself better for the interview.\n"
     ]
    }
   ],
   "source": [
    "message='what information about a company should I review before interviewing?'\n",
    "print('user: ',message, '\\n')\n",
    "response= message_chat_gpt(message)\n",
    "print('chatgpt',response)"
   ]
  },
  {
   "cell_type": "markdown",
   "metadata": {},
   "source": [
    "## Information about the company"
   ]
  },
  {
   "cell_type": "code",
   "execution_count": 229,
   "metadata": {},
   "outputs": [
    {
     "name": "stdout",
     "output_type": "stream",
     "text": [
      "user:  can you provide key stats on Autodesk? \n",
      "\n",
      "chatgpt As an AI language model, my training data only goes up to 2021. Here are some key stats on Autodesk as of 2021: \n",
      "\n",
      "- Market capitalization: $63.14 billion\n",
      "- Revenue: $3.3 billion (Q1 fiscal year 2022)\n",
      "- Net income: $172.4 million (Q1 fiscal year 2022)\n",
      "- Employees: 11,400\n",
      "- Headquarters: San Rafael, California \n",
      "- Top products: AutoCAD, Revit, Maya, Fusion 360, 3ds Max\n",
      "- Customers: Over 200 million in more than 190 countries \n",
      "- Industry: Computer software, design and manufacturing \n",
      "- Listed on: NASDAQ (ADSK) \n",
      "- CEO: Andrew Anagnost\n"
     ]
    }
   ],
   "source": [
    "message='can you provide key stats on '+company+'?'\n",
    "print('user: ',message, '\\n')\n",
    "response= message_chat_gpt(message)\n",
    "print('chatgpt',response)"
   ]
  },
  {
   "cell_type": "code",
   "execution_count": 233,
   "metadata": {},
   "outputs": [
    {
     "name": "stdout",
     "output_type": "stream",
     "text": [
      "user:  What is the company history of Autodesk? \n",
      "\n",
      "chatgpt Autodesk was founded in 1982 by John Walker and 12 others to develop software for the emerging personal computer market. They started by creating AutoCAD, a computer-aided design software that quickly became popular among architects, engineers, and designers.\n",
      "\n",
      "In the 1990s, Autodesk expanded its product line to include software for multimedia, animation, and games. It also expanded internationally, opening offices in Europe, Asia, and Latin America.\n",
      "\n",
      "In the 2000s, Autodesk continued to acquire companies to expand its software offerings. It acquired companies such as Alias Systems, makers of 3D animation software, and Revit Technology, makers of building information modeling software.\n",
      "\n",
      "In recent years, Autodesk has focused on developing software for the construction and manufacturing industries, including products such as BIM 360 and Fusion 360. The company has also been a leader in promoting sustainability and using technology to address global environmental challenges.\n",
      "\n",
      "Today, Autodesk is a multinational software company with over 10,000 employees and offices in more than 30 countries. Its software is used by millions of users in industries ranging from architecture and engineering to media and entertainment.\n"
     ]
    }
   ],
   "source": [
    "message='What is the company history of '+company+ '?'\n",
    "print('user: ',message, '\\n')\n",
    "response= message_chat_gpt(message)\n",
    "print('chatgpt',response)"
   ]
  },
  {
   "cell_type": "code",
   "execution_count": 220,
   "metadata": {},
   "outputs": [
    {
     "name": "stdout",
     "output_type": "stream",
     "text": [
      "user:  Tell me verything useful about Autodeskthat is relevant for interviewing for a job in data analytics position. Limit your answer to specific company information \n",
      "\n",
      "chatgpt Autodesk is a multinational technology company that produces software for architecture, engineering, construction, manufacturing, media, and entertainment industries. The following are some key points about Autodesk that might be useful in a job interview for a data analytics position:\n",
      "\n",
      "1. Data-Driven Company Culture: Autodesk maintains a strong data-driven culture, which not only drives the development of new products and services but also guides the company's overall decision-making process. The company relies heavily on data analytics to understand customer behavior, identify emerging trends, and optimize business processes.\n",
      "\n",
      "2. Products for Data Analytics: Autodesk produces a range of software products that are specifically designed to support data analytics in engineering and construction environments. These products include tools for data visualization, simulation, and analysis, which can be useful for businesses that need to make complex data-driven decisions.\n",
      "\n",
      "3. Revenue Growth: According to Forbes, Autodesk has experienced consistent revenue growth over the past few years, with a total revenue of $2.57 billion in FY 2020. This growth suggests that the company is performing well in a competitive tech market, which can be a positive factor for potential employees.\n",
      "\n",
      "4. Cloud-Based Solutions: Autodesk has been investing heavily in cloud-based solutions, which can offer scalable and cost-effective data analytics solutions. The company's cloud-based products provide a platform for businesses to collect and analyze large amounts of data, which can be important for organizations that deal with complex engineering and construction projects.\n",
      "\n",
      "5. Focus on Sustainability: Autodesk has a strong focus on sustainability and has set a goal to completely transition to 100% renewable energy by 2022. This sustainability focus could be viewed positively by employees who share those values and may be looking for a company with a strong sense of social responsibility.\n"
     ]
    }
   ],
   "source": [
    "message='Tell me everything useful about '+company+ ' that is relevant for interviewing for a job in data analytics position. Limit your answer to specific company information'\n",
    "print('user: ',message, '\\n')\n",
    "response= message_chat_gpt(message)\n",
    "print('chatgpt',response)"
   ]
  },
  {
   "cell_type": "markdown",
   "metadata": {},
   "source": [
    "## Competitors"
   ]
  },
  {
   "cell_type": "code",
   "execution_count": 234,
   "metadata": {
    "scrolled": true
   },
   "outputs": [
    {
     "name": "stdout",
     "output_type": "stream",
     "text": [
      "user:  Which are the key competitors of Autodesk? \n",
      "\n",
      "chatgpt The key competitors of Autodesk include:\n",
      "\n",
      "1. Trimble Inc.\n",
      "2. Dassault Systèmes SE\n",
      "3. Siemens AG\n",
      "4. Adobe Systems Inc.\n",
      "5. PTC Inc.\n",
      "6. Bentley Systems Inc.\n",
      "7. Ansys Inc.\n",
      "8. Aveva Group plc.\n",
      "9. Graebert GmbH\n",
      "10. Hexagon AB\n"
     ]
    }
   ],
   "source": [
    "message='Which are the key competitors of '+ company+'?'\n",
    "print('user: ',message, '\\n')\n",
    "response= message_chat_gpt(message)\n",
    "print('chatgpt',response)"
   ]
  },
  {
   "cell_type": "markdown",
   "metadata": {},
   "source": [
    "## KPIs for Business Model"
   ]
  },
  {
   "cell_type": "code",
   "execution_count": null,
   "metadata": {},
   "outputs": [],
   "source": [
    "business_model='a software licenses and subscriptions model'"
   ]
  },
  {
   "cell_type": "code",
   "execution_count": 221,
   "metadata": {},
   "outputs": [
    {
     "name": "stdout",
     "output_type": "stream",
     "text": [
      "user:  what is the key business model for Autodesk? \n",
      "\n",
      "chatgpt The key business model for Autodesk is the sale and subscription of computer-aided design (CAD) software for various industries such as architecture, engineering, construction, manufacturing, media, and entertainment. They also provide cloud-based services, support, and training to enhance the user experience and enable collaboration among teams. Autodesk's business model revolves around providing comprehensive solutions for design and automation that enable customers to streamline their workflows and improve productivity. They primarily generate revenue through their annual subscription model, which allows customers access to the latest software updates and cloud services. Additionally, Autodesk provides customized plans and enterprise solutions to cater to the specific needs of large businesses.\n"
     ]
    }
   ],
   "source": [
    "message='what is the key business model for '+company+'?'\n",
    "print('user: ',message, '\\n')\n",
    "response= message_chat_gpt(message)\n",
    "print('chatgpt',response)"
   ]
  },
  {
   "cell_type": "code",
   "execution_count": 222,
   "metadata": {},
   "outputs": [
    {
     "name": "stdout",
     "output_type": "stream",
     "text": [
      "user:  what are the most important KPIs for a software licenses and subscriptions model? \n",
      "\n",
      "chatgpt 1. Customer Acquisition Cost (CAC): Measures the cost of acquiring new customers vs. the revenue generated from those customers over a defined period.\n",
      "\n",
      "2. Churn Rate: Measures the percentage of customers who cancel or do not renew their subscription over a given period.\n",
      "\n",
      "3. Monthly Recurring Revenue (MRR): Measures the amount of revenue generated from recurring monthly subscriptions.\n",
      "\n",
      "4. Annual Contract Value (ACV): Measures the total value of all annual contracts signed, or the average value of each contract.\n",
      "\n",
      "5. Lifetime Value (LTV): Measures the total value of revenue generated from a customer over their lifespan as a customer.\n",
      "\n",
      "6. Gross and Net Revenue: Measures the total revenue generated and revenue after accounting for discounts, returns, and refunds.\n",
      "\n",
      "7. Customer Satisfaction: Measures the level of satisfaction of customers using the software or service.\n",
      "\n",
      "8. Renewal Rate: Measures the percentage of customers who renew their subscriptions after a period has passed. \n",
      "\n",
      "9. Average Revenue per User (ARPU): Measures the average amount of revenue generated for each user of the software or service. \n",
      "\n",
      "10. Average Selling Price (ASP): Measures the average price of each license or subscription sold.\n"
     ]
    }
   ],
   "source": [
    "message='what are the most important KPIs for '+ business_model+'?'\n",
    "print('user: ',message, '\\n')\n",
    "response= message_chat_gpt(message)\n",
    "print('chatgpt',response)"
   ]
  },
  {
   "cell_type": "code",
   "execution_count": null,
   "metadata": {},
   "outputs": [],
   "source": [
    "#clean list provided\n",
    "list_kpi=[]\n",
    "kpis=[]\n",
    "formatted_response=(\n",
    "        response.split('.')\n",
    ")\n",
    "for line in formatted_response:\n",
    "    if line.find(':') != -1:  \n",
    "        list_kpi.append(\n",
    "            line.split(':',1)[0]\n",
    "            .lstrip()\n",
    "        )\n",
    "for ele in list_kpi:\n",
    "    if ele.find('(') != -1:\n",
    "        kpis.append(ele.split('(')[0].rstrip())\n",
    "    else:\n",
    "        kpis.append(ele.split('(')[0])"
   ]
  },
  {
   "cell_type": "code",
   "execution_count": 224,
   "metadata": {},
   "outputs": [
    {
     "name": "stdout",
     "output_type": "stream",
     "text": [
      "user:  Can you provide me the mathematical formulas for this 10 metrics: 'Customer Acquisition Cost', 'Churn Rate', 'Monthly Recurring Revenue', 'Annual Contract Value', 'Lifetime Value', 'Gross and Net Revenue', 'Customer Satisfaction', 'Renewal Rate', 'Average Revenue per User', 'Average Selling Price'? \n",
      "\n",
      "chatgpt 1. Customer Acquisition Cost (CAC) formula: CAC = Total cost of marketing and sales / Number of new customers acquired \n",
      "2. Churn Rate formula: Churn Rate = Number of customers lost during a period / Total number of customers at the beginning of a period \n",
      "3. Monthly Recurring Revenue (MRR) formula: MRR = Total value of all recurring subscriptions or monthly contracts \n",
      "4. Annual Contract Value (ACV) formula: ACV = Average monthly recurring revenue x 12 \n",
      "5. Lifetime Value (LTV) formula: LTV = Average revenue per customer per year x Average customer lifespan \n",
      "6. Gross Revenue formula: Gross Revenue = Total revenue earned from sales before deducting any expenses \n",
      "7. Net Revenue formula: Net Revenue = Gross Revenue - Cost of Goods Sold - Operating Expenses - Taxes \n",
      "8. Customer Satisfaction formula: Customer Satisfaction = Total number of satisfied customers / Total number of customers surveyed \n",
      "9. Renewal Rate formula: Renewal Rate = Number of customers renewing subscriptions / Total number of customers at the end of a period \n",
      "10. Average Revenue per User (ARPU) formula: ARPU = Total revenue generated / Total number of customers \n",
      "11. Average Selling Price (ASP) formula: ASP = Total revenue generated from sales / Total number of units sold.\n"
     ]
    }
   ],
   "source": [
    "message='Can you provide me the mathematical formulas for this ' +str(len(kpis))+ ' metrics: '+str(kpis).lstrip('[').rstrip(']')+'?'\n",
    "print('user: ',message, '\\n')\n",
    "response= message_chat_gpt(message)\n",
    "print('chatgpt',response)"
   ]
  },
  {
   "cell_type": "code",
   "execution_count": 227,
   "metadata": {},
   "outputs": [
    {
     "name": "stdout",
     "output_type": "stream",
     "text": [
      "user:  Can you provide me examples in SQL code for these 10 metrics: 'Customer Acquisition Cost', 'Churn Rate', 'Monthly Recurring Revenue', 'Annual Contract Value', 'Lifetime Value', 'Gross and Net Revenue', 'Customer Satisfaction', 'Renewal Rate', 'Average Revenue per User', 'Average Selling Price'? \n",
      "\n",
      "chatgpt Sure! Here are some SQL code examples for each of the listed metrics:\n",
      "\n",
      "1. Customer Acquisition Cost:\n",
      "\n",
      "```sql\n",
      "SELECT SUM(cost) / COUNT(DISTINCT customer_id) AS customer_acquisition_cost\n",
      "FROM marketing_campaigns\n",
      "WHERE year = '2021' AND channel = 'paid advertising';\n",
      "```\n",
      "\n",
      "2. Churn Rate:\n",
      "\n",
      "```sql\n",
      "SELECT COUNT(DISTINCT customer_id) / COUNT(DISTINCT initial_customers) AS churn_rate\n",
      "FROM customers\n",
      "WHERE registration_date BETWEEN '2020-01-01' AND '2020-12-31';\n",
      "```\n",
      "\n",
      "3. Monthly Recurring Revenue:\n",
      "\n",
      "```sql\n",
      "SELECT SUM(monthly_revenue) AS monthly_recurring_revenue\n",
      "FROM subscriptions\n",
      "WHERE start_date < '2021-01-01' AND end_date >= '2021-01-01';\n",
      "```\n",
      "\n",
      "4. Annual Contract Value:\n",
      "\n",
      "```sql\n",
      "SELECT SUM(amount) * 12 AS annual_contract_value\n",
      "FROM contracts\n",
      "WHERE signed_date BETWEEN '2020-01-01' AND '2020-12-31';\n",
      "```\n",
      "\n",
      "5. Lifetime Value:\n",
      "\n",
      "```sql\n",
      "SELECT AVG(value) AS lifetime_value\n",
      "FROM (\n",
      "    SELECT SUM(amount) AS value\n",
      "    FROM transactions\n",
      "    WHERE customer_id = '12345'\n",
      "    GROUP BY customer_id, month\n",
      ") subquery;\n",
      "```\n",
      "\n",
      "6. Gross and Net Revenue:\n",
      "\n",
      "```sql\n",
      "SELECT SUM(amount) AS gross_revenue, SUM(amount) - SUM(costs) AS net_revenue\n",
      "FROM orders\n",
      "WHERE order_date BETWEEN '2021-01-01' AND '2021-01-31';\n",
      "```\n",
      "\n",
      "7. Customer Satisfaction:\n",
      "\n",
      "```sql\n",
      "SELECT AVG(rating) AS customer_satisfaction\n",
      "FROM surveys\n",
      "WHERE survey_date BETWEEN '2021-01-01' AND '2021-01-31';\n",
      "```\n",
      "\n",
      "8. Renewal Rate:\n",
      "\n",
      "```sql\n",
      "SELECT COUNT(DISTINCT customer_id) / COUNT(DISTINCT renewing_customers) AS renewal_rate\n",
      "FROM customers\n",
      "WHERE renewal_date BETWEEN '2020-01-01' AND '2020-12-31';\n",
      "```\n",
      "\n",
      "9. Average Revenue per User:\n",
      "\n",
      "```sql\n",
      "SELECT SUM(amount) / COUNT(DISTINCT customer_id) AS average_revenue_per_user\n",
      "FROM transactions\n",
      "WHERE transaction_date BETWEEN '2021-01-01' AND '2021-01-31';\n",
      "```\n",
      "\n",
      "10. Average Selling Price:\n",
      "\n",
      "```sql\n",
      "SELECT AVG(price) AS average_selling_price\n",
      "FROM sales\n",
      "WHERE sale_date BETWEEN '2021-01-01' AND '2021-01-31';\n",
      "```\n"
     ]
    }
   ],
   "source": [
    "message='Can you provide me examples in SQL code for these ' +str(len(kpis))+ ' metrics: '+str(kpis).lstrip('[').rstrip(']')+'?'\n",
    "print('user: ',message, '\\n')\n",
    "response= message_chat_gpt(message)\n",
    "print('chatgpt',response)"
   ]
  },
  {
   "cell_type": "markdown",
   "metadata": {},
   "source": [
    "SOURCES: \n",
    "\n",
    "    - Credit of code goes to [The PyCoach](https://medium.com/geekculture/a-simple-guide-to-chatgpt-api-with-python-c147985ae28)"
   ]
  }
 ],
 "metadata": {
  "kernelspec": {
   "display_name": "chatgpt",
   "language": "python",
   "name": "chatgpt"
  },
  "language_info": {
   "codemirror_mode": {
    "name": "ipython",
    "version": 3
   },
   "file_extension": ".py",
   "mimetype": "text/x-python",
   "name": "python",
   "nbconvert_exporter": "python",
   "pygments_lexer": "ipython3",
   "version": "3.8.5"
  }
 },
 "nbformat": 4,
 "nbformat_minor": 4
}
