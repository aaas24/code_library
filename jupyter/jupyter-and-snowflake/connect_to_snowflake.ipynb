{
 "cells": [
  {
   "cell_type": "code",
   "execution_count": null,
   "metadata": {},
   "outputs": [],
   "source": [
    "# #add missing packages to kernel\n",
    "# import sys\n",
    "# !{sys.executable} -m pip install pip install -r https://raw.githubusercontent.com/snowflakedb/snowflake-connector-python/v2.7.11/tested_requirements/requirements_38.reqs"
   ]
  },
  {
   "cell_type": "code",
   "execution_count": 94,
   "metadata": {},
   "outputs": [],
   "source": [
    "import pandas as pd\n",
    "import seaborn as sns\n",
    "import numpy as np\n",
    "import matplotlib.pyplot as plt\n",
    "import os as os\n",
    "import json"
   ]
  },
  {
   "cell_type": "code",
   "execution_count": 99,
   "metadata": {},
   "outputs": [],
   "source": [
    "def run_query(query):\n",
    "    \"\"\"\n",
    "    this function takes a snowflake connection and executes a query with SQL commands in order to\n",
    "    perform data transformations inside jupyter. \n",
    "    \n",
    "    :param query: SQL commands to execute\n",
    "    :returns: DataFrame with columns formatted \n",
    "    \"\"\"\n",
    "    import snowflake.connector\n",
    "\n",
    "    # Assuming credentials are stored in same location as notebook\n",
    "    CONFIG_LOCATION=os.path.join(os.getcwd(),'credentials.json')\n",
    "    \n",
    "    # load config\n",
    "    CONFIG = json.loads(open(str(CONFIG_LOCATION)).read())\n",
    "    \n",
    "    # extract snowflake instance secrets from config\n",
    "    SF_ACCOUNT    = CONFIG['secrets']['account']\n",
    "    SF_USER       = CONFIG['secrets']['user']\n",
    "    SF_WAREHOUSE  = CONFIG['secrets']['warehouse']\n",
    "    SF_ROLE       = CONFIG['secrets']['role']\n",
    "    SF_DATABASE   = CONFIG['secrets']['database']\n",
    "    SF_SCHEMA     = CONFIG['secrets']['schema']\n",
    "    SF_PASSWORD   = CONFIG['secrets']['password']\n",
    "    \n",
    "    #establish connection\n",
    "    ctx = snowflake.connector.connect(\n",
    "        account  = SF_ACCOUNT ,\n",
    "        role     = SF_ROLE,\n",
    "        user     = SF_USER,\n",
    "        password = SF_PASSWORD,\n",
    "        database = SF_DATABASE,\n",
    "        schema   = SF_SCHEMA,\n",
    "        warehouse= SF_WAREHOUSE\n",
    "        )\n",
    "    cs = ctx.cursor()\n",
    "    try:\n",
    "        cs.execute(query)\n",
    "        result = cs.fetchall()\n",
    "        columns=pd.DataFrame(cs.description)['name']#extracts column names\n",
    "        df=pd.DataFrame(result, columns=columns)\n",
    "        df=clean_columns(df)\n",
    "        return df\n",
    "    finally:\n",
    "        cs.close()\n",
    "    ctx.close()"
   ]
  },
  {
   "cell_type": "code",
   "execution_count": 14,
   "metadata": {},
   "outputs": [],
   "source": [
    "def clean_columns(df):\n",
    "    '''\n",
    "    function to call on after DataFrame is created to format column names in lowercase \n",
    "    without spaces before querying.\n",
    "    \n",
    "    :param query: DataFrame\n",
    "    :returns: DataFrame with columns formatted  \n",
    "    '''\n",
    "    columns=df.columns\n",
    "    new_names=[]\n",
    "    for c in columns:\n",
    "        new_names.append(c\n",
    "           .lower()\n",
    "           .replace(' ', '_')\n",
    "          )\n",
    "    df.columns=new_names\n",
    "    return df"
   ]
  },
  {
   "cell_type": "code",
   "execution_count": 101,
   "metadata": {},
   "outputs": [
    {
     "data": {
      "text/html": [
       "<div>\n",
       "<style scoped>\n",
       "    .dataframe tbody tr th:only-of-type {\n",
       "        vertical-align: middle;\n",
       "    }\n",
       "\n",
       "    .dataframe tbody tr th {\n",
       "        vertical-align: top;\n",
       "    }\n",
       "\n",
       "    .dataframe thead th {\n",
       "        text-align: right;\n",
       "    }\n",
       "</style>\n",
       "<table border=\"1\" class=\"dataframe\">\n",
       "  <thead>\n",
       "    <tr style=\"text-align: right;\">\n",
       "      <th>name</th>\n",
       "      <th>CURRENT_VERSION()</th>\n",
       "    </tr>\n",
       "  </thead>\n",
       "  <tbody>\n",
       "    <tr>\n",
       "      <th>0</th>\n",
       "      <td>6.27.0</td>\n",
       "    </tr>\n",
       "  </tbody>\n",
       "</table>\n",
       "</div>"
      ],
      "text/plain": [
       "name CURRENT_VERSION()\n",
       "0               6.27.0"
      ]
     },
     "execution_count": 101,
     "metadata": {},
     "output_type": "execute_result"
    }
   ],
   "source": [
    "#Ex: testing connection\n",
    "q=( \"\"\"\n",
    "SELECT current_version();\n",
    "\"\"\")\n",
    "df=run_query(q)"
   ]
  }
 ],
 "metadata": {
  "kernelspec": {
   "display_name": "analytics",
   "language": "python",
   "name": "analytics"
  },
  "language_info": {
   "codemirror_mode": {
    "name": "ipython",
    "version": 3
   },
   "file_extension": ".py",
   "mimetype": "text/x-python",
   "name": "python",
   "nbconvert_exporter": "python",
   "pygments_lexer": "ipython3",
   "version": "3.8.12"
  }
 },
 "nbformat": 4,
 "nbformat_minor": 4
}
