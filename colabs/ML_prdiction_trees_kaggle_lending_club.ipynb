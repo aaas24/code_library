{
 "cells": [
  {
   "cell_type": "code",
   "execution_count": 10,
   "metadata": {
    "id": "gx5By4-jhVKh"
   },
   "outputs": [],
   "source": [
    "import pandas as pd\n",
    "import numpy as np\n",
    "import seaborn as sns\n",
    "import matplotlib.pyplot as plt\n",
    "from datetime import datetime\n",
    "from sklearn.preprocessing import StandardScaler, LabelEncoder\n",
    "from sklearn.model_selection import train_test_split\n",
    "from sklearn.linear_model import LogisticRegression\n",
    "from sklearn.metrics import roc_curve\n",
    "from sklearn.metrics import roc_auc_score\n",
    "from sklearn import tree"
   ]
  },
  {
   "cell_type": "markdown",
   "metadata": {
    "id": "t3x1ZZaADR49"
   },
   "source": [
    "## Preprocessing data"
   ]
  },
  {
   "cell_type": "code",
   "execution_count": 11,
   "metadata": {
    "id": "UirFhSeNDgGO"
   },
   "outputs": [],
   "source": [
    "def drop_columns(df, empty_columns):\n",
    "  for column in empty_columns:\n",
    "    df=df.drop([column], axis=1)  \n",
    "  return df\n"
   ]
  },
  {
   "cell_type": "code",
   "execution_count": 12,
   "metadata": {
    "colab": {
     "base_uri": "https://localhost:8080/",
     "height": 298
    },
    "id": "UEc8twmfDVOZ",
    "outputId": "1d75ff5b-527e-46c3-a3b8-68cce3e016cd"
   },
   "outputs": [
    {
     "data": {
      "text/html": [
       "<div>\n",
       "<style scoped>\n",
       "    .dataframe tbody tr th:only-of-type {\n",
       "        vertical-align: middle;\n",
       "    }\n",
       "\n",
       "    .dataframe tbody tr th {\n",
       "        vertical-align: top;\n",
       "    }\n",
       "\n",
       "    .dataframe thead th {\n",
       "        text-align: right;\n",
       "    }\n",
       "</style>\n",
       "<table border=\"1\" class=\"dataframe\">\n",
       "  <thead>\n",
       "    <tr style=\"text-align: right;\">\n",
       "      <th></th>\n",
       "      <th>Unnamed: 0</th>\n",
       "      <th>id</th>\n",
       "      <th>member_id</th>\n",
       "      <th>loan_amnt</th>\n",
       "      <th>funded_amnt</th>\n",
       "      <th>funded_amnt_inv</th>\n",
       "      <th>term</th>\n",
       "      <th>int_rate</th>\n",
       "      <th>installment</th>\n",
       "      <th>grade</th>\n",
       "      <th>...</th>\n",
       "      <th>orig_projected_additional_accrued_interest</th>\n",
       "      <th>hardship_payoff_balance_amount</th>\n",
       "      <th>hardship_last_payment_amount</th>\n",
       "      <th>debt_settlement_flag</th>\n",
       "      <th>debt_settlement_flag_date</th>\n",
       "      <th>settlement_status</th>\n",
       "      <th>settlement_date</th>\n",
       "      <th>settlement_amount</th>\n",
       "      <th>settlement_percentage</th>\n",
       "      <th>settlement_term</th>\n",
       "    </tr>\n",
       "  </thead>\n",
       "  <tbody>\n",
       "    <tr>\n",
       "      <th>0</th>\n",
       "      <td>65230</td>\n",
       "      <td>92451797</td>\n",
       "      <td>NaN</td>\n",
       "      <td>26450.0</td>\n",
       "      <td>26450.0</td>\n",
       "      <td>26450.0</td>\n",
       "      <td>60 months</td>\n",
       "      <td>18.99%</td>\n",
       "      <td>685.99</td>\n",
       "      <td>D</td>\n",
       "      <td>...</td>\n",
       "      <td>NaN</td>\n",
       "      <td>NaN</td>\n",
       "      <td>NaN</td>\n",
       "      <td>N</td>\n",
       "      <td>NaN</td>\n",
       "      <td>NaN</td>\n",
       "      <td>NaN</td>\n",
       "      <td>NaN</td>\n",
       "      <td>NaN</td>\n",
       "      <td>NaN</td>\n",
       "    </tr>\n",
       "    <tr>\n",
       "      <th>1</th>\n",
       "      <td>36521</td>\n",
       "      <td>94187830</td>\n",
       "      <td>NaN</td>\n",
       "      <td>12000.0</td>\n",
       "      <td>12000.0</td>\n",
       "      <td>12000.0</td>\n",
       "      <td>36 months</td>\n",
       "      <td>11.44%</td>\n",
       "      <td>395.37</td>\n",
       "      <td>B</td>\n",
       "      <td>...</td>\n",
       "      <td>NaN</td>\n",
       "      <td>NaN</td>\n",
       "      <td>NaN</td>\n",
       "      <td>N</td>\n",
       "      <td>NaN</td>\n",
       "      <td>NaN</td>\n",
       "      <td>NaN</td>\n",
       "      <td>NaN</td>\n",
       "      <td>NaN</td>\n",
       "      <td>NaN</td>\n",
       "    </tr>\n",
       "    <tr>\n",
       "      <th>2</th>\n",
       "      <td>25712</td>\n",
       "      <td>93882482</td>\n",
       "      <td>NaN</td>\n",
       "      <td>1000.0</td>\n",
       "      <td>1000.0</td>\n",
       "      <td>1000.0</td>\n",
       "      <td>36 months</td>\n",
       "      <td>15.99%</td>\n",
       "      <td>35.16</td>\n",
       "      <td>C</td>\n",
       "      <td>...</td>\n",
       "      <td>NaN</td>\n",
       "      <td>NaN</td>\n",
       "      <td>NaN</td>\n",
       "      <td>N</td>\n",
       "      <td>NaN</td>\n",
       "      <td>NaN</td>\n",
       "      <td>NaN</td>\n",
       "      <td>NaN</td>\n",
       "      <td>NaN</td>\n",
       "      <td>NaN</td>\n",
       "    </tr>\n",
       "  </tbody>\n",
       "</table>\n",
       "<p>3 rows × 151 columns</p>\n",
       "</div>"
      ],
      "text/plain": [
       "   Unnamed: 0        id  member_id  loan_amnt  funded_amnt  funded_amnt_inv  \\\n",
       "0       65230  92451797        NaN    26450.0      26450.0          26450.0   \n",
       "1       36521  94187830        NaN    12000.0      12000.0          12000.0   \n",
       "2       25712  93882482        NaN     1000.0       1000.0           1000.0   \n",
       "\n",
       "         term int_rate  installment grade  ...  \\\n",
       "0   60 months   18.99%       685.99     D  ...   \n",
       "1   36 months   11.44%       395.37     B  ...   \n",
       "2   36 months   15.99%        35.16     C  ...   \n",
       "\n",
       "  orig_projected_additional_accrued_interest hardship_payoff_balance_amount  \\\n",
       "0                                        NaN                            NaN   \n",
       "1                                        NaN                            NaN   \n",
       "2                                        NaN                            NaN   \n",
       "\n",
       "  hardship_last_payment_amount debt_settlement_flag  \\\n",
       "0                          NaN                    N   \n",
       "1                          NaN                    N   \n",
       "2                          NaN                    N   \n",
       "\n",
       "   debt_settlement_flag_date settlement_status settlement_date  \\\n",
       "0                        NaN               NaN             NaN   \n",
       "1                        NaN               NaN             NaN   \n",
       "2                        NaN               NaN             NaN   \n",
       "\n",
       "  settlement_amount settlement_percentage settlement_term  \n",
       "0               NaN                   NaN             NaN  \n",
       "1               NaN                   NaN             NaN  \n",
       "2               NaN                   NaN             NaN  \n",
       "\n",
       "[3 rows x 151 columns]"
      ]
     },
     "execution_count": 12,
     "metadata": {},
     "output_type": "execute_result"
    }
   ],
   "source": [
    "df =  pd.read_csv('https://raw.githubusercontent.com/cjflanagan/cs68/master/lending_club_training_data_subset.csv')\n",
    "df.head(3)"
   ]
  },
  {
   "cell_type": "code",
   "execution_count": 13,
   "metadata": {
    "colab": {
     "base_uri": "https://localhost:8080/"
    },
    "id": "48sSLAiYVmTx",
    "outputId": "c123b71b-49f8-4ffd-ab01-9b5ac5668fd5"
   },
   "outputs": [
    {
     "data": {
      "text/plain": [
       "array(['Unnamed: 0', 'id', 'member_id', 'loan_amnt', 'funded_amnt',\n",
       "       'funded_amnt_inv', 'term', 'int_rate', 'installment', 'grade',\n",
       "       'sub_grade', 'emp_title', 'emp_length', 'home_ownership',\n",
       "       'annual_inc', 'verification_status', 'issue_d', 'loan_status',\n",
       "       'pymnt_plan', 'url', 'desc', 'purpose', 'title', 'zip_code',\n",
       "       'addr_state', 'dti', 'delinq_2yrs', 'earliest_cr_line',\n",
       "       'fico_range_low', 'fico_range_high', 'inq_last_6mths',\n",
       "       'mths_since_last_delinq', 'mths_since_last_record', 'open_acc',\n",
       "       'pub_rec', 'revol_bal', 'revol_util', 'total_acc',\n",
       "       'initial_list_status', 'out_prncp', 'out_prncp_inv', 'total_pymnt',\n",
       "       'total_pymnt_inv', 'total_rec_prncp', 'total_rec_int',\n",
       "       'total_rec_late_fee', 'recoveries', 'collection_recovery_fee',\n",
       "       'last_pymnt_d', 'last_pymnt_amnt', 'next_pymnt_d',\n",
       "       'last_credit_pull_d', 'last_fico_range_high',\n",
       "       'last_fico_range_low', 'collections_12_mths_ex_med',\n",
       "       'mths_since_last_major_derog', 'policy_code', 'application_type',\n",
       "       'annual_inc_joint', 'dti_joint', 'verification_status_joint',\n",
       "       'acc_now_delinq', 'tot_coll_amt', 'tot_cur_bal', 'open_acc_6m',\n",
       "       'open_act_il', 'open_il_12m', 'open_il_24m', 'mths_since_rcnt_il',\n",
       "       'total_bal_il', 'il_util', 'open_rv_12m', 'open_rv_24m',\n",
       "       'max_bal_bc', 'all_util', 'total_rev_hi_lim', 'inq_fi',\n",
       "       'total_cu_tl', 'inq_last_12m', 'acc_open_past_24mths',\n",
       "       'avg_cur_bal', 'bc_open_to_buy', 'bc_util',\n",
       "       'chargeoff_within_12_mths', 'delinq_amnt', 'mo_sin_old_il_acct',\n",
       "       'mo_sin_old_rev_tl_op', 'mo_sin_rcnt_rev_tl_op', 'mo_sin_rcnt_tl',\n",
       "       'mort_acc', 'mths_since_recent_bc', 'mths_since_recent_bc_dlq',\n",
       "       'mths_since_recent_inq', 'mths_since_recent_revol_delinq',\n",
       "       'num_accts_ever_120_pd', 'num_actv_bc_tl', 'num_actv_rev_tl',\n",
       "       'num_bc_sats', 'num_bc_tl', 'num_il_tl', 'num_op_rev_tl',\n",
       "       'num_rev_accts', 'num_rev_tl_bal_gt_0', 'num_sats',\n",
       "       'num_tl_120dpd_2m', 'num_tl_30dpd', 'num_tl_90g_dpd_24m',\n",
       "       'num_tl_op_past_12m', 'pct_tl_nvr_dlq', 'percent_bc_gt_75',\n",
       "       'pub_rec_bankruptcies', 'tax_liens', 'tot_hi_cred_lim',\n",
       "       'total_bal_ex_mort', 'total_bc_limit',\n",
       "       'total_il_high_credit_limit', 'revol_bal_joint',\n",
       "       'sec_app_fico_range_low', 'sec_app_fico_range_high',\n",
       "       'sec_app_earliest_cr_line', 'sec_app_inq_last_6mths',\n",
       "       'sec_app_mort_acc', 'sec_app_open_acc', 'sec_app_revol_util',\n",
       "       'sec_app_open_act_il', 'sec_app_num_rev_accts',\n",
       "       'sec_app_chargeoff_within_12_mths',\n",
       "       'sec_app_collections_12_mths_ex_med',\n",
       "       'sec_app_mths_since_last_major_derog', 'hardship_flag',\n",
       "       'hardship_type', 'hardship_reason', 'hardship_status',\n",
       "       'deferral_term', 'hardship_amount', 'hardship_start_date',\n",
       "       'hardship_end_date', 'payment_plan_start_date', 'hardship_length',\n",
       "       'hardship_dpd', 'hardship_loan_status',\n",
       "       'orig_projected_additional_accrued_interest',\n",
       "       'hardship_payoff_balance_amount', 'hardship_last_payment_amount',\n",
       "       'debt_settlement_flag', 'debt_settlement_flag_date',\n",
       "       'settlement_status', 'settlement_date', 'settlement_amount',\n",
       "       'settlement_percentage', 'settlement_term'], dtype=object)"
      ]
     },
     "execution_count": 13,
     "metadata": {},
     "output_type": "execute_result"
    }
   ],
   "source": [
    "df.columns.values"
   ]
  },
  {
   "cell_type": "code",
   "execution_count": 14,
   "metadata": {
    "id": "zHjKmpJfVvQk"
   },
   "outputs": [],
   "source": [
    "df.loan_status = df.loan_status.replace({'Charged Off':1, 'Fully Paid':0})\n",
    "y = df.pop('loan_status')"
   ]
  },
  {
   "cell_type": "code",
   "execution_count": 15,
   "metadata": {
    "colab": {
     "base_uri": "https://localhost:8080/"
    },
    "id": "pP6aKimiDgOS",
    "outputId": "040c5e28-c2a3-4891-9e1d-1e9325212057"
   },
   "outputs": [
    {
     "data": {
      "text/plain": [
       "(20000, 150)"
      ]
     },
     "execution_count": 15,
     "metadata": {},
     "output_type": "execute_result"
    }
   ],
   "source": [
    "df.shape"
   ]
  },
  {
   "cell_type": "code",
   "execution_count": 16,
   "metadata": {
    "colab": {
     "base_uri": "https://localhost:8080/"
    },
    "id": "AJRmJnntDgKj",
    "outputId": "76ac9cb3-5638-4e37-f776-e98bfee2752f"
   },
   "outputs": [
    {
     "name": "stdout",
     "output_type": "stream",
     "text": [
      "The following columns were > 95% empty and therefore eliminatd:  ['member_id', 'desc', 'next_pymnt_d', 'annual_inc_joint', 'dti_joint', 'verification_status_joint', 'revol_bal_joint', 'sec_app_fico_range_low', 'sec_app_fico_range_high', 'sec_app_earliest_cr_line', 'sec_app_inq_last_6mths', 'sec_app_mort_acc', 'sec_app_open_acc', 'sec_app_revol_util', 'sec_app_open_act_il', 'sec_app_num_rev_accts', 'sec_app_chargeoff_within_12_mths', 'sec_app_collections_12_mths_ex_med', 'sec_app_mths_since_last_major_derog', 'hardship_type', 'hardship_reason', 'hardship_status', 'deferral_term', 'hardship_amount', 'hardship_start_date', 'hardship_end_date', 'payment_plan_start_date', 'hardship_length', 'hardship_dpd', 'hardship_loan_status', 'orig_projected_additional_accrued_interest', 'hardship_payoff_balance_amount', 'hardship_last_payment_amount']\n"
     ]
    }
   ],
   "source": [
    "from pandas.core.common import is_true_slices\n",
    "# deleting columns with ~100% missing data\n",
    "empty_columns=((df\n",
    " .isna()\n",
    " .mean()\n",
    " *100)\n",
    " .pipe(lambda ser:ser[ser>95])\n",
    ").reset_index()\n",
    "empty_columns=empty_columns['index'].values.tolist()\n",
    "print('The following columns were > 95% empty and therefore eliminatd: ', empty_columns)\n",
    "df=drop_columns(df, empty_columns)"
   ]
  },
  {
   "cell_type": "code",
   "execution_count": 17,
   "metadata": {
    "colab": {
     "base_uri": "https://localhost:8080/"
    },
    "id": "dhV0XwL-DgCj",
    "outputId": "ceba5257-fe28-4b04-e322-df92443fd40e"
   },
   "outputs": [
    {
     "data": {
      "text/plain": [
       "['Unnamed: 0', 'id']"
      ]
     },
     "execution_count": 17,
     "metadata": {},
     "output_type": "execute_result"
    }
   ],
   "source": [
    "#numerical columns\n",
    "numerical_cols = df.columns[df.dtypes=='int64'].tolist()\n",
    "numerical_cols"
   ]
  },
  {
   "cell_type": "code",
   "execution_count": 18,
   "metadata": {
    "colab": {
     "base_uri": "https://localhost:8080/"
    },
    "id": "43NbixTdDf7O",
    "outputId": "39674582-39b1-4823-efdf-a52bcecc44eb"
   },
   "outputs": [
    {
     "data": {
      "text/plain": [
       "['term',\n",
       " 'int_rate',\n",
       " 'grade',\n",
       " 'sub_grade',\n",
       " 'emp_title',\n",
       " 'emp_length',\n",
       " 'home_ownership',\n",
       " 'verification_status',\n",
       " 'issue_d',\n",
       " 'pymnt_plan',\n",
       " 'url',\n",
       " 'purpose',\n",
       " 'title',\n",
       " 'zip_code',\n",
       " 'addr_state',\n",
       " 'earliest_cr_line',\n",
       " 'revol_util',\n",
       " 'initial_list_status',\n",
       " 'last_pymnt_d',\n",
       " 'last_credit_pull_d',\n",
       " 'application_type',\n",
       " 'hardship_flag',\n",
       " 'debt_settlement_flag',\n",
       " 'debt_settlement_flag_date',\n",
       " 'settlement_status',\n",
       " 'settlement_date']"
      ]
     },
     "execution_count": 18,
     "metadata": {},
     "output_type": "execute_result"
    }
   ],
   "source": [
    "#categorical column\n",
    "categorical_cols = df.columns[df.dtypes=='object'].tolist()\n",
    "categorical_cols"
   ]
  },
  {
   "cell_type": "code",
   "execution_count": 19,
   "metadata": {
    "colab": {
     "base_uri": "https://localhost:8080/"
    },
    "id": "HAVwP0uJDf3Q",
    "outputId": "804c58ac-b55f-4e17-ce74-07968176ead7"
   },
   "outputs": [
    {
     "data": {
      "text/plain": [
       "['int_rate',\n",
       " 'grade',\n",
       " 'sub_grade',\n",
       " 'emp_title',\n",
       " 'emp_length',\n",
       " 'home_ownership',\n",
       " 'verification_status',\n",
       " 'issue_d',\n",
       " 'url',\n",
       " 'purpose',\n",
       " 'title',\n",
       " 'zip_code',\n",
       " 'addr_state',\n",
       " 'earliest_cr_line',\n",
       " 'revol_util',\n",
       " 'last_pymnt_d',\n",
       " 'last_credit_pull_d',\n",
       " 'debt_settlement_flag_date',\n",
       " 'settlement_status',\n",
       " 'settlement_date']"
      ]
     },
     "execution_count": 19,
     "metadata": {},
     "output_type": "execute_result"
    }
   ],
   "source": [
    "#multi_valued\n",
    "multi_valued_colmmns = df[categorical_cols].nunique()[df[categorical_cols].nunique() > 2].index.tolist()\n",
    "multi_valued_colmmns"
   ]
  },
  {
   "cell_type": "code",
   "execution_count": 20,
   "metadata": {
    "colab": {
     "base_uri": "https://localhost:8080/"
    },
    "id": "Y0O17XawDfzn",
    "outputId": "a55d76c7-4d9b-456d-dace-eb1fe381dd13"
   },
   "outputs": [
    {
     "data": {
      "text/plain": [
       "['term',\n",
       " 'initial_list_status',\n",
       " 'application_type',\n",
       " 'hardship_flag',\n",
       " 'debt_settlement_flag']"
      ]
     },
     "execution_count": 20,
     "metadata": {},
     "output_type": "execute_result"
    }
   ],
   "source": [
    "#binary\n",
    "binary_colmmns = df[categorical_cols].nunique()[df[categorical_cols].nunique() == 2].index.tolist()\n",
    "binary_colmmns"
   ]
  },
  {
   "cell_type": "code",
   "execution_count": 21,
   "metadata": {
    "colab": {
     "base_uri": "https://localhost:8080/"
    },
    "id": "vKwrXVBYDfwO",
    "outputId": "05468f6c-956f-4963-f1f1-7034a32b22f9"
   },
   "outputs": [
    {
     "data": {
      "text/plain": [
       "['pymnt_plan']"
      ]
     },
     "execution_count": 21,
     "metadata": {},
     "output_type": "execute_result"
    }
   ],
   "source": [
    "#Single value\n",
    "single_valued_colmmns = df[categorical_cols].nunique()[df[categorical_cols].nunique() == 1].index.tolist()\n",
    "single_valued_colmmns"
   ]
  },
  {
   "cell_type": "markdown",
   "metadata": {
    "id": "NCUZ8_2YKUi5"
   },
   "source": [
    "##Data Cleaning"
   ]
  },
  {
   "cell_type": "code",
   "execution_count": 22,
   "metadata": {
    "id": "M87ZXY8-DfsR"
   },
   "outputs": [],
   "source": [
    "#drop columns for model\n",
    "columns_to_drop=['Unnamed: 0', 'id','pymnt_plan','last_pymnt_d' ]\n",
    "if len(columns_to_drop)==0:\n",
    "  pass\n",
    "else: \n",
    "  for item in columns_to_drop:\n",
    "    if item in multi_valued_colmmns: multi_valued_colmmns.remove(item)\n",
    "    if item in categorical_cols: categorical_cols.remove(item)\n",
    "\n",
    "  df=drop_columns(df,columns_to_drop)"
   ]
  },
  {
   "cell_type": "code",
   "execution_count": 24,
   "metadata": {
    "id": "brUu6o5tDffG"
   },
   "outputs": [],
   "source": [
    "# # Transform binary_columns\n",
    "# for column in binary_colmmns :\n",
    "#   df[column] = LabelEncoder().fit_transform(df[column])"
   ]
  },
  {
   "cell_type": "code",
   "execution_count": 25,
   "metadata": {
    "id": "azfv4zeeDfcm"
   },
   "outputs": [],
   "source": [
    "# Transform multivalued columns\n",
    "columns_to_skip=[]\n",
    "\n",
    "for item in columns_to_skip:\n",
    "  if item in multi_valued_colmmns: multi_valued_colmmns.remove(item)\n",
    "  print(multi_valued_colmmns)"
   ]
  },
  {
   "cell_type": "code",
   "execution_count": 26,
   "metadata": {
    "id": "zHRmGIF2Jm-A"
   },
   "outputs": [],
   "source": [
    "#transforming columns before changing data types\n",
    "df.revol_util=(df.revol_util\n",
    " .str.slice(0,-1)\n",
    ")"
   ]
  },
  {
   "cell_type": "code",
   "execution_count": 27,
   "metadata": {
    "colab": {
     "base_uri": "https://localhost:8080/"
    },
    "id": "PCmAsj8YDfNl",
    "outputId": "51916a9a-fb21-4912-c861-4f0cc45d0e6c"
   },
   "outputs": [
    {
     "data": {
      "text/plain": [
       "10.0    6633\n",
       "2.0     1910\n",
       "3.0     1623\n",
       "0.1     1449\n",
       "1.0     1331\n",
       "5.0     1241\n",
       "4.0     1199\n",
       "6.0      933\n",
       "8.0      761\n",
       "9.0      743\n",
       "7.0      641\n",
       "Name: emp_length, dtype: int64"
      ]
     },
     "execution_count": 27,
     "metadata": {},
     "output_type": "execute_result"
    }
   ],
   "source": [
    "dic_values={'NaN':-1, '< 1 year': 0.1,'1 year': 1,'2 years': 2, '3 years':3, '4 years':4, '5 years':5, '6 years':6, '7 years':7, '8 years':8, '9 years':9, '10+ years':10}\n",
    "df.emp_length.replace(dic_values).value_counts()\n"
   ]
  },
  {
   "cell_type": "code",
   "execution_count": 28,
   "metadata": {
    "colab": {
     "base_uri": "https://localhost:8080/",
     "height": 1000
    },
    "id": "vmqhpvslDe-5",
    "outputId": "aad98d95-ca87-4d33-99bf-033b50dc0449"
   },
   "outputs": [
    {
     "data": {
      "text/plain": [
       "loan_amnt                            float64\n",
       "funded_amnt                          float64\n",
       "funded_amnt_inv                      float64\n",
       "term                                   int64\n",
       "int_rate                              object\n",
       "installment                          float64\n",
       "grade                                 object\n",
       "sub_grade                             object\n",
       "emp_title                             object\n",
       "emp_length                            object\n",
       "home_ownership                        object\n",
       "annual_inc                           float64\n",
       "verification_status                   object\n",
       "issue_d                               object\n",
       "url                                   object\n",
       "purpose                               object\n",
       "title                                 object\n",
       "zip_code                              object\n",
       "addr_state                            object\n",
       "dti                                  float64\n",
       "delinq_2yrs                          float64\n",
       "earliest_cr_line                      object\n",
       "fico_range_low                       float64\n",
       "fico_range_high                      float64\n",
       "inq_last_6mths                       float64\n",
       "mths_since_last_delinq               float64\n",
       "mths_since_last_record               float64\n",
       "open_acc                             float64\n",
       "pub_rec                              float64\n",
       "revol_bal                            float64\n",
       "                                   ...      \n",
       "num_accts_ever_120_pd                float64\n",
       "num_actv_bc_tl                       float64\n",
       "num_actv_rev_tl                      float64\n",
       "num_bc_sats                          float64\n",
       "num_bc_tl                            float64\n",
       "num_il_tl                            float64\n",
       "num_op_rev_tl                        float64\n",
       "num_rev_accts                        float64\n",
       "num_rev_tl_bal_gt_0                  float64\n",
       "num_sats                             float64\n",
       "num_tl_120dpd_2m                     float64\n",
       "num_tl_30dpd                         float64\n",
       "num_tl_90g_dpd_24m                   float64\n",
       "num_tl_op_past_12m                   float64\n",
       "pct_tl_nvr_dlq                       float64\n",
       "percent_bc_gt_75                     float64\n",
       "pub_rec_bankruptcies                 float64\n",
       "tax_liens                            float64\n",
       "tot_hi_cred_lim                      float64\n",
       "total_bal_ex_mort                    float64\n",
       "total_bc_limit                       float64\n",
       "total_il_high_credit_limit           float64\n",
       "hardship_flag                         object\n",
       "debt_settlement_flag                  object\n",
       "debt_settlement_flag_date             object\n",
       "settlement_status                     object\n",
       "settlement_date               datetime64[ns]\n",
       "settlement_amount                    float64\n",
       "settlement_percentage                float64\n",
       "settlement_term                      float64\n",
       "Length: 113, dtype: object"
      ]
     },
     "metadata": {},
     "output_type": "display_data"
    }
   ],
   "source": [
    "#change types \n",
    "\n",
    "#to float\n",
    "dic={'dti':float, 'all_util': float}\n",
    "for key,value in dic.items():\n",
    "  df[key].astype(value)\n",
    "\n",
    "\n",
    "#to date\n",
    "columns_to_date=['settlement_date', 'settlement_date'] \n",
    "#, 'debt_settlement_flag_date','last_pymnt_d','debt_settlement_flag_date'\n",
    "for column in columns_to_date:\n",
    "  df[column] = pd.to_datetime(df[column], errors='coerce')\n",
    "\n",
    "with pd.option_context('display.max_columns', 2, 'display.min_rows',None): display(df.dtypes)\n"
   ]
  },
  {
   "cell_type": "code",
   "execution_count": 29,
   "metadata": {
    "id": "AIQWilPsDfW4"
   },
   "outputs": [],
   "source": [
    "def fill_na_columns(df, column_name, new_na_value):\n",
    "  df[column_name]=(df[column_name]\n",
    "                  .fillna(new_na_value)\n",
    "                  )\n",
    "def drop_na_columns(df, column_name):\n",
    "  df[column_name]=(df[column_name]\n",
    "                .dropna\n",
    "                )\n",
    "\n",
    "#replace values\n",
    "fill_na_columns(df,'il_util',0)\n",
    "\n",
    "fill_na_columns(df,'mths_since_last_delinq',-1)\n",
    "fill_na_columns(df,'mths_since_last_record',-1)\n",
    "\n",
    "fill_na_columns(df,'settlement_amount',-1)\n",
    "fill_na_columns(df,'num_tl_120dpd_2m',-1)\n",
    "\n",
    "fill_na_columns(df,'emp_title', 'Unknown')\n",
    "fill_na_columns(df,'title', 'Unknown')\n",
    "fill_na_columns(df,'settlement_status', 'Unknown')\n",
    "fill_na_columns(df,'hardship_flag', 'Unknown')\n",
    "\n",
    "#fill with mean\n",
    "columns=['dti', 'mths_since_last_major_derog', 'bc_open_to_buy', 'bc_util', 'mo_sin_old_il_acct','mths_since_recent_bc_dlq', 'mths_since_recent_inq', 'mths_since_recent_revol_delinq', 'settlement_amount', 'settlement_term', 'settlement_percentage','bc_open_to_buy'] \n",
    "for column in columns:\n",
    "  df[column].fillna(df[column].mean())\n",
    "\n",
    "#drop na\n",
    "drop_na_columns(df,'emp_length')\n",
    "\n",
    "#drop column\n",
    "columns_to_drop=['revol_util']\n",
    "df=drop_columns(df, columns_to_drop)\n"
   ]
  },
  {
   "cell_type": "code",
   "execution_count": 30,
   "metadata": {
    "colab": {
     "base_uri": "https://localhost:8080/"
    },
    "id": "w09eUOhFDfZy",
    "outputId": "276e5717-c438-4b4c-b04b-84678f111236"
   },
   "outputs": [
    {
     "data": {
      "text/plain": [
       "0                                dti\n",
       "1        mths_since_last_major_derog\n",
       "2                 mths_since_rcnt_il\n",
       "3                           all_util\n",
       "4                     bc_open_to_buy\n",
       "5                            bc_util\n",
       "6                 mo_sin_old_il_acct\n",
       "7               mths_since_recent_bc\n",
       "8           mths_since_recent_bc_dlq\n",
       "9              mths_since_recent_inq\n",
       "10    mths_since_recent_revol_delinq\n",
       "11                  percent_bc_gt_75\n",
       "12         debt_settlement_flag_date\n",
       "13                   settlement_date\n",
       "14             settlement_percentage\n",
       "15                   settlement_term\n",
       "Name: index, dtype: object"
      ]
     },
     "execution_count": 30,
     "metadata": {},
     "output_type": "execute_result"
    }
   ],
   "source": [
    "#Identifying problematic columns\n",
    "columns_to_study=(\n",
    "    (df\n",
    "    .isna()\n",
    "    .mean()\n",
    "    *100\n",
    "    )\n",
    "    .pipe(lambda ser:ser[ser>0]).reset_index()\n",
    "  ) .iloc[:,0]\n",
    "columns_to_study"
   ]
  },
  {
   "cell_type": "code",
   "execution_count": 31,
   "metadata": {
    "colab": {
     "base_uri": "https://localhost:8080/"
    },
    "id": "FVc874yUmn5p",
    "outputId": "21d8ccd1-a75a-4487-85f7-2abb975e0f37"
   },
   "outputs": [
    {
     "data": {
      "text/plain": [
       "['int_rate',\n",
       " 'grade',\n",
       " 'sub_grade',\n",
       " 'emp_title',\n",
       " 'emp_length',\n",
       " 'home_ownership',\n",
       " 'verification_status',\n",
       " 'issue_d',\n",
       " 'url',\n",
       " 'purpose',\n",
       " 'title',\n",
       " 'zip_code',\n",
       " 'addr_state',\n",
       " 'earliest_cr_line',\n",
       " 'last_credit_pull_d',\n",
       " 'hardship_flag',\n",
       " 'debt_settlement_flag',\n",
       " 'debt_settlement_flag_date',\n",
       " 'settlement_status']"
      ]
     },
     "execution_count": 31,
     "metadata": {},
     "output_type": "execute_result"
    }
   ],
   "source": [
    "#categorical column\n",
    "categorical_cols = df.columns[df.dtypes=='object'].tolist()\n",
    "categorical_cols"
   ]
  },
  {
   "cell_type": "code",
   "execution_count": 32,
   "metadata": {
    "id": "aN9ptlmkEBvz"
   },
   "outputs": [],
   "source": [
    "def limit_values(val, list_val):\n",
    "    if val in list_val:\n",
    "        return val\n",
    "    return 'Another'"
   ]
  },
  {
   "cell_type": "markdown",
   "metadata": {
    "id": "ymlGTJ9dpIDF"
   },
   "source": [
    "## Decising on the Data\n",
    "\n",
    "This data has so many columns, variables and it is SO dirty, that I am decising following Charlie's model and making an uneducated guess on the variables that will go into the model.  "
   ]
  },
  {
   "cell_type": "code",
   "execution_count": 33,
   "metadata": {
    "colab": {
     "base_uri": "https://localhost:8080/"
    },
    "id": "RVpzl3KTmu-g",
    "outputId": "cb238ec2-f3af-4f44-d8ba-2910a0657e87"
   },
   "outputs": [
    {
     "data": {
      "text/plain": [
       "['grade',\n",
       " 'sub_grade',\n",
       " 'emp_title',\n",
       " 'home_ownership',\n",
       " 'verification_status',\n",
       " 'issue_d',\n",
       " 'purpose',\n",
       " 'title',\n",
       " 'settlement_status',\n",
       " 'term']"
      ]
     },
     "execution_count": 33,
     "metadata": {},
     "output_type": "execute_result"
    }
   ],
   "source": [
    "#curated categorical columns\n",
    "categorical_cols = [\n",
    "\n",
    "#from teacher's code to debug                    \n",
    "#  'term',\n",
    "#  'grade',\n",
    "#  'sub_grade',\n",
    "#  'home_ownership',\n",
    "#  'verification_status',\n",
    "#  'issue_d'\n",
    "\n",
    " 'grade',\n",
    " 'sub_grade',\n",
    " 'emp_title',\n",
    " 'home_ownership',\n",
    " 'verification_status',\n",
    " 'issue_d',\n",
    " 'purpose',\n",
    " 'title',\n",
    " 'settlement_status', \n",
    " 'term'\n",
    " ]\n",
    "categorical_cols"
   ]
  },
  {
   "cell_type": "code",
   "execution_count": 34,
   "metadata": {
    "colab": {
     "base_uri": "https://localhost:8080/",
     "height": 509
    },
    "id": "1t1DRNjJRzgv",
    "outputId": "f71bd5a7-6810-4612-d793-96062162b70f"
   },
   "outputs": [
    {
     "data": {
      "text/html": [
       "<div>\n",
       "<style scoped>\n",
       "    .dataframe tbody tr th:only-of-type {\n",
       "        vertical-align: middle;\n",
       "    }\n",
       "\n",
       "    .dataframe tbody tr th {\n",
       "        vertical-align: top;\n",
       "    }\n",
       "\n",
       "    .dataframe thead th {\n",
       "        text-align: right;\n",
       "    }\n",
       "</style>\n",
       "<table border=\"1\" class=\"dataframe\">\n",
       "  <thead>\n",
       "    <tr style=\"text-align: right;\">\n",
       "      <th></th>\n",
       "      <th>term</th>\n",
       "      <th>grade_A</th>\n",
       "      <th>grade_B</th>\n",
       "      <th>grade_C</th>\n",
       "      <th>grade_D</th>\n",
       "      <th>grade_E</th>\n",
       "      <th>grade_F</th>\n",
       "      <th>grade_G</th>\n",
       "      <th>sub_grade_A1</th>\n",
       "      <th>sub_grade_A2</th>\n",
       "      <th>...</th>\n",
       "      <th>title_Major purchase</th>\n",
       "      <th>title_Medical expenses</th>\n",
       "      <th>title_Moving and relocation</th>\n",
       "      <th>title_Other</th>\n",
       "      <th>title_Unknown</th>\n",
       "      <th>title_Vacation</th>\n",
       "      <th>settlement_status_ACTIVE</th>\n",
       "      <th>settlement_status_BROKEN</th>\n",
       "      <th>settlement_status_COMPLETE</th>\n",
       "      <th>settlement_status_Unknown</th>\n",
       "    </tr>\n",
       "  </thead>\n",
       "  <tbody>\n",
       "    <tr>\n",
       "      <th>0</th>\n",
       "      <td>1</td>\n",
       "      <td>0</td>\n",
       "      <td>0</td>\n",
       "      <td>0</td>\n",
       "      <td>1</td>\n",
       "      <td>0</td>\n",
       "      <td>0</td>\n",
       "      <td>0</td>\n",
       "      <td>0</td>\n",
       "      <td>0</td>\n",
       "      <td>...</td>\n",
       "      <td>0</td>\n",
       "      <td>0</td>\n",
       "      <td>0</td>\n",
       "      <td>0</td>\n",
       "      <td>0</td>\n",
       "      <td>0</td>\n",
       "      <td>0</td>\n",
       "      <td>0</td>\n",
       "      <td>0</td>\n",
       "      <td>1</td>\n",
       "    </tr>\n",
       "    <tr>\n",
       "      <th>1</th>\n",
       "      <td>0</td>\n",
       "      <td>0</td>\n",
       "      <td>1</td>\n",
       "      <td>0</td>\n",
       "      <td>0</td>\n",
       "      <td>0</td>\n",
       "      <td>0</td>\n",
       "      <td>0</td>\n",
       "      <td>0</td>\n",
       "      <td>0</td>\n",
       "      <td>...</td>\n",
       "      <td>0</td>\n",
       "      <td>0</td>\n",
       "      <td>0</td>\n",
       "      <td>0</td>\n",
       "      <td>0</td>\n",
       "      <td>0</td>\n",
       "      <td>0</td>\n",
       "      <td>0</td>\n",
       "      <td>0</td>\n",
       "      <td>1</td>\n",
       "    </tr>\n",
       "    <tr>\n",
       "      <th>2</th>\n",
       "      <td>0</td>\n",
       "      <td>0</td>\n",
       "      <td>0</td>\n",
       "      <td>1</td>\n",
       "      <td>0</td>\n",
       "      <td>0</td>\n",
       "      <td>0</td>\n",
       "      <td>0</td>\n",
       "      <td>0</td>\n",
       "      <td>0</td>\n",
       "      <td>...</td>\n",
       "      <td>0</td>\n",
       "      <td>0</td>\n",
       "      <td>0</td>\n",
       "      <td>1</td>\n",
       "      <td>0</td>\n",
       "      <td>0</td>\n",
       "      <td>0</td>\n",
       "      <td>0</td>\n",
       "      <td>0</td>\n",
       "      <td>1</td>\n",
       "    </tr>\n",
       "    <tr>\n",
       "      <th>3</th>\n",
       "      <td>0</td>\n",
       "      <td>0</td>\n",
       "      <td>1</td>\n",
       "      <td>0</td>\n",
       "      <td>0</td>\n",
       "      <td>0</td>\n",
       "      <td>0</td>\n",
       "      <td>0</td>\n",
       "      <td>0</td>\n",
       "      <td>0</td>\n",
       "      <td>...</td>\n",
       "      <td>0</td>\n",
       "      <td>0</td>\n",
       "      <td>0</td>\n",
       "      <td>0</td>\n",
       "      <td>0</td>\n",
       "      <td>0</td>\n",
       "      <td>0</td>\n",
       "      <td>0</td>\n",
       "      <td>0</td>\n",
       "      <td>1</td>\n",
       "    </tr>\n",
       "    <tr>\n",
       "      <th>4</th>\n",
       "      <td>0</td>\n",
       "      <td>0</td>\n",
       "      <td>0</td>\n",
       "      <td>0</td>\n",
       "      <td>0</td>\n",
       "      <td>1</td>\n",
       "      <td>0</td>\n",
       "      <td>0</td>\n",
       "      <td>0</td>\n",
       "      <td>0</td>\n",
       "      <td>...</td>\n",
       "      <td>0</td>\n",
       "      <td>0</td>\n",
       "      <td>0</td>\n",
       "      <td>1</td>\n",
       "      <td>0</td>\n",
       "      <td>0</td>\n",
       "      <td>0</td>\n",
       "      <td>0</td>\n",
       "      <td>0</td>\n",
       "      <td>1</td>\n",
       "    </tr>\n",
       "    <tr>\n",
       "      <th>...</th>\n",
       "      <td>...</td>\n",
       "      <td>...</td>\n",
       "      <td>...</td>\n",
       "      <td>...</td>\n",
       "      <td>...</td>\n",
       "      <td>...</td>\n",
       "      <td>...</td>\n",
       "      <td>...</td>\n",
       "      <td>...</td>\n",
       "      <td>...</td>\n",
       "      <td>...</td>\n",
       "      <td>...</td>\n",
       "      <td>...</td>\n",
       "      <td>...</td>\n",
       "      <td>...</td>\n",
       "      <td>...</td>\n",
       "      <td>...</td>\n",
       "      <td>...</td>\n",
       "      <td>...</td>\n",
       "      <td>...</td>\n",
       "      <td>...</td>\n",
       "    </tr>\n",
       "    <tr>\n",
       "      <th>19995</th>\n",
       "      <td>1</td>\n",
       "      <td>0</td>\n",
       "      <td>0</td>\n",
       "      <td>0</td>\n",
       "      <td>0</td>\n",
       "      <td>0</td>\n",
       "      <td>1</td>\n",
       "      <td>0</td>\n",
       "      <td>0</td>\n",
       "      <td>0</td>\n",
       "      <td>...</td>\n",
       "      <td>0</td>\n",
       "      <td>0</td>\n",
       "      <td>0</td>\n",
       "      <td>0</td>\n",
       "      <td>0</td>\n",
       "      <td>0</td>\n",
       "      <td>0</td>\n",
       "      <td>0</td>\n",
       "      <td>0</td>\n",
       "      <td>1</td>\n",
       "    </tr>\n",
       "    <tr>\n",
       "      <th>19996</th>\n",
       "      <td>0</td>\n",
       "      <td>0</td>\n",
       "      <td>0</td>\n",
       "      <td>1</td>\n",
       "      <td>0</td>\n",
       "      <td>0</td>\n",
       "      <td>0</td>\n",
       "      <td>0</td>\n",
       "      <td>0</td>\n",
       "      <td>0</td>\n",
       "      <td>...</td>\n",
       "      <td>0</td>\n",
       "      <td>0</td>\n",
       "      <td>0</td>\n",
       "      <td>0</td>\n",
       "      <td>0</td>\n",
       "      <td>0</td>\n",
       "      <td>0</td>\n",
       "      <td>0</td>\n",
       "      <td>0</td>\n",
       "      <td>1</td>\n",
       "    </tr>\n",
       "    <tr>\n",
       "      <th>19997</th>\n",
       "      <td>1</td>\n",
       "      <td>0</td>\n",
       "      <td>0</td>\n",
       "      <td>0</td>\n",
       "      <td>1</td>\n",
       "      <td>0</td>\n",
       "      <td>0</td>\n",
       "      <td>0</td>\n",
       "      <td>0</td>\n",
       "      <td>0</td>\n",
       "      <td>...</td>\n",
       "      <td>0</td>\n",
       "      <td>0</td>\n",
       "      <td>0</td>\n",
       "      <td>0</td>\n",
       "      <td>0</td>\n",
       "      <td>0</td>\n",
       "      <td>0</td>\n",
       "      <td>0</td>\n",
       "      <td>0</td>\n",
       "      <td>1</td>\n",
       "    </tr>\n",
       "    <tr>\n",
       "      <th>19998</th>\n",
       "      <td>1</td>\n",
       "      <td>0</td>\n",
       "      <td>0</td>\n",
       "      <td>1</td>\n",
       "      <td>0</td>\n",
       "      <td>0</td>\n",
       "      <td>0</td>\n",
       "      <td>0</td>\n",
       "      <td>0</td>\n",
       "      <td>0</td>\n",
       "      <td>...</td>\n",
       "      <td>0</td>\n",
       "      <td>0</td>\n",
       "      <td>0</td>\n",
       "      <td>0</td>\n",
       "      <td>0</td>\n",
       "      <td>0</td>\n",
       "      <td>0</td>\n",
       "      <td>0</td>\n",
       "      <td>0</td>\n",
       "      <td>1</td>\n",
       "    </tr>\n",
       "    <tr>\n",
       "      <th>19999</th>\n",
       "      <td>1</td>\n",
       "      <td>0</td>\n",
       "      <td>0</td>\n",
       "      <td>1</td>\n",
       "      <td>0</td>\n",
       "      <td>0</td>\n",
       "      <td>0</td>\n",
       "      <td>0</td>\n",
       "      <td>0</td>\n",
       "      <td>0</td>\n",
       "      <td>...</td>\n",
       "      <td>0</td>\n",
       "      <td>0</td>\n",
       "      <td>0</td>\n",
       "      <td>0</td>\n",
       "      <td>0</td>\n",
       "      <td>0</td>\n",
       "      <td>0</td>\n",
       "      <td>1</td>\n",
       "      <td>0</td>\n",
       "      <td>0</td>\n",
       "    </tr>\n",
       "  </tbody>\n",
       "</table>\n",
       "<p>20000 rows × 9901 columns</p>\n",
       "</div>"
      ],
      "text/plain": [
       "       term  grade_A  grade_B  grade_C  grade_D  grade_E  grade_F  grade_G  \\\n",
       "0         1        0        0        0        1        0        0        0   \n",
       "1         0        0        1        0        0        0        0        0   \n",
       "2         0        0        0        1        0        0        0        0   \n",
       "3         0        0        1        0        0        0        0        0   \n",
       "4         0        0        0        0        0        1        0        0   \n",
       "...     ...      ...      ...      ...      ...      ...      ...      ...   \n",
       "19995     1        0        0        0        0        0        1        0   \n",
       "19996     0        0        0        1        0        0        0        0   \n",
       "19997     1        0        0        0        1        0        0        0   \n",
       "19998     1        0        0        1        0        0        0        0   \n",
       "19999     1        0        0        1        0        0        0        0   \n",
       "\n",
       "       sub_grade_A1  sub_grade_A2  ...  title_Major purchase  \\\n",
       "0                 0             0  ...                     0   \n",
       "1                 0             0  ...                     0   \n",
       "2                 0             0  ...                     0   \n",
       "3                 0             0  ...                     0   \n",
       "4                 0             0  ...                     0   \n",
       "...             ...           ...  ...                   ...   \n",
       "19995             0             0  ...                     0   \n",
       "19996             0             0  ...                     0   \n",
       "19997             0             0  ...                     0   \n",
       "19998             0             0  ...                     0   \n",
       "19999             0             0  ...                     0   \n",
       "\n",
       "       title_Medical expenses  title_Moving and relocation  title_Other  \\\n",
       "0                           0                            0            0   \n",
       "1                           0                            0            0   \n",
       "2                           0                            0            1   \n",
       "3                           0                            0            0   \n",
       "4                           0                            0            1   \n",
       "...                       ...                          ...          ...   \n",
       "19995                       0                            0            0   \n",
       "19996                       0                            0            0   \n",
       "19997                       0                            0            0   \n",
       "19998                       0                            0            0   \n",
       "19999                       0                            0            0   \n",
       "\n",
       "       title_Unknown  title_Vacation  settlement_status_ACTIVE  \\\n",
       "0                  0               0                         0   \n",
       "1                  0               0                         0   \n",
       "2                  0               0                         0   \n",
       "3                  0               0                         0   \n",
       "4                  0               0                         0   \n",
       "...              ...             ...                       ...   \n",
       "19995              0               0                         0   \n",
       "19996              0               0                         0   \n",
       "19997              0               0                         0   \n",
       "19998              0               0                         0   \n",
       "19999              0               0                         0   \n",
       "\n",
       "       settlement_status_BROKEN  settlement_status_COMPLETE  \\\n",
       "0                             0                           0   \n",
       "1                             0                           0   \n",
       "2                             0                           0   \n",
       "3                             0                           0   \n",
       "4                             0                           0   \n",
       "...                         ...                         ...   \n",
       "19995                         0                           0   \n",
       "19996                         0                           0   \n",
       "19997                         0                           0   \n",
       "19998                         0                           0   \n",
       "19999                         1                           0   \n",
       "\n",
       "       settlement_status_Unknown  \n",
       "0                              1  \n",
       "1                              1  \n",
       "2                              1  \n",
       "3                              1  \n",
       "4                              1  \n",
       "...                          ...  \n",
       "19995                          1  \n",
       "19996                          1  \n",
       "19997                          1  \n",
       "19998                          1  \n",
       "19999                          0  \n",
       "\n",
       "[20000 rows x 9901 columns]"
      ]
     },
     "execution_count": 34,
     "metadata": {},
     "output_type": "execute_result"
    }
   ],
   "source": [
    "df2=df[categorical_cols]\n",
    "df2.head(3)\n",
    "df_dummies = pd.get_dummies(data = df2, drop_first=False)\n",
    "df_dummies"
   ]
  },
  {
   "cell_type": "code",
   "execution_count": 35,
   "metadata": {
    "colab": {
     "base_uri": "https://localhost:8080/"
    },
    "id": "dpV9pvx0pCGO",
    "outputId": "53982aac-3ff1-4d48-ecb3-4eaeb34b9664"
   },
   "outputs": [
    {
     "data": {
      "text/plain": [
       "['acc_open_past_24mths',\n",
       " 'annual_inc',\n",
       " 'avg_cur_bal',\n",
       " 'delinq_2yrs',\n",
       " 'fico_range_low',\n",
       " 'fico_range_high',\n",
       " 'funded_amnt_inv',\n",
       " 'funded_amnt',\n",
       " 'funded_amnt',\n",
       " 'installment',\n",
       " 'inq_last_6mths',\n",
       " 'loan_amnt',\n",
       " 'num_accts_ever_120_pd',\n",
       " 'num_actv_bc_tl',\n",
       " 'num_actv_rev_tl',\n",
       " 'num_bc_sats',\n",
       " 'num_bc_tl',\n",
       " 'num_il_tl',\n",
       " 'num_op_rev_tl',\n",
       " 'num_rev_accts',\n",
       " 'num_rev_tl_bal_gt_0',\n",
       " 'num_sats',\n",
       " 'num_tl_op_past_12m',\n",
       " 'open_acc_6m',\n",
       " 'open_act_il',\n",
       " 'open_acc',\n",
       " 'total_pymnt',\n",
       " 'total_pymnt_inv',\n",
       " 'total_rec_prncp',\n",
       " 'total_rec_int',\n",
       " 'tot_cur_bal',\n",
       " 'total_acc',\n",
       " 'tot_hi_cred_lim',\n",
       " 'total_bal_ex_mort',\n",
       " 'total_bc_limit',\n",
       " 'total_il_high_credit_limit',\n",
       " 'revol_bal']"
      ]
     },
     "execution_count": 35,
     "metadata": {},
     "output_type": "execute_result"
    }
   ],
   "source": [
    "numerical_columns = [\n",
    "                     \n",
    "#from teacher's code to debug\n",
    "  # 'loan_amnt',\n",
    "  # 'installment',\n",
    "  # 'delinq_2yrs',\n",
    "  # 'fico_range_low',\n",
    "  # 'fico_range_high',\n",
    "  # 'total_acc'\n",
    "\n",
    "  'acc_open_past_24mths',\n",
    "  'annual_inc', \n",
    "  'avg_cur_bal',\n",
    "  'delinq_2yrs',\n",
    "  'fico_range_low',\n",
    "  'fico_range_high',\n",
    "  'funded_amnt_inv',\n",
    "  'funded_amnt',\n",
    "  'funded_amnt',\n",
    "  'installment', \n",
    "  'inq_last_6mths',\n",
    "  'loan_amnt',\n",
    "  'num_accts_ever_120_pd',\n",
    "  'num_actv_bc_tl',\n",
    "  'num_actv_rev_tl',\n",
    "  'num_bc_sats',\n",
    "  'num_bc_tl',\n",
    "  'num_il_tl',\n",
    "  'num_op_rev_tl',\n",
    "  'num_rev_accts',\n",
    "  'num_rev_tl_bal_gt_0',\n",
    "  'num_sats',\n",
    "  'num_tl_op_past_12m',\n",
    "  'open_acc_6m',\n",
    "  'open_act_il',\n",
    "  'open_acc',\n",
    "  'total_pymnt',\n",
    "  'total_pymnt_inv',\n",
    "  'total_rec_prncp',\n",
    "  'total_rec_int',\n",
    "  'tot_cur_bal',\n",
    "  'total_acc',\n",
    "  'tot_hi_cred_lim',\n",
    "  'total_bal_ex_mort',\n",
    "  'total_bc_limit',\n",
    "  'total_il_high_credit_limit',\n",
    "  'revol_bal',\n",
    "  #these gave me errors\n",
    "  # 'dti'\n",
    "  # 'pct_tl_nvr_dlq',\n",
    "  # 'percent_bc_gt_75',\n",
    "  # 'pub_rec_bankruptcies',\n",
    "]\n",
    "numerical_columns"
   ]
  },
  {
   "cell_type": "code",
   "execution_count": 36,
   "metadata": {
    "colab": {
     "base_uri": "https://localhost:8080/",
     "height": 325
    },
    "id": "-kjUr839pF0U",
    "outputId": "94f5d942-0dcb-4094-f8b7-fe4f4cd41997"
   },
   "outputs": [
    {
     "data": {
      "text/html": [
       "<div>\n",
       "<style scoped>\n",
       "    .dataframe tbody tr th:only-of-type {\n",
       "        vertical-align: middle;\n",
       "    }\n",
       "\n",
       "    .dataframe tbody tr th {\n",
       "        vertical-align: top;\n",
       "    }\n",
       "\n",
       "    .dataframe thead th {\n",
       "        text-align: right;\n",
       "    }\n",
       "</style>\n",
       "<table border=\"1\" class=\"dataframe\">\n",
       "  <thead>\n",
       "    <tr style=\"text-align: right;\">\n",
       "      <th></th>\n",
       "      <th>acc_open_past_24mths</th>\n",
       "      <th>annual_inc</th>\n",
       "      <th>avg_cur_bal</th>\n",
       "      <th>delinq_2yrs</th>\n",
       "      <th>fico_range_low</th>\n",
       "      <th>fico_range_high</th>\n",
       "      <th>funded_amnt_inv</th>\n",
       "      <th>funded_amnt</th>\n",
       "      <th>funded_amnt</th>\n",
       "      <th>installment</th>\n",
       "      <th>...</th>\n",
       "      <th>title_Major purchase</th>\n",
       "      <th>title_Medical expenses</th>\n",
       "      <th>title_Moving and relocation</th>\n",
       "      <th>title_Other</th>\n",
       "      <th>title_Unknown</th>\n",
       "      <th>title_Vacation</th>\n",
       "      <th>settlement_status_ACTIVE</th>\n",
       "      <th>settlement_status_BROKEN</th>\n",
       "      <th>settlement_status_COMPLETE</th>\n",
       "      <th>settlement_status_Unknown</th>\n",
       "    </tr>\n",
       "  </thead>\n",
       "  <tbody>\n",
       "    <tr>\n",
       "      <th>0</th>\n",
       "      <td>3.0</td>\n",
       "      <td>63000.0</td>\n",
       "      <td>1026.0</td>\n",
       "      <td>2.0</td>\n",
       "      <td>675.0</td>\n",
       "      <td>679.0</td>\n",
       "      <td>26450.0</td>\n",
       "      <td>26450.0</td>\n",
       "      <td>26450.0</td>\n",
       "      <td>685.99</td>\n",
       "      <td>...</td>\n",
       "      <td>0</td>\n",
       "      <td>0</td>\n",
       "      <td>0</td>\n",
       "      <td>0</td>\n",
       "      <td>0</td>\n",
       "      <td>0</td>\n",
       "      <td>0</td>\n",
       "      <td>0</td>\n",
       "      <td>0</td>\n",
       "      <td>1</td>\n",
       "    </tr>\n",
       "    <tr>\n",
       "      <th>1</th>\n",
       "      <td>5.0</td>\n",
       "      <td>85000.0</td>\n",
       "      <td>3869.0</td>\n",
       "      <td>0.0</td>\n",
       "      <td>680.0</td>\n",
       "      <td>684.0</td>\n",
       "      <td>12000.0</td>\n",
       "      <td>12000.0</td>\n",
       "      <td>12000.0</td>\n",
       "      <td>395.37</td>\n",
       "      <td>...</td>\n",
       "      <td>0</td>\n",
       "      <td>0</td>\n",
       "      <td>0</td>\n",
       "      <td>0</td>\n",
       "      <td>0</td>\n",
       "      <td>0</td>\n",
       "      <td>0</td>\n",
       "      <td>0</td>\n",
       "      <td>0</td>\n",
       "      <td>1</td>\n",
       "    </tr>\n",
       "    <tr>\n",
       "      <th>2</th>\n",
       "      <td>2.0</td>\n",
       "      <td>90000.0</td>\n",
       "      <td>4836.0</td>\n",
       "      <td>0.0</td>\n",
       "      <td>695.0</td>\n",
       "      <td>699.0</td>\n",
       "      <td>1000.0</td>\n",
       "      <td>1000.0</td>\n",
       "      <td>1000.0</td>\n",
       "      <td>35.16</td>\n",
       "      <td>...</td>\n",
       "      <td>0</td>\n",
       "      <td>0</td>\n",
       "      <td>0</td>\n",
       "      <td>1</td>\n",
       "      <td>0</td>\n",
       "      <td>0</td>\n",
       "      <td>0</td>\n",
       "      <td>0</td>\n",
       "      <td>0</td>\n",
       "      <td>1</td>\n",
       "    </tr>\n",
       "    <tr>\n",
       "      <th>3</th>\n",
       "      <td>5.0</td>\n",
       "      <td>40000.0</td>\n",
       "      <td>2895.0</td>\n",
       "      <td>0.0</td>\n",
       "      <td>680.0</td>\n",
       "      <td>684.0</td>\n",
       "      <td>10000.0</td>\n",
       "      <td>10000.0</td>\n",
       "      <td>10000.0</td>\n",
       "      <td>327.34</td>\n",
       "      <td>...</td>\n",
       "      <td>0</td>\n",
       "      <td>0</td>\n",
       "      <td>0</td>\n",
       "      <td>0</td>\n",
       "      <td>0</td>\n",
       "      <td>0</td>\n",
       "      <td>0</td>\n",
       "      <td>0</td>\n",
       "      <td>0</td>\n",
       "      <td>1</td>\n",
       "    </tr>\n",
       "    <tr>\n",
       "      <th>4</th>\n",
       "      <td>4.0</td>\n",
       "      <td>30000.0</td>\n",
       "      <td>7191.0</td>\n",
       "      <td>0.0</td>\n",
       "      <td>660.0</td>\n",
       "      <td>664.0</td>\n",
       "      <td>4500.0</td>\n",
       "      <td>4500.0</td>\n",
       "      <td>4500.0</td>\n",
       "      <td>181.89</td>\n",
       "      <td>...</td>\n",
       "      <td>0</td>\n",
       "      <td>0</td>\n",
       "      <td>0</td>\n",
       "      <td>1</td>\n",
       "      <td>0</td>\n",
       "      <td>0</td>\n",
       "      <td>0</td>\n",
       "      <td>0</td>\n",
       "      <td>0</td>\n",
       "      <td>1</td>\n",
       "    </tr>\n",
       "  </tbody>\n",
       "</table>\n",
       "<p>5 rows × 9938 columns</p>\n",
       "</div>"
      ],
      "text/plain": [
       "   acc_open_past_24mths  annual_inc  avg_cur_bal  delinq_2yrs  fico_range_low  \\\n",
       "0                   3.0     63000.0       1026.0          2.0           675.0   \n",
       "1                   5.0     85000.0       3869.0          0.0           680.0   \n",
       "2                   2.0     90000.0       4836.0          0.0           695.0   \n",
       "3                   5.0     40000.0       2895.0          0.0           680.0   \n",
       "4                   4.0     30000.0       7191.0          0.0           660.0   \n",
       "\n",
       "   fico_range_high  funded_amnt_inv  funded_amnt  funded_amnt  installment  \\\n",
       "0            679.0          26450.0      26450.0      26450.0       685.99   \n",
       "1            684.0          12000.0      12000.0      12000.0       395.37   \n",
       "2            699.0           1000.0       1000.0       1000.0        35.16   \n",
       "3            684.0          10000.0      10000.0      10000.0       327.34   \n",
       "4            664.0           4500.0       4500.0       4500.0       181.89   \n",
       "\n",
       "   ...  title_Major purchase  title_Medical expenses  \\\n",
       "0  ...                     0                       0   \n",
       "1  ...                     0                       0   \n",
       "2  ...                     0                       0   \n",
       "3  ...                     0                       0   \n",
       "4  ...                     0                       0   \n",
       "\n",
       "   title_Moving and relocation  title_Other  title_Unknown  title_Vacation  \\\n",
       "0                            0            0              0               0   \n",
       "1                            0            0              0               0   \n",
       "2                            0            1              0               0   \n",
       "3                            0            0              0               0   \n",
       "4                            0            1              0               0   \n",
       "\n",
       "   settlement_status_ACTIVE  settlement_status_BROKEN  \\\n",
       "0                         0                         0   \n",
       "1                         0                         0   \n",
       "2                         0                         0   \n",
       "3                         0                         0   \n",
       "4                         0                         0   \n",
       "\n",
       "   settlement_status_COMPLETE  settlement_status_Unknown  \n",
       "0                           0                          1  \n",
       "1                           0                          1  \n",
       "2                           0                          1  \n",
       "3                           0                          1  \n",
       "4                           0                          1  \n",
       "\n",
       "[5 rows x 9938 columns]"
      ]
     },
     "execution_count": 36,
     "metadata": {},
     "output_type": "execute_result"
    }
   ],
   "source": [
    "df_model = pd.concat([df[numerical_columns], df_dummies], axis=1)\n",
    "df_model.head()"
   ]
  },
  {
   "cell_type": "code",
   "execution_count": 37,
   "metadata": {
    "id": "dv403C60oSiJ"
   },
   "outputs": [],
   "source": [
    "#piece of code to review columns and help decide if we should add them to the model\n",
    "\n",
    "# columns_to_skip=['emp_length']\n",
    "# columns_to_study=df.columns.values\n",
    "# for column in columns_to_study:\n",
    "#   if column not in columns_to_skip and column not in df_model.columns.values:\n",
    "#     print(column, type(column))\n",
    "#     print('Column \"', column, '\" has ', df[column].isnull().sum(), ' nan values')\n",
    "#     print(df[column].value_counts(dropna=False))\n",
    "#     print(' ')\n",
    "#     print('------------------------------------------- ')"
   ]
  },
  {
   "cell_type": "code",
   "execution_count": 38,
   "metadata": {
    "id": "_p8-8TMMmIUL"
   },
   "outputs": [],
   "source": [
    "X = df_model"
   ]
  },
  {
   "cell_type": "markdown",
   "metadata": {
    "id": "6x2br0-tVK3d"
   },
   "source": [
    "## Splitting data"
   ]
  },
  {
   "cell_type": "code",
   "execution_count": 39,
   "metadata": {
    "id": "QMKI6syfVRRD"
   },
   "outputs": [],
   "source": [
    "X_train, X_valid, y_train, y_valid = train_test_split(X, y, test_size = 0.3)\n",
    "X_valid, X_test, y_valid, y_test = train_test_split(X_valid, y_valid, test_size = 0.33)"
   ]
  },
  {
   "cell_type": "code",
   "execution_count": 40,
   "metadata": {
    "colab": {
     "base_uri": "https://localhost:8080/"
    },
    "id": "hG3jT2XCWYJA",
    "outputId": "519bdd9c-f592-4d10-b999-e90d07325e93"
   },
   "outputs": [
    {
     "name": "stdout",
     "output_type": "stream",
     "text": [
      "Train fraction: 0.7\n",
      "Validation fraction: 0.201\n",
      "Test fraction: 0.099\n"
     ]
    }
   ],
   "source": [
    "print('Train fraction: {}'.format((X_train.shape[0]) / X.shape[0]))\n",
    "print('Validation fraction: {}'.format((X_valid.shape[0]  / X.shape[0])))\n",
    "print('Test fraction: {}'.format((X_test.shape[0]  / X.shape[0])))"
   ]
  },
  {
   "cell_type": "code",
   "execution_count": 41,
   "metadata": {
    "colab": {
     "base_uri": "https://localhost:8080/",
     "height": 325
    },
    "id": "VkxlLH9xXLMA",
    "outputId": "abfe442d-0189-4b0e-8067-adcc76eeb975"
   },
   "outputs": [
    {
     "data": {
      "text/html": [
       "<div>\n",
       "<style scoped>\n",
       "    .dataframe tbody tr th:only-of-type {\n",
       "        vertical-align: middle;\n",
       "    }\n",
       "\n",
       "    .dataframe tbody tr th {\n",
       "        vertical-align: top;\n",
       "    }\n",
       "\n",
       "    .dataframe thead th {\n",
       "        text-align: right;\n",
       "    }\n",
       "</style>\n",
       "<table border=\"1\" class=\"dataframe\">\n",
       "  <thead>\n",
       "    <tr style=\"text-align: right;\">\n",
       "      <th></th>\n",
       "      <th>acc_open_past_24mths</th>\n",
       "      <th>annual_inc</th>\n",
       "      <th>avg_cur_bal</th>\n",
       "      <th>delinq_2yrs</th>\n",
       "      <th>fico_range_low</th>\n",
       "      <th>fico_range_high</th>\n",
       "      <th>funded_amnt_inv</th>\n",
       "      <th>funded_amnt</th>\n",
       "      <th>funded_amnt</th>\n",
       "      <th>installment</th>\n",
       "      <th>...</th>\n",
       "      <th>title_Major purchase</th>\n",
       "      <th>title_Medical expenses</th>\n",
       "      <th>title_Moving and relocation</th>\n",
       "      <th>title_Other</th>\n",
       "      <th>title_Unknown</th>\n",
       "      <th>title_Vacation</th>\n",
       "      <th>settlement_status_ACTIVE</th>\n",
       "      <th>settlement_status_BROKEN</th>\n",
       "      <th>settlement_status_COMPLETE</th>\n",
       "      <th>settlement_status_Unknown</th>\n",
       "    </tr>\n",
       "  </thead>\n",
       "  <tbody>\n",
       "    <tr>\n",
       "      <th>3615</th>\n",
       "      <td>2.0</td>\n",
       "      <td>30780.0</td>\n",
       "      <td>1390.0</td>\n",
       "      <td>0.0</td>\n",
       "      <td>690.0</td>\n",
       "      <td>694.0</td>\n",
       "      <td>7000.0</td>\n",
       "      <td>7000.0</td>\n",
       "      <td>7000.0</td>\n",
       "      <td>217.72</td>\n",
       "      <td>...</td>\n",
       "      <td>0</td>\n",
       "      <td>0</td>\n",
       "      <td>0</td>\n",
       "      <td>0</td>\n",
       "      <td>0</td>\n",
       "      <td>0</td>\n",
       "      <td>0</td>\n",
       "      <td>0</td>\n",
       "      <td>1</td>\n",
       "      <td>0</td>\n",
       "    </tr>\n",
       "    <tr>\n",
       "      <th>1273</th>\n",
       "      <td>13.0</td>\n",
       "      <td>90000.0</td>\n",
       "      <td>12080.0</td>\n",
       "      <td>0.0</td>\n",
       "      <td>670.0</td>\n",
       "      <td>674.0</td>\n",
       "      <td>2000.0</td>\n",
       "      <td>2000.0</td>\n",
       "      <td>2000.0</td>\n",
       "      <td>67.14</td>\n",
       "      <td>...</td>\n",
       "      <td>1</td>\n",
       "      <td>0</td>\n",
       "      <td>0</td>\n",
       "      <td>0</td>\n",
       "      <td>0</td>\n",
       "      <td>0</td>\n",
       "      <td>0</td>\n",
       "      <td>0</td>\n",
       "      <td>0</td>\n",
       "      <td>1</td>\n",
       "    </tr>\n",
       "    <tr>\n",
       "      <th>2414</th>\n",
       "      <td>4.0</td>\n",
       "      <td>110000.0</td>\n",
       "      <td>4377.0</td>\n",
       "      <td>0.0</td>\n",
       "      <td>675.0</td>\n",
       "      <td>679.0</td>\n",
       "      <td>24000.0</td>\n",
       "      <td>24000.0</td>\n",
       "      <td>24000.0</td>\n",
       "      <td>867.54</td>\n",
       "      <td>...</td>\n",
       "      <td>0</td>\n",
       "      <td>0</td>\n",
       "      <td>0</td>\n",
       "      <td>0</td>\n",
       "      <td>0</td>\n",
       "      <td>0</td>\n",
       "      <td>0</td>\n",
       "      <td>0</td>\n",
       "      <td>0</td>\n",
       "      <td>1</td>\n",
       "    </tr>\n",
       "    <tr>\n",
       "      <th>683</th>\n",
       "      <td>5.0</td>\n",
       "      <td>108000.0</td>\n",
       "      <td>3398.0</td>\n",
       "      <td>1.0</td>\n",
       "      <td>665.0</td>\n",
       "      <td>669.0</td>\n",
       "      <td>2800.0</td>\n",
       "      <td>2800.0</td>\n",
       "      <td>2800.0</td>\n",
       "      <td>99.82</td>\n",
       "      <td>...</td>\n",
       "      <td>0</td>\n",
       "      <td>0</td>\n",
       "      <td>0</td>\n",
       "      <td>1</td>\n",
       "      <td>0</td>\n",
       "      <td>0</td>\n",
       "      <td>0</td>\n",
       "      <td>0</td>\n",
       "      <td>0</td>\n",
       "      <td>1</td>\n",
       "    </tr>\n",
       "    <tr>\n",
       "      <th>12695</th>\n",
       "      <td>3.0</td>\n",
       "      <td>80000.0</td>\n",
       "      <td>8604.0</td>\n",
       "      <td>2.0</td>\n",
       "      <td>665.0</td>\n",
       "      <td>669.0</td>\n",
       "      <td>35000.0</td>\n",
       "      <td>35000.0</td>\n",
       "      <td>35000.0</td>\n",
       "      <td>1037.38</td>\n",
       "      <td>...</td>\n",
       "      <td>0</td>\n",
       "      <td>0</td>\n",
       "      <td>0</td>\n",
       "      <td>0</td>\n",
       "      <td>0</td>\n",
       "      <td>0</td>\n",
       "      <td>0</td>\n",
       "      <td>0</td>\n",
       "      <td>1</td>\n",
       "      <td>0</td>\n",
       "    </tr>\n",
       "  </tbody>\n",
       "</table>\n",
       "<p>5 rows × 9938 columns</p>\n",
       "</div>"
      ],
      "text/plain": [
       "       acc_open_past_24mths  annual_inc  avg_cur_bal  delinq_2yrs  \\\n",
       "3615                    2.0     30780.0       1390.0          0.0   \n",
       "1273                   13.0     90000.0      12080.0          0.0   \n",
       "2414                    4.0    110000.0       4377.0          0.0   \n",
       "683                     5.0    108000.0       3398.0          1.0   \n",
       "12695                   3.0     80000.0       8604.0          2.0   \n",
       "\n",
       "       fico_range_low  fico_range_high  funded_amnt_inv  funded_amnt  \\\n",
       "3615            690.0            694.0           7000.0       7000.0   \n",
       "1273            670.0            674.0           2000.0       2000.0   \n",
       "2414            675.0            679.0          24000.0      24000.0   \n",
       "683             665.0            669.0           2800.0       2800.0   \n",
       "12695           665.0            669.0          35000.0      35000.0   \n",
       "\n",
       "       funded_amnt  installment  ...  title_Major purchase  \\\n",
       "3615        7000.0       217.72  ...                     0   \n",
       "1273        2000.0        67.14  ...                     1   \n",
       "2414       24000.0       867.54  ...                     0   \n",
       "683         2800.0        99.82  ...                     0   \n",
       "12695      35000.0      1037.38  ...                     0   \n",
       "\n",
       "       title_Medical expenses  title_Moving and relocation  title_Other  \\\n",
       "3615                        0                            0            0   \n",
       "1273                        0                            0            0   \n",
       "2414                        0                            0            0   \n",
       "683                         0                            0            1   \n",
       "12695                       0                            0            0   \n",
       "\n",
       "       title_Unknown  title_Vacation  settlement_status_ACTIVE  \\\n",
       "3615               0               0                         0   \n",
       "1273               0               0                         0   \n",
       "2414               0               0                         0   \n",
       "683                0               0                         0   \n",
       "12695              0               0                         0   \n",
       "\n",
       "       settlement_status_BROKEN  settlement_status_COMPLETE  \\\n",
       "3615                          0                           1   \n",
       "1273                          0                           0   \n",
       "2414                          0                           0   \n",
       "683                           0                           0   \n",
       "12695                         0                           1   \n",
       "\n",
       "       settlement_status_Unknown  \n",
       "3615                           0  \n",
       "1273                           1  \n",
       "2414                           1  \n",
       "683                            1  \n",
       "12695                          0  \n",
       "\n",
       "[5 rows x 9938 columns]"
      ]
     },
     "execution_count": 41,
     "metadata": {},
     "output_type": "execute_result"
    }
   ],
   "source": [
    "X_train.head()"
   ]
  },
  {
   "cell_type": "markdown",
   "metadata": {
    "id": "H1R-nmkTXas_"
   },
   "source": [
    "## Decision Tree"
   ]
  },
  {
   "cell_type": "code",
   "execution_count": 42,
   "metadata": {
    "colab": {
     "base_uri": "https://localhost:8080/"
    },
    "id": "un1OJBDcXdy7",
    "outputId": "d670d91d-70b3-4703-bf2c-0a121e8e3dd9"
   },
   "outputs": [
    {
     "name": "stdout",
     "output_type": "stream",
     "text": [
      "DecisionTreeClassifier(max_depth=3)\n"
     ]
    }
   ],
   "source": [
    "from sklearn.tree import DecisionTreeClassifier\n",
    "\n",
    "dt_model = DecisionTreeClassifier(max_depth=3)\n",
    "\n",
    "print(dt_model)\n",
    "\n",
    "dt_model = dt_model.fit(X_train,y_train)\n",
    "pred_dt = dt_model.predict_proba(X_valid)[:, 1]"
   ]
  },
  {
   "cell_type": "code",
   "execution_count": 43,
   "metadata": {
    "colab": {
     "base_uri": "https://localhost:8080/",
     "height": 592
    },
    "id": "fxdVd48LXNv3",
    "outputId": "83314120-b0b4-42dd-b08b-2c01649419f8"
   },
   "outputs": [
    {
     "ename": "ModuleNotFoundError",
     "evalue": "No module named 'pydotplus'",
     "output_type": "error",
     "traceback": [
      "\u001b[0;31m---------------------------------------------------------------------------\u001b[0m",
      "\u001b[0;31mModuleNotFoundError\u001b[0m                       Traceback (most recent call last)",
      "\u001b[0;32m<ipython-input-43-e31d2d92bb5e>\u001b[0m in \u001b[0;36m<module>\u001b[0;34m\u001b[0m\n\u001b[1;32m      2\u001b[0m \u001b[0;32mfrom\u001b[0m \u001b[0mIPython\u001b[0m\u001b[0;34m.\u001b[0m\u001b[0mdisplay\u001b[0m \u001b[0;32mimport\u001b[0m \u001b[0mImage\u001b[0m\u001b[0;34m\u001b[0m\u001b[0;34m\u001b[0m\u001b[0m\n\u001b[1;32m      3\u001b[0m \u001b[0;32mfrom\u001b[0m \u001b[0msklearn\u001b[0m\u001b[0;34m.\u001b[0m\u001b[0mtree\u001b[0m \u001b[0;32mimport\u001b[0m \u001b[0mexport_graphviz\u001b[0m\u001b[0;34m\u001b[0m\u001b[0;34m\u001b[0m\u001b[0m\n\u001b[0;32m----> 4\u001b[0;31m \u001b[0;32mimport\u001b[0m \u001b[0mpydotplus\u001b[0m\u001b[0;34m\u001b[0m\u001b[0;34m\u001b[0m\u001b[0m\n\u001b[0m\u001b[1;32m      5\u001b[0m \u001b[0mdot_data\u001b[0m \u001b[0;34m=\u001b[0m \u001b[0mStringIO\u001b[0m\u001b[0;34m(\u001b[0m\u001b[0;34m)\u001b[0m\u001b[0;34m\u001b[0m\u001b[0;34m\u001b[0m\u001b[0m\n\u001b[1;32m      6\u001b[0m export_graphviz(dt_model, out_file=dot_data,  \n",
      "\u001b[0;31mModuleNotFoundError\u001b[0m: No module named 'pydotplus'"
     ]
    }
   ],
   "source": [
    "from six import StringIO  \n",
    "from IPython.display import Image  \n",
    "from sklearn.tree import export_graphviz\n",
    "import pydotplus\n",
    "dot_data = StringIO()\n",
    "export_graphviz(dt_model, out_file=dot_data,  \n",
    "                filled=True, rounded=True,\n",
    "                special_characters=True, feature_names = X_train.columns.values.tolist(), \n",
    "               class_names=['Paid', 'Charged Off'])\n",
    "graph = pydotplus.graph_from_dot_data(dot_data.getvalue())  \n",
    "Image(graph.create_png())"
   ]
  },
  {
   "cell_type": "code",
   "execution_count": null,
   "metadata": {
    "colab": {
     "base_uri": "https://localhost:8080/"
    },
    "id": "wy7PsW5lXlYJ",
    "outputId": "98bf558b-f963-4717-d8e1-23595d73d428"
   },
   "outputs": [],
   "source": [
    "from sklearn.metrics import classification_report\n",
    "pred_dt_binary = dt_model.predict(X_valid)\n",
    "print(classification_report(y_valid, pred_dt_binary))"
   ]
  },
  {
   "cell_type": "code",
   "execution_count": null,
   "metadata": {
    "colab": {
     "base_uri": "https://localhost:8080/",
     "height": 605
    },
    "id": "uCMgbooiXoOa",
    "outputId": "23b8703f-2bc1-4be6-db55-7e6a2f503c5c"
   },
   "outputs": [],
   "source": [
    "# calculate scores\n",
    "auc_dt = roc_auc_score(y_valid, pred_dt)\n",
    "\n",
    "# calculate roc curves\n",
    "fpr_dt, tpr_dt, _ = roc_curve(y_valid, pred_dt)\n",
    "\n",
    "plt.figure(figsize=(15, 10))\n",
    "# plot horizontal line \n",
    "plt.plot([0, 1], [0, 1], linestyle='--')\n",
    "# plot the roc curve for the model\n",
    "plt.plot(fpr_dt, tpr_dt, label='DT (AUC = %0.2f)' % auc_dt)\n",
    "\n",
    "# axis labels\n",
    "plt.xlabel('FPR')\n",
    "plt.ylabel('TPR')\n",
    "# show the legend\n",
    "plt.legend(loc='lower right')\n",
    "# show the plot\n",
    "plt.show()"
   ]
  },
  {
   "cell_type": "markdown",
   "metadata": {
    "id": "Wi12jCXDbR2C"
   },
   "source": [
    "## Random Forest"
   ]
  },
  {
   "cell_type": "code",
   "execution_count": null,
   "metadata": {
    "colab": {
     "base_uri": "https://localhost:8080/"
    },
    "id": "UsW-3AMhbUGY",
    "outputId": "b18bed88-c79a-4b56-d439-869d711029fb"
   },
   "outputs": [],
   "source": [
    "from sklearn.ensemble import RandomForestClassifier\n",
    "\n",
    "rf_model = RandomForestClassifier()\n",
    "print(rf_model)\n",
    "\n",
    "rf_model = rf_model.fit(X_train, y_train)\n",
    "pred_rf = rf_model.predict_proba(X_valid)[:, 1]"
   ]
  },
  {
   "cell_type": "code",
   "execution_count": null,
   "metadata": {
    "colab": {
     "base_uri": "https://localhost:8080/"
    },
    "id": "GZ1h6GaEbRWq",
    "outputId": "75eee294-9f09-4ae1-adb7-358e7a27a25d"
   },
   "outputs": [],
   "source": [
    "print(classification_report(y_valid, pred_rf.round(0)))"
   ]
  },
  {
   "cell_type": "markdown",
   "metadata": {
    "id": "KWlPDbbjbjYt"
   },
   "source": [
    "## XGBoost"
   ]
  },
  {
   "cell_type": "code",
   "execution_count": null,
   "metadata": {
    "id": "Zrjea5XaZAhI"
   },
   "outputs": [],
   "source": [
    "#code to fix error taken from: https://stackoverflow.com/questions/43579180/feature-names-must-be-unique-xgboost\n",
    "X_train = X_train.loc[:,~X_train.columns.duplicated()]\n",
    "X_valid = X_valid.loc[:,~X_valid.columns.duplicated()]"
   ]
  },
  {
   "cell_type": "code",
   "execution_count": null,
   "metadata": {
    "id": "HAjNH_jcblj3"
   },
   "outputs": [],
   "source": [
    "from xgboost import XGBClassifier\n",
    "\n",
    "xgb_model = XGBClassifier()\n",
    "\n",
    "xgb_model = xgb_model.fit(X_train, y_train)\n",
    "pred_xgb = xgb_model.predict_proba(X_valid)[:, 1]"
   ]
  },
  {
   "cell_type": "markdown",
   "metadata": {
    "id": "FbsyjMthXpBu"
   },
   "source": [
    "## Evaluating Model"
   ]
  },
  {
   "cell_type": "code",
   "execution_count": null,
   "metadata": {
    "id": "9JUsqW2zXzNq"
   },
   "outputs": [],
   "source": [
    "def create_roc_plot(name, predictions):\n",
    "  auc = roc_auc_score(y_valid, predictions).round(2)\n",
    "  fpr, tpr, _ = roc_curve(y_valid, predictions)\n",
    "\n",
    "  plt.figure(figsize=(5, 3))\n",
    "  plt.plot([0, 1], [0, 1], linestyle='--')  # plot horizontal line \n",
    "  plt.plot(fpr, tpr, label='{} AUC = {}'.format(name, auc)) # plot the roc curve for the model\n",
    "  plt.xlabel('FPR')\n",
    "  plt.ylabel('TPR')\n",
    "  plt.legend(loc='lower right')  # show the legend\n",
    "  plt.show() # show the plot\n",
    "  return None"
   ]
  },
  {
   "cell_type": "code",
   "execution_count": null,
   "metadata": {
    "id": "_wMJXdcebs7Q"
   },
   "outputs": [],
   "source": [
    "create_roc_plot('Decision Tree', pred_dt)\n",
    "create_roc_plot('Random Forest', pred_rf)\n",
    "create_roc_plot('XGBoost', pred_xgb)"
   ]
  },
  {
   "cell_type": "code",
   "execution_count": null,
   "metadata": {
    "id": "p314NSo7bzLK"
   },
   "outputs": [],
   "source": [
    "# calculate scores\n",
    "auc_dt = roc_auc_score(y_valid, pred_dt)\n",
    "auc_rf = roc_auc_score(y_valid, pred_rf)\n",
    "auc_xgb = roc_auc_score(y_valid, pred_xgb)\n",
    "\n",
    "# calculate roc curves\n",
    "fpr_dt, tpr_dt, _ = roc_curve(y_valid, pred_dt)\n",
    "fpr_rf, tpr_rf, _ = roc_curve(y_valid, pred_rf)\n",
    "fpr_xgb, tpr_xgb, _ = roc_curve(y_valid, pred_xgb)\n",
    "\n",
    "plt.figure(figsize=(10, 8))\n",
    "# plot horizontal line \n",
    "plt.plot([0, 1], [0, 1], linestyle='--')\n",
    "# plot the roc curve for the model\n",
    "plt.plot(fpr_dt, tpr_dt, label='DT (AUC = %0.2f)' % auc_dt)\n",
    "plt.plot(fpr_rf, tpr_rf, label='RF (AUC = %0.2f)' % auc_rf)\n",
    "plt.plot(fpr_xgb, tpr_xgb, label='XGB (AUC = %0.2f)' % auc_xgb)\n",
    "\n",
    "# axis labels\n",
    "plt.xlabel('FPR')\n",
    "plt.ylabel('TPR')\n",
    "# show the legend\n",
    "plt.legend(loc='lower right')\n",
    "# show the plot\n",
    "plt.show()"
   ]
  },
  {
   "cell_type": "markdown",
   "metadata": {
    "id": "156TnOBWTAZQ"
   },
   "source": [
    "## Drafts code on cleaning (skip)"
   ]
  },
  {
   "cell_type": "code",
   "execution_count": null,
   "metadata": {
    "id": "TLVJYMXWSx-x"
   },
   "outputs": [],
   "source": [
    "column='bc_open_to_buy'\n",
    "df[column].fillna(df[column].mean())"
   ]
  },
  {
   "cell_type": "code",
   "execution_count": null,
   "metadata": {
    "id": "xz8jMQpVDfJB"
   },
   "outputs": [],
   "source": [
    "columns_to_skip=['dti', 'all_util']\n",
    "columns_date=['mths_since_last_major_derog', 'mths_since']\n",
    "\n",
    "columns_witn_na=[]\n",
    "for column in columns_to_study:\n",
    "  if column in columns_to_skip or column in columns_date:\n",
    "    pass\n",
    "  elif (df[column].isnull().sum()*-1+df.shape[0])!=0:\n",
    "      print(column, type(column))\n",
    "      print(df[column].value_counts(dropna=False))\n",
    "      print(' ')\n",
    "      print('------------------------------------------- ')"
   ]
  },
  {
   "cell_type": "code",
   "execution_count": null,
   "metadata": {
    "id": "aYfUTRWMPjlC"
   },
   "outputs": [],
   "source": [
    "\n",
    "def nan_values_in_column(df,column):\n",
    "  empty=df[column].isnull().sum()*-1+df.shape[0]\n",
    "  print('Column \"', column, '\" has ', empty, ' nan values')"
   ]
  },
  {
   "cell_type": "code",
   "execution_count": null,
   "metadata": {
    "id": "64i52v-tSAdT"
   },
   "outputs": [],
   "source": [
    "#Code to zoom in on a particular column\n",
    "column='dti'\n",
    "\n",
    "nan_values_in_column(df, column)\n",
    "df[column].describe()\n",
    "df[column].value_counts(dropna=False)"
   ]
  },
  {
   "cell_type": "code",
   "execution_count": null,
   "metadata": {
    "id": "aG5pyaSo9otG"
   },
   "outputs": [],
   "source": [
    "def limit_values(val, list_val):\n",
    "    if val in list_val:\n",
    "        return val\n",
    "    return 'Another'"
   ]
  },
  {
   "cell_type": "code",
   "execution_count": null,
   "metadata": {
    "id": "goqv4Y2nKqsP"
   },
   "outputs": [],
   "source": [
    "#changing type date\n",
    "\n",
    "# pd.to_datetime(df['settlement_date'],format='%b-%Y')\n",
    "\n",
    "# print(type(df['settlement_date'][1]))\n",
    "\n",
    "# df2=(\n",
    "#     df['settlement_date'].value_counts(dropna=True)\n",
    "#     ).reset_index()\n",
    "    \n",
    "# df2=df2.iloc[:,0]\n",
    "# pd.to_datetime(df2, format='%b-%Y')\n",
    "# df2.value_counts()"
   ]
  },
  {
   "cell_type": "code",
   "execution_count": null,
   "metadata": {
    "id": "z9nOgRxhruX4"
   },
   "outputs": [],
   "source": []
  }
 ],
 "metadata": {
  "colab": {
   "collapsed_sections": [
    "cl2x0SBJCLMO",
    "nKymbrbjSCxA",
    "t3x1ZZaADR49",
    "NCUZ8_2YKUi5",
    "ymlGTJ9dpIDF",
    "156TnOBWTAZQ"
   ],
   "name": "W3_homework_lending_club_tprdiction_tree.pynb",
   "provenance": []
  },
  "kernelspec": {
   "display_name": "analytics",
   "language": "python",
   "name": "analytics"
  },
  "language_info": {
   "codemirror_mode": {
    "name": "ipython",
    "version": 3
   },
   "file_extension": ".py",
   "mimetype": "text/x-python",
   "name": "python",
   "nbconvert_exporter": "python",
   "pygments_lexer": "ipython3",
   "version": "3.8.5"
  }
 },
 "nbformat": 4,
 "nbformat_minor": 1
}
